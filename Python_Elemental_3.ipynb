{
  "nbformat": 4,
  "nbformat_minor": 0,
  "metadata": {
    "colab": {
      "provenance": [],
      "collapsed_sections": [
        "-ZmzgV-n6BK6",
        "7-yTlRhToBRm"
      ],
      "include_colab_link": true
    },
    "kernelspec": {
      "name": "python3",
      "display_name": "Python 3"
    },
    "language_info": {
      "name": "python"
    }
  },
  "cells": [
    {
      "cell_type": "markdown",
      "metadata": {
        "id": "view-in-github",
        "colab_type": "text"
      },
      "source": [
        "<a href=\"https://colab.research.google.com/github/cosmocaos/Introduccion_a_Python/blob/main/Python_Elemental_3.ipynb\" target=\"_parent\"><img src=\"https://colab.research.google.com/assets/colab-badge.svg\" alt=\"Open In Colab\"/></a>"
      ]
    },
    {
      "cell_type": "code",
      "source": [
        "from google.colab import drive  #Importa libreria que permite montar mi drive en la máquinca virtual de colab\n",
        "drive.mount('/content/drive/')  #Monta drive en la máquina virtual, pregunta password\n",
        "%cd '/content/drive/MyDrive/INFORMATICA/Colab_Notebooks/'  # Ir a directorio con notebooks de jupyter"
      ],
      "metadata": {
        "id": "XuSV_ASg8ocD",
        "colab": {
          "base_uri": "https://localhost:8080/"
        },
        "outputId": "d1574a9a-8e5d-459d-d4e4-683ff23c2d49"
      },
      "execution_count": null,
      "outputs": [
        {
          "output_type": "stream",
          "name": "stdout",
          "text": [
            "Mounted at /content/drive/\n",
            "[Errno 2] No such file or directory: '/content/drive/MyDrive/INFORMATICA/Colab_Notebooks/ # Ir a directorio con notebooks de jupyter'\n",
            "/content\n"
          ]
        }
      ]
    },
    {
      "cell_type": "code",
      "source": [
        "from IPython import display\n",
        "from IPython.display import Image"
      ],
      "metadata": {
        "id": "UqZ_y4dLDBD1",
        "colab": {
          "base_uri": "https://localhost:8080/"
        },
        "outputId": "cc79958a-69bc-4ee2-b17d-8eb59f6c904e"
      },
      "execution_count": null,
      "outputs": [
        {
          "output_type": "stream",
          "name": "stdout",
          "text": [
            "/content/drive/MyDrive/INFORMATICA/Colab_Notebooks\n"
          ]
        }
      ]
    },
    {
      "cell_type": "code",
      "source": [
        "pwd"
      ],
      "metadata": {
        "colab": {
          "base_uri": "https://localhost:8080/",
          "height": 35
        },
        "id": "cSWITSoyP9VZ",
        "outputId": "139cc85d-2bd8-46b4-cf60-1cf3ef983490"
      },
      "execution_count": null,
      "outputs": [
        {
          "output_type": "execute_result",
          "data": {
            "text/plain": [
              "'/content/drive/MyDrive/INFORMATICA/Colab_Notebooks'"
            ],
            "application/vnd.google.colaboratory.intrinsic+json": {
              "type": "string"
            }
          },
          "metadata": {},
          "execution_count": 25
        }
      ]
    },
    {
      "cell_type": "markdown",
      "metadata": {
        "id": "DpbNVm_EcEmq"
      },
      "source": [
        "##<font color=SteelBlue>Python Estructuras de desición y repetición </font>\n",
        "1 - Una estructura de control es una función lógica que controla el orden en que una serie de comandos son ejecutados.\n",
        "\n",
        "\n",
        "\n",
        "\n",
        "\n"
      ]
    },
    {
      "cell_type": "markdown",
      "source": [
        " ### <font color=Red> If - Then </font>\n",
        "El comando `if` es una estructura de desición que permite tener uno o mas caminos diferentes en el flujo del programa. <br>\n",
        "En el caso mas simple el comando `if`, ejecuta un comando si se cumple cierta condición. <br>\n",
        "<img src=\"https://drive.google.com/uc?export=view&id=1Usxk68kPZSHVhs0VwEjL-u0HbeBnC71J\"  width=\"230\" height=\"230\">\n",
        "\n",
        "\n"
      ],
      "metadata": {
        "id": "-ZmzgV-n6BK6"
      }
    },
    {
      "cell_type": "code",
      "metadata": {
        "id": "-7HceHPSaEsx",
        "colab": {
          "base_uri": "https://localhost:8080/"
        },
        "outputId": "5d7e3b8c-9a94-403b-bf09-317a521010f8"
      },
      "source": [
        "#Escribir el código correspondiente a un if simple con un solo proceso\n",
        "frio = input('Esta frío afuera? (Si/No)')\n",
        "if frio == 'Si':\n",
        "  print('Ponte una chamarra')\n"
      ],
      "execution_count": null,
      "outputs": [
        {
          "name": "stdout",
          "output_type": "stream",
          "text": [
            "Esta frío afuera? (Si/No)no\n"
          ]
        }
      ]
    },
    {
      "cell_type": "markdown",
      "source": [
        "<img src=\"https://drive.google.com/uc?export=view&id=11quqd07f8GROT4qe6GMSAFVv5RVeC5HW\"  width=\"230\" height=\"330\">\n",
        "\n"
      ],
      "metadata": {
        "id": "rdNAyCoKm67d"
      }
    },
    {
      "cell_type": "code",
      "source": [
        "#Escribir el código correspondiente a un if simple con tres procesos. \n",
        "frio = input('Esta frío afuera? (Si/No)')\n",
        "if frio == 'Si':\n",
        "  print('Ponte una chamarra')\n",
        "  print('Ponte una gorra')\n",
        "  print('Ponte unos guantes')\n"
      ],
      "metadata": {
        "id": "jG8WpjJzJSc_",
        "colab": {
          "base_uri": "https://localhost:8080/"
        },
        "outputId": "82c77933-1072-420b-fc39-0d5cdf04a1c4"
      },
      "execution_count": null,
      "outputs": [
        {
          "output_type": "stream",
          "name": "stdout",
          "text": [
            "Esta frío afuera? (Si/No)Si\n",
            "Ponte una chamarra\n",
            "Ponte una gorra\n",
            "Ponte unos guantes\n"
          ]
        }
      ]
    },
    {
      "cell_type": "markdown",
      "source": [
        "2 - Recordemos los operadores de comparación y operadores lógicos: <br>\n",
        "<img src=\"https://drive.google.com/uc?export=view&id=1g5GuQ6CIAAz0HsiGNkbuQfB_eJckqpUj\"  width=\"400\" height=\"230\">\n",
        "\n"
      ],
      "metadata": {
        "id": "Bj0l-LrXFPyN"
      }
    },
    {
      "cell_type": "markdown",
      "source": [
        "3 - Haz un cógido que lea cuanto gastó una persona en productos, si la persona gastá más de $2000, hacer un descuento del 20%. Dar total, ya sea con o sin descuento. "
      ],
      "metadata": {
        "id": "GGcXLhE8nfd_"
      }
    },
    {
      "cell_type": "code",
      "source": [
        "gasto = float(input('Cuanto gasto en total?:'))\n",
        "if gasto >= 2000:\n",
        "  gasto =  gasto * 0.80\n",
        "print(f'Su total es de ${gasto:.2f} pesos')"
      ],
      "metadata": {
        "id": "aA9QpJ4ln4-2",
        "colab": {
          "base_uri": "https://localhost:8080/"
        },
        "outputId": "7e27eaf9-d0a5-4ba6-9ad0-5c7d284c7310"
      },
      "execution_count": null,
      "outputs": [
        {
          "output_type": "stream",
          "name": "stdout",
          "text": [
            "Cuanto gasto en total?:2001\n",
            "Su total es de $1600.80 pesos\n"
          ]
        }
      ]
    },
    {
      "cell_type": "markdown",
      "source": [
        "###<font color=Red> If - Then - Else </font>\n",
        "\n",
        "4 - El comando `if` puede ejecutar una sección de instrucciones si se cumple la condición, y otra sección de instrucciones si no se cumple la condición. <br> <img src=\"https://drive.google.com/uc?export=view&id=1ZTl3BeTeMIWYilGxnor5QEYpE9QSspsc\"  width=\"440\" height=\"230\">\n"
      ],
      "metadata": {
        "id": "7-yTlRhToBRm"
      }
    },
    {
      "cell_type": "code",
      "source": [
        "gastoInicial = float(input('Cuanto gasto en total?:'))\n",
        "\n",
        "if gastoInicial >= 2000:\n",
        "  gasto =  gastoInicial * 0.80\n",
        "  ahorro = gastoInicial * 0.20\n",
        "  print(f'Usted ahorro ${ahorro} pesos')\n",
        "else:\n",
        "  resto = 2000 - gastoInicial\n",
        "  print(f'Por ${resto:.2f} pesos mas, obtiene un descuento del 20%')\n",
        "\n",
        "  \n",
        "print(f'Su total es de ${gasto:.2f} pesos')"
      ],
      "metadata": {
        "id": "xH_gtb4XoAI7",
        "colab": {
          "base_uri": "https://localhost:8080/"
        },
        "outputId": "15107fda-0e76-458a-c5b9-2b95c45b2367"
      },
      "execution_count": null,
      "outputs": [
        {
          "output_type": "stream",
          "name": "stdout",
          "text": [
            "Cuanto gasto en total?:3000\n",
            "Usted ahorro $600.0 pesos\n",
            "Su total es de $2400.00 pesos\n"
          ]
        }
      ]
    },
    {
      "cell_type": "markdown",
      "source": [
        "5 - Realiza un código que calcule lea cuantas horas trabajó un empleado en una carpintería en una semana. Si trabajó mas de 40 horas, cada hora extra se paga al doble del salario base. Además debe leer cuanto es el salario base por hora. "
      ],
      "metadata": {
        "id": "nrTAe8zHrNAm"
      }
    },
    {
      "cell_type": "code",
      "source": [
        "#Realizar código aquí, usar if-else"
      ],
      "metadata": {
        "id": "INi4p-jbTAXC"
      },
      "execution_count": null,
      "outputs": []
    },
    {
      "cell_type": "markdown",
      "source": [
        "6 - Además de hacer comparaciones aritméticas como si un número es mayor a otro, o si son iguales, etc., también podemos comparar cadenas de texto. Por ejemplo para el caso de un sistema de identificiación. "
      ],
      "metadata": {
        "id": "PnJ6yfszTP3T"
      }
    },
    {
      "cell_type": "code",
      "source": [
        "# Código aquí de usuario y contraseña para accesar los expedientes X. Debe de indicar si no existe el usuario.\n",
        "#username = 'Fox.Mulder'\n",
        "#password = 'i_want_to_believe\n",
        "username = 'Dana.Scully'\n",
        "password = 'i_want_evidence'\n",
        "\n",
        "usuario = input('Introduzca su usuario')\n",
        "\n",
        "if usuario == 'Dana.Scully':\n",
        "  contrasena = input('Introduzca su contraseña')\n",
        "  if contrasena == 'i_want_evidence': \n",
        "    print('Bienvenida agente Dana')\n",
        "    Image('Imagenes/DanaScully.jpeg', width=600)\n",
        "  else:\n",
        "    print('Contrasena incorrecta')\n",
        "else: \n",
        "  print('No existe el usuario')\n",
        "\n",
        "\n",
        "#Image('Imagenes/FoxMulder.jpeg', width=600)\n"
      ],
      "metadata": {
        "id": "KCB5dWAATw5I",
        "colab": {
          "base_uri": "https://localhost:8080/"
        },
        "outputId": "4d8c4539-4032-484e-b9c4-77ccc697344c"
      },
      "execution_count": null,
      "outputs": [
        {
          "output_type": "stream",
          "name": "stdout",
          "text": [
            "Introduzca su usuarioDana.Scully\n",
            "Introduzca su contraseñai_want_evidence\n",
            "Bienvenida agente Dana\n"
          ]
        }
      ]
    },
    {
      "cell_type": "markdown",
      "source": [
        "7 -  Veamos crear una lista de pyuthon con nombres, y buscar un elemento en la lista. "
      ],
      "metadata": {
        "id": "rmGQuv3VdF7x"
      }
    },
    {
      "cell_type": "code",
      "source": [
        "usuarios = [ 'Jaziel', 'Joel', 'Manuel', 'Jor-el', 'Kal-el', 'Samuel', 'Rafael' ] \n",
        "contrasenas = ['' ......]\n",
        "index = usuarios.index('Joel')  # La función index te dice el indice del elemento buscado en la lista"
      ],
      "metadata": {
        "id": "suafMxRG6L9j"
      },
      "execution_count": null,
      "outputs": []
    },
    {
      "cell_type": "code",
      "source": [],
      "metadata": {
        "colab": {
          "base_uri": "https://localhost:8080/",
          "height": 187
        },
        "id": "6how-uXAIF_y",
        "outputId": "62595fa5-4913-4340-d3ba-1bbbd26d3887"
      },
      "execution_count": null,
      "outputs": [
        {
          "output_type": "error",
          "ename": "ValueError",
          "evalue": "ignored",
          "traceback": [
            "\u001b[0;31m---------------------------------------------------------------------------\u001b[0m",
            "\u001b[0;31mValueError\u001b[0m                                Traceback (most recent call last)",
            "\u001b[0;32m<ipython-input-3-01f8a35a6263>\u001b[0m in \u001b[0;36m<module>\u001b[0;34m\u001b[0m\n\u001b[0;32m----> 1\u001b[0;31m \u001b[0mindex\u001b[0m \u001b[0;34m=\u001b[0m \u001b[0musuarios\u001b[0m\u001b[0;34m.\u001b[0m\u001b[0mindex\u001b[0m\u001b[0;34m(\u001b[0m\u001b[0;34m'Jol'\u001b[0m\u001b[0;34m)\u001b[0m\u001b[0;34m\u001b[0m\u001b[0;34m\u001b[0m\u001b[0m\n\u001b[0m\u001b[1;32m      2\u001b[0m \u001b[0mindex\u001b[0m\u001b[0;34m\u001b[0m\u001b[0;34m\u001b[0m\u001b[0m\n",
            "\u001b[0;31mValueError\u001b[0m: 'Jol' is not in list"
          ]
        }
      ]
    },
    {
      "cell_type": "markdown",
      "source": [
        "8 - El código en la sección 6 sería indadecuado para una base de datos muy grande. Para eso usamos una lista del usuario y su contraseña. Y usamos la función index para buscar el usuario y contraseña en la base de datos, que en este caso son dos listas. "
      ],
      "metadata": {
        "id": "pNBFXTRpem8-"
      }
    },
    {
      "cell_type": "code",
      "source": [
        "# Código aquí de usuario y contraseña para accesar los expedientes X, con lista de usuarios grande. "
      ],
      "metadata": {
        "id": "USENR4WteW6a"
      },
      "execution_count": null,
      "outputs": []
    },
    {
      "cell_type": "markdown",
      "source": [
        "###<font color=Red> If - Else Anidados </font>\n",
        "\n",
        "9 - Pasar a lenguaje Python el algoritmo presentado en el siguiente diagrama de flujo. <br>\n",
        "<img src=\"https://drive.google.com/uc?export=view&id=1upxwvPNOxZsEBH3tupHkTrkOqqQDv_3S\"  width=\"500\" height=\"380\">\n",
        "\n"
      ],
      "metadata": {
        "id": "fmNWMs76fXn1"
      }
    },
    {
      "cell_type": "code",
      "source": [],
      "metadata": {
        "id": "olcgyzKvjkca"
      },
      "execution_count": null,
      "outputs": []
    },
    {
      "cell_type": "markdown",
      "source": [
        "10 - Pasar a lenguaje Python el algoritmo presentado en el siguiente pseudocódigo. <br>\n",
        "<img src=\"https://drive.google.com/uc?export=view&id=1z5KVX7wrz-qOC1JAZLacz8IyA4aPhUda\"  width=\"480\" height=\"280\">\n",
        "\n"
      ],
      "metadata": {
        "id": "zcYu6OZfvdFa"
      }
    },
    {
      "cell_type": "code",
      "source": [
        "Nbolillos = int( input('¿Cuantos Bolillos Desea? ') )\n",
        "\n",
        "if (Nbolillos>99) & (Nbolillos<1001):\n",
        "  Totalbolillos = Nbolillos * 3.5\n",
        "else:\n",
        "  if (Nbolillos>1000) & (Nbolillos<10001):\n",
        "    Totalbolillos = Nbolillos * 3.0\n",
        "  else:\n",
        "    Totalbolillos = 0 \n",
        "    print(f'No oiga, no puedo venderle {Nbolillos} bolillos')\n",
        "\n",
        "print(f'Su pedido total es de: ${Totalbolillos} pesos')       \n"
      ],
      "metadata": {
        "id": "n2y8PFEgvsry",
        "colab": {
          "base_uri": "https://localhost:8080/"
        },
        "outputId": "cfefd146-bd7f-4237-ca7c-7f9bc1cd25e7"
      },
      "execution_count": null,
      "outputs": [
        {
          "output_type": "stream",
          "name": "stdout",
          "text": [
            "¿Cuantos Bolillos Desea? 2000\n",
            "Su pedido total es de: $6000.0 pesos\n"
          ]
        }
      ]
    },
    {
      "cell_type": "markdown",
      "source": [
        "11 - Existen algunas situaciones en las que hay muchos if-else anidados. Por ejemplo: Un programa para asignar una letra dependiendo del puntaje de un examen. <br>\n",
        "90 - 100: A <br>\n",
        "80 - 89: B <br>\n",
        "70 - 79: C <br>\n",
        "60 - 69: D <br>\n",
        "0  - 59: F <br>\n",
        "\n",
        "<img src=\"https://drive.google.com/uc?export=view&id=1t0FuM-JeWn_fRwT6Oyb8lf2ZvDphIFyQ\"  width=\"450\" height=\"280\">\n",
        "\n",
        "\n"
      ],
      "metadata": {
        "id": "eYa-D7oowCCp"
      }
    },
    {
      "cell_type": "code",
      "source": [
        "A_SCORE = 90\n",
        "B_SCORE = 80\n",
        "C_SCORE = 70\n",
        "D_SCORE = 60\n",
        "\n",
        "score = int(input('Ingresa el puntaje: '))\n",
        "# Determine the grade. \n",
        "if score >= A_SCORE:\n",
        "  print('Tu nota es A.') \n",
        "else:\n",
        "  if score >= B_SCORE: \n",
        "    print('Tu nota es B.')\n",
        "  else:\n",
        "    if score >= C_SCORE:\n",
        "      print('Tu nota es C.') \n",
        "    else:\n",
        "      if score >= D_SCORE: \n",
        "        print('Tu nota es D.')\n",
        "      else:\n",
        "        print('Tu nota es F.')"
      ],
      "metadata": {
        "colab": {
          "base_uri": "https://localhost:8080/"
        },
        "id": "n2bV9SaJwBMQ",
        "outputId": "db421680-d3ec-4dfc-f742-d4d9aa4073b0"
      },
      "execution_count": null,
      "outputs": [
        {
          "output_type": "stream",
          "name": "stdout",
          "text": [
            "Ingresa el puntaje: 45\n",
            "Tu nota es F.\n"
          ]
        }
      ]
    },
    {
      "cell_type": "markdown",
      "source": [
        "12 - Esta estructura se puede reescribir usando la sintaxis `elif` de python. "
      ],
      "metadata": {
        "id": "UVExfbL01SFS"
      }
    },
    {
      "cell_type": "code",
      "source": [
        "A_SCORE = 90\n",
        "B_SCORE = 80\n",
        "C_SCORE = 70\n",
        "D_SCORE = 60\n",
        "\n",
        "score = int(input('Ingresa el puntaje: '))\n",
        "# Determine the grade. \n",
        "if score >= A_SCORE:\n",
        "  print('Tu nota es A.') \n",
        "elif score >= B_SCORE: \n",
        "  print('Tu nota es B.')\n",
        "elif score >= C_SCORE:\n",
        "  print('Tu nota es C.') \n",
        "elif score >= D_SCORE: \n",
        "  print('Tu nota es D.')\n",
        "else:\n",
        "  print('Tu nota es F.')\n"
      ],
      "metadata": {
        "id": "Ua-u9fSO0so3",
        "colab": {
          "base_uri": "https://localhost:8080/"
        },
        "outputId": "968335ac-9b45-433d-8903-52c97cd641b8"
      },
      "execution_count": null,
      "outputs": [
        {
          "output_type": "stream",
          "name": "stdout",
          "text": [
            "Ingresa el puntaje: 99\n",
            "Tu nota es A.\n"
          ]
        }
      ]
    },
    {
      "cell_type": "code",
      "source": [
        "# !pip3 install ColabTurtleimport ColabTurtle.Turtle as tor\n",
        "# tor.initializeTurtle(initial_speed=5) \n",
        "# tor.color('blue')\n",
        "# tor.forward(100)\n",
        "# tor.right(45)\n",
        "# tor.color('red')\n",
        "# tor.forward(50)"
      ],
      "metadata": {
        "id": "6KpOggsOIIAy"
      },
      "execution_count": null,
      "outputs": []
    },
    {
      "cell_type": "markdown",
      "source": [
        "###<font color=Red> While </font>\n",
        "13 - A las estructuras de repetición se les conoce como loops. \n",
        " Uno de los tipos de estructura de repetición es el controlado por condición. También llamada while loop. Veamos un ejemplo de una estructura de repetición en Python. \n",
        "\n",
        "<img src=\"https://drive.google.com/uc?export=view&id=1DQKpVKQU61Fsv90Rdz75EjXDHJfOHzZC\"  width=\"450\" height=\"280\">\n",
        "\n",
        "\n"
      ],
      "metadata": {
        "id": "umrhtPB9SeZp"
      }
    },
    {
      "cell_type": "code",
      "source": [
        "# Hacer código de \"ya llegamos?\"\n",
        "llegamos = 'No'\n",
        "while llegamos == 'No':\n",
        "  llegamos = input('Ya llegamos?')\n",
        "\n",
        "print('Ajuaaaaaaaa')"
      ],
      "metadata": {
        "id": "pkd2biM3Jlpz",
        "colab": {
          "base_uri": "https://localhost:8080/"
        },
        "outputId": "20875ea4-ffb5-4e91-c87e-f004b19ea45c"
      },
      "execution_count": null,
      "outputs": [
        {
          "output_type": "stream",
          "name": "stdout",
          "text": [
            "Ya llegamos?No\n",
            "Ya llegamos?No\n",
            "Ya llegamos?No\n",
            "Ya llegamos?No\n",
            "Ya llegamos?Si\n",
            "Ajuaaaaaaaa\n"
          ]
        }
      ]
    },
    {
      "cell_type": "markdown",
      "source": [
        "14 - Pasa el siguiente pseudoccódigo a código python: <br>\n",
        "<img src=\"https://drive.google.com/uc?export=view&id=1QaCwg0qgwT4Jkai6i9LxP7oHmy8xvhIA\"  width=\"470\" height=\"280\">\n"
      ],
      "metadata": {
        "id": "bDu_yJgyVDLp"
      }
    },
    {
      "cell_type": "code",
      "source": [
        "#Escribir código del prestamo aquí. "
      ],
      "metadata": {
        "id": "NO92E3LIVvOX"
      },
      "execution_count": null,
      "outputs": []
    },
    {
      "cell_type": "markdown",
      "source": [
        "###<font color=Red> For </font>\n",
        "14 - Uno de los tipos de estructura de repetición es el loop controlado por cuenta. También llamada for <font color=Fucsia> For loop </font>.\n",
        "\n",
        "<img src=\"https://drive.google.com/uc?export=view&id=1bE9K0nI4XZ_zepVxbs1mPBqDEdCBBvaA\"  width=\"450\" height=\"300\">\n",
        "\n",
        "\n"
      ],
      "metadata": {
        "id": "FO6Ft_HtV5H_"
      }
    },
    {
      "cell_type": "code",
      "source": [
        "#Escribir código que imprima en pantalla una cuenta de 1 a 10.\n",
        "#Luego un códifo que te pregunte hasta que número deseas contar. \n"
      ],
      "metadata": {
        "id": "zNvA04uNWT8e"
      },
      "execution_count": null,
      "outputs": []
    },
    {
      "cell_type": "markdown",
      "source": [
        "15 - El diagrama de flujo siguiente corresponde al calculo de promedio de una lista de números intrudocida. Pasalo a lenguaje Python.   <br>\n",
        "\n",
        "<img src=\"https://drive.google.com/uc?export=view&id=1qmF0AnE2qpkwVJW1H1kwfgjvTvFTNqRJ\"  width=\"400\" height=\"400\">"
      ],
      "metadata": {
        "id": "Lr9L1T2S5rhV"
      }
    },
    {
      "cell_type": "code",
      "source": [
        "#Colocar aquí el código del promedio\n",
        "\n",
        "n = int( input('Cuantos elementos son?') )\n",
        "acum = 0\n",
        "\n",
        "for i in range(n):\n",
        "  dato = float( input(f'Ingrese el dato {i}: ') )\n",
        "  acum = acum + dato\n",
        "\n",
        "promedio = acum / n\n",
        "\n",
        "print(f'El promedio es {promedio:.2f}')\n",
        "\n"
      ],
      "metadata": {
        "id": "cuWhSNnH54m_",
        "colab": {
          "base_uri": "https://localhost:8080/"
        },
        "outputId": "607d4d6b-677e-4a81-82b2-8910f310b40e"
      },
      "execution_count": null,
      "outputs": [
        {
          "output_type": "stream",
          "name": "stdout",
          "text": [
            "Cuantos elementos son?4\n",
            "Ingrese el dato 0: 1.47\n",
            "Ingrese el dato 1: 1.70\n",
            "Ingrese el dato 2: 2.10\n",
            "Ingrese el dato 3: 1.40\n",
            "El promedio es 1.67\n"
          ]
        }
      ]
    },
    {
      "cell_type": "code",
      "source": [],
      "metadata": {
        "id": "OqnQdzhdTKl3"
      },
      "execution_count": null,
      "outputs": []
    }
  ]
}