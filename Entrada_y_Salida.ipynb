{
  "cells": [
    {
      "cell_type": "markdown",
      "metadata": {
        "id": "view-in-github",
        "colab_type": "text"
      },
      "source": [
        "<a href=\"https://colab.research.google.com/github/cosmocaos/Introduccion_a_Python/blob/main/Entrada_y_Salida.ipynb\" target=\"_parent\"><img src=\"https://colab.research.google.com/assets/colab-badge.svg\" alt=\"Open In Colab\"/></a>"
      ]
    },
    {
      "cell_type": "markdown",
      "metadata": {
        "id": "nUxapP2VStRw"
      },
      "source": [
        "Entrada y Salida de *Datos*\n",
        "==="
      ]
    },
    {
      "cell_type": "markdown",
      "metadata": {
        "id": "9S2_1aH-StR1"
      },
      "source": [
        "## Archivos .txt\n",
        "Los datos a menudos se almacenan en formatos que no se pueden leer, a menos que tengas un software especializado. Las hojas de cálculo de Excel son un ejemplo; es posible abrir un archivo de excel en algunos programas, pero a veces con problemas de formato, etc. \n",
        "\n",
        "Depender de un software específico no es muy útil en el análisis programático de datos. Si vamos a usa run lengua de programación para analizar o procesar nuestros datos preferiremos un formato fácil de usar. Los archivos de texto o [*archivos planos*](http://en.wikipedia.org/wiki/Text_file) son justo lo que necesitamos. "
      ]
    },
    {
      "cell_type": "markdown",
      "source": [
        "Hay dos carácteres para separar datos en archivos de texto en columnas. El primero es:  ```\\t```, llamado *tab*, el segundo, la humilde coma: , . \n",
        "\n",
        "Esto da lugar a las dos extensiones de archivos comunes, los ```.tsv``` y los  ```.csv```, que significa *tab separated values* y *comma separated values* respectivamente. \n"
      ],
      "metadata": {
        "id": "wTB8283fZtZ1"
      }
    },
    {
      "cell_type": "markdown",
      "source": [
        "Un archivo .tsv luce así: [filosofos.tsv](https://drive.google.com/file/d/1WIJ-SSBLkA0fQ-qzegYS5lNzeo0Y-xc3/view?usp=share_link)\n",
        "\n",
        "Un archivo .csv luce así: [filosofos.csv](https://drive.google.com/file/d/1WRZ7NjnZb40rS3ujCTtqDjwpPFism9fc/view?usp=share_link)\n"
      ],
      "metadata": {
        "id": "q8xgcqs8cglf"
      }
    },
    {
      "cell_type": "markdown",
      "source": [
        "Los archivos de arriba contienen una tabla con información de filósofos de la antigua Grecia."
      ],
      "metadata": {
        "id": "1HhQ13mqb59o"
      }
    },
    {
      "cell_type": "markdown",
      "source": [
        "## Abriendo y leyendo archivos\n",
        "\n",
        "Cuando abres un archivo en un programa como word o excel tienes que seleccionar Archivo>Abrir o un dialogo de algún tipo, o haces click en el archivo para que se abra en word o excel. En otras palabras, le dices al programa el archivo que queires en la localización del archivo. Eso también lo debemos hacer cuando abrimos un archivo en Python. \n",
        "\n",
        "La diferencia es que cuando abres un archivo en python, le tienes que especificar la localización en palabras, con algo llamado **filepath**. \n",
        "\n",
        "Así que lo primero que haremos es asignar la localización del archivo a una variable. Esta represantción de la localización del archivo es a lo que llamamos filepath. \n",
        "\n",
        "Cuando ya tenemos el filepath, podemos usar la función de python ```open()``` para que abrá el archivo en una variable. Después podemos manejar esa variable. "
      ],
      "metadata": {
        "id": "7LY_7ql-Xop-"
      }
    },
    {
      "cell_type": "code",
      "source": [
        "from google.colab import drive\n",
        "drive.mount('/content/drive')"
      ],
      "metadata": {
        "colab": {
          "base_uri": "https://localhost:8080/"
        },
        "id": "B0OtyaWKdGz5",
        "outputId": "a83a6466-c44d-4692-ceea-32936515f5af"
      },
      "execution_count": 2,
      "outputs": [
        {
          "output_type": "stream",
          "name": "stdout",
          "text": [
            "Mounted at /content/drive\n"
          ]
        }
      ]
    },
    {
      "cell_type": "code",
      "source": [
        "archivo_loc = '/content/drive/MyDrive/INFORMATICA/Colab_Notebooks/Intro_a_Python/data/filosofos.csv'\n",
        "filosofos = open(archivo_loc, 'r')\n",
        "print(filosofos)"
      ],
      "metadata": {
        "colab": {
          "base_uri": "https://localhost:8080/"
        },
        "id": "5o5EaTKLbvi4",
        "outputId": "cb2c02f3-14c9-4047-d391-e7e4f6b1b7d0"
      },
      "execution_count": 3,
      "outputs": [
        {
          "output_type": "stream",
          "name": "stdout",
          "text": [
            "<_io.TextIOWrapper name='/content/drive/MyDrive/INFORMATICA/Colab_Notebooks/Intro_a_Python/data/filosofos.csv' mode='r' encoding='UTF-8'>\n"
          ]
        }
      ]
    },
    {
      "cell_type": "markdown",
      "source": [
        "La variable *archivo_loc* tiene el filepath del archivo. \n",
        "Después colocamos el contenido del archivo en la variable *filosofos*. \n",
        " El resultado del print podría sorprenderte, no imprime la tabla, en lugar de eso nos dice la localización del archivo y el tipo de codificación. \n",
        " Mas adelante veremos otros comandos que abren de manera directa el archivo.\n"
      ],
      "metadata": {
        "id": "GCX6nbxYhJiR"
      }
    },
    {
      "cell_type": "markdown",
      "source": [
        "## ¿Por que open() no abre el archivo directamente?\n",
        "\n",
        "Parece tont que después de usar el comando ```open()``` en un archivo, se crea una variable con el contenido, pero no esta disponible inmediatamente. La razón de que la función ```open()``` no lea el archivo inmediatamente es para prevenir que un archivo demasiado grande vaya abrirse por accidente, ya sea que:\n",
        "* Tome demasiado tiempo  \n",
        "* Que trabe la computadora\n",
        "\n",
        "Si sabes que el archivo es pequeño puedes leerlo con el método ```read()```. \n",
        "\n",
        "Esto lee el contenido entero del archivo, todo, en una sola cadena de texto."
      ],
      "metadata": {
        "id": "LyiDvMV_dPa_"
      }
    },
    {
      "cell_type": "code",
      "source": [
        "archivo_loc = '/content/drive/MyDrive/INFORMATICA/Colab_Notebooks/Intro_a_Python/data/filosofos.csv'\n",
        "filosofos0 = open(archivo_loc, 'r')\n",
        "filosofos = filosofos0.read()\n",
        "print(filosofos)"
      ],
      "metadata": {
        "colab": {
          "base_uri": "https://localhost:8080/"
        },
        "id": "IyABXPf6c_zE",
        "outputId": "2bad5ac8-e285-47af-8c33-a673d07512a5"
      },
      "execution_count": 6,
      "outputs": [
        {
          "output_type": "stream",
          "name": "stdout",
          "text": [
            "Epoca,Filosofo,Contribucion\n",
            "384-322  A.C.,Aristóteles,La lógica como base del pensamiento\n",
            "427-346 A.C.,Platón,\"Fundó la Academia, su método la dialéctica \"\n",
            "460-370 A.C.,Demócrito,Afirmaba que la materia estaba hecha de partículas llamadas átomos\n",
            "570-446 A.C.,Parmenides ,\"Habla del principio de la unidad, de lo que existe y lo que no\"\n",
            "544-484 A.C.,Pitágoras,\"Teoría del número e ideas, armonía y proporción\"\n",
            "\n"
          ]
        }
      ]
    },
    {
      "cell_type": "markdown",
      "source": [
        "Se puede manipular la el contenido en la variable *filosofos* usando solo python puro, pero mejor podemos usar librerias de python que nos ahorren código. Para eso podemos usar **pandas**."
      ],
      "metadata": {
        "id": "53ZwPvlthxN5"
      }
    },
    {
      "cell_type": "markdown",
      "source": [
        "## La librería pandas\n",
        "\n",
        "Abrir, manipular y almacenar cambios en un archivo, es más fácil usando la librería **pandas**. Abramos el archivo *filosofos* ahora usando funciones de la librería **pandas**. \n",
        "\n",
        "\n",
        "\n"
      ],
      "metadata": {
        "id": "Kt8wbraViU5J"
      }
    },
    {
      "cell_type": "markdown",
      "source": [
        "### Abramos el archivo .csv"
      ],
      "metadata": {
        "id": "XBv_ZfXLl8zQ"
      }
    },
    {
      "cell_type": "code",
      "source": [],
      "metadata": {
        "id": "3Baxh85ml7Mb"
      },
      "execution_count": null,
      "outputs": []
    },
    {
      "cell_type": "markdown",
      "source": [
        "### Abramos el archivo .tsc"
      ],
      "metadata": {
        "id": "suChQODEltNS"
      }
    },
    {
      "cell_type": "code",
      "source": [],
      "metadata": {
        "id": "RJM2W-bzhESK"
      },
      "execution_count": null,
      "outputs": []
    },
    {
      "cell_type": "markdown",
      "source": [
        "### Abramos el archivo .xlxs"
      ],
      "metadata": {
        "id": "DLzlBJdSmEWS"
      }
    },
    {
      "cell_type": "code",
      "source": [],
      "metadata": {
        "id": "vW0vOQ5mmGVt"
      },
      "execution_count": null,
      "outputs": []
    },
    {
      "cell_type": "markdown",
      "source": [
        "### Agreguemos mas elementos"
      ],
      "metadata": {
        "id": "ZpD052vbtZ_6"
      }
    },
    {
      "cell_type": "code",
      "source": [],
      "metadata": {
        "id": "KqZVhB1Utymw"
      },
      "execution_count": null,
      "outputs": []
    },
    {
      "cell_type": "markdown",
      "source": [
        "### Guardemos los cambios en formato csv"
      ],
      "metadata": {
        "id": "mxVyfITbtxDA"
      }
    },
    {
      "cell_type": "code",
      "source": [],
      "metadata": {
        "id": "GrXd7jomtyFD"
      },
      "execution_count": null,
      "outputs": []
    },
    {
      "cell_type": "markdown",
      "source": [
        "### Volvamos a abrir en formato csv"
      ],
      "metadata": {
        "id": "7kdjTlvntzpN"
      }
    },
    {
      "cell_type": "code",
      "source": [],
      "metadata": {
        "id": "u9twNJMUt4UN"
      },
      "execution_count": null,
      "outputs": []
    },
    {
      "cell_type": "markdown",
      "source": [
        "### Ahora ordenemos por la columna época la tabla y luego guardemos el archivo en formato csv."
      ],
      "metadata": {
        "id": "ud5reoZ_t6nk"
      }
    },
    {
      "cell_type": "code",
      "source": [],
      "metadata": {
        "id": "TduglLk6uDTD"
      },
      "execution_count": null,
      "outputs": []
    }
  ],
  "metadata": {
    "kernelspec": {
      "display_name": "Python 3",
      "language": "python",
      "name": "python3"
    },
    "language_info": {
      "codemirror_mode": {
        "name": "ipython",
        "version": 3
      },
      "file_extension": ".py",
      "mimetype": "text/x-python",
      "name": "python",
      "nbconvert_exporter": "python",
      "pygments_lexer": "ipython3",
      "version": "3.5.1"
    },
    "colab": {
      "provenance": [],
      "collapsed_sections": [
        "9S2_1aH-StR1",
        "7LY_7ql-Xop-",
        "LyiDvMV_dPa_"
      ],
      "include_colab_link": true
    }
  },
  "nbformat": 4,
  "nbformat_minor": 0
}