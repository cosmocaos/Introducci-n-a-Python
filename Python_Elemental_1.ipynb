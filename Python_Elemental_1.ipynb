{
  "nbformat": 4,
  "nbformat_minor": 0,
  "metadata": {
    "colab": {
      "provenance": [],
      "collapsed_sections": [
        "DpbNVm_EcEmq"
      ],
      "authorship_tag": "ABX9TyM8GqBQjZrv1B573v1QWUse",
      "include_colab_link": true
    },
    "kernelspec": {
      "name": "python3",
      "display_name": "Python 3"
    },
    "language_info": {
      "name": "python"
    }
  },
  "cells": [
    {
      "cell_type": "markdown",
      "metadata": {
        "id": "view-in-github",
        "colab_type": "text"
      },
      "source": [
        "<a href=\"https://colab.research.google.com/github/cosmocaos/Introduccion_a_Python/blob/main/Python_Elemental_1.ipynb\" target=\"_parent\"><img src=\"https://colab.research.google.com/assets/colab-badge.svg\" alt=\"Open In Colab\"/></a>"
      ]
    },
    {
      "cell_type": "markdown",
      "metadata": {
        "id": "DpbNVm_EcEmq"
      },
      "source": [
        "##<font color=SteelBlue>Python Elemental </font>\n",
        "En este primer *notebook* aprenderemos los elementos básicos del lenguaje de programación de Python. Empezaremos por escribir algunas líneas de código, para los 4 tipos de datos comunes a cualquier lenguaje de programación. "
      ]
    },
    {
      "cell_type": "code",
      "metadata": {
        "id": "-7HceHPSaEsx"
      },
      "source": [
        "# Ejemplos de asignación (por primera vez)\n",
        "a = 5      \n",
        "b = 5.4\n",
        "c = \"cinco punto cuatro\"\n",
        "d = True\n",
        "e =  1000000"
      ],
      "execution_count": null,
      "outputs": []
    },
    {
      "cell_type": "markdown",
      "source": [
        "Se usa un enunciado de *asignación* para crear una variable que haga referencia a un dato. En las 4 lineas anteriores seasignaron datos a 4 variables diferentes. El enuncisado de asignación siempre tiene el siguiente formato:\n",
        "*variable*  =  *expresión*\n",
        "<br> Practiquemos algunas asignaciones. "
      ],
      "metadata": {
        "id": "Bj0l-LrXFPyN"
      }
    },
    {
      "cell_type": "code",
      "source": [
        "x = 4\n",
        "x = 7   ## ejemplo de re-asignación\n",
        "x = b   ## otro ejemplo de re-asignación\n",
        "x = e"
      ],
      "metadata": {
        "id": "DkWXYFxiG0ff"
      },
      "execution_count": null,
      "outputs": []
    },
    {
      "cell_type": "markdown",
      "source": [
        "La función `print()` sirve para imprimir texto, o el contenido de una variable. "
      ],
      "metadata": {
        "id": "uEMcEnC0HMsk"
      }
    },
    {
      "cell_type": "code",
      "source": [
        "print(a)"
      ],
      "metadata": {
        "id": "JS-zLEhvHWV5",
        "colab": {
          "base_uri": "https://localhost:8080/"
        },
        "outputId": "77756745-9481-449c-b31f-fad3fecd0d61"
      },
      "execution_count": null,
      "outputs": [
        {
          "output_type": "stream",
          "name": "stdout",
          "text": [
            "5\n"
          ]
        }
      ]
    },
    {
      "cell_type": "markdown",
      "source": [
        "Las variables tienen que haber sido asignadas, antes deser llamadas por primera vez. Las variables son *case-sensitive*, esto quiere decir, que el lenguaje diferencia entre mayusculas y minisuculas."
      ],
      "metadata": {
        "id": "vvoibgzFGUL6"
      }
    },
    {
      "cell_type": "code",
      "source": [
        "perro = 50\n",
        "Perro = 100\n",
        "print(perro)\n",
        "print(Perro)"
      ],
      "metadata": {
        "id": "TbCDt1yCG9Lb",
        "colab": {
          "base_uri": "https://localhost:8080/"
        },
        "outputId": "7c2403d7-1a9e-4c07-9e29-f40b68ff8b05"
      },
      "execution_count": null,
      "outputs": [
        {
          "output_type": "stream",
          "name": "stdout",
          "text": [
            "50\n",
            "100\n"
          ]
        }
      ]
    },
    {
      "cell_type": "markdown",
      "source": [
        "Hay nombres que no se pueden usar como variables. Por ejemplo:"
      ],
      "metadata": {
        "id": "OigBecyOIR3m"
      }
    },
    {
      "cell_type": "code",
      "source": [
        "# for = 3  # No se pueden usar nombres de funciones    \n",
        "# 3ermes = 54  # No se pueden usar numeros al inicio del nombre de una variable\n",
        "# costo total = 21   #No usar espacios\n",
        "ecuaci$on5 =  a + b  #No puedo usar simbolos, solo el guión bajo"
      ],
      "metadata": {
        "id": "Uj1oeqsaIc8f",
        "colab": {
          "base_uri": "https://localhost:8080/",
          "height": 131
        },
        "outputId": "99e62132-f5fe-47bf-997b-108cece07563"
      },
      "execution_count": null,
      "outputs": [
        {
          "output_type": "error",
          "ename": "SyntaxError",
          "evalue": "ignored",
          "traceback": [
            "\u001b[0;36m  File \u001b[0;32m\"<ipython-input-6-4be890b42c5e>\"\u001b[0;36m, line \u001b[0;32m4\u001b[0m\n\u001b[0;31m    ecuaci$on5 =  a + b  #No puedo usar simbolos, solo el guin bajo\u001b[0m\n\u001b[0m          ^\u001b[0m\n\u001b[0;31mSyntaxError\u001b[0m\u001b[0;31m:\u001b[0m invalid syntax\n"
          ]
        }
      ]
    },
    {
      "cell_type": "markdown",
      "source": [
        "La función `print()` puede imprimir varios elementos en una sola línea de la siguiente forma:"
      ],
      "metadata": {
        "id": "kaEszcVkKmjG"
      }
    },
    {
      "cell_type": "code",
      "source": [
        "temperatura = 38\n",
        "print(\"La temperatura de hoy es de\",temperatura)"
      ],
      "metadata": {
        "id": "ANC21nMRKnnB",
        "colab": {
          "base_uri": "https://localhost:8080/"
        },
        "outputId": "52e9f25a-3b13-407f-a857-bd065ce3113e"
      },
      "execution_count": null,
      "outputs": [
        {
          "output_type": "stream",
          "name": "stdout",
          "text": [
            "La temperatura de hoy es de 38\n"
          ]
        }
      ]
    },
    {
      "cell_type": "code",
      "source": [
        "mesero = \"Mariana\"\n",
        "print(\"Hoy le atendió\", mesero)"
      ],
      "metadata": {
        "id": "R8aeQAtgI9pW",
        "colab": {
          "base_uri": "https://localhost:8080/"
        },
        "outputId": "522137c2-9faf-4a9b-aa9f-abc72bbdd252"
      },
      "execution_count": null,
      "outputs": [
        {
          "output_type": "stream",
          "name": "stdout",
          "text": [
            "Hoy le atendió Mariana\n"
          ]
        }
      ]
    },
    {
      "cell_type": "code",
      "source": [
        "temperatura = 39 \n",
        "print(\"El niño tiene \", temperatura, \"˚C de temperatura\")"
      ],
      "metadata": {
        "id": "kVVOVuZILWPM",
        "colab": {
          "base_uri": "https://localhost:8080/"
        },
        "outputId": "c312ab15-1f81-463b-ae63-e55cba9f6f94"
      },
      "execution_count": null,
      "outputs": [
        {
          "output_type": "stream",
          "name": "stdout",
          "text": [
            "El niño tiene  39 ˚C de temperatura\n"
          ]
        }
      ]
    },
    {
      "cell_type": "markdown",
      "source": [
        "Lo que hicimos en las lineas anteriores al asignar primero el dato 38 a la variable temperatura, y luego, el valor de 39, se le llama reasignación de variable. "
      ],
      "metadata": {
        "id": "8lAmkD9qMi0A"
      }
    },
    {
      "cell_type": "code",
      "source": [],
      "metadata": {
        "id": "HfN4F-fheSvt"
      },
      "execution_count": null,
      "outputs": []
    },
    {
      "cell_type": "markdown",
      "source": [
        "##<font color=FireBrick> Ejercicio Individual </font>\n",
        "A continuación escribe algunas líneas de código, que almacenen tu nombre, lugar de nacimiento, edad y película favorita.  "
      ],
      "metadata": {
        "id": "01NEy-L_AUhM"
      }
    },
    {
      "cell_type": "code",
      "source": [
        "nombre = \"José Manuel\"\n",
        "lugar_naci = \"Nuevo Laredo\"\n",
        "edad = 35\n",
        "peli_fav = \"Interstellar\""
      ],
      "metadata": {
        "id": "GLTQ6eN8Mxyq"
      },
      "execution_count": null,
      "outputs": []
    },
    {
      "cell_type": "markdown",
      "source": [
        "Hemos estado utilizando los 4 tipos de datos básicos. Veamos cuale es cual con la función `type()`. Las funciones (comandos) que tiene integradas python, se les conoce como *built-in functions*. "
      ],
      "metadata": {
        "id": "j8MnWWoxBiJQ"
      }
    },
    {
      "cell_type": "code",
      "source": [
        "#type(nombre)\n",
        "#type(edad)\n",
        "#type(lugar_naci)\n",
        "type(peli_fav)"
      ],
      "metadata": {
        "id": "p7qdnn9nEbEx",
        "colab": {
          "base_uri": "https://localhost:8080/"
        },
        "outputId": "0f378a09-8e46-4f7e-fb96-24e5a0d17fb0"
      },
      "execution_count": null,
      "outputs": [
        {
          "output_type": "execute_result",
          "data": {
            "text/plain": [
              "str"
            ]
          },
          "metadata": {},
          "execution_count": 10
        }
      ]
    },
    {
      "cell_type": "markdown",
      "source": [
        "Otra función inteagrada de python es `input()`. Que sirve para leer el teclado de nuestro dispositivo y asiganar datos a variables. Usemos esta función para preguntar el nombre a una persona."
      ],
      "metadata": {
        "id": "k9d0kpBqHaXu"
      }
    },
    {
      "cell_type": "code",
      "source": [
        "nombre = input(\"Hola como te llamas? \")"
      ],
      "metadata": {
        "id": "9C8cLKKIEgkY",
        "colab": {
          "base_uri": "https://localhost:8080/"
        },
        "outputId": "95bbb758-e628-4609-ce90-ea0cdf6ebda4"
      },
      "execution_count": null,
      "outputs": [
        {
          "name": "stdout",
          "output_type": "stream",
          "text": [
            "Hola como te llamas? $Gfg fdg\n"
          ]
        }
      ]
    },
    {
      "cell_type": "code",
      "source": [
        "print(nombre)"
      ],
      "metadata": {
        "colab": {
          "base_uri": "https://localhost:8080/"
        },
        "id": "uK5jmb30F1NX",
        "outputId": "2a502a25-91d8-44c7-ff00-a0fcc93d1f1f"
      },
      "execution_count": null,
      "outputs": [
        {
          "output_type": "stream",
          "name": "stdout",
          "text": [
            "$Gfg fdg\n"
          ]
        }
      ]
    },
    {
      "cell_type": "markdown",
      "source": [
        "El programa se detiene siempre que aparezca el commando `input()`, escribirmos una respuesta, y cuando damos *enter* contínua en la siguiente línea de código.\n",
        "Veamos un ejemplo de esto, preguntando además la edad y el lugar de nacimiento.  "
      ],
      "metadata": {
        "id": "eJRKzyx8IGOW"
      }
    },
    {
      "cell_type": "code",
      "source": [
        "nombre = input(\"Hola como te llamas? \")\n",
        "edad = input(\"Cuantos años tienes? \")\n",
        "lugar_naci = input(\"Donde nacistes?\")\n",
        "peli_fav = input(\"Cual es tu pelicula favorita? \")"
      ],
      "metadata": {
        "id": "qicT0RavH76D",
        "colab": {
          "base_uri": "https://localhost:8080/"
        },
        "outputId": "b40457e5-164a-4045-925f-d0b3bf7a6968"
      },
      "execution_count": null,
      "outputs": [
        {
          "name": "stdout",
          "output_type": "stream",
          "text": [
            "Hola como te llamas? Manuel\n",
            "Cuantos años tienes? 35\n",
            "Donde nacistes?Nuevo Laredo\n",
            "Cual es tu pelicula favorita? Interstellar\n"
          ]
        }
      ]
    },
    {
      "cell_type": "markdown",
      "source": [
        "Usemos estas variables leídas para imprimir un saludo en pantalla."
      ],
      "metadata": {
        "id": "YtLLpQj8ImIb"
      }
    },
    {
      "cell_type": "code",
      "source": [
        "print('Gusto en conocerte', nombre,\", interesante película la de\", peli_fav)\n",
        "print('Nunca he viajada a la ciudad de', lugar_naci)"
      ],
      "metadata": {
        "id": "nEz--zX9J8OV",
        "colab": {
          "base_uri": "https://localhost:8080/"
        },
        "outputId": "383610f3-3e21-4c51-f501-edb1615d2f4f"
      },
      "execution_count": null,
      "outputs": [
        {
          "output_type": "stream",
          "name": "stdout",
          "text": [
            "Gusto en conocerte Manuel , interesante película la de Interstellar\n",
            "Nunca he viajada a la ciudad de Nuevo Laredo\n"
          ]
        }
      ]
    },
    {
      "cell_type": "markdown",
      "source": [
        "Usemos el dato asignado a la variable **edad**, y calculemos el equivalente en meses."
      ],
      "metadata": {
        "id": "6Glpj6M3J9E_"
      }
    },
    {
      "cell_type": "code",
      "source": [
        "edad*12"
      ],
      "metadata": {
        "id": "MySi1d3VPSog",
        "colab": {
          "base_uri": "https://localhost:8080/"
        },
        "outputId": "d0af9e10-896c-4b30-b13c-fd73e9c0f58e"
      },
      "execution_count": null,
      "outputs": [
        {
          "output_type": "execute_result",
          "data": {
            "text/plain": [
              "str"
            ]
          },
          "metadata": {},
          "execution_count": 28
        }
      ]
    },
    {
      "cell_type": "markdown",
      "source": [
        "Que sucedio? La varaible edad es de tipo <font color=SteelBlue>string</font>, si usamos el operador *  (multiplicación), repite la cadena de caracteres 12 veces. \n",
        "Para leer la edad y transformarla a un número entero debemos utilizar la función integrada `int()`. "
      ],
      "metadata": {
        "id": "31ptUNvaPvbo"
      }
    },
    {
      "cell_type": "code",
      "source": [
        "edadaños = input(\"Cual estu edad? \")\n",
        "edadaños = int(edadaños)  \n"
      ],
      "metadata": {
        "id": "UaDNBFvTSOF0",
        "colab": {
          "base_uri": "https://localhost:8080/"
        },
        "outputId": "40666aa9-7d95-4d58-e71d-8c181dcce8ca"
      },
      "execution_count": null,
      "outputs": [
        {
          "name": "stdout",
          "output_type": "stream",
          "text": [
            "Cual estu edad? 35\n"
          ]
        }
      ]
    },
    {
      "cell_type": "markdown",
      "source": [
        "Ahora que la variable **edad** ya es un de tipo <font color=SteelBlue>int</font>, entonces ahora podemos multiplicarla por un valor númerico entero. Imprimamos en pantalla nuestra edad en meses. \n"
      ],
      "metadata": {
        "id": "hAABTF1PSaxl"
      }
    },
    {
      "cell_type": "code",
      "source": [
        "edad_enmeses = edadaños * 12\n",
        "edad_endias =  365 * edadaños\n",
        "edad_enhoras = edad_endias * 24\n",
        "\n",
        "print(\"Tu edad es de \", edad_enmeses ,\"meses\")\n",
        "print(\"Tu edad es de \", edad_endias ,\"días\")\n",
        "print(\"Tu edad es de \", edad_enhoras ,\"horas\")\n"
      ],
      "metadata": {
        "id": "lu6hWp7LSPbz",
        "colab": {
          "base_uri": "https://localhost:8080/"
        },
        "outputId": "bf12ae40-67fd-4854-96d9-e49650043897"
      },
      "execution_count": null,
      "outputs": [
        {
          "output_type": "stream",
          "name": "stdout",
          "text": [
            "Tu edad es de  420 meses\n",
            "Tu edad es de  12775 días\n",
            "Tu edad es de  306600 horas\n"
          ]
        }
      ]
    },
    {
      "cell_type": "markdown",
      "source": [
        "El código anterior se puede escribir así:"
      ],
      "metadata": {
        "id": "-f_h9qpoUBZt"
      }
    },
    {
      "cell_type": "code",
      "source": [
        "edadaños = int( input(\"Cual estu edad? \") )  "
      ],
      "metadata": {
        "id": "96v1nlIBUFhY"
      },
      "execution_count": null,
      "outputs": []
    },
    {
      "cell_type": "markdown",
      "source": [
        "Lo anterior se conoce como *funciones anidadas*, nested functions en ingles. "
      ],
      "metadata": {
        "id": "rj5p3WP8UGC3"
      }
    },
    {
      "cell_type": "markdown",
      "source": [
        "Volvamos a ejecutar el código y probemos experimentemos con diferentes inputs. 😉 "
      ],
      "metadata": {
        "id": "bJ_050X5UjWq"
      }
    },
    {
      "cell_type": "code",
      "source": [
        "nombre = input(\"Hola como te llamas? \")\n",
        "edad = int(input(\"Cuantos años tienes? \"))\n",
        "lugar_naci = input(\"Donde nacistes?\")\n",
        "peli_fav = input(\"Cual es tu pelicula favorita? \")\n",
        "\n",
        "edad_enmeses = edadaños * 12\n",
        "edad_endias =  365 * edadaños\n",
        "edad_enhoras = edad_endias * 24\n",
        "\n",
        "print(\"Tu edad es de \", edad_enmeses ,\"meses\")\n",
        "print(\"Tu edad es de \", edad_endias ,\"días\")\n",
        "print(\"Tu edad es de \", edad_enhoras ,\"horas\")"
      ],
      "metadata": {
        "id": "vCQymg_2lcyJ"
      },
      "execution_count": null,
      "outputs": []
    },
    {
      "cell_type": "markdown",
      "source": [
        "Veamos como exportar nuestra notebook de jupiter. El archivo tiene el nombre que le pusimos y la extensión *.ipynb*."
      ],
      "metadata": {
        "id": "NoYlre9TXbIQ"
      }
    },
    {
      "cell_type": "markdown",
      "source": [
        "Podemos subir un código de python a la sesion de colab y ejecutarlo. La manera mas sencilla es la siguiente:"
      ],
      "metadata": {
        "id": "P31wXAeiu1h-"
      }
    },
    {
      "cell_type": "code",
      "source": [
        "# Comandos para situarse en el directorio del archivo que acabmos de subir"
      ],
      "metadata": {
        "colab": {
          "base_uri": "https://localhost:8080/"
        },
        "id": "RLZ1jdKJSU-n",
        "outputId": "7995d226-18da-4a11-ceb9-1f1cd119a712"
      },
      "execution_count": null,
      "outputs": [
        {
          "output_type": "stream",
          "name": "stdout",
          "text": [
            "\u001b[0m\u001b[01;32manscombe.json\u001b[0m*                mnist_test.csv         \u001b[01;32mREADME.md\u001b[0m*\n",
            "california_housing_test.csv   mnist_train_small.csv\n",
            "california_housing_train.csv  pythonelemental1.py\n"
          ]
        }
      ]
    },
    {
      "cell_type": "code",
      "source": [
        "%run -i \"pythonelemental1.py\" # que es eso de la -i ?"
      ],
      "metadata": {
        "id": "6Q1yQJWpsiQK",
        "colab": {
          "base_uri": "https://localhost:8080/"
        },
        "outputId": "1fe924e6-58d4-47f3-c7dd-2ad6a2f95030"
      },
      "execution_count": null,
      "outputs": [
        {
          "output_type": "stream",
          "name": "stdout",
          "text": [
            "Hola como te llamas? sdf\n",
            "Cuantos años tienes? 3\n",
            "Donde nacistes?4\n",
            "Cual es tu pelicula favorita? sdfs\n",
            "Tu edad es de  420 meses\n",
            "Tu edad es de  12775 días\n",
            "Tu edad es de  306600 horas\n"
          ]
        }
      ]
    },
    {
      "cell_type": "markdown",
      "source": [
        "Las primeras computadoras personales tenina una interface gráfica muy rudimentaria, que carecia de lo que conocemos ahora como \"ventanas\", ver por ejemplo: https://commons.wikimedia.org/wiki/File:Zenith_Z-19_Terminal.jpg. La interface era un pantalla negra con texto color verde. Esta interface prevalece como un programa en la mayoria de las computadoras, y entre otras cosas sirve para el desarrollo de programas. Si queremos ussar una terminal, corremos las siguientes dos lineas. Y luego una tercera.   "
      ],
      "metadata": {
        "id": "ojtLeUNMlem2"
      }
    },
    {
      "cell_type": "code",
      "source": [
        "!pip install colab-xterm\n",
        "%load_ext colabxterm\n"
      ],
      "metadata": {
        "colab": {
          "base_uri": "https://localhost:8080/"
        },
        "id": "o3XGBgetUpmc",
        "outputId": "43c9a5d2-0b4c-4a9b-99e5-b18b18db0fe2"
      },
      "execution_count": null,
      "outputs": [
        {
          "output_type": "stream",
          "name": "stdout",
          "text": [
            "Looking in indexes: https://pypi.org/simple, https://us-python.pkg.dev/colab-wheels/public/simple/\n",
            "Requirement already satisfied: colab-xterm in /usr/local/lib/python3.7/dist-packages (0.1.2)\n",
            "Requirement already satisfied: ptyprocess~=0.7.0 in /usr/local/lib/python3.7/dist-packages (from colab-xterm) (0.7.0)\n",
            "Requirement already satisfied: tornado>5.1 in /usr/local/lib/python3.7/dist-packages (from colab-xterm) (5.1.1)\n",
            "The colabxterm extension is already loaded. To reload it, use:\n",
            "  %reload_ext colabxterm\n"
          ]
        }
      ]
    },
    {
      "cell_type": "code",
      "source": [
        "%xterm  # Con esta línea abrimos una terminal "
      ],
      "metadata": {
        "id": "ENoufJzZkLXK"
      },
      "execution_count": null,
      "outputs": []
    }
  ]
}