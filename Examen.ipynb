{
  "nbformat": 4,
  "nbformat_minor": 0,
  "metadata": {
    "colab": {
      "provenance": [],
      "collapsed_sections": [],
      "authorship_tag": "ABX9TyPlRVTqjwAK4wLTPCcHHmzL",
      "include_colab_link": true
    },
    "kernelspec": {
      "name": "python3",
      "display_name": "Python 3"
    },
    "language_info": {
      "name": "python"
    }
  },
  "cells": [
    {
      "cell_type": "markdown",
      "metadata": {
        "id": "view-in-github",
        "colab_type": "text"
      },
      "source": [
        "<a href=\"https://colab.research.google.com/github/cosmocaos/Introduccion_a_Python/blob/main/Examen.ipynb\" target=\"_parent\"><img src=\"https://colab.research.google.com/assets/colab-badge.svg\" alt=\"Open In Colab\"/></a>"
      ]
    },
    {
      "cell_type": "code",
      "execution_count": 19,
      "metadata": {
        "id": "3fJ6w6nopi7z"
      },
      "outputs": [],
      "source": [
        "papy = {'lista': 'Una colección de valores  no relacionados, pero en un orden',\n",
        "        'diccionario': 'Una colección de pares llave-valor',\n",
        "        'funcion': 'Un código con un nombre que define un conjunto de instrucciones',\n",
        "        'for loop': 'Una secuencia de código que se repite un número determinado de veces',\n",
        "        'matriz': 'Un arreglo de datos de 2 o mas dimensiones',\n",
        "        'estructura de datos': 'Entidad en la que se almacenan datos en un orden determinado'      \n",
        "      }\n",
        "\n",
        "lista_num = [0,1,2,3] \n",
        "letras = ['a','b','c','d']\n",
        "\n",
        "conceptos = []\n",
        "for llave in papy.keys():\n",
        "  conceptos.append(llave)\n"
      ]
    },
    {
      "cell_type": "code",
      "source": [
        "conceptos"
      ],
      "metadata": {
        "colab": {
          "base_uri": "https://localhost:8080/"
        },
        "id": "BoWfLsDOVbd4",
        "outputId": "77ca0a94-a282-4e30-ac6c-1a12918d1c55"
      },
      "execution_count": 15,
      "outputs": [
        {
          "output_type": "execute_result",
          "data": {
            "text/plain": [
              "['lista',\n",
              " 'diccionario',\n",
              " 'funcion',\n",
              " 'for loop',\n",
              " 'matriz',\n",
              " 'estructura de datos']"
            ]
          },
          "metadata": {},
          "execution_count": 15
        }
      ]
    },
    {
      "cell_type": "code",
      "source": [
        "calif = 0\n",
        "NumeroP = 0\n",
        "for reactivo in papy.keys():\n",
        "  respuestas = conceptos[:]\n",
        "  respuestas.remove(reactivo)\n",
        "  \n",
        "  NumeroP = NumeroP + 1\n",
        "  print(' ')\n",
        "  print(f'{NumeroP}.- {papy[reactivo]}:') \n",
        "  \n",
        "\n",
        "  respuestas2 = list( np.random.choice(respuestas,3,replace=False) )\n",
        "\n",
        "  pos = int(np.random.choice(lista_num,1))\n",
        "  \n",
        "  respuestas2.insert(pos,reactivo)\n",
        "  #print(f'{respuestas2}') # Esta línea es de prueba\n",
        "  for l, r  in zip(letras, respuestas2):\n",
        "    print(f'{l}) {r}')\n",
        "\n",
        "  guess = input('Tu respuesta:')\n",
        "\n",
        "  if guess == letras[pos]:\n",
        "    print('Correcto')\n",
        "    calif = calif + (100/6)\n",
        "  else:\n",
        "    print('Respuesta Incorrecta')  \n",
        "\n",
        "print(' ')\n",
        "print(f'Has concluido el examen con una califiacion de {int(calif)}')\n",
        "  "
      ],
      "metadata": {
        "colab": {
          "base_uri": "https://localhost:8080/"
        },
        "id": "st280f1uUOS3",
        "outputId": "5bdecbfc-bacb-4283-fa93-dd388c6e27ba"
      },
      "execution_count": 35,
      "outputs": [
        {
          "output_type": "stream",
          "name": "stdout",
          "text": [
            " \n",
            "1.- Una colección de valores  no relacionados, pero en un orden:\n",
            "a) diccionario\n",
            "b) matriz\n",
            "c) lista\n",
            "d) funcion\n",
            "Tu respuesta:c\n",
            "Correcto\n",
            " \n",
            "2.- Una colección de pares llave-valor:\n",
            "a) for loop\n",
            "b) matriz\n",
            "c) funcion\n",
            "d) diccionario\n",
            "Tu respuesta:d\n",
            "Correcto\n",
            " \n",
            "3.- Un código con un nombre que define un conjunto de instrucciones:\n",
            "a) lista\n",
            "b) funcion\n",
            "c) diccionario\n",
            "d) for loop\n",
            "Tu respuesta:c\n",
            "Respuesta Incorrecta\n",
            " \n",
            "4.- Una secuencia de código que se repite un número determinado de veces:\n",
            "a) matriz\n",
            "b) funcion\n",
            "c) for loop\n",
            "d) estructura de datos\n",
            "Tu respuesta:c\n",
            "Correcto\n",
            " \n",
            "5.- Un arreglo de datos de 2 o mas dimensiones:\n",
            "a) diccionario\n",
            "b) matriz\n",
            "c) estructura de datos\n",
            "d) lista\n",
            "Tu respuesta:c\n",
            "Respuesta Incorrecta\n",
            " \n",
            "6.- Entidad en la que se almacenan datos en un orden determinado:\n",
            "a) estructura de datos\n",
            "b) funcion\n",
            "c) for loop\n",
            "d) matriz\n",
            "Tu respuesta:c\n",
            "Respuesta Incorrecta\n",
            "Has concluido el examen con una califiacion de 50\n"
          ]
        }
      ]
    },
    {
      "cell_type": "code",
      "source": [
        "calif = 0 \n",
        "\n",
        "for llave in papy.keys():\n",
        "\n",
        "  conceptos = []\n",
        "  for k in papy.keys():\n",
        "    conceptos.append(k)\n",
        "  \n",
        "  conceptos.remove(llave)\n",
        "  \n",
        "  pos = int(np.random.choice(lista_num,1))\n",
        "  respuestas = list(np.random.choice(conceptos,3,replace=False))\n",
        "  respuestas.insert( pos , llave)\n",
        "\n",
        "  print(' ') \n",
        "  print(f'{papy[llave]} ?')\n",
        "  \n",
        "  for r, l in zip(respuestas,letras):\n",
        "    print(f'{l}) {r}')\n",
        "   \n",
        "  correcta = letras[pos]\n",
        "  guess = input('Tu respuesta: ')\n",
        "  if guess == correcta:\n",
        "    print('Correcto :) ')\n",
        "    calif = calif + (100/6.)\n",
        "  else: \n",
        "    print('Incorrecto  >{ ')\n",
        "  \n",
        "print(' ')  \n",
        "print(f'Tu calificacion es de {int(calif)}') \n",
        "    \n",
        "\n"
      ],
      "metadata": {
        "colab": {
          "base_uri": "https://localhost:8080/",
          "height": 589
        },
        "id": "tiesKPFwqAOE",
        "outputId": "25beeea3-7b59-4de5-87c6-718e5e460c45"
      },
      "execution_count": 11,
      "outputs": [
        {
          "output_type": "stream",
          "name": "stdout",
          "text": [
            " \n",
            "Una colección de valores  no relacionados, pero en un orden. ?\n",
            "a) funcion\n",
            "b) estructura de datos\n",
            "c) matriz\n",
            "d) lista\n"
          ]
        },
        {
          "output_type": "error",
          "ename": "KeyboardInterrupt",
          "evalue": "ignored",
          "traceback": [
            "\u001b[0;31m---------------------------------------------------------------------------\u001b[0m",
            "\u001b[0;31mKeyboardInterrupt\u001b[0m                         Traceback (most recent call last)",
            "\u001b[0;32m<ipython-input-11-2e54e91fa1a6>\u001b[0m in \u001b[0;36m<module>\u001b[0;34m\u001b[0m\n\u001b[1;32m     20\u001b[0m \u001b[0;34m\u001b[0m\u001b[0m\n\u001b[1;32m     21\u001b[0m   \u001b[0mcorrecta\u001b[0m \u001b[0;34m=\u001b[0m \u001b[0mletras\u001b[0m\u001b[0;34m[\u001b[0m\u001b[0mpos\u001b[0m\u001b[0;34m]\u001b[0m\u001b[0;34m\u001b[0m\u001b[0;34m\u001b[0m\u001b[0m\n\u001b[0;32m---> 22\u001b[0;31m   \u001b[0mguess\u001b[0m \u001b[0;34m=\u001b[0m \u001b[0minput\u001b[0m\u001b[0;34m(\u001b[0m\u001b[0;34m'Tu respuesta: '\u001b[0m\u001b[0;34m)\u001b[0m\u001b[0;34m\u001b[0m\u001b[0;34m\u001b[0m\u001b[0m\n\u001b[0m\u001b[1;32m     23\u001b[0m   \u001b[0;32mif\u001b[0m \u001b[0mguess\u001b[0m \u001b[0;34m==\u001b[0m \u001b[0mcorrecta\u001b[0m\u001b[0;34m:\u001b[0m\u001b[0;34m\u001b[0m\u001b[0;34m\u001b[0m\u001b[0m\n\u001b[1;32m     24\u001b[0m     \u001b[0mprint\u001b[0m\u001b[0;34m(\u001b[0m\u001b[0;34m'Correcto :) '\u001b[0m\u001b[0;34m)\u001b[0m\u001b[0;34m\u001b[0m\u001b[0;34m\u001b[0m\u001b[0m\n",
            "\u001b[0;32m/usr/local/lib/python3.7/dist-packages/ipykernel/kernelbase.py\u001b[0m in \u001b[0;36mraw_input\u001b[0;34m(self, prompt)\u001b[0m\n\u001b[1;32m    861\u001b[0m             \u001b[0mself\u001b[0m\u001b[0;34m.\u001b[0m\u001b[0m_parent_ident\u001b[0m\u001b[0;34m,\u001b[0m\u001b[0;34m\u001b[0m\u001b[0;34m\u001b[0m\u001b[0m\n\u001b[1;32m    862\u001b[0m             \u001b[0mself\u001b[0m\u001b[0;34m.\u001b[0m\u001b[0m_parent_header\u001b[0m\u001b[0;34m,\u001b[0m\u001b[0;34m\u001b[0m\u001b[0;34m\u001b[0m\u001b[0m\n\u001b[0;32m--> 863\u001b[0;31m             \u001b[0mpassword\u001b[0m\u001b[0;34m=\u001b[0m\u001b[0;32mFalse\u001b[0m\u001b[0;34m,\u001b[0m\u001b[0;34m\u001b[0m\u001b[0;34m\u001b[0m\u001b[0m\n\u001b[0m\u001b[1;32m    864\u001b[0m         )\n\u001b[1;32m    865\u001b[0m \u001b[0;34m\u001b[0m\u001b[0m\n",
            "\u001b[0;32m/usr/local/lib/python3.7/dist-packages/ipykernel/kernelbase.py\u001b[0m in \u001b[0;36m_input_request\u001b[0;34m(self, prompt, ident, parent, password)\u001b[0m\n\u001b[1;32m    902\u001b[0m             \u001b[0;32mexcept\u001b[0m \u001b[0mKeyboardInterrupt\u001b[0m\u001b[0;34m:\u001b[0m\u001b[0;34m\u001b[0m\u001b[0;34m\u001b[0m\u001b[0m\n\u001b[1;32m    903\u001b[0m                 \u001b[0;31m# re-raise KeyboardInterrupt, to truncate traceback\u001b[0m\u001b[0;34m\u001b[0m\u001b[0;34m\u001b[0m\u001b[0;34m\u001b[0m\u001b[0m\n\u001b[0;32m--> 904\u001b[0;31m                 \u001b[0;32mraise\u001b[0m \u001b[0mKeyboardInterrupt\u001b[0m\u001b[0;34m(\u001b[0m\u001b[0;34m\"Interrupted by user\"\u001b[0m\u001b[0;34m)\u001b[0m \u001b[0;32mfrom\u001b[0m \u001b[0;32mNone\u001b[0m\u001b[0;34m\u001b[0m\u001b[0;34m\u001b[0m\u001b[0m\n\u001b[0m\u001b[1;32m    905\u001b[0m             \u001b[0;32mexcept\u001b[0m \u001b[0mException\u001b[0m \u001b[0;32mas\u001b[0m \u001b[0me\u001b[0m\u001b[0;34m:\u001b[0m\u001b[0;34m\u001b[0m\u001b[0;34m\u001b[0m\u001b[0m\n\u001b[1;32m    906\u001b[0m                 \u001b[0mself\u001b[0m\u001b[0;34m.\u001b[0m\u001b[0mlog\u001b[0m\u001b[0;34m.\u001b[0m\u001b[0mwarning\u001b[0m\u001b[0;34m(\u001b[0m\u001b[0;34m\"Invalid Message:\"\u001b[0m\u001b[0;34m,\u001b[0m \u001b[0mexc_info\u001b[0m\u001b[0;34m=\u001b[0m\u001b[0;32mTrue\u001b[0m\u001b[0;34m)\u001b[0m\u001b[0;34m\u001b[0m\u001b[0;34m\u001b[0m\u001b[0m\n",
            "\u001b[0;31mKeyboardInterrupt\u001b[0m: Interrupted by user"
          ]
        }
      ]
    },
    {
      "cell_type": "code",
      "source": [
        "df.columns.to_list()"
      ],
      "metadata": {
        "id": "hR991KwLAD1i"
      },
      "execution_count": null,
      "outputs": []
    },
    {
      "cell_type": "code",
      "source": [],
      "metadata": {
        "id": "uY0wZWhEqFGW"
      },
      "execution_count": 27,
      "outputs": []
    },
    {
      "cell_type": "code",
      "source": [],
      "metadata": {
        "colab": {
          "base_uri": "https://localhost:8080/"
        },
        "id": "Gc_eUpN3rzF_",
        "outputId": "81254d13-4b5a-488d-881c-836b1733a954"
      },
      "execution_count": 29,
      "outputs": [
        {
          "output_type": "stream",
          "name": "stdout",
          "text": [
            "a) diccionario\n",
            "b) lista\n",
            "c) lista\n",
            "d) funcion\n"
          ]
        }
      ]
    },
    {
      "cell_type": "code",
      "source": [
        "lista_num = [0,1,2,3,4,5,6]"
      ],
      "metadata": {
        "id": "z3LJxmXvslht"
      },
      "execution_count": 1,
      "outputs": []
    },
    {
      "cell_type": "code",
      "source": [
        "np.random.choice(lista_num,2,replace=False)"
      ],
      "metadata": {
        "colab": {
          "base_uri": "https://localhost:8080/"
        },
        "id": "4EqcBn1APye5",
        "outputId": "5e903d7d-0a80-4440-e703-64802113659c"
      },
      "execution_count": 8,
      "outputs": [
        {
          "output_type": "execute_result",
          "data": {
            "text/plain": [
              "array([0, 3])"
            ]
          },
          "metadata": {},
          "execution_count": 8
        }
      ]
    },
    {
      "cell_type": "code",
      "source": [],
      "metadata": {
        "id": "cS27-hmbP6WT"
      },
      "execution_count": null,
      "outputs": []
    }
  ]
}