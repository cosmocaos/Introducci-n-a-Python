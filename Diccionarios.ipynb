{
  "cells": [
    {
      "cell_type": "markdown",
      "metadata": {
        "id": "view-in-github",
        "colab_type": "text"
      },
      "source": [
        "<a href=\"https://colab.research.google.com/github/cosmocaos/Introduccion_a_Python/blob/main/Diccionarios.ipynb\" target=\"_parent\"><img src=\"https://colab.research.google.com/assets/colab-badge.svg\" alt=\"Open In Colab\"/></a>"
      ]
    },
    {
      "cell_type": "markdown",
      "metadata": {
        "id": "nUxapP2VStRw"
      },
      "source": [
        "Diccionarios (Estructura de Datos)\n",
        "==="
      ]
    },
    {
      "cell_type": "markdown",
      "metadata": {
        "id": "9S2_1aH-StR1"
      },
      "source": [
        "Los diccionarios nos permiten organizar información. Por ejemplo  almacenar el nombre y edad de una persona."
      ]
    },
    {
      "cell_type": "markdown",
      "metadata": {
        "id": "O3pMspi6StR2"
      },
      "source": [
        "<a name=\"top\"></a>Contenido\n",
        "===\n",
        "- [Que son los diccionarios?](#what)\n",
        "    - [Sintáxis general](#general_syntax)\n",
        "    - [Ejemplo](#example)\n",
        "    - [Ejercicios](#exercises_what)\n",
        "- [Operaciones comunes con diccionarios](#common_operations)\n",
        "    - [Agregar pares llave-valor](#adding_pairs)\n",
        "    - [Modificando valores en un diccionario](#modifying_values)\n",
        "    - [Removiendo pares llave-valor](#removing_pairs)\n",
        "    - [Modificando llaves (keys) en un diccionario](#modifying_keys)\n",
        "    - [Ejercicios](#exercises_common_operations)\n",
        "- [Iteración de un diccionario](#looping)\n",
        "    - [Iterar todos los pares llave-valor](#loop_all_keys_values)\n",
        "    - [Iterar todas las llaves](#loop_all_keys)\n",
        "    - [Iteraro todos los valores](#loop_all_values)\n",
        "    - [Iterar dicionario en orden](#looping_in_order)\n",
        "    - [Ejercicios](#exercises_looping)\n",
        "- [Anidar](#nesting)\n",
        "    - [Listas en un diccionario](#lists_in_dictionary)\n",
        "    - [Diccionarios en un diccionario](#dictionaries_in_dictionary)\n",
        "    - [Nota importante sobre anidar](#important_note)\n",
        "    - [Ejercicios](#exercises_nesting)\n",
        "- [Desafios](#overall_challenges)"
      ]
    },
    {
      "cell_type": "markdown",
      "metadata": {
        "id": "bfX6jGNfStR3"
      },
      "source": [
        "[top](#top)"
      ]
    },
    {
      "cell_type": "markdown",
      "metadata": {
        "id": "ofe55DoCStR3"
      },
      "source": [
        "<a name='what'></a>Que son los diccionarios?\n",
        "===\n",
        "\n",
        "Los diccionarios son una manera de almacenar información que esta relacionada de cierta manera. Los diccionarios almacenan información en pares *llave-valor* , así que cualquier pieza de información en un diccionario esta conectada con al menos una de las otras partes de la información. \n",
        "\n",
        "Los diccionarios no almacenan información en algún orden particular, así que puede ser que que no recuperes la información en el mismo orden que se introdujo a la base de datos. "
      ]
    },
    {
      "cell_type": "markdown",
      "metadata": {
        "id": "hsQxyNopStR4"
      },
      "source": [
        "<a name='general_syntax'></a>Sintáxis General\n",
        "---\n",
        "Un diccionario típico de Python luce así: \n"
      ]
    },
    {
      "cell_type": "code",
      "source": [
        "nombre_de_diccionario = {'llave_1': 'valor_1', 'llave_2': 'valor_2', 'llave_3': 'valor_3'}"
      ],
      "metadata": {
        "id": "1Z8AlpOd4wHU"
      },
      "execution_count": null,
      "outputs": []
    },
    {
      "cell_type": "markdown",
      "metadata": {
        "id": "9ExD1LRUStR9"
      },
      "source": [
        "Ya que las llaves y valores en diccionario pueden ser largos, a menudo escrubimos solo un para llave-valor en una sola línea. Usualmente miraras los discionarios escritos de la siguiente forma. \n"
      ]
    },
    {
      "cell_type": "code",
      "source": [
        "nombre_de_diccionario = {'llave_1': 'valor_1',\n",
        "                         'llave_2': 'valor_2', \n",
        "                         'llave_3': 'valor_3'}"
      ],
      "metadata": {
        "id": "sLAj4HsO4hay"
      },
      "execution_count": null,
      "outputs": []
    },
    {
      "cell_type": "markdown",
      "metadata": {
        "id": "0YhhL646StR-"
      },
      "source": [
        "Esto es mas fácil de leer para cualqueir persona, especialmente si el diccionario es muy grande. "
      ]
    },
    {
      "cell_type": "markdown",
      "metadata": {
        "id": "th-k6_ZKStR-"
      },
      "source": [
        "<a name='example'></a>Ejemplo\n",
        "---\n",
        "\n",
        "Un simple ejemplo involucra modelar un dicciorio real, es decir de palabras y su signifícado. "
      ]
    },
    {
      "cell_type": "code",
      "execution_count": null,
      "metadata": {
        "id": "ua5Pwds9StR_"
      },
      "outputs": [],
      "source": [
        "palabras_python = {'lista': 'Una colección de valores  no relacionados, pero en un orden.',\n",
        "                   'diccionario': 'Una colección de pares llave-valor.',\n",
        "                   'funcion': 'Un código con un nombre que define un conjunto de instrucciones'\n",
        "                  }"
      ]
    },
    {
      "cell_type": "markdown",
      "metadata": {
        "id": "44p43__bStR_"
      },
      "source": [
        "Podemos obtener elementos individuales de un diccionario, con su nombre y la llave en corchetes cuadrados:"
      ]
    },
    {
      "cell_type": "code",
      "source": [
        "palabras_python['lista']"
      ],
      "metadata": {
        "id": "zRsVdTCQQ65Q"
      },
      "execution_count": null,
      "outputs": []
    },
    {
      "cell_type": "code",
      "execution_count": null,
      "metadata": {
        "id": "A0RPZ9x-StSA"
      },
      "outputs": [],
      "source": [
        "palabras_python = {'lista': 'Una colección de valores  no relacionados, pero en un orden.',\n",
        "                   'diccionario': 'Una colección de pares llave-valor.',\n",
        "                   'funcion': 'Un código con un nombre que define un conjunto de instrucciones.'\n",
        "                  }\n",
        "\n",
        "print(f\"\\nPalabra:  {'lista'}\")\n",
        "print(f\"Significado:  {palabras_python['lista']}\")\n",
        "      \n",
        "print(f'\\nPalabra:  {\"diccionario\"}')\n",
        "print(f\"Significado:  {palabras_python['diccionario']}\")\n",
        "\n",
        "print(f'\\nPalabra:  {\"funcion\"}')\n",
        "print(f\"Significado:  {palabras_python['funcion']}\")"
      ]
    },
    {
      "cell_type": "markdown",
      "metadata": {
        "id": "lzHU3_SFStSB"
      },
      "source": [
        "El código anterior se mira algo repetitivo, vamos a ponerlo en un loop for.  Los diccionarios se pueden iterar, pero ya que tienen dos tipos de información (las llaves y el valor), tienen una forma ligeramente de iterar que las listas. Esta es la forma de como usar un loop con un diccionario. "
      ]
    },
    {
      "cell_type": "code",
      "execution_count": null,
      "metadata": {
        "id": "mHvZE3RMStSB"
      },
      "outputs": [],
      "source": [
        "palabras_python = {'lista': 'Una colección de valores  no relacionados, pero en un orden.',\n",
        "                   'diccionario': 'Una colección de pares llave-valor.',\n",
        "                   'funcion': 'Un código con un nombre que define un conjunto de instrucciones'\n",
        "                  }\n",
        "                  \n",
        "for palabra, significado in palabras_python.items():\n",
        "  print(f'\\nPalabra: {palabra}')\n",
        "  print(f'Significado: {significado}')"
      ]
    },
    {
      "cell_type": "markdown",
      "metadata": {
        "id": "VqF5v4DmStSC"
      },
      "source": [
        "La salida es identica, pero lo hicimos en 3 lineas en lugar de 6. Si el diccionario tuviera mas, o muchos mas terminos, aún así lo lograriamos en solo 3 lineas.\n",
        "\n",
        "Lo único que tenemos que hacer es decidir como llamar a las variables para iterar las llaves y valores del diccionario, la sintáxis general es:"
      ]
    },
    {
      "cell_type": "code",
      "execution_count": null,
      "metadata": {
        "id": "O3O9oJAlStSC"
      },
      "outputs": [],
      "source": [
        "for nombre_dela_llave, nombre_del_valor in nombre_del_diccionario.items(): \n",
        "    print(nombre_dela_llave)         # The key is stored in whatever you called the first variable.\n",
        "    print(nombre_del_valor)          # The value associated with that key is stored in your second variable."
      ]
    },
    {
      "cell_type": "markdown",
      "metadata": {
        "id": "-Im6_UyVStSC"
      },
      "source": [
        "<a name='exercises_what'></a>Ejercicios\n",
        "---\n",
        "#### Nombres de mascotas\n",
        "- Crear un diccionario para almacenar información de mascotas. Cada llave es el nombre de una masctoa, y cada valor la especie de mascota. \n",
        "    - Por ejemplo, 'Firulais':'Canario'\n",
        "- Pon por los menos 3 pares llave-valor en tu diccionario.    \n",
        "- Usar un loop para imprimir una serie de enunciados como \"Firulis es un perro\"\n",
        "\n",
        "#### Preguntas a amigos\n",
        "- Piensa en una pregunta que puedas hacerle a tus amigos. Crea un diccionario donde cada pregunta es el nombre de la persona, y cada valor es la respuesta de esa persona a tu pregunta. \n",
        "- Almacena al menos 3 respuestas en tu diccionario.\n",
        "- Usa un loop para imprimir una serie de enunciados listando cada nombre de tu amigo y su respuesta. "
      ]
    },
    {
      "cell_type": "code",
      "execution_count": null,
      "metadata": {
        "id": "0Z4gbBxtStSD"
      },
      "outputs": [],
      "source": [
        "# Ex 7.1 : Pet Names\n",
        "\n",
        "# put your code here"
      ]
    },
    {
      "cell_type": "code",
      "execution_count": null,
      "metadata": {
        "id": "gazsykLPStSD"
      },
      "outputs": [],
      "source": [
        "# Ex 7.2 : Polling Friends\n",
        "\n",
        "# put your code here"
      ]
    },
    {
      "cell_type": "markdown",
      "metadata": {
        "id": "LmLujgXOStSD"
      },
      "source": [
        "[top](#top)"
      ]
    },
    {
      "cell_type": "markdown",
      "metadata": {
        "id": "unAKCWbHStSE"
      },
      "source": [
        "<a name='common_operations'></a>Operaciones comunes con diccionarios\n",
        "===\n",
        "Hay unas cuants cosas que necesitas saber sobre diccionarios. Esto inclye agregar nuevos pares llave-valor, modificar información del diccionario, y eliminar elementos del diccionario."
      ]
    },
    {
      "cell_type": "markdown",
      "metadata": {
        "id": "lZNcSewQStSE"
      },
      "source": [
        "<a name='adding_pairs'></a>Agregando nuevos pares llave-valor\n",
        "---\n",
        "Para agregar un nuevo par llave-valor, usas el nombre del diccionario seguido de una nueva llave en corchetes cuadrados, y el nuevo valor. Iniciaremos creando un nuevo diccionario vacio, y recrearemos el diccionario anterior."
      ]
    },
    {
      "cell_type": "code",
      "execution_count": null,
      "metadata": {
        "id": "d2dV0DBhStSE"
      },
      "outputs": [],
      "source": [
        "# Create an empty dictionary.\n",
        "palabras_python = {}\n",
        "\n",
        "# Fill the dictionary, pair by pair.\n",
        "palabras_python['lista'] = 'Una colección de valores  no relacionados, pero en un orden.'\n",
        "palabras_python['diccionario'] = 'Una colección de pares llave-valor.'\n",
        "palabras_python['funcion'] = 'Un código con un nombre que define un conjunto de instrucciones'\n",
        "\n",
        "# Print out the items in the dictionary.\n",
        "\n",
        "for palabra, significado in palabras_python.items():\n",
        "  print(f'\\nPalabra: {palabra}')\n",
        "  print(f'Significado: {significado}')"
      ]
    },
    {
      "cell_type": "markdown",
      "metadata": {
        "id": "qNuqQgpnStSF"
      },
      "source": [
        "[top](#top)"
      ]
    },
    {
      "cell_type": "markdown",
      "metadata": {
        "id": "x7lv7zAfStSF"
      },
      "source": [
        "<a name='modifying_values'></a>Modificando valores en un diccionario\n",
        "---\n",
        "Seguramente en algún momento querras modificar alguno de los valores de tu diccionarios. Modificar el valor de un diccioario, es muy semilar a modificar un elemento en una lista. Al nombre del diccionario ke agregas el nombre de la llave entre corchetes, luego el valor nuevo. "
      ]
    },
    {
      "cell_type": "code",
      "execution_count": 12,
      "metadata": {
        "id": "lJHIfBbpStSG",
        "outputId": "3aaa466b-c201-4d6a-f567-f75a1455acdf",
        "colab": {
          "base_uri": "https://localhost:8080/"
        }
      },
      "outputs": [
        {
          "output_type": "stream",
          "name": "stdout",
          "text": [
            "diccionario: Una colección de pares llave-valor.\n",
            "diccionario: Una colección de pares llave-valor. Cada llave es usada para accesar su valor correspondiente\n"
          ]
        }
      ],
      "source": [
        "palabras_python = {'lista': 'Una colección de valores  no relacionados, pero en un orden.',\n",
        "                   'diccionario': 'Una colección de pares llave-valor.',\n",
        "                   'funcion': 'Un código con un nombre que define un conjunto de instrucciones.'\n",
        "                  }\n",
        "\n",
        "\n",
        "print(f\"diccionario: {palabras_python['diccionario']}\")\n",
        "    \n",
        "# Clarify one of the meanings.\n",
        "palabras_python['diccionario'] = 'Una colección de pares llave-valor. \\\n",
        "Cada llave es usada para accesar su valor correspondiente'\n",
        "\n",
        "\n",
        "print(f\"diccionario: {palabras_python['diccionario']}\")"
      ]
    },
    {
      "cell_type": "markdown",
      "metadata": {
        "id": "PqtEAJvIStSG"
      },
      "source": [
        "[top](#top)"
      ]
    },
    {
      "cell_type": "markdown",
      "metadata": {
        "id": "-VIIFJyjStSH"
      },
      "source": [
        "<a name='removing_pairs'></a>Remover pares llave-valor\n",
        "---\n",
        "\n",
        "Podrías querer remover algún par de llave-valor de uno de tus diccionarios en un punto. Puedes usar el mismo comando `del` que aprendiste a usar con las listas. Para remover una llave-valor, usas el comando `del` seguido del nombre del diccionario, con la llave que quieres remover. Esto remueve la llave y el valor correspondiente. "
      ]
    },
    {
      "cell_type": "code",
      "execution_count": 14,
      "metadata": {
        "id": "DeixOJPZStSH",
        "outputId": "3f56b552-21d2-41ef-bcdf-d8040ebd0aa3",
        "colab": {
          "base_uri": "https://localhost:8080/"
        }
      },
      "outputs": [
        {
          "output_type": "stream",
          "name": "stdout",
          "text": [
            "\n",
            "\n",
            "Estas son las palabras de python que conozco:\n",
            "\n",
            "Palabra: diccionario\n",
            "Significado: Una colección de pares llave-valor.\n",
            "\n",
            "Palabra: funcion\n",
            "Significado: Un código con un nombre que define un conjunto de instrucciones.\n"
          ]
        }
      ],
      "source": [
        "palabras_python = {'lista': 'Una colección de valores  no relacionados, pero en un orden.',\n",
        "                   'diccionario': 'Una colección de pares llave-valor.',\n",
        "                   'funcion': 'Un código con un nombre que define un conjunto de instrucciones.'\n",
        "                  }\n",
        "\n",
        "    \n",
        "# Remove the word 'list' and its meaning.\n",
        "del palabras_python['lista'] \n",
        "\n",
        "\n",
        "# Show the current set of words and meanings.\n",
        "print(\"\\n\\nEstas son las palabras de python que conozco:\")\n",
        "for word, meaning in palabras_python.items():\n",
        "    print(\"\\nPalabra: %s\" % word)\n",
        "    print(\"Significado: %s\" % meaning)"
      ]
    },
    {
      "cell_type": "markdown",
      "metadata": {
        "id": "RtHw29nkStSI"
      },
      "source": [
        "###Una mirada a las funciones\n",
        "\n",
        "Cuando vas a usar un código muchas veces, en lugar de estarlo copiando, lo colocamos dentro de una función, y la mandamos llamar cada que se necesita, es como si fuera un minicódigo, que mandamos llamar dentro de nuestro código.   \n"
      ]
    },
    {
      "cell_type": "code",
      "source": [
        "def muestra_palabras(python_words):\n",
        "    # Este es un ejemplo de una función\n",
        "    # Toma como input un diccioario, y luego imprime su contenido\n",
        "    print(\"\\n\\nEstas son las palabras de python que conozco:\")\n",
        "    for word, meaning in palabras_python.items():\n",
        "        print(\"\\nPalabra: %s\" % word)\n",
        "        print(\"Significado: %s\" % meaning)"
      ],
      "metadata": {
        "id": "w5SYcjGHFNkc"
      },
      "execution_count": null,
      "outputs": []
    },
    {
      "cell_type": "code",
      "execution_count": 15,
      "metadata": {
        "id": "z6QfEDENStSI",
        "outputId": "683df070-3786-4418-a37c-979af0ebe35c",
        "colab": {
          "base_uri": "https://localhost:8080/"
        }
      },
      "outputs": [
        {
          "output_type": "stream",
          "name": "stdout",
          "text": [
            "\n",
            "\n",
            "Estas son las palabras de python que conozco:\n",
            "\n",
            "Palabra: lista\n",
            "Significado: Una colección de valores  no relacionados, pero en un orden.\n",
            "\n",
            "Palabra: diccionario\n",
            "Significado: Una colección de pares llave-valor.\n",
            "\n",
            "Palabra: funcion\n",
            "Significado: Un código con un nombre que define un conjunto de instrucciones.\n",
            "\n",
            "\n",
            "Estas son las palabras de python que conozco:\n",
            "\n",
            "Palabra: diccionario\n",
            "Significado: Una colección de pares llave-valor.\n",
            "\n",
            "Palabra: funcion\n",
            "Significado: Un código con un nombre que define un conjunto de instrucciones.\n"
          ]
        }
      ],
      "source": [
        "palabras_python = {'lista': 'Una colección de valores  no relacionados, pero en un orden.',\n",
        "                   'diccionario': 'Una colección de pares llave-valor.',\n",
        "                   'funcion': 'Un código con un nombre que define un conjunto de instrucciones.'\n",
        "                  }\n",
        "\n",
        "muestra_palabras(palabras_python)\n",
        "    \n",
        "# Remove the word 'list' and its meaning.\n",
        "del palabras_python['lista'] \n",
        "\n",
        "muestra_palabras(palabras_python)"
      ]
    },
    {
      "cell_type": "markdown",
      "metadata": {
        "id": "vfE5p1i-StSI"
      },
      "source": [
        "Si modificamos nuestra función, se modifica el resultado de cada sección del código donde se utilice esa función:\n",
        "\n"
      ]
    },
    {
      "cell_type": "code",
      "execution_count": 17,
      "metadata": {
        "id": "ip_XH-kcStSI"
      },
      "outputs": [],
      "source": [
        "def muestra_palabras(python_words):\n",
        "    # Este es un ejemplo de una función\n",
        "    # Toma como input un diccioario, y luego imprime su contenido\n",
        "    print(\"\\n\\nEstas son las palabras de python que conozco:\")\n",
        "    for palabra, significado in palabras_python.items():\n",
        "        print(f'{palabra}: {significado}')\n",
        "        "
      ]
    },
    {
      "cell_type": "code",
      "source": [
        "palabras_python = {'lista': 'Una colección de valores  no relacionados, pero en un orden.',\n",
        "                   'diccionario': 'Una colección de pares llave-valor.',\n",
        "                   'funcion': 'Un código con un nombre que define un conjunto de instrucciones.'\n",
        "                  }\n",
        "\n",
        "muestra_palabras(palabras_python)\n",
        "    \n",
        "# Remove the word 'list' and its meaning.\n",
        "del palabras_python['lista'] \n",
        "\n",
        "muestra_palabras(palabras_python)"
      ],
      "metadata": {
        "colab": {
          "base_uri": "https://localhost:8080/"
        },
        "id": "Je-xcR1iFtGR",
        "outputId": "d3733e83-f433-40a1-b652-7561e83e83cd"
      },
      "execution_count": 18,
      "outputs": [
        {
          "output_type": "stream",
          "name": "stdout",
          "text": [
            "\n",
            "\n",
            "Estas son las palabras de python que conozco:\n",
            "lista: Una colección de valores  no relacionados, pero en un orden.\n",
            "diccionario: Una colección de pares llave-valor.\n",
            "funcion: Un código con un nombre que define un conjunto de instrucciones.\n",
            "\n",
            "\n",
            "Estas son las palabras de python que conozco:\n",
            "diccionario: Una colección de pares llave-valor.\n",
            "funcion: Un código con un nombre que define un conjunto de instrucciones.\n"
          ]
        }
      ]
    },
    {
      "cell_type": "markdown",
      "metadata": {
        "id": "teVjbKbsStSJ"
      },
      "source": [
        "El código de arriba es mas elegante y profesional."
      ]
    },
    {
      "cell_type": "markdown",
      "metadata": {
        "id": "o0ylEjunStSJ"
      },
      "source": [
        "<a name='modifying_keys'></a>Modificando llaves en un diccionario\n",
        "---\n",
        "Moficar el valor de un diccionario es rápido. Modificar una llave en un diccioario requiere dos pasos extra. \n",
        "- Crear una nueva llave, copiar el valor viejo en la nueva llave. \n",
        "- Borrar la nueva llave, que también borra su antiguo valor. "
      ]
    },
    {
      "cell_type": "markdown",
      "metadata": {
        "id": "-TaNPRZ-StSJ"
      },
      "source": [
        "Veamos como se hace:"
      ]
    },
    {
      "cell_type": "code",
      "execution_count": 21,
      "metadata": {
        "id": "2u6CTn_BStSJ",
        "outputId": "2ce2e800-6128-4b2e-b1a5-b5ed790302aa",
        "colab": {
          "base_uri": "https://localhost:8080/"
        }
      },
      "outputs": [
        {
          "output_type": "stream",
          "name": "stdout",
          "text": [
            "{'lista': 'Una colección de valores  no relacionados, pero en un orden.'}\n"
          ]
        }
      ],
      "source": [
        "# Declaramos un diccionario, pero escribimos mal la palabra lista\n",
        "palabras_python = {'lissta': 'Una colección de valores  no relacionados, pero en un orden.'}\n",
        "\n",
        "# Creamos una nueva llave, la hacemos igual a la anterior\n",
        "palabras_python['lista'] = palabras_python['lissta']\n",
        "# Borramos la anterior\n",
        "del palabras_python['lissta']\n",
        "\n",
        "# Imprimimos para comprobar que se realizo la corrección\n",
        "print(palabras_python)"
      ]
    },
    {
      "cell_type": "markdown",
      "metadata": {
        "id": "lyn5N7w0StSK"
      },
      "source": [
        "[top](#top)"
      ]
    },
    {
      "cell_type": "markdown",
      "metadata": {
        "id": "6x6htC4pStSL"
      },
      "source": [
        "<a name='exercises_common_operations'></a>Ejercicios\n",
        "---\n",
        "#### Nombres de mascotas 2\n",
        "- Haz una copia del programa que hiciste de nombres de mascotas. [Nombres de Mascotas](#exercises_what).\n",
        "    - Usa un loop for para imprimir una serie de enunciados como \"Firulais es un perro\". \n",
        "    - Modifica uno de los valores en el diccionario. Modificando por ejemplo la especie de animal de gato a perro.  \n",
        "        - Usa un loop for para imprimir una serie de enunciados como \"Firulais es un perro\". \n",
        "    - Agrega un nuevo par llav-valor al diccionario.\n",
        "        - Usa un loop for para imprimir una serie de enunciados como \"Firulais es un perro\".\n",
        "    - Remueve alguno de los pares llave-valor del diccionario.\n",
        "        - Usa un loop for para imprimir una serie de enunciados como \"Firulais es un perro\".\n",
        "- Bonus: Usa una función `def` para hacer mas compacto el código anterior. \n",
        "\n",
        "#### Ejercicio\n",
        "- Haz un diccionario donde las llaves sean los nombres de ejercicios de crossfit, y los valores sean el número de veces que hiciste ese ejercicio. \n",
        "    - Usa un loop for para imprimir una serie de enunciados como \"Hice 10 lagartijas\"\n",
        "    - Mofidifica uno de los valores en tu diccionario, que aparezca que hiciste mas de un ejercicio. \n",
        "        - Usa un loop for para imprimir una serie de enunciados como \"Hice 10 lagartijas\"\n",
        "    - Agrega un nuevo par llave-valor al diccionario.\n",
        "        - Usa un loop for para imprimir una serie de enunciados como \"Hice 10 lagartijas\"\n",
        "    - Remueve alguno de los pares llave-valor del diccionario.\n",
        "        - Usa un loop for para imprimir una serie de enunciados como \"Hice 10 lagartijas\"\n",
        "- Bonus: Usa una función `def` para hacer mas compacto el código anterior. "
      ]
    },
    {
      "cell_type": "code",
      "execution_count": null,
      "metadata": {
        "id": "fYiS5EVXStSM"
      },
      "outputs": [],
      "source": [
        "# Ex 7.3 : Pet Names 2\n",
        "\n",
        "# put your code here"
      ]
    },
    {
      "cell_type": "code",
      "execution_count": null,
      "metadata": {
        "id": "jRsKqIQ0StSM"
      },
      "outputs": [],
      "source": [
        "# Ex 7.4 : Weight Lifting\n",
        "\n",
        "# put your code here"
      ]
    },
    {
      "cell_type": "markdown",
      "metadata": {
        "id": "M2I2bwqoStSN"
      },
      "source": [
        "[top](#top)"
      ]
    },
    {
      "cell_type": "markdown",
      "metadata": {
        "id": "a_YU1P0bStSN"
      },
      "source": [
        "<a name='looping'></a>Iterando a tráves de un diccionario\n",
        "==="
      ]
    },
    {
      "cell_type": "markdown",
      "metadata": {
        "id": "CxK03DGGStSN"
      },
      "source": [
        "A veces se requiere iterar sobre todo el diccionario, hay varias formas de hacer eso:\n",
        "- Puedes iterar a tráves de todos los pares llave-valor\n",
        "- Puedes iterar a tráves de todas las llaves, yluego sacar los valores de las llaves que te interesen\n",
        "- Puedes iterar por los valores"
      ]
    },
    {
      "cell_type": "markdown",
      "metadata": {
        "id": "Gu9GNpLzStSN"
      },
      "source": [
        "<a name='loop_all_keys_values'></a>Iterar a tráves de todos los pares llave-valor\n",
        "---\n",
        "Este es el tipo de loop mostrado en el primer ejemplo. Su formato general es:"
      ]
    },
    {
      "cell_type": "code",
      "execution_count": null,
      "metadata": {
        "id": "-sOKqIRSStSO"
      },
      "outputs": [],
      "source": [
        "mi_diccionario = {'llave_1': 'valor_1',\n",
        "    'llave_2': 'valor_2',\n",
        "    'llave_3': 'valor_3',\n",
        "    }\n",
        "\n",
        "for llave, valor in mi_diccionario.items():\n",
        "    print(f'\\nLlave: {llave}')\n",
        "    print(f'Valor: {valor}')"
      ]
    },
    {
      "cell_type": "markdown",
      "metadata": {
        "id": "EF3WIX1SStSO"
      },
      "source": [
        "Esto funciona porque el método `.items()` obtiene todos los valores llave-valor del diccionario en una lista de tuplas:"
      ]
    },
    {
      "cell_type": "code",
      "execution_count": null,
      "metadata": {
        "id": "2gUoQo2iStSO"
      },
      "outputs": [],
      "source": [
        "mi_diccionario = {'llave_1': 'valor_1',\n",
        "    'llave_2': 'valor_2',\n",
        "    'llave_3': 'valor_3',\n",
        "    }\n",
        "\n",
        "print(mi_diccionario.items())"
      ]
    },
    {
      "cell_type": "markdown",
      "metadata": {
        "id": "k8fTdEHCStSP"
      },
      "source": [
        "La sintáxis `for llave, valor in mi_diccionario.items():` hace el trabajo de iterar por la lista de tuplas, y obtener el primer y segudo elemento de cada tupla para nostros. \n",
        "\n",
        "Los nombres de variable fueron elegidos para que el código sea fácil de leer por el usuario."
      ]
    },
    {
      "cell_type": "markdown",
      "metadata": {
        "id": "K7zdWW4VStSP"
      },
      "source": [
        "[top](#top)"
      ]
    },
    {
      "cell_type": "markdown",
      "metadata": {
        "id": "NS1fqQXPStSP"
      },
      "source": [
        "<a name='loop_all_keys'></a>Iterando todas las llaves en un diccionario\n",
        "---\n",
        "Python proporciona una sintáxis clara para iterar solo las llaves de un diccionario:\n"
      ]
    },
    {
      "cell_type": "code",
      "execution_count": 25,
      "metadata": {
        "id": "H0oKQM9vStSQ",
        "outputId": "bbec8928-8228-4d9d-fa95-4758865ef901",
        "colab": {
          "base_uri": "https://localhost:8080/"
        }
      },
      "outputs": [
        {
          "output_type": "stream",
          "name": "stdout",
          "text": [
            "Llave: llave_1\n",
            "Llave: llave_2\n",
            "Llave: llave_3\n"
          ]
        }
      ],
      "source": [
        "mi_diccionario = {'llave_1': 'valor_1',\n",
        "    'llave_2': 'valor_2',\n",
        "    'llave_3': 'valor_3',\n",
        "    }\n",
        "\n",
        "for llave in mi_diccionario.keys():\n",
        "    print(f'Llave: {llave}')"
      ]
    },
    {
      "cell_type": "markdown",
      "metadata": {
        "id": "smOtKMGOStSQ"
      },
      "source": [
        "El comportamiento por omisión de iterar un diccionario es ese, así si omitimos el `.keys()`, funcionará igual:\n"
      ]
    },
    {
      "cell_type": "code",
      "execution_count": null,
      "metadata": {
        "id": "cJkmw6E1StSQ",
        "outputId": "858f19e0-53e8-4b2c-fe11-7c1b3517475f"
      },
      "outputs": [
        {
          "name": "stdout",
          "output_type": "stream",
          "text": [
            "Key: key_1\n",
            "Key: key_3\n",
            "Key: key_2\n"
          ]
        }
      ],
      "source": [
        "mi_diccionario = {'llave_1': 'valor_1',\n",
        "    'llave_2': 'valor_2',\n",
        "    'llave_3': 'valor_3',\n",
        "    }\n",
        "\n",
        "for llave in mi_diccionario:\n",
        "    print(f'Llave: {llave}')"
      ]
    },
    {
      "cell_type": "markdown",
      "metadata": {
        "id": "OvfbvHbYStSQ"
      },
      "source": [
        "La unica ventaja de usar `.keys()` en el código es un poco de claridad. Pero quien sea que conozca Python suficientemente bien, reconocerá lo que hace la segunda versión. \n",
        "\n",
        "Puedes obtener elvalor de cualquier llave que estes interesado dentro del loop usando la notación regular para accesar un valor de una llave del diccionario:"
      ]
    },
    {
      "cell_type": "code",
      "execution_count": null,
      "metadata": {
        "id": "4MRbpW_gStSR"
      },
      "outputs": [],
      "source": [
        "mi_diccionario = {'llave_1': 'valor_1',\n",
        "    'llave_2': 'valor_2',\n",
        "    'llave_3': 'valor_3',\n",
        "    }\n",
        "\n",
        "for llave in mi_diccionario:\n",
        "    print(f'Llave: {llave}')\n",
        "    if llave == 'llave_2':\n",
        "      print(f'El valor de llave_2 es {mi_diccionario[llave]}')"
      ]
    },
    {
      "cell_type": "markdown",
      "metadata": {
        "id": "Kf1748_SStSR"
      },
      "source": [
        "Ahora mostremos como podríamos usar esto en el programa de palabras de Python. Este tipo de loop proporciona una manera direcat demos trar solo las palabras del diccionario, sin los valores:"
      ]
    },
    {
      "cell_type": "code",
      "execution_count": null,
      "metadata": {
        "id": "e71shq3sStSR"
      },
      "outputs": [],
      "source": [
        "palabras_python = {'lista': 'Una colección de valores  no relacionados, pero en un orden.',\n",
        "                   'diccionario': 'Una colección de pares llave-valor.',\n",
        "                   'funcion': 'Un código con un nombre que define un conjunto de instrucciones.'\n",
        "                  }\n",
        "\n",
        "print('Las siguientes palabras han sido definidas:')\n",
        "for palabra in palabras_python:\n",
        "    print(f'- {palabra}')\n"
      ]
    },
    {
      "cell_type": "markdown",
      "metadata": {
        "id": "dZKTt2GIStSR"
      },
      "source": [
        "Vamos a agregar un poco más de código para hacer un programa que represente un glosario. El usuario puede preguntar por una palabra, para saber cual es su significado:\n"
      ]
    },
    {
      "cell_type": "code",
      "execution_count": null,
      "metadata": {
        "collapsed": true,
        "id": "oduNKN88StSR"
      },
      "outputs": [],
      "source": [
        "palabras_python = {'lista': 'Una colección de valores  no relacionados, pero en un orden.',\n",
        "                   'diccionario': 'Una colección de pares llave-valor.',\n",
        "                   'funcion': 'Un código con un nombre que define un conjunto de instrucciones.',\n",
        "                   'for loop': 'Una secuencia de código que se repite un número determinado de veces.'\n",
        "                  }\n",
        "\n",
        "print('Las siguientes palabras han sido definidas:')\n",
        "for palabra in palabras_python:\n",
        "    print(f'- {palabra}')\n",
        "    \n",
        "# Allow the user to choose a word, and then display the meaning for that word.\n",
        "palabra_solicitada = input('\\nDe cual palabra deseas saber su significado')\n",
        "print(f' {palabra_solicitada}: {palabras_python[palabra_solicitada]}')"
      ]
    },
    {
      "cell_type": "markdown",
      "metadata": {
        "id": "3fExwd3LStSS"
      },
      "source": [
        "Esto permite al usuario seleccionar una palabra que ha sido definida. Si ponemos la sección de input en un loop while, el usuario puede ver tantas definiciones desee:\n",
        "\n"
      ]
    },
    {
      "cell_type": "code",
      "execution_count": null,
      "metadata": {
        "id": "MaXL6smkStSS"
      },
      "outputs": [],
      "source": [
        "palabras_python = {'lista': 'Una colección de valores  no relacionados, pero en un orden.',\n",
        "                   'diccionario': 'Una colección de pares llave-valor.',\n",
        "                   'funcion': 'Un código con un nombre que define un conjunto de instrucciones.',\n",
        "                   'for loop': 'Una secuencia de código que se repite un número determinado de veces.'\n",
        "                  }\n",
        "\n",
        "print('Las siguientes palabras han sido definidas:')\n",
        "for palabra in palabras_python:\n",
        "    print(f'- {palabra}')\n",
        "\n",
        "palabra_solicitada = ''\n",
        "\n",
        "while palabra_solicitada != 'quitar':\n",
        "  palabra_solicitada = input(\"\\nDe cual palabra deseas saber su significado (o 'quitar')\")\n",
        "  if palabra_solicitada in palabras_python.keys():\n",
        "    print(f' {palabra_solicitada}: {palabras_python[palabra_solicitada]}')\n",
        "  elif palabra_solicitada == 'quitar':\n",
        "    print('\\n Adios')\n",
        "  else:  \n",
        "    print('\\n Lo siento, no conozco esa palabra')"
      ]
    },
    {
      "cell_type": "markdown",
      "metadata": {
        "id": "8dASm07nStSS"
      },
      "source": [
        "[top](#top)"
      ]
    },
    {
      "cell_type": "markdown",
      "metadata": {
        "id": "XotZy_MPStST"
      },
      "source": [
        "<a name='loop_all_values'></a>Iterando todos los valores de un diccionario.\n",
        "---\n",
        "Python proporciona una sintáxis simple para iterar por todos los valores en un diccionario: "
      ]
    },
    {
      "cell_type": "code",
      "execution_count": 1,
      "metadata": {
        "id": "i8brgnlyStST",
        "outputId": "c273a902-8072-4bcd-fe5b-16fe9bb6b262",
        "colab": {
          "base_uri": "https://localhost:8080/"
        }
      },
      "outputs": [
        {
          "output_type": "stream",
          "name": "stdout",
          "text": [
            "Llave: valor_1\n",
            "Llave: valor_2\n",
            "Llave: valor_3\n"
          ]
        }
      ],
      "source": [
        "mi_diccionario = {'llave_1': 'valor_1',\n",
        "    'llave_2': 'valor_2',\n",
        "    'llave_3': 'valor_3',\n",
        "    }\n",
        "\n",
        "for valor in mi_diccionario.values():\n",
        "    print(f'Llave: {valor}')"
      ]
    },
    {
      "cell_type": "markdown",
      "metadata": {
        "id": "T7mf-7P3StST"
      },
      "source": [
        "Podemos usar esta sintáxis de loop parajugar con un diccionario de ejemplo, haciendo un programa que haga pregutnas. El programa mostrará una definición y preguntará al usuario la palabra correspondiente. \n",
        "\n",
        "Primero hagamos el código que muestra todas las definiciones en el diccionario:"
      ]
    },
    {
      "cell_type": "code",
      "execution_count": 2,
      "metadata": {
        "id": "76P7EeGjStST",
        "outputId": "aeeaa7a0-48d9-4f95-9587-557997e40464",
        "colab": {
          "base_uri": "https://localhost:8080/"
        }
      },
      "outputs": [
        {
          "output_type": "stream",
          "name": "stdout",
          "text": [
            "Significado: Una colección de valores  no relacionados, pero en un orden.\n",
            "Significado: Una colección de pares llave-valor.\n",
            "Significado: Un código con un nombre que define un conjunto de instrucciones.\n",
            "Significado: Una secuencia de código que se repite un número determinado de veces.\n"
          ]
        }
      ],
      "source": [
        "palabras_python = {'lista': 'Una colección de valores  no relacionados, pero en un orden.',\n",
        "                   'diccionario': 'Una colección de pares llave-valor.',\n",
        "                   'funcion': 'Un código con un nombre que define un conjunto de instrucciones.',\n",
        "                   'for loop': 'Una secuencia de código que se repite un número determinado de veces.'\n",
        "                  }\n",
        "\n",
        "for significado in palabras_python.values():\n",
        "    print(\"Significado: %s\" % significado) "
      ]
    },
    {
      "cell_type": "markdown",
      "metadata": {
        "id": "gOUsxmLMStST"
      },
      "source": [
        "Ahora agregamos una línea de entrada de datos, para preguntar la palabra:"
      ]
    },
    {
      "cell_type": "code",
      "execution_count": null,
      "metadata": {
        "id": "EmBRkY3pStSU"
      },
      "outputs": [],
      "source": [
        "palabras_python = {'lista': 'Una colección de valores  no relacionados, pero en un orden.',\n",
        "                   'diccionario': 'Una colección de pares llave-valor.',\n",
        "                   'funcion': 'Un código con un nombre que define un conjunto de instrucciones.',\n",
        "                   'for loop': 'Una secuencia de código que se repite un número determinado de veces.'\n",
        "                  }\n",
        "\n",
        "for significado in palabras_python.values():\n",
        "    print(\"\\nSignificado: %s\" % significado)\n",
        "    guess = input(\"A que palabra corresponde la definición anterior? \")\n",
        "    \n",
        "    # The guess is correct if the guessed word's meaning matches the current meaning.\n",
        "    if palabras_python[guess] == significado:\n",
        "        print(\"Correcto!\")\n",
        "    else:\n",
        "        print(\"Lo siento, respuesta incorrecta\")\n"
      ]
    },
    {
      "cell_type": "markdown",
      "source": [
        "Para que tome en cuenta cuando se teclea mal una palabra usamos la estructura `try: -  except:`"
      ],
      "metadata": {
        "id": "jBIy60YzeZbE"
      }
    },
    {
      "cell_type": "code",
      "source": [
        "palabras_python = {'lista': 'Una colección de valores  no relacionados, pero en un orden.',\n",
        "                   'diccionario': 'Una colección de pares llave-valor.',\n",
        "                   'funcion': 'Un código con un nombre que define un conjunto de instrucciones.',\n",
        "                   'for loop': 'Una secuencia de código que se repite un número determinado de veces.'\n",
        "                  }\n",
        "\n",
        "for significado in palabras_python.values():\n",
        "    print(\"\\nSignificado: %s\" % significado)\n",
        "    guess = input(\"A que palabra corresponde la definición anterior? \")\n",
        "    \n",
        "    # The guess is correct if the guessed word's meaning matches the current meaning.\n",
        "    try:\n",
        "        if palabras_python[guess] == significado:\n",
        "          print(\"Correcto!\")\n",
        "        else:\n",
        "          print(\"Lo siento, respuesta incorrecta\")  \n",
        "    except KeyError:\n",
        "        print(\"Lo siento, respuesta incorrecta\")\n"
      ],
      "metadata": {
        "colab": {
          "base_uri": "https://localhost:8080/"
        },
        "id": "5kxWv-Hvaxt5",
        "outputId": "e92e3288-52b2-4102-e592-555a85f72d6c"
      },
      "execution_count": 12,
      "outputs": [
        {
          "output_type": "stream",
          "name": "stdout",
          "text": [
            "\n",
            "Significado: Una colección de valores  no relacionados, pero en un orden.\n",
            "A que palabra corresponde la definición anterior? df\n",
            "Lo siento, respuesta incorrecta\n",
            "\n",
            "Significado: Una colección de pares llave-valor.\n",
            "A que palabra corresponde la definición anterior? diccionario\n",
            "Correcto!\n",
            "\n",
            "Significado: Un código con un nombre que define un conjunto de instrucciones.\n",
            "A que palabra corresponde la definición anterior? diccionario\n",
            "Lo siento, respuesta incorrecta\n",
            "\n",
            "Significado: Una secuencia de código que se repite un número determinado de veces.\n",
            "A que palabra corresponde la definición anterior? d\n",
            "Lo siento, respuesta incorrecta\n"
          ]
        }
      ]
    },
    {
      "cell_type": "markdown",
      "metadata": {
        "id": "ru5V6hMdStSW"
      },
      "source": [
        "[top](#top)"
      ]
    },
    {
      "cell_type": "markdown",
      "metadata": {
        "id": "K5KVFTYcStSW"
      },
      "source": [
        "<a name=\"looping_in_order\"></a>Iterando un diccionario en orden\n",
        "===\n",
        "Los diccionarios son muy utiles porque permiten que la información se relacione. Uno de los problemas con los diccionarios es que no almacenan información en un orden en particular. Cuando extras información de un diccionario, no sabes en que orden saldrá. Hay una menera rápidoa y fácil de hacerlo en un orden si lo deseas.\n",
        "\n",
        "Miremos que pasa con el orden is hacemos *dictionary.keys()*: "
      ]
    },
    {
      "cell_type": "code",
      "execution_count": null,
      "metadata": {
        "id": "ZXkYDYBBStSW",
        "outputId": "8bc0dd1a-8366-45c1-949f-039fabe499d8"
      },
      "outputs": [
        {
          "name": "stdout",
          "output_type": "stream",
          "text": [
            "function\n",
            "list\n",
            "dictionary\n"
          ]
        }
      ],
      "source": [
        "palabras_python = {'Estética': 'Es la reflexión crítica del arte y la belleza.',\n",
        "                   'Ética': 'Estudia que constituye la buena y mala conducta, valores buenos y malos.',\n",
        "                   'Metafísica': 'Estudia la naturaleza, estructura, componentes y principios fundamentales de la realidad.',\n",
        "                   'Lógica': 'Estudia los principios de la demostración y la inferencia, falacias, paradojas y la noción de verdad.',\n",
        "                   'Gnoseología': 'Estudia la fenomenología del conocimiento.',\n",
        "                   \n",
        "                  }\n",
        "\n",
        "\n",
        "for word in python_words.keys():\n",
        "    print(word)"
      ]
    },
    {
      "cell_type": "markdown",
      "metadata": {
        "id": "jqC_390hStSW"
      },
      "source": [
        "The resulting list is not in order. The list of keys can be put in order by passing the list into the *sorted()* function, in the line that initiates the for loop:"
      ]
    },
    {
      "cell_type": "code",
      "execution_count": null,
      "metadata": {
        "id": "NLVYbOp3StSX",
        "outputId": "7f9f0007-2e81-458e-f838-d52fef33caec"
      },
      "outputs": [
        {
          "name": "stdout",
          "output_type": "stream",
          "text": [
            "dictionary\n",
            "function\n",
            "list\n"
          ]
        }
      ],
      "source": [
        "python_words = {'list': 'A collection of values that are not connected, but have an order.',\n",
        "                'dictionary': 'A collection of key-value pairs.',\n",
        "                'function': 'A named set of instructions that defines a set of actions in Python.',\n",
        "                }\n",
        "\n",
        "for word in sorted(python_words.keys()):\n",
        "    print(word)"
      ]
    },
    {
      "cell_type": "markdown",
      "metadata": {
        "id": "kXXxFfm4StSX"
      },
      "source": [
        "This approach can be used to work with the keys and values in order. For example, the words and meanings can be printed in alphabetical order by word:"
      ]
    },
    {
      "cell_type": "code",
      "execution_count": null,
      "metadata": {
        "id": "wyL46gc4StSX",
        "outputId": "6c439425-ad04-497d-e564-75296c526b68"
      },
      "outputs": [
        {
          "name": "stdout",
          "output_type": "stream",
          "text": [
            "Dictionary: A collection of key-value pairs.\n",
            "Function: A named set of instructions that defines a set of actions in Python.\n",
            "List: A collection of values that are not connected, but have an order.\n"
          ]
        }
      ],
      "source": [
        "python_words = {'list': 'A collection of values that are not connected, but have an order.',\n",
        "                'dictionary': 'A collection of key-value pairs.',\n",
        "                'function': 'A named set of instructions that defines a set of actions in Python.',\n",
        "                }\n",
        "\n",
        "for word in sorted(python_words.keys()):\n",
        "    print(\"%s: %s\" % (word.title(), python_words[word]))"
      ]
    },
    {
      "cell_type": "markdown",
      "metadata": {
        "id": "mgO6wDcAStSX"
      },
      "source": [
        "In this example, the keys have been put into alphabetical order in the for loop only; Python has not changed the way the dictionary is stored at all. So the next time the dictionary is accessed, the keys could be returned in any order. There is no way to permanently specify an order for the items in an ordinary dictionary, but if you want to do this you can use the [OrderedDict](http://docs.python.org/3.3/library/collections.html#ordereddict-objects) structure."
      ]
    },
    {
      "cell_type": "markdown",
      "metadata": {
        "id": "G-cFDeK8StSX"
      },
      "source": [
        "[top](#top)"
      ]
    },
    {
      "cell_type": "markdown",
      "metadata": {
        "id": "zYa3K_rUStSX"
      },
      "source": [
        "<a name='exercises_looping'></a>Exercises\n",
        "---\n",
        "#### <a name='exercise_mountain_heights'></a>Mountain Heights\n",
        "- Wikipedia has a list of the [tallest mountains in the world](http://en.wikipedia.org/wiki/List_of_mountains_by_elevation), with each mountain's elevation. Pick five mountains from this list.\n",
        "    - Create a dictionary with the mountain names as keys, and the elevations as values.\n",
        "    - Print out just the mountains' names, by looping through the keys of your dictionary.\n",
        "    - Print out just the mountains' elevations, by looping through the values of your dictionary.\n",
        "    - Print out a series of statements telling how tall each mountain is: \"Everest is 8848 meters tall.\"\n",
        "- Revise your output, if necessary.\n",
        "    - Make sure there is an introductory sentence describing the output for each loop you write.\n",
        "    - Make sure there is a blank line between each group of statements.\n",
        "\n",
        "#### Mountain Heights 2\n",
        "- Revise your final output from Mountain Heights, so that the information is listed in alphabetical order by each mountain's name.\n",
        "    - That is, print out a series of statements telling how tall each mountain is: \"Everest is 8848 meters tall.\"\n",
        "    - Make sure your output is in alphabetical order."
      ]
    },
    {
      "cell_type": "code",
      "execution_count": null,
      "metadata": {
        "id": "CZS82gm8StSY"
      },
      "outputs": [],
      "source": [
        "# Ex 7.5 : Mountain Heights\n",
        "\n",
        "# put your code here"
      ]
    },
    {
      "cell_type": "code",
      "execution_count": null,
      "metadata": {
        "id": "3oWvbDCcStSY"
      },
      "outputs": [],
      "source": [
        "# Ex 7.6 : Mountain Heights 2\n",
        "\n",
        "# put your code here"
      ]
    },
    {
      "cell_type": "markdown",
      "metadata": {
        "id": "FLNzVRgYStSY"
      },
      "source": [
        "[top](#top)"
      ]
    },
    {
      "cell_type": "markdown",
      "metadata": {
        "id": "JdE_IQtAStSY"
      },
      "source": [
        "<a name='nesting'></a>Nesting\n",
        "===\n",
        "Nesting is one of the most powerful concepts we have come to so far. Nesting involves putting a list or dictionary inside another list or dictionary. We will look at two examples here, lists inside of a dictionary and dictionaries inside of a dictionary. With nesting, the kind of information we can model in our programs is expanded greatly."
      ]
    },
    {
      "cell_type": "markdown",
      "metadata": {
        "id": "bXeEzJmfStSY"
      },
      "source": [
        "<a name='lists_in_dictionary'></a>Lists in a dictionary\n",
        "---\n",
        "A dictionary connects two pieces of information. Those two pieces of information can be any kind of data structure in Python. Let's keep using strings for our keys, but let's try giving a list as a value.\n",
        "\n",
        "The first example will involve storing a number of people's favorite numbers. The keys consist of people's names, and the values are lists of each person's favorite numbers. In this first example, we will access each person's list one at a time."
      ]
    },
    {
      "cell_type": "code",
      "execution_count": null,
      "metadata": {
        "id": "PjrGhCVkStSY",
        "outputId": "a8735959-adeb-4839-b197-c3ca38b932fe"
      },
      "outputs": [
        {
          "name": "stdout",
          "output_type": "stream",
          "text": [
            "Eric's favorite numbers are:\n",
            "[3, 11, 19, 23, 42]\n",
            "\n",
            "Ever's favorite numbers are:\n",
            "[2, 4, 5]\n",
            "\n",
            "Willie's favorite numbers are:\n",
            "[5, 35, 120]\n"
          ]
        }
      ],
      "source": [
        "# This program stores people's favorite numbers, and displays them.\n",
        "favorite_numbers = {'eric': [3, 11, 19, 23, 42],\n",
        "                    'ever': [2, 4, 5],\n",
        "                    'willie': [5, 35, 120],\n",
        "                    }\n",
        "\n",
        "# Display each person's favorite numbers.\n",
        "print(\"Eric's favorite numbers are:\")\n",
        "print(favorite_numbers['eric'])\n",
        "\n",
        "print(\"\\nEver's favorite numbers are:\")\n",
        "print(favorite_numbers['ever'])\n",
        "\n",
        "print(\"\\nWillie's favorite numbers are:\")\n",
        "print(favorite_numbers['willie'])"
      ]
    },
    {
      "cell_type": "markdown",
      "metadata": {
        "id": "TEPXY6U2StSZ"
      },
      "source": [
        "We are really just working our way through each key in the dictionary, so let's use a for loop to go through the keys in the dictionary:"
      ]
    },
    {
      "cell_type": "code",
      "execution_count": null,
      "metadata": {
        "id": "JB-OxFP-StSZ",
        "outputId": "bb9e517d-a411-447c-925c-bb930268aa2f"
      },
      "outputs": [
        {
          "data": {
            "text/plain": [
              "3"
            ]
          },
          "execution_count": 21,
          "metadata": {},
          "output_type": "execute_result"
        }
      ],
      "source": [
        "# Example for a Sparse Matrix Implementation\n",
        "\n",
        "sparse_matrix = {}\n",
        "sparse_matrix[0] = {1: 12.3, 23: 25.5}\n",
        "sparse_matrix[1] = {3: 12.0, 15: 25.5}\n",
        "\n",
        "sparse_matrix[1][15]\n",
        "\n",
        "full_matrix = [[1, 3, 4], \n",
        "               [2, 5, 3]]\n",
        "\n",
        "full_matrix[1][2]"
      ]
    },
    {
      "cell_type": "code",
      "execution_count": null,
      "metadata": {
        "id": "PQUMAB-3StSZ",
        "outputId": "fac7de2e-777a-4901-b420-0c470657cc2a"
      },
      "outputs": [
        {
          "name": "stdout",
          "output_type": "stream",
          "text": [
            "\n",
            "Willie's favorite numbers are:\n",
            "[5, 35, 120]\n",
            "\n",
            "Ever's favorite numbers are:\n",
            "[2, 4, 5]\n",
            "\n",
            "Eric's favorite numbers are:\n",
            "[3, 11, 19, 23, 42]\n"
          ]
        }
      ],
      "source": [
        "# This program stores people's favorite numbers, and displays them.\n",
        "favorite_numbers = {'eric': [3, 11, 19, 23, 42],\n",
        "                    'ever': [2, 4, 5],\n",
        "                    'willie': [5, 35, 120],\n",
        "                    }\n",
        "\n",
        "# Display each person's favorite numbers.\n",
        "for name in favorite_numbers:\n",
        "    print(\"\\n%s's favorite numbers are:\" % name.title())\n",
        "    print(favorite_numbers[name])      "
      ]
    },
    {
      "cell_type": "markdown",
      "metadata": {
        "id": "arSzKU_CStSZ"
      },
      "source": [
        "This structure is fairly complex, so don't worry if it takes a while for things to sink in. The dictionary itself probably makes sense; each person is connected to a list of their favorite numbers.\n",
        "\n",
        "This works, but we'd rather not print raw Python in our output. Let's use a for loop to print the favorite numbers individually, rather than in a Python list."
      ]
    },
    {
      "cell_type": "code",
      "execution_count": null,
      "metadata": {
        "id": "XsqELeUPStSa",
        "outputId": "38979c42-1d27-4895-988a-9d1768182337"
      },
      "outputs": [
        {
          "name": "stdout",
          "output_type": "stream",
          "text": [
            "\n",
            "Willie's favorite numbers are:\n",
            "5\n",
            "35\n",
            "120\n",
            "\n",
            "Ever's favorite numbers are:\n",
            "2\n",
            "4\n",
            "5\n",
            "\n",
            "Eric's favorite numbers are:\n",
            "3\n",
            "11\n",
            "19\n",
            "23\n",
            "42\n"
          ]
        }
      ],
      "source": [
        "# This program stores people's favorite numbers, and displays them.\n",
        "favorite_numbers = {'eric': [3, 11, 19, 23, 42],\n",
        "                    'ever': [2, 4, 5],\n",
        "                    'willie': [5, 35, 120],\n",
        "                    }\n",
        "\n",
        "# Display each person's favorite numbers.\n",
        "for name in favorite_numbers:\n",
        "    print(\"\\n%s's favorite numbers are:\" % name.title())\n",
        "    # Each value is itself a list, so we need another for loop\n",
        "    #  to work with the list.\n",
        "    for favorite_number in favorite_numbers[name]:\n",
        "        print(favorite_number)        "
      ]
    },
    {
      "cell_type": "markdown",
      "metadata": {
        "id": "K2THcTkCStSa"
      },
      "source": [
        "Things get a little more complicated inside the for loop. The value is a list of favorite numbers, so the for loop pulls each *favorite\\_number* out of the list one at a time. If it makes more sense to you, you are free to store the list in a new variable, and use that to define your for loop:\n"
      ]
    },
    {
      "cell_type": "code",
      "execution_count": null,
      "metadata": {
        "id": "qQcMWBUHStSa",
        "outputId": "227c7954-9799-4bda-c71b-ab4a0541027c"
      },
      "outputs": [
        {
          "name": "stdout",
          "output_type": "stream",
          "text": [
            "\n",
            "Willie's favorite numbers are:\n",
            "5\n",
            "35\n",
            "120\n",
            "\n",
            "Ever's favorite numbers are:\n",
            "2\n",
            "4\n",
            "5\n",
            "\n",
            "Eric's favorite numbers are:\n",
            "3\n",
            "11\n",
            "19\n",
            "23\n",
            "42\n"
          ]
        }
      ],
      "source": [
        "# This program stores people's favorite numbers, and displays them.\n",
        "favorite_numbers = {'eric': [3, 11, 19, 23, 42],\n",
        "                    'ever': [2, 4, 5],\n",
        "                    'willie': [5, 35, 120],\n",
        "                    }\n",
        "\n",
        "# Display each person's favorite numbers.\n",
        "for name in favorite_numbers:\n",
        "    print(\"\\n%s's favorite numbers are:\" % name.title())\n",
        "    \n",
        "    # Each value is itself a list, so let's put that list in a variable.\n",
        "    current_favorite_numbers = favorite_numbers[name]\n",
        "    for favorite_number in current_favorite_numbers:\n",
        "        print(favorite_number)        "
      ]
    },
    {
      "cell_type": "markdown",
      "metadata": {
        "id": "sM9BOfZyStSb"
      },
      "source": [
        "[top](#top)"
      ]
    },
    {
      "cell_type": "markdown",
      "metadata": {
        "id": "A6cunx-9StSb"
      },
      "source": [
        "<a name='dictionaries_in_dictionary'></a>Dictionaries in a dictionary\n",
        "---\n",
        "The most powerful nesting concept we will cover right now is nesting a dictionary inside of a dictionary.\n",
        "\n",
        "To demonstrate this, let's make a dictionary of pets, with some information about each pet. The keys for this dictionary will consist of the pet's name. The values will include information such as the kind of animal, the owner, and whether the pet has been vaccinated."
      ]
    },
    {
      "cell_type": "code",
      "execution_count": null,
      "metadata": {
        "id": "oNYGTHTcStSb",
        "outputId": "bd96ffc9-48e0-4f01-9a45-e684cd5ec927"
      },
      "outputs": [
        {
          "name": "stdout",
          "output_type": "stream",
          "text": [
            "Here is what I know about Willie:\n",
            "kind: dog\n",
            "owner: eric\n",
            "vaccinated: True\n",
            "\n",
            "Here is what I know about Walter:\n",
            "kind: cockroach\n",
            "owner: eric\n",
            "vaccinated: False\n",
            "\n",
            "Here is what I know about Peso:\n",
            "kind: dog\n",
            "owner: chloe\n",
            "vaccinated: True\n"
          ]
        }
      ],
      "source": [
        "# This program stores information about pets. For each pet,\n",
        "#   we store the kind of animal, the owner's name, and\n",
        "#   the breed.\n",
        "pets = {'willie': {'kind': 'dog', 'owner': 'eric', 'vaccinated': True},\n",
        "        'walter': {'kind': 'cockroach', 'owner': 'eric', 'vaccinated': False},\n",
        "        'peso': {'kind': 'dog', 'owner': 'chloe', 'vaccinated': True},\n",
        "        }\n",
        "\n",
        "# Let's show all the information for each pet.\n",
        "print(\"Here is what I know about Willie:\")\n",
        "print(\"kind: \" + pets['willie']['kind'])\n",
        "print(\"owner: \" + pets['willie']['owner'])\n",
        "print(\"vaccinated: \" + str(pets['willie']['vaccinated']))\n",
        "\n",
        "print(\"\\nHere is what I know about Walter:\")\n",
        "print(\"kind: \" + pets['walter']['kind'])\n",
        "print(\"owner: \" + pets['walter']['owner'])\n",
        "print(\"vaccinated: \" + str(pets['walter']['vaccinated']))\n",
        "\n",
        "print(\"\\nHere is what I know about Peso:\")\n",
        "print(\"kind: \" + pets['peso']['kind'])\n",
        "print(\"owner: \" + pets['peso']['owner'])\n",
        "print(\"vaccinated: \" + str(pets['peso']['vaccinated']))"
      ]
    },
    {
      "cell_type": "markdown",
      "metadata": {
        "id": "wt1S-1-EStSc"
      },
      "source": [
        "Clearly this is some repetitive code, but it shows exactly how we access information in a nested dictionary. In the first set of `print` statements, we use the name 'willie' to unlock the 'kind' of animal he is, the 'owner' he has, and whether or not he is 'vaccinated'. We have to wrap the vaccination value in the `str` function so that Python knows we want the words 'True' and 'False', not the values `True` and `False`. We then do the same thing for each animal.\n",
        "\n",
        "Let's rewrite this program, using a for loop to go through the dictionary's keys:"
      ]
    },
    {
      "cell_type": "code",
      "execution_count": null,
      "metadata": {
        "id": "77aUUucCStSc",
        "outputId": "f747e649-5695-4001-87aa-599a15863ea0"
      },
      "outputs": [
        {
          "name": "stdout",
          "output_type": "stream",
          "text": [
            "\n",
            "Here is what I know about Peso:\n",
            "kind: dog\n",
            "owner: chloe\n",
            "vaccinated: True\n",
            "\n",
            "Here is what I know about Willie:\n",
            "kind: dog\n",
            "owner: eric\n",
            "vaccinated: True\n",
            "\n",
            "Here is what I know about Walter:\n",
            "kind: cockroach\n",
            "owner: eric\n",
            "vaccinated: False\n"
          ]
        }
      ],
      "source": [
        "# This program stores information about pets. For each pet,\n",
        "#   we store the kind of animal, the owner's name, and\n",
        "#   the breed.\n",
        "pets = {'willie': {'kind': 'dog', 'owner': 'eric', 'vaccinated': True},\n",
        "        'walter': {'kind': 'cockroach', 'owner': 'eric', 'vaccinated': False},\n",
        "        'peso': {'kind': 'dog', 'owner': 'chloe', 'vaccinated': True},\n",
        "        }\n",
        "\n",
        "# Let's show all the information for each pet.\n",
        "for pet_name, pet_information in pets.items():\n",
        "    print(\"\\nHere is what I know about %s:\" % pet_name.title())\n",
        "    print(\"kind: \" + pet_information['kind'])\n",
        "    print(\"owner: \" + pet_information['owner'])\n",
        "    print(\"vaccinated: \" + str(pet_information['vaccinated']))"
      ]
    },
    {
      "cell_type": "markdown",
      "metadata": {
        "id": "33md6ed9StSd"
      },
      "source": [
        "This code is much shorter and easier to maintain. But even this code will not keep up with our dictionary. If we add more information to the dictionary later, we will have to update our print statements. Let's put a second for loop inside the first loop in order to run through all the information about each pet:"
      ]
    },
    {
      "cell_type": "code",
      "execution_count": null,
      "metadata": {
        "id": "RkNbjtIlStSd",
        "outputId": "d5e66ff5-0c64-4ab4-dacc-dccdef465e90"
      },
      "outputs": [
        {
          "name": "stdout",
          "output_type": "stream",
          "text": [
            "\n",
            "Here is what I know about Peso:\n",
            "owner: chloe\n",
            "kind: dog\n",
            "vaccinated: True\n",
            "\n",
            "Here is what I know about Willie:\n",
            "owner: eric\n",
            "kind: dog\n",
            "vaccinated: True\n",
            "\n",
            "Here is what I know about Walter:\n",
            "owner: eric\n",
            "kind: cockroach\n",
            "vaccinated: False\n"
          ]
        }
      ],
      "source": [
        "# This program stores information about pets. For each pet,\n",
        "#   we store the kind of animal, the owner's name, and\n",
        "#   the breed.\n",
        "pets = {'willie': {'kind': 'dog', 'owner': 'eric', 'vaccinated': True},\n",
        "        'walter': {'kind': 'cockroach', 'owner': 'eric', 'vaccinated': False},\n",
        "        'peso': {'kind': 'dog', 'owner': 'chloe', 'vaccinated': True},\n",
        "        }\n",
        "\n",
        "# Let's show all the information for each pet.\n",
        "for pet_name, pet_information in pets.items():\n",
        "    print(\"\\nHere is what I know about %s:\" % pet_name.title())\n",
        "    # Each animal's dictionary is in 'information'\n",
        "    for key in pet_information:\n",
        "        print(key + \": \" + str(pet_information[key]))"
      ]
    },
    {
      "cell_type": "markdown",
      "metadata": {
        "id": "7C1ErJi1StSd"
      },
      "source": [
        "This nested loop can look pretty complicated, so again, don't worry if it doesn't make sense for a while.\n",
        "\n",
        "- The first loop gives us all the keys in the main dictionary, which consist of the name of each pet.\n",
        "- Each of these names can be used to 'unlock' the dictionary of each pet.\n",
        "- The inner loop goes through the dictionary for that individual pet, and pulls out all of the keys in that individual pet's dictionary.\n",
        "- We print the key, which tells us the kind of information we are about to see, and the value for that key.\n",
        "- You can see that we could improve the formatting in the output.\n",
        "    - We could capitalize the owner's name.\n",
        "    - We could print 'yes' or 'no', instead of True and False.\n",
        "    \n"
      ]
    },
    {
      "cell_type": "markdown",
      "metadata": {
        "id": "xZ9nZcEVStSd"
      },
      "source": [
        "Let's show one last version that uses some if statements to clean up our data for printing:"
      ]
    },
    {
      "cell_type": "code",
      "execution_count": null,
      "metadata": {
        "id": "J5caeh3tStSe",
        "outputId": "91e75e46-78cf-4aa8-c954-f4f213f63284"
      },
      "outputs": [
        {
          "name": "stdout",
          "output_type": "stream",
          "text": [
            "\n",
            "Here is what I know about Peso:\n",
            "kind: dog\n",
            "vaccinated: yes\n",
            "owner: Chloe\n",
            "\n",
            "Here is what I know about Walter:\n",
            "kind: cockroach\n",
            "vaccinated: no\n",
            "owner: Eric\n",
            "\n",
            "Here is what I know about Willie:\n",
            "kind: dog\n",
            "vaccinated: yes\n",
            "owner: Eric\n"
          ]
        }
      ],
      "source": [
        "# This program stores information about pets. For each pet,\n",
        "#   we store the kind of animal, the owner's name, and\n",
        "#   the breed.\n",
        "pets = {'willie': {'kind': 'dog', 'owner': 'eric', 'vaccinated': True},\n",
        "        'walter': {'kind': 'cockroach', 'owner': 'eric', 'vaccinated': False},\n",
        "        'peso': {'kind': 'dog', 'owner': 'chloe', 'vaccinated': True},\n",
        "        }\n",
        "\n",
        "# Let's show all the information for each pet.\n",
        "for pet_name, pet_information in pets.items():\n",
        "    print(\"\\nHere is what I know about %s:\" % pet_name.title())\n",
        "    # Each animal's dictionary is in pet_information\n",
        "    for key in pet_information:\n",
        "        if key == 'owner':\n",
        "            # Capitalize the owner's name.\n",
        "            print(key + \": \" + pet_information[key].title())\n",
        "        elif key == 'vaccinated':\n",
        "            # Print 'yes' for True, and 'no' for False.\n",
        "            vaccinated = pet_information['vaccinated']\n",
        "            if vaccinated:\n",
        "                print('vaccinated: yes')\n",
        "            else:\n",
        "                print('vaccinated: no')\n",
        "        else:\n",
        "            # No special formatting needed for this key.\n",
        "            print(key + \": \" + pet_information[key])"
      ]
    },
    {
      "cell_type": "markdown",
      "metadata": {
        "id": "XHeDNu_aStSe"
      },
      "source": [
        "This code is a lot longer, and now we have nested if statements as well as nested for loops. But keep in mind, this structure would work if there were 1000 pets in our dictionary, and it would work if we were storing 1000 pieces of information about each pet. One level of nesting lets us model an incredible array of information."
      ]
    },
    {
      "cell_type": "markdown",
      "metadata": {
        "id": "J6vTkK_lStSe"
      },
      "source": [
        "<a name='important_note'></a>An important note about nesting\n",
        "---\n",
        "While one level of nesting is really useful, nesting much deeper than that gets really complicated, really quickly. There are other structures such as classes which can be even more useful for modeling information. In addition to this, we can use Python to store information in a database, which is the proper tool for storing deeply nested information.\n",
        "\n",
        "Often times when you are storing information in a database you will pull a small set of that information out and put it into a dictionary, or a slightly nested structure, and then work with it. But you will rarely, if ever, work with Python data structures nested more than one level deep."
      ]
    },
    {
      "cell_type": "markdown",
      "metadata": {
        "id": "mSi5yIYMStSe"
      },
      "source": [
        "<a name='exercises_nesting'></a>Exercises\n",
        "---\n",
        "#### Mountain Heights 3\n",
        "- This is an extension of [Mountain Heights](#exercise_mountain_heights). Make sure you save this program under a different filename, such as *mountain\\_heights_3.py*, so that you can go back to your original program if you need to.\n",
        "    - The list of [tallest mountains in the world](http://en.wikipedia.org/wiki/List_of_mountains_by_elevation) provided all elevations in meters. Convert each of these elevations to feet, given that a meter is approximately 3.28 feet. You can do these calculations by hand at this point.\n",
        "    - Create a new dictionary, where the keys of the dictionary are still the mountains' names. This time however, the values of the dictionary should be a list of each mountain's elevation in meters, and then in feet: {'everest': [8848, 29029]}\n",
        "    - Print out just the mountains' names, by looping through the keys of your dictionary.\n",
        "    - Print out just the mountains' elevations in meters, by looping through the values of your dictionary and pulling out the first number from each list.\n",
        "    - Print out just the mountains' elevations in feet, by looping through the values of your dictionary and pulling out the second number from each list.\n",
        "    - Print out a series of statements telling how tall each mountain is: \"Everest is 8848 meters tall, or 29029 feet.\"\n",
        "- Bonus:\n",
        "    - Start with your original program from [Mountain Heights](#exercise_mountain_heights). Write a function that reads through the elevations in meters, and returns a list of elevations in feet. Use this list to create the nested dictionary described above.\n",
        "\n",
        "#### Mountain Heights 4\n",
        "- This is one more extension of Mountain Heights.\n",
        "    - Create a new dictionary, where the keys of the dictionary are once again the mountains' names. This time, the values of the dictionary are another dictionary. This dictionary should contain the elevation in either meters or feet, and the range that contains the mountain. For example: {'everest': {'elevation': 8848, 'range': 'himalaya'}}.\n",
        "    - Print out just the mountains' names.\n",
        "    - Print out just the mountains' elevations.\n",
        "    - Print out just the range for each mountain.\n",
        "    - Print out a series of statements that say everything you know about each mountain: \"Everest is an 8848-meter tall mountain in the Himalaya range.\""
      ]
    },
    {
      "cell_type": "code",
      "execution_count": null,
      "metadata": {
        "id": "x8e6AuW5StSf"
      },
      "outputs": [],
      "source": [
        "# Ex 7.7 : Mountain Heights 3\n",
        "\n",
        "# put your code here"
      ]
    },
    {
      "cell_type": "code",
      "execution_count": null,
      "metadata": {
        "id": "fFDGti_uStSf"
      },
      "outputs": [],
      "source": [
        "# Ex 7.8 : Mountain Heights 4\n",
        "\n",
        "# put your code here"
      ]
    },
    {
      "cell_type": "markdown",
      "metadata": {
        "id": "xPt0cM7OStSf"
      },
      "source": [
        "[top](#top)"
      ]
    },
    {
      "cell_type": "markdown",
      "metadata": {
        "id": "B0fWnyQuStSf"
      },
      "source": [
        "<a name='overall_challenges'></a>Overall Challenges\n",
        "===\n",
        "#### Word Wall\n",
        "- A word wall is a place on your wall where you keep track of the new words and meanings you are learning. Write a terminal app that lets you enter new words, and a meaning for each word.\n",
        "    - Your app should have a title bar that says the name of your program.\n",
        "    - Your program should give users the option to see all words and meanings that have been entered so far.\n",
        "    - Your program should give users the option to enter a new word and meaning.\n",
        "        - Your program must not allow duplicate entries.\n",
        "    - Your program should store existing words and meanings, even after the program closes.\n",
        "    - Your program should give users the option to modify an existing meaning.\n",
        "- Bonus Features\n",
        "    - Allow users to modify the spelling of words.\n",
        "    - Allow users to categorize words.\n",
        "    - Turn the program into a game that quizzes users on words and meanings.\n",
        "    - (later on) Turn your program into a website that only you can use.\n",
        "    - (later on) Turn your program into a website that anyone can register for, and use.\n",
        "    - Add a visualization feature that reports on some statistics about the words and meanings that have been entered.\n",
        "\n",
        "#### Periodic Table App\n",
        "- The [Periodic Table](http://www.ptable.com/) of the Elements was developed to organize information about the elements that make up the Universe. Write a terminal app that lets you enter information about each element in the periodic table.\n",
        "    - Make sure you include the following information:\n",
        "        - symbol, name, atomic number, row, and column\n",
        "    - Choose at least one other piece of information to include in your app.\n",
        "    - Provide a menu of options for users to:\n",
        "        - See all the information that is stored about any element, by entering that element's symbol.\n",
        "        - Choose a property, and see that property for each element in the table.\n",
        "- Bonus Features\n",
        "    - Provide an option to view the symbols arranged like the periodic table. ([hint](#hints_periodic_table))"
      ]
    },
    {
      "cell_type": "code",
      "execution_count": null,
      "metadata": {
        "id": "OiKOXZ99StSf"
      },
      "outputs": [],
      "source": [
        "# Challenge: Word Wall\n",
        "\n",
        "# put your code here"
      ]
    },
    {
      "cell_type": "code",
      "execution_count": null,
      "metadata": {
        "id": "aMIu_iRDStSg"
      },
      "outputs": [],
      "source": [
        "# Challenge: Periodic Table App\n",
        "\n",
        "# put your code here"
      ]
    },
    {
      "cell_type": "markdown",
      "metadata": {
        "id": "sI0kHZDcStSg"
      },
      "source": [
        "[top](#top)"
      ]
    },
    {
      "cell_type": "markdown",
      "metadata": {
        "id": "jTgDFsb3StSg"
      },
      "source": [
        "Hints\n",
        "===\n",
        "#### <a name='hints_periodic_table'></a>Periodic Table App\n",
        "- You can use a for loop to loop through each element. Pick out the elements' row numbers and column numbers.\n",
        "- Use two nested for loops to print either an element's symbol or a series of spaces, depending on how full that row is."
      ]
    }
  ],
  "metadata": {
    "kernelspec": {
      "display_name": "Python 3",
      "language": "python",
      "name": "python3"
    },
    "language_info": {
      "codemirror_mode": {
        "name": "ipython",
        "version": 3
      },
      "file_extension": ".py",
      "mimetype": "text/x-python",
      "name": "python",
      "nbconvert_exporter": "python",
      "pygments_lexer": "ipython3",
      "version": "3.5.1"
    },
    "colab": {
      "provenance": [],
      "collapsed_sections": [
        "ofe55DoCStR3",
        "hsQxyNopStR4",
        "th-k6_ZKStR-",
        "-VIIFJyjStSH",
        "RtHw29nkStSI",
        "o0ylEjunStSJ",
        "zYa3K_rUStSX",
        "bXeEzJmfStSY",
        "A6cunx-9StSb",
        "J6vTkK_lStSe",
        "mSi5yIYMStSe"
      ],
      "include_colab_link": true
    }
  },
  "nbformat": 4,
  "nbformat_minor": 0
}