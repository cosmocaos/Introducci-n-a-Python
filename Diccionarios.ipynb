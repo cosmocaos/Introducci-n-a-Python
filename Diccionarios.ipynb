{
  "cells": [
    {
      "cell_type": "markdown",
      "metadata": {
        "id": "view-in-github",
        "colab_type": "text"
      },
      "source": [
        "<a href=\"https://colab.research.google.com/github/cosmocaos/Introduccion_a_Python/blob/main/Diccionarios.ipynb\" target=\"_parent\"><img src=\"https://colab.research.google.com/assets/colab-badge.svg\" alt=\"Open In Colab\"/></a>"
      ]
    },
    {
      "cell_type": "markdown",
      "metadata": {
        "id": "nUxapP2VStRw"
      },
      "source": [
        "Diccionarios (Estructura de Datos)\n",
        "==="
      ]
    },
    {
      "cell_type": "markdown",
      "metadata": {
        "id": "9S2_1aH-StR1"
      },
      "source": [
        "Los diccionarios nos permiten organizar información. Por ejemplo  almacenar el nombre y edad de una persona."
      ]
    },
    {
      "cell_type": "markdown",
      "metadata": {
        "id": "O3pMspi6StR2"
      },
      "source": [
        "<a name=\"top\"></a>Contenido\n",
        "===\n",
        "- [Que son los diccionarios?](#what)\n",
        "    - [Sintáxis general](#general_syntax)\n",
        "    - [Ejemplo](#example)\n",
        "    - [Ejercicios](#exercises_what)\n",
        "- [Operaciones comunes con diccionarios](#common_operations)\n",
        "    - [Agregar pares llave-valor](#adding_pairs)\n",
        "    - [Modificando valores en un diccionario](#modifying_values)\n",
        "    - [Removiendo pares llave-valor](#removing_pairs)\n",
        "    - [Modificando llaves (keys) en un diccionario](#modifying_keys)\n",
        "    - [Ejercicios](#exercises_common_operations)\n",
        "- [Iteración de un diccionario](#looping)\n",
        "    - [Iterar todos los pares llave-valor](#loop_all_keys_values)\n",
        "    - [Iterar todas las llaves](#loop_all_keys)\n",
        "    - [Iterar todos los valores](#loop_all_values)\n",
        "    - [Iterar dicionario en orden](#looping_in_order)\n",
        "    - [Ejercicios](#exercises_looping)\n",
        "- [Anidar](#nesting)\n",
        "    - [Listas en un diccionario](#lists_in_dictionary)\n",
        "    - [Diccionarios en un diccionario](#dictionaries_in_dictionary)\n",
        "    - [Nota importante sobre anidar](#important_note)\n",
        "    - [Ejercicios](#exercises_nesting)\n",
        "- [Desafios](#overall_challenges)"
      ]
    },
    {
      "cell_type": "markdown",
      "metadata": {
        "id": "bfX6jGNfStR3"
      },
      "source": [
        "[top](#top)"
      ]
    },
    {
      "cell_type": "markdown",
      "metadata": {
        "id": "ofe55DoCStR3"
      },
      "source": [
        "<a name='what'></a>Que son los diccionarios?\n",
        "===\n",
        "\n",
        "Los diccionarios son una manera de almacenar información que esta relacionada de cierta manera. Los diccionarios almacenan información en pares *llave-valor* , así que cualquier pieza de información en un diccionario esta conectada con al menos una de las otras partes de la información. \n",
        "\n",
        "Los diccionarios no almacenan información en algún orden particular, así que puede ser que que no recuperes la información en el mismo orden que se introdujo a la base de datos. "
      ]
    },
    {
      "cell_type": "markdown",
      "metadata": {
        "id": "hsQxyNopStR4"
      },
      "source": [
        "<a name='general_syntax'></a>Sintáxis General\n",
        "---\n",
        "Un diccionario típico de Python luce así: \n"
      ]
    },
    {
      "cell_type": "code",
      "source": [
        "nombre_de_diccionario = {'llave_1': 'valor_1', 'llave_2': 'valor_2', 'llave_3': 'valor_3'}"
      ],
      "metadata": {
        "id": "1Z8AlpOd4wHU"
      },
      "execution_count": null,
      "outputs": []
    },
    {
      "cell_type": "markdown",
      "metadata": {
        "id": "9ExD1LRUStR9"
      },
      "source": [
        "Ya que las llaves y valores en diccionario pueden ser largos, a menudo escrubimos solo un para llave-valor en una sola línea. Usualmente miraras los discionarios escritos de la siguiente forma. \n"
      ]
    },
    {
      "cell_type": "code",
      "source": [
        "nombre_de_diccionario = {'llave_1': 'valor_1',\n",
        "                         'llave_2': 'valor_2', \n",
        "                         'llave_3': 'valor_3'}"
      ],
      "metadata": {
        "id": "sLAj4HsO4hay"
      },
      "execution_count": null,
      "outputs": []
    },
    {
      "cell_type": "markdown",
      "metadata": {
        "id": "0YhhL646StR-"
      },
      "source": [
        "Esto es mas fácil de leer para cualqueir persona, especialmente si el diccionario es muy grande. "
      ]
    },
    {
      "cell_type": "markdown",
      "metadata": {
        "id": "th-k6_ZKStR-"
      },
      "source": [
        "<a name='example'></a>Ejemplo\n",
        "---\n",
        "\n",
        "Un simple ejemplo involucra modelar un dicciorio real, es decir de palabras y su signifícado. "
      ]
    },
    {
      "cell_type": "code",
      "execution_count": null,
      "metadata": {
        "id": "ua5Pwds9StR_"
      },
      "outputs": [],
      "source": [
        "\n",
        "palabras_python = {'lista': 'Una colección de valores  no relacionados, pero en un orden.',\n",
        "                   'diccionario': 'Una colección de pares llave-valor.',\n",
        "                   'funcion': 'Un código con un nombre que define un conjunto de instrucciones',\n",
        "                   'frutas': ['melon','sandía','fresa']\n",
        "                  }\n",
        "#perros = [ 'Doberman', 'Salchicha']                  "
      ]
    },
    {
      "cell_type": "code",
      "source": [
        "califs= [ [50,60,40],  [90,95,95],  [85,90,78] ]"
      ],
      "metadata": {
        "id": "pHG2HkbBm2Lp"
      },
      "execution_count": null,
      "outputs": []
    },
    {
      "cell_type": "code",
      "source": [
        "califs[2][0]"
      ],
      "metadata": {
        "colab": {
          "base_uri": "https://localhost:8080/"
        },
        "id": "c-TX0KYBnDm-",
        "outputId": "85763392-74ea-4ebb-8da2-1191e1a52343"
      },
      "execution_count": null,
      "outputs": [
        {
          "output_type": "execute_result",
          "data": {
            "text/plain": [
              "85"
            ]
          },
          "metadata": {},
          "execution_count": 48
        }
      ]
    },
    {
      "cell_type": "code",
      "source": [
        "palabras_python['frutas'][1]"
      ],
      "metadata": {
        "colab": {
          "base_uri": "https://localhost:8080/",
          "height": 36
        },
        "id": "BGlqEy5ckvZK",
        "outputId": "938d72c0-6fb3-4aff-e34d-d029874cd349"
      },
      "execution_count": null,
      "outputs": [
        {
          "output_type": "execute_result",
          "data": {
            "text/plain": [
              "'sandía'"
            ],
            "application/vnd.google.colaboratory.intrinsic+json": {
              "type": "string"
            }
          },
          "metadata": {},
          "execution_count": 44
        }
      ]
    },
    {
      "cell_type": "markdown",
      "metadata": {
        "id": "44p43__bStR_"
      },
      "source": [
        "Podemos obtener elementos individuales de un diccionario, con su nombre y la llave en corchetes cuadrados:"
      ]
    },
    {
      "cell_type": "code",
      "source": [
        "palabras_python['diccionario']"
      ],
      "metadata": {
        "id": "zRsVdTCQQ65Q",
        "colab": {
          "base_uri": "https://localhost:8080/",
          "height": 36
        },
        "outputId": "c319d78b-25eb-4bf0-c3f3-fb82fdb6bfed"
      },
      "execution_count": null,
      "outputs": [
        {
          "output_type": "execute_result",
          "data": {
            "text/plain": [
              "'Una colección de pares llave-valor.'"
            ],
            "application/vnd.google.colaboratory.intrinsic+json": {
              "type": "string"
            }
          },
          "metadata": {},
          "execution_count": 30
        }
      ]
    },
    {
      "cell_type": "code",
      "execution_count": null,
      "metadata": {
        "id": "A0RPZ9x-StSA",
        "colab": {
          "base_uri": "https://localhost:8080/"
        },
        "outputId": "2f3363fd-74ea-4f84-87c2-cf943d933906"
      },
      "outputs": [
        {
          "output_type": "stream",
          "name": "stdout",
          "text": [
            "\n",
            "Palabra:  lista\n",
            "Significado:  Una colección de valores  no relacionados, pero en un orden.\n",
            "\n",
            "Palabra:  diccionario\n",
            "Significado:  Una colección de pares llave-valor.\n",
            "\n",
            "Palabra:  funcion\n",
            "Significado:  Un código con un nombre que define un conjunto de instrucciones.\n"
          ]
        }
      ],
      "source": [
        "palabras_python = {'lista': 'Una colección de valores  no relacionados, pero en un orden.',\n",
        "                   'diccionario': 'Una colección de pares llave-valor.',\n",
        "                   'funcion': 'Un código con un nombre que define un conjunto de instrucciones.'\n",
        "                  }\n",
        "\n",
        "print(f\"\\nPalabra:  {'lista'}\")\n",
        "print(f\"Significado:  {palabras_python['lista']}\")\n",
        "      \n",
        "print(f'\\nPalabra:  {\"diccionario\"}')\n",
        "print(f\"Significado:  {palabras_python['diccionario']}\")\n",
        "\n",
        "print(f'\\nPalabra:  {\"funcion\"}')\n",
        "print(f\"Significado:  {palabras_python['funcion']}\")"
      ]
    },
    {
      "cell_type": "markdown",
      "metadata": {
        "id": "lzHU3_SFStSB"
      },
      "source": [
        "El código anterior se mira algo repetitivo, vamos a ponerlo en un loop for.  Los diccionarios se pueden iterar, pero ya que tienen dos tipos de información (las llaves y el valor), tienen una forma ligeramente de iterar que las listas. Esta es la forma de como usar un loop con un diccionario. "
      ]
    },
    {
      "cell_type": "code",
      "execution_count": null,
      "metadata": {
        "id": "mHvZE3RMStSB",
        "colab": {
          "base_uri": "https://localhost:8080/"
        },
        "outputId": "dbf1467d-4048-4d82-c586-d0c8a1ec551c"
      },
      "outputs": [
        {
          "output_type": "stream",
          "name": "stdout",
          "text": [
            "\n",
            "Palabra: lista\n",
            "Significado: Una colección de valores  no relacionados, pero en un orden.\n",
            "\n",
            "Palabra: diccionario\n",
            "Significado: Una colección de pares llave-valor.\n",
            "\n",
            "Palabra: funcion\n",
            "Significado: Un código con un nombre que define un conjunto de instrucciones\n"
          ]
        }
      ],
      "source": [
        "palabras_python = {'lista': 'Una colección de valores  no relacionados, pero en un orden.',\n",
        "                   'diccionario': 'Una colección de pares llave-valor.',\n",
        "                   'funcion': 'Un código con un nombre que define un conjunto de instrucciones'\n",
        "                  }\n",
        "                  \n",
        "for palabra, significado in palabras_python.items():\n",
        "  print(f'\\nPalabra: {palabra}')\n",
        "  print(f'Significado: {significado}')"
      ]
    },
    {
      "cell_type": "markdown",
      "metadata": {
        "id": "VqF5v4DmStSC"
      },
      "source": [
        "La salida es identica, pero lo hicimos en 3 lineas en lugar de 6. Si el diccionario tuviera mas, o muchos mas terminos, aún así lo lograriamos en solo 3 lineas.\n",
        "\n",
        "Lo único que tenemos que hacer es decidir como llamar a las variables para iterar las llaves y valores del diccionario, la sintáxis general es:"
      ]
    },
    {
      "cell_type": "code",
      "execution_count": null,
      "metadata": {
        "id": "O3O9oJAlStSC"
      },
      "outputs": [],
      "source": [
        "for nombre_dela_llave, nombre_del_valor in nombre_del_diccionario.items(): \n",
        "    print(nombre_dela_llave)         # The key is stored in whatever you called the first variable.\n",
        "    print(nombre_del_valor)          # The value associated with that key is stored in your second variable."
      ]
    },
    {
      "cell_type": "markdown",
      "metadata": {
        "id": "-Im6_UyVStSC"
      },
      "source": [
        "<a name='exercises_what'></a>Ejercicios\n",
        "---\n",
        "#### Nombres de mascotas\n",
        "- Crear un diccionario para almacenar información de mascotas. Cada llave es el nombre de una masctoa, y cada valor la especie de mascota. \n",
        "    - Por ejemplo, 'Firulais':'Canario'\n",
        "- Pon por los menos 3 pares llave-valor en tu diccionario.    \n",
        "- Usar un loop para imprimir una serie de enunciados como \"Firulis es un perro\"\n",
        "\n",
        "#### Preguntas a amigos\n",
        "- Piensa en una pregunta que puedas hacerle a tus amigos. Crea un diccionario donde cada pregunta es el nombre de la persona, y cada valor es la respuesta de esa persona a tu pregunta. \n",
        "- Almacena al menos 3 respuestas en tu diccionario.\n",
        "- Usa un loop para imprimir una serie de enunciados listando cada nombre de tu amigo y su respuesta. "
      ]
    },
    {
      "cell_type": "code",
      "execution_count": null,
      "metadata": {
        "id": "0Z4gbBxtStSD"
      },
      "outputs": [],
      "source": [
        "# Ex 7.1 : Pet Names\n",
        "\n",
        "# put your code here"
      ]
    },
    {
      "cell_type": "code",
      "execution_count": null,
      "metadata": {
        "id": "gazsykLPStSD"
      },
      "outputs": [],
      "source": [
        "# Ex 7.2 : Polling Friends\n",
        "\n",
        "# put your code here"
      ]
    },
    {
      "cell_type": "markdown",
      "metadata": {
        "id": "LmLujgXOStSD"
      },
      "source": [
        "[top](#top)"
      ]
    },
    {
      "cell_type": "markdown",
      "metadata": {
        "id": "unAKCWbHStSE"
      },
      "source": [
        "<a name='common_operations'></a>Operaciones comunes con diccionarios\n",
        "===\n",
        "Hay unas cuantas cosas que necesitas saber sobre diccionarios. Esto inclye agregar nuevos pares llave-valor, modificar información del diccionario, y eliminar elementos del diccionario."
      ]
    },
    {
      "cell_type": "markdown",
      "metadata": {
        "id": "lZNcSewQStSE"
      },
      "source": [
        "<a name='adding_pairs'></a>Agregando nuevos pares llave-valor\n",
        "---\n",
        "Para agregar un nuevo par llave-valor, usas el nombre del diccionario seguido de una nueva llave en corchetes cuadrados, y el nuevo valor. Iniciaremos creando un nuevo diccionario vacio, y recrearemos el diccionario anterior."
      ]
    },
    {
      "cell_type": "code",
      "execution_count": null,
      "metadata": {
        "id": "d2dV0DBhStSE",
        "colab": {
          "base_uri": "https://localhost:8080/"
        },
        "outputId": "54418827-3951-444d-ce07-d2f976442118"
      },
      "outputs": [
        {
          "output_type": "stream",
          "name": "stdout",
          "text": [
            "\n",
            "Palabra: lista\n",
            "Significado: Una colección de valores  no relacionados, pero en un orden.\n",
            "\n",
            "Palabra: diccionario\n",
            "Significado: Una colección de pares llave-valor.\n",
            "\n",
            "Palabra: funcion\n",
            "Significado: Un código con un nombre que define un conjunto de instrucciones\n",
            "\n",
            "Palabra: frutas\n",
            "Significado: {'pato': 'Donald'}\n"
          ]
        }
      ],
      "source": [
        "# Create an empty dictionary.\n",
        "palabras_python = {}\n",
        "\n",
        "# Fill the dictionary, pair by pair.\n",
        "palabras_python['lista'] = 'Una colección de valores  no relacionados, pero en un orden.'\n",
        "palabras_python['diccionario'] = 'Una colección de pares llave-valor.'\n",
        "palabras_python['funcion'] = 'Un código con un nombre que define un conjunto de instrucciones'\n",
        "palabras_python['frutas'] = {'pato':'Donald'}\n",
        "\n",
        "print('\\n ')\n",
        "# Print out the items in the dictionary.\n",
        "\n",
        "for palabra, significado in palabras_python.items():\n",
        "  print(f'\\nPalabra: {palabra}')\n",
        "  print(f'Significado: {significado}')"
      ]
    },
    {
      "cell_type": "markdown",
      "metadata": {
        "id": "qNuqQgpnStSF"
      },
      "source": [
        "[top](#top)"
      ]
    },
    {
      "cell_type": "markdown",
      "metadata": {
        "id": "x7lv7zAfStSF"
      },
      "source": [
        "<a name='modifying_values'></a>Modificando valores en un diccionario\n",
        "---\n",
        "Seguramente en algún momento querras modificar alguno de los valores de tu diccionarios. Modificar el valor de un diccioario, es muy semilar a modificar un elemento en una lista. Al nombre del diccionario ke agregas el nombre de la llave entre corchetes, luego el valor nuevo. "
      ]
    },
    {
      "cell_type": "code",
      "execution_count": null,
      "metadata": {
        "id": "lJHIfBbpStSG",
        "outputId": "168b0884-8afa-4201-b161-2773809c03bd",
        "colab": {
          "base_uri": "https://localhost:8080/"
        }
      },
      "outputs": [
        {
          "output_type": "stream",
          "name": "stdout",
          "text": [
            "diccionario: Una colección de pares llave-valor.\n",
            "diccionario: Una colección de pares llave-valor. Cada llave es usada para accesar su valor correspondiente\n"
          ]
        }
      ],
      "source": [
        "palabras_python = {'lista': 'Una colección de valores  no relacionados, pero en un orden.',\n",
        "                   'diccionario': 'Una colección de pares llave-valor.',\n",
        "                   'funcion': 'Un código con un nombre que define un conjunto de instrucciones.'\n",
        "                  }\n",
        "\n",
        "\n",
        "print(f\"diccionario: {palabras_python['diccionario']}\")\n",
        "    \n",
        "# Clarify one of the meanings.\n",
        "palabras_python['diccionario'] = 'Una colección de pares llave-valor. \\\n",
        "Cada llave es usada para accesar su valor correspondiente'\n",
        "\n",
        "\n",
        "print(f\"diccionario: {palabras_python['diccionario']}\")"
      ]
    },
    {
      "cell_type": "markdown",
      "metadata": {
        "id": "PqtEAJvIStSG"
      },
      "source": [
        "[top](#top)"
      ]
    },
    {
      "cell_type": "markdown",
      "metadata": {
        "id": "-VIIFJyjStSH"
      },
      "source": [
        "<a name='removing_pairs'></a>Remover pares llave-valor\n",
        "---\n",
        "\n",
        "Podrías querer remover algún par de llave-valor de uno de tus diccionarios en un punto. Puedes usar el mismo comando `del` que aprendiste a usar con las listas. Para remover una llave-valor, usas el comando `del` seguido del nombre del diccionario, con la llave que quieres remover. Esto remueve la llave y el valor correspondiente. "
      ]
    },
    {
      "cell_type": "code",
      "execution_count": null,
      "metadata": {
        "id": "DeixOJPZStSH",
        "outputId": "e6c60226-f654-4e43-ea5f-1dd55e7f251f",
        "colab": {
          "base_uri": "https://localhost:8080/"
        }
      },
      "outputs": [
        {
          "output_type": "stream",
          "name": "stdout",
          "text": [
            "\n",
            "\n",
            "Estas son las palabras de python que conozco:\n",
            "\n",
            "Palabra: diccionario\n",
            "Significado: Una colección de pares llave-valor.\n",
            "\n",
            "Palabra: funcion\n",
            "Significado: Un código con un nombre que define un conjunto de instrucciones.\n"
          ]
        }
      ],
      "source": [
        "palabras_python = {'lista': 'Una colección de valores  no relacionados, pero en un orden.',\n",
        "                   'diccionario': 'Una colección de pares llave-valor.',\n",
        "                   'funcion': 'Un código con un nombre que define un conjunto de instrucciones.'\n",
        "                  }\n",
        "    \n",
        "# Remove the word 'list' and its meaning.\n",
        "del palabras_python['lista'] \n",
        "\n",
        "\n",
        "# Show the current set of words and meanings.\n",
        "print(\"\\n\\nEstas son las palabras de python que conozco:\")\n",
        "for word, meaning in palabras_python.items():\n",
        "    print(\"\\nPalabra: %s\" % word)\n",
        "    print(\"Significado: %s\" % meaning)"
      ]
    },
    {
      "cell_type": "markdown",
      "metadata": {
        "id": "RtHw29nkStSI"
      },
      "source": [
        "###Una mirada a las funciones\n",
        "\n",
        "Cuando vas a usar un código muchas veces, en lugar de estarlo copiando, lo colocamos dentro de una función, y la mandamos llamar cada que se necesita, es como si fuera un minicódigo, que mandamos llamar dentro de nuestro código.   \n"
      ]
    },
    {
      "cell_type": "code",
      "source": [
        "def muestra_palabras(python_words):\n",
        "    # Este es un ejemplo de una función\n",
        "    # Toma como input un diccioario, y luego imprime su contenido\n",
        "    print(\"\\n\\nEstas son las palabras de python que conozco:\")\n",
        "    for palabra, significado in palabras_python.items():\n",
        "        print(\"\\nPalabra: %s\" % palabra)\n",
        "        print(\"Significado: %s\" % significado)"
      ],
      "metadata": {
        "id": "w5SYcjGHFNkc"
      },
      "execution_count": null,
      "outputs": []
    },
    {
      "cell_type": "code",
      "execution_count": null,
      "metadata": {
        "id": "z6QfEDENStSI",
        "outputId": "4ace2490-f5d7-4a0c-fd18-82de5822acc0",
        "colab": {
          "base_uri": "https://localhost:8080/"
        }
      },
      "outputs": [
        {
          "output_type": "stream",
          "name": "stdout",
          "text": [
            "\n",
            "\n",
            "Estas son las palabras de python que conozco:\n",
            "\n",
            "Palabra: lista\n",
            "Significado: Una colección de valores  no relacionados, pero en un orden.\n",
            "\n",
            "Palabra: diccionario\n",
            "Significado: Una colección de pares llave-valor.\n",
            "\n",
            "Palabra: funcion\n",
            "Significado: Un código con un nombre que define un conjunto de instrucciones.\n",
            "\n",
            "\n",
            "Estas son las palabras de python que conozco:\n",
            "\n",
            "Palabra: diccionario\n",
            "Significado: Una colección de pares llave-valor.\n",
            "\n",
            "Palabra: funcion\n",
            "Significado: Un código con un nombre que define un conjunto de instrucciones.\n"
          ]
        }
      ],
      "source": [
        "palabras_python = {'lista': 'Una colección de valores  no relacionados, pero en un orden.',\n",
        "                   'diccionario': 'Una colección de pares llave-valor.',\n",
        "                   'funcion': 'Un código con un nombre que define un conjunto de instrucciones.'\n",
        "                  }\n",
        "\n",
        "muestra_palabras(palabras_python)\n",
        "    \n",
        "# Remove the word 'list' and its meaning.\n",
        "del palabras_python['lista'] \n",
        "\n",
        "muestra_palabras(palabras_python)"
      ]
    },
    {
      "cell_type": "code",
      "source": [
        "#muestra_palabras(mascotas)"
      ],
      "metadata": {
        "id": "kUvnNVGQgxuN"
      },
      "execution_count": null,
      "outputs": []
    },
    {
      "cell_type": "markdown",
      "metadata": {
        "id": "vfE5p1i-StSI"
      },
      "source": [
        "Si modificamos nuestra función, se modifica el resultado de cada sección del código donde se utilice esa función:\n",
        "\n"
      ]
    },
    {
      "cell_type": "code",
      "execution_count": null,
      "metadata": {
        "id": "ip_XH-kcStSI"
      },
      "outputs": [],
      "source": [
        "def muestra_palabras(python_words):\n",
        "    # Este es un ejemplo de una función\n",
        "    # Toma como input un diccioario, y luego imprime su contenido\n",
        "    print(\"\\n\\nEstas son las palabras de python que conozco:\")\n",
        "    for palabra, significado in palabras_python.items():\n",
        "        print(f'{palabra}: {significado}')\n",
        "        "
      ]
    },
    {
      "cell_type": "code",
      "source": [
        "palabras_python = {'lista': 'Una colección de valores  no relacionados, pero en un orden.',\n",
        "                   'diccionario': 'Una colección de pares llave-valor.',\n",
        "                   'funcion': 'Un código con un nombre que define un conjunto de instrucciones.'\n",
        "                  }\n",
        "\n",
        "muestra_palabras(palabras_python)\n",
        "    \n",
        "# Remove the word 'list' and its meaning.\n",
        "del palabras_python['lista'] \n",
        "\n",
        "muestra_palabras(palabras_python)"
      ],
      "metadata": {
        "id": "Je-xcR1iFtGR"
      },
      "execution_count": null,
      "outputs": []
    },
    {
      "cell_type": "markdown",
      "metadata": {
        "id": "teVjbKbsStSJ"
      },
      "source": [
        "El código de arriba es mas elegante y profesional."
      ]
    },
    {
      "cell_type": "markdown",
      "metadata": {
        "id": "o0ylEjunStSJ"
      },
      "source": [
        "<a name='modifying_keys'></a>Modificando llaves en un diccionario\n",
        "---\n",
        "Moficar el valor de un diccionario es rápido. Modificar una llave en un diccioario requiere dos pasos extra. \n",
        "- Crear una nueva llave, copiar el valor viejo en la nueva llave. \n",
        "- Borrar la nueva llave, que también borra su antiguo valor. "
      ]
    },
    {
      "cell_type": "markdown",
      "metadata": {
        "id": "-TaNPRZ-StSJ"
      },
      "source": [
        "Veamos como se hace:"
      ]
    },
    {
      "cell_type": "code",
      "execution_count": null,
      "metadata": {
        "id": "2u6CTn_BStSJ",
        "outputId": "7d9e1456-236e-475f-e680-5be09383a5d2",
        "colab": {
          "base_uri": "https://localhost:8080/"
        }
      },
      "outputs": [
        {
          "output_type": "stream",
          "name": "stdout",
          "text": [
            "{'lissta': 'Una colección de valores  no relacionados, pero en un orden.'}\n",
            "{'lista': 'Una colección de valores  no relacionados, pero en un orden.'}\n"
          ]
        }
      ],
      "source": [
        "# Declaramos un diccionario, pero escribimos mal la palabra lista\n",
        "palabras_python = {'lissta': 'Una colección de valores  no relacionados, pero en un orden.'}\n",
        "print(palabras_python)\n",
        "\n",
        "# Creamos una nueva llave, la hacemos igual a la anterior\n",
        "palabras_python['lista'] = palabras_python['lissta']\n",
        "# Borramos la anterior\n",
        "del palabras_python['lissta']\n",
        "\n",
        "# Imprimimos para comprobar que se realizo la corrección\n",
        "print(palabras_python)"
      ]
    },
    {
      "cell_type": "markdown",
      "metadata": {
        "id": "lyn5N7w0StSK"
      },
      "source": [
        "[top](#top)"
      ]
    },
    {
      "cell_type": "markdown",
      "metadata": {
        "id": "6x6htC4pStSL"
      },
      "source": [
        "<a name='exercises_common_operations'></a>Ejercicios\n",
        "---\n",
        "#### Nombres de mascotas 2\n",
        "- Haz una copia del programa que hiciste de nombres de mascotas. [Nombres de Mascotas](#exercises_what).\n",
        "    - Usa un loop for para imprimir una serie de enunciados como \"Firulais es un perro\". \n",
        "    - Modifica uno de los valores en el diccionario. Modificando por ejemplo la especie de animal de gato a perro.  \n",
        "        - Usa un loop for para imprimir una serie de enunciados como \"Firulais es un perro\". \n",
        "    - Agrega un nuevo par llav-valor al diccionario.\n",
        "        - Usa un loop for para imprimir una serie de enunciados como \"Firulais es un perro\".\n",
        "    - Remueve alguno de los pares llave-valor del diccionario.\n",
        "        - Usa un loop for para imprimir una serie de enunciados como \"Firulais es un perro\".\n",
        "- Bonus: Usa una función `def` para hacer mas compacto el código anterior. \n",
        "\n",
        "#### Ejercicio\n",
        "- Haz un diccionario donde las llaves sean los nombres de ejercicios de crossfit, y los valores sean el número de veces que hiciste ese ejercicio. \n",
        "    - Usa un loop for para imprimir una serie de enunciados como \"Hice 10 lagartijas\"\n",
        "    - Mofidifica uno de los valores en tu diccionario, que aparezca que hiciste mas de un ejercicio. \n",
        "        - Usa un loop for para imprimir una serie de enunciados como \"Hice 10 lagartijas\"\n",
        "    - Agrega un nuevo par llave-valor al diccionario.\n",
        "        - Usa un loop for para imprimir una serie de enunciados como \"Hice 10 lagartijas\"\n",
        "    - Remueve alguno de los pares llave-valor del diccionario.\n",
        "        - Usa un loop for para imprimir una serie de enunciados como \"Hice 10 lagartijas\"\n",
        "- Bonus: Usa una función `def` para hacer mas compacto el código anterior. "
      ]
    },
    {
      "cell_type": "code",
      "execution_count": null,
      "metadata": {
        "id": "fYiS5EVXStSM"
      },
      "outputs": [],
      "source": [
        "# Ex 7.3 : Pet Names 2\n",
        "\n",
        "# put your code here"
      ]
    },
    {
      "cell_type": "code",
      "execution_count": null,
      "metadata": {
        "id": "jRsKqIQ0StSM"
      },
      "outputs": [],
      "source": [
        "# Ex 7.4 : Weight Lifting\n",
        "\n",
        "# put your code here"
      ]
    },
    {
      "cell_type": "markdown",
      "metadata": {
        "id": "M2I2bwqoStSN"
      },
      "source": [
        "[top](#top)"
      ]
    },
    {
      "cell_type": "markdown",
      "metadata": {
        "id": "a_YU1P0bStSN"
      },
      "source": [
        "<a name='looping'></a>Iterando a tráves de un diccionario\n",
        "==="
      ]
    },
    {
      "cell_type": "markdown",
      "metadata": {
        "id": "CxK03DGGStSN"
      },
      "source": [
        "A veces se requiere iterar sobre todo el diccionario, hay varias formas de hacer eso:\n",
        "- Puedes iterar a tráves de todos los pares llave-valor\n",
        "- Puedes iterar a tráves de todas las llaves, yluego sacar los valores de las llaves que te interesen\n",
        "- Puedes iterar por los valores"
      ]
    },
    {
      "cell_type": "markdown",
      "metadata": {
        "id": "Gu9GNpLzStSN"
      },
      "source": [
        "<a name='loop_all_keys_values'></a>Iterar a tráves de todos los pares llave-valor\n",
        "---\n",
        "Este es el tipo de loop mostrado en el primer ejemplo. Su formato general es:"
      ]
    },
    {
      "cell_type": "code",
      "execution_count": null,
      "metadata": {
        "id": "-sOKqIRSStSO",
        "colab": {
          "base_uri": "https://localhost:8080/"
        },
        "outputId": "35c1ca68-ecc4-4d52-aaa8-97d47e981fe7"
      },
      "outputs": [
        {
          "output_type": "stream",
          "name": "stdout",
          "text": [
            "\n",
            "Llave: llave_1\n",
            "Valor: valor_1\n",
            "\n",
            "Llave: llave_2\n",
            "Valor: valor_2\n",
            "\n",
            "Llave: llave_3\n",
            "Valor: valor_3\n"
          ]
        }
      ],
      "source": [
        "mi_diccionario = {'llave_1': 'valor_1',\n",
        "    'llave_2': 'valor_2',\n",
        "    'llave_3': 'valor_3',\n",
        "    }\n",
        "\n",
        "for llave, valor in mi_diccionario.items():\n",
        "    print(f'\\nLlave: {llave}')\n",
        "    print(f'Valor: {valor}')"
      ]
    },
    {
      "cell_type": "markdown",
      "metadata": {
        "id": "EF3WIX1SStSO"
      },
      "source": [
        "Esto funciona porque el método `.items()` obtiene todos los valores llave-valor del diccionario en una lista de tuplas:"
      ]
    },
    {
      "cell_type": "code",
      "execution_count": null,
      "metadata": {
        "id": "2gUoQo2iStSO",
        "colab": {
          "base_uri": "https://localhost:8080/"
        },
        "outputId": "1656e796-130a-4c4f-fae9-60e85b81909b"
      },
      "outputs": [
        {
          "output_type": "stream",
          "name": "stdout",
          "text": [
            "dict_items([('llave_1', 'valor_1'), ('llave_2', 'valor_2'), ('llave_3', 'valor_3')])\n"
          ]
        }
      ],
      "source": [
        "mi_diccionario = {'llave_1': 'valor_1',\n",
        "    'llave_2': 'valor_2',\n",
        "    'llave_3': 'valor_3',\n",
        "    }\n",
        "\n",
        "print(mi_diccionario.items())"
      ]
    },
    {
      "cell_type": "markdown",
      "metadata": {
        "id": "k8fTdEHCStSP"
      },
      "source": [
        "La sintáxis `for llave, valor in mi_diccionario.items():` hace el trabajo de iterar por la lista de tuplas, y obtener el primer y segudo elemento de cada tupla para nostros. \n",
        "\n",
        "Los nombres de variable fueron elegidos para que el código sea fácil de leer por el usuario."
      ]
    },
    {
      "cell_type": "markdown",
      "metadata": {
        "id": "K7zdWW4VStSP"
      },
      "source": [
        "[top](#top)"
      ]
    },
    {
      "cell_type": "markdown",
      "metadata": {
        "id": "NS1fqQXPStSP"
      },
      "source": [
        "<a name='loop_all_keys'></a>Iterando todas las llaves en un diccionario\n",
        "---\n",
        "Python proporciona una sintáxis clara para iterar solo las llaves de un diccionario:\n"
      ]
    },
    {
      "cell_type": "code",
      "execution_count": null,
      "metadata": {
        "id": "H0oKQM9vStSQ",
        "outputId": "df7e4080-04aa-44f7-b00e-21a6f3e00180",
        "colab": {
          "base_uri": "https://localhost:8080/"
        }
      },
      "outputs": [
        {
          "output_type": "stream",
          "name": "stdout",
          "text": [
            "Llave: llave_1\n",
            "Llave: llave_2\n",
            "Llave: llave_3\n"
          ]
        }
      ],
      "source": [
        "mi_diccionario = {'llave_1': 'valor_1',\n",
        "    'llave_2': 'valor_2',\n",
        "    'llave_3': 'valor_3',\n",
        "    }\n",
        "\n",
        "for llave in mi_diccionario.keys():\n",
        "    print(f'Llave: {llave}')"
      ]
    },
    {
      "cell_type": "markdown",
      "metadata": {
        "id": "smOtKMGOStSQ"
      },
      "source": [
        "El comportamiento por omisión de iterar un diccionario es ese, así si omitimos el `.keys()`, funcionará igual:\n"
      ]
    },
    {
      "cell_type": "code",
      "execution_count": null,
      "metadata": {
        "id": "cJkmw6E1StSQ",
        "outputId": "9c7b87a0-b4f8-4f6c-e0a3-4a355bebb4a2",
        "colab": {
          "base_uri": "https://localhost:8080/"
        }
      },
      "outputs": [
        {
          "output_type": "stream",
          "name": "stdout",
          "text": [
            "Llave: llave_1\n",
            "Llave: llave_2\n",
            "Llave: llave_3\n"
          ]
        }
      ],
      "source": [
        "mi_diccionario = {'llave_1': 'valor_1',\n",
        "    'llave_2': 'valor_2',\n",
        "    'llave_3': 'valor_3',\n",
        "    }\n",
        "\n",
        "for llave in mi_diccionario:\n",
        "    print(f'Llave: {llave}')"
      ]
    },
    {
      "cell_type": "markdown",
      "metadata": {
        "id": "OvfbvHbYStSQ"
      },
      "source": [
        "La unica ventaja de usar `.keys()` en el código es un poco de claridad. Pero quien sea que conozca Python suficientemente bien, reconocerá lo que hace la segunda versión. \n",
        "\n",
        "Puedes obtener elvalor de cualquier llave que estes interesado dentro del loop usando la notación regular para accesar un valor de una llave del diccionario:"
      ]
    },
    {
      "cell_type": "code",
      "execution_count": null,
      "metadata": {
        "id": "4MRbpW_gStSR",
        "colab": {
          "base_uri": "https://localhost:8080/"
        },
        "outputId": "e218cdce-4b7a-4cde-af2c-9905f5a87f35"
      },
      "outputs": [
        {
          "output_type": "stream",
          "name": "stdout",
          "text": [
            "Llave: llave_1\n",
            "Llave: llave_2\n",
            "El valor de llave_2 es valor_2\n",
            "Llave: llave_3\n"
          ]
        }
      ],
      "source": [
        "mi_diccionario = {'llave_1': 'valor_1',\n",
        "    'llave_2': 'valor_2',\n",
        "    'llave_3': 'valor_3',\n",
        "    }\n",
        "\n",
        "for llave in mi_diccionario:\n",
        "    print(f'Llave: {llave}')\n",
        "    if llave == 'llave_2':\n",
        "      print(f'El valor de llave_2 es {mi_diccionario[llave]}')"
      ]
    },
    {
      "cell_type": "code",
      "source": [
        "mascotas = {'tommy': 'gato',\n",
        "    'piolin': 'canario',\n",
        "    'coraje': 'perro',\n",
        "    }\n",
        "\n",
        "for mascota in mascotas:\n",
        "    print(f'Nombre de la mascota: {mascota}')\n",
        "    if mascota == 'coraje':\n",
        "      print(f'Mi mascota es un {mascotas[mascota]}')"
      ],
      "metadata": {
        "colab": {
          "base_uri": "https://localhost:8080/"
        },
        "id": "SXfGazdvAO0F",
        "outputId": "6656cc5c-d316-4f14-fe6c-f90727ab0562"
      },
      "execution_count": null,
      "outputs": [
        {
          "output_type": "stream",
          "name": "stdout",
          "text": [
            "Nombre de la mascota: tommy\n",
            "Nombre de la mascota: piolin\n",
            "Nombre de la mascota: coraje\n",
            "Mi mascota es un perro\n"
          ]
        }
      ]
    },
    {
      "cell_type": "markdown",
      "metadata": {
        "id": "Kf1748_SStSR"
      },
      "source": [
        "Ahora mostremos como podríamos usar esto en el programa de palabras de Python. Este tipo de loop proporciona una manera direcat demos trar solo las palabras del diccionario, sin los valores:"
      ]
    },
    {
      "cell_type": "code",
      "execution_count": null,
      "metadata": {
        "id": "e71shq3sStSR",
        "colab": {
          "base_uri": "https://localhost:8080/"
        },
        "outputId": "425ca586-412b-4bdb-b444-216e8bd82293"
      },
      "outputs": [
        {
          "output_type": "stream",
          "name": "stdout",
          "text": [
            "Las siguientes palabras han sido definidas:\n",
            "- lista\n",
            "- diccionario\n",
            "- funcion\n"
          ]
        }
      ],
      "source": [
        "palabras_python = {'lista': 'Una colección de valores  no relacionados, pero en un orden.',\n",
        "                   'diccionario': 'Una colección de pares llave-valor.',\n",
        "                   'funcion': 'Un código con un nombre que define un conjunto de instrucciones.'\n",
        "                  }\n",
        "\n",
        "print('Las siguientes palabras han sido definidas:')\n",
        "for palabra in palabras_python:\n",
        "    print(f'- {palabra}')\n"
      ]
    },
    {
      "cell_type": "markdown",
      "metadata": {
        "id": "dZKTt2GIStSR"
      },
      "source": [
        "Vamos a agregar un poco más de código para hacer un programa que represente un glosario. El usuario puede preguntar por una palabra, para saber cual es su significado:\n"
      ]
    },
    {
      "cell_type": "code",
      "execution_count": null,
      "metadata": {
        "collapsed": true,
        "id": "oduNKN88StSR",
        "colab": {
          "base_uri": "https://localhost:8080/",
          "height": 332
        },
        "outputId": "9f47b2f6-ef66-4c3e-be1a-345d77377a3b"
      },
      "outputs": [
        {
          "name": "stdout",
          "output_type": "stream",
          "text": [
            "Las siguientes palabras han sido definidas:\n",
            "- lista\n",
            "- diccionario\n",
            "- funcion\n",
            "- for loop\n",
            "\n",
            "De cual palabra deseas saber su significadofunction\n"
          ]
        },
        {
          "output_type": "error",
          "ename": "KeyError",
          "evalue": "ignored",
          "traceback": [
            "\u001b[0;31m---------------------------------------------------------------------------\u001b[0m",
            "\u001b[0;31mKeyError\u001b[0m                                  Traceback (most recent call last)",
            "\u001b[0;32m<ipython-input-68-542414a27950>\u001b[0m in \u001b[0;36m<module>\u001b[0;34m\u001b[0m\n\u001b[1;32m     11\u001b[0m \u001b[0;31m# Allow the user to choose a word, and then display the meaning for that word.\u001b[0m\u001b[0;34m\u001b[0m\u001b[0;34m\u001b[0m\u001b[0;34m\u001b[0m\u001b[0m\n\u001b[1;32m     12\u001b[0m \u001b[0mpalabra_solicitada\u001b[0m \u001b[0;34m=\u001b[0m \u001b[0minput\u001b[0m\u001b[0;34m(\u001b[0m\u001b[0;34m'\\nDe cual palabra deseas saber su significado'\u001b[0m\u001b[0;34m)\u001b[0m\u001b[0;34m\u001b[0m\u001b[0;34m\u001b[0m\u001b[0m\n\u001b[0;32m---> 13\u001b[0;31m \u001b[0mprint\u001b[0m\u001b[0;34m(\u001b[0m\u001b[0;34mf' {palabra_solicitada}: {palabras_python[palabra_solicitada]}'\u001b[0m\u001b[0;34m)\u001b[0m\u001b[0;34m\u001b[0m\u001b[0;34m\u001b[0m\u001b[0m\n\u001b[0m",
            "\u001b[0;31mKeyError\u001b[0m: 'function'"
          ]
        }
      ],
      "source": [
        "palabras_python = {'lista': 'Una colección de valores  no relacionados, pero en un orden.',\n",
        "                   'diccionario': 'Una colección de pares llave-valor.',\n",
        "                   'funcion': 'Un código con un nombre que define un conjunto de instrucciones.',\n",
        "                   'for loop': 'Una secuencia de código que se repite un número determinado de veces.'\n",
        "                  }\n",
        "\n",
        "print('Las siguientes palabras han sido definidas:')\n",
        "for palabra in palabras_python:\n",
        "    print(f'- {palabra}')\n",
        "    \n",
        "# Allow the user to choose a word, and then display the meaning for that word.\n",
        "palabra_solicitada = input('\\nDe cual palabra deseas saber su significado')\n",
        "print(f' {palabra_solicitada}: {palabras_python[palabra_solicitada]}')"
      ]
    },
    {
      "cell_type": "markdown",
      "metadata": {
        "id": "3fExwd3LStSS"
      },
      "source": [
        "Esto permite al usuario seleccionar una palabra que ha sido definida. Si ponemos la sección de input en un loop while, el usuario puede ver tantas definiciones desee:\n",
        "\n"
      ]
    },
    {
      "cell_type": "code",
      "execution_count": null,
      "metadata": {
        "id": "MaXL6smkStSS",
        "colab": {
          "base_uri": "https://localhost:8080/"
        },
        "outputId": "30d8dfb1-77c7-4b46-a3e1-9135f4cf9bd4"
      },
      "outputs": [
        {
          "output_type": "stream",
          "name": "stdout",
          "text": [
            "Las siguientes palabras han sido definidas:\n",
            "- lista\n",
            "- diccionario\n",
            "- funcion\n",
            "- for loop\n",
            "\n",
            "De cual palabra deseas saber su significado (o 'quitar')lista\n",
            " lista: Una colección de valores  no relacionados, pero en un orden.\n",
            "\n",
            "De cual palabra deseas saber su significado (o 'quitar')diccionario\n",
            " diccionario: Una colección de pares llave-valor.\n",
            "\n",
            "De cual palabra deseas saber su significado (o 'quitar')lista\n",
            " lista: Una colección de valores  no relacionados, pero en un orden.\n",
            "\n",
            "De cual palabra deseas saber su significado (o 'quitar')lista\n",
            " lista: Una colección de valores  no relacionados, pero en un orden.\n",
            "\n",
            "De cual palabra deseas saber su significado (o 'quitar')lissssta\n",
            "\n",
            " Lo siento, no conozco esa palabra\n",
            "\n",
            "De cual palabra deseas saber su significado (o 'quitar')quitar\n",
            "\n",
            " Adios\n"
          ]
        }
      ],
      "source": [
        "palabras_python = {'lista': 'Una colección de valores  no relacionados, pero en un orden.',\n",
        "                   'diccionario': 'Una colección de pares llave-valor.',\n",
        "                   'funcion': 'Un código con un nombre que define un conjunto de instrucciones.',\n",
        "                   'for loop': 'Una secuencia de código que se repite un número determinado de veces.'\n",
        "                  }\n",
        "\n",
        "print('Las siguientes palabras han sido definidas:')\n",
        "for palabra in palabras_python:\n",
        "    print(f'- {palabra}')\n",
        "\n",
        "palabra_solicitada = ''\n",
        "\n",
        "while palabra_solicitada != 'quitar':\n",
        "  palabra_solicitada = input(\"\\nDe cual palabra deseas saber su significado (o 'quitar')\")\n",
        "  if palabra_solicitada in palabras_python.keys():\n",
        "    print(f' {palabra_solicitada}: {palabras_python[palabra_solicitada]}')\n",
        "  elif palabra_solicitada == 'quitar':\n",
        "    print('\\n Adios')\n",
        "  else:  \n",
        "    print('\\n Lo siento, no conozco esa palabra')"
      ]
    },
    {
      "cell_type": "markdown",
      "metadata": {
        "id": "8dASm07nStSS"
      },
      "source": [
        "[top](#top)"
      ]
    },
    {
      "cell_type": "markdown",
      "metadata": {
        "id": "XotZy_MPStST"
      },
      "source": [
        "<a name='loop_all_values'></a>Iterando todos los valores de un diccionario.\n",
        "---\n",
        "Python proporciona una sintáxis simple para iterar por todos los valores en un diccionario: "
      ]
    },
    {
      "cell_type": "code",
      "execution_count": null,
      "metadata": {
        "id": "i8brgnlyStST",
        "outputId": "bdf70112-cab1-40b9-b25c-b65861aa7941",
        "colab": {
          "base_uri": "https://localhost:8080/"
        }
      },
      "outputs": [
        {
          "output_type": "stream",
          "name": "stdout",
          "text": [
            "Llave: valor_1\n",
            "Llave: valor_2\n",
            "Llave: valor_3\n"
          ]
        }
      ],
      "source": [
        "mi_diccionario = {'llave_1': 'valor_1',\n",
        "    'llave_2': 'valor_2',\n",
        "    'llave_3': 'valor_3',\n",
        "    }\n",
        "\n",
        "for valor in mi_diccionario.values():\n",
        "    print(f'Llave: {valor}')"
      ]
    },
    {
      "cell_type": "markdown",
      "metadata": {
        "id": "T7mf-7P3StST"
      },
      "source": [
        "Podemos usar esta sintáxis de loop parajugar con un diccionario de ejemplo, haciendo un programa que haga pregutnas. El programa mostrará una definición y preguntará al usuario la palabra correspondiente. \n",
        "\n",
        "Primero hagamos el código que muestra todas las definiciones en el diccionario:"
      ]
    },
    {
      "cell_type": "code",
      "execution_count": null,
      "metadata": {
        "id": "76P7EeGjStST",
        "outputId": "7c152d9e-0a46-4d24-abca-69473f2a8761",
        "colab": {
          "base_uri": "https://localhost:8080/"
        }
      },
      "outputs": [
        {
          "output_type": "stream",
          "name": "stdout",
          "text": [
            "Significado: Una colección de valores  no relacionados, pero en un orden.\n",
            "Significado: Una colección de pares llave-valor.\n",
            "Significado: Un código con un nombre que define un conjunto de instrucciones.\n",
            "Significado: Una secuencia de código que se repite un número determinado de veces.\n"
          ]
        }
      ],
      "source": [
        "palabras_python = {'lista': 'Una colección de valores  no relacionados, pero en un orden.',\n",
        "                   'diccionario': 'Una colección de pares llave-valor.',\n",
        "                   'funcion': 'Un código con un nombre que define un conjunto de instrucciones.',\n",
        "                   'for loop': 'Una secuencia de código que se repite un número determinado de veces.'\n",
        "                  }\n",
        "\n",
        "for significado in palabras_python.values():\n",
        "    print(\"Significado: %s\" % significado) "
      ]
    },
    {
      "cell_type": "markdown",
      "metadata": {
        "id": "gOUsxmLMStST"
      },
      "source": [
        "Ahora agregamos una línea de entrada de datos, para preguntar la palabra:"
      ]
    },
    {
      "cell_type": "code",
      "execution_count": null,
      "metadata": {
        "id": "EmBRkY3pStSU",
        "colab": {
          "base_uri": "https://localhost:8080/",
          "height": 368
        },
        "outputId": "aca49b22-3209-4f7d-f81f-fa21cab4407d"
      },
      "outputs": [
        {
          "name": "stdout",
          "output_type": "stream",
          "text": [
            "\n",
            "Significado: Una colección de valores  no relacionados, pero en un orden.\n",
            "A que palabra corresponde la definición anterior? diccionario\n",
            "Lo siento, respuesta incorrecta\n",
            "\n",
            "Significado: Una colección de pares llave-valor.\n",
            "A que palabra corresponde la definición anterior? jdkdkd\n"
          ]
        },
        {
          "output_type": "error",
          "ename": "KeyError",
          "evalue": "ignored",
          "traceback": [
            "\u001b[0;31m---------------------------------------------------------------------------\u001b[0m",
            "\u001b[0;31mKeyError\u001b[0m                                  Traceback (most recent call last)",
            "\u001b[0;32m<ipython-input-74-4cf11eac507d>\u001b[0m in \u001b[0;36m<module>\u001b[0;34m\u001b[0m\n\u001b[1;32m     11\u001b[0m \u001b[0;34m\u001b[0m\u001b[0m\n\u001b[1;32m     12\u001b[0m     \u001b[0;31m# The guess is correct if the guessed word's meaning matches the current meaning.\u001b[0m\u001b[0;34m\u001b[0m\u001b[0;34m\u001b[0m\u001b[0;34m\u001b[0m\u001b[0m\n\u001b[0;32m---> 13\u001b[0;31m     \u001b[0;32mif\u001b[0m \u001b[0mpalabras_python\u001b[0m\u001b[0;34m[\u001b[0m\u001b[0mguess\u001b[0m\u001b[0;34m]\u001b[0m \u001b[0;34m==\u001b[0m \u001b[0msignificado\u001b[0m\u001b[0;34m:\u001b[0m\u001b[0;34m\u001b[0m\u001b[0;34m\u001b[0m\u001b[0m\n\u001b[0m\u001b[1;32m     14\u001b[0m         \u001b[0mprint\u001b[0m\u001b[0;34m(\u001b[0m\u001b[0;34m\"Correcto!\"\u001b[0m\u001b[0;34m)\u001b[0m\u001b[0;34m\u001b[0m\u001b[0;34m\u001b[0m\u001b[0m\n\u001b[1;32m     15\u001b[0m     \u001b[0;32melse\u001b[0m\u001b[0;34m:\u001b[0m\u001b[0;34m\u001b[0m\u001b[0;34m\u001b[0m\u001b[0m\n",
            "\u001b[0;31mKeyError\u001b[0m: 'jdkdkd'"
          ]
        }
      ],
      "source": [
        "palabras_python = {'lista': 'Una colección de valores  no relacionados, pero en un orden.',\n",
        "                   'diccionario': 'Una colección de pares llave-valor.',\n",
        "                   'funcion': 'Un código con un nombre que define un conjunto de instrucciones.',\n",
        "                   'for loop': 'Una secuencia de código que se repite un número determinado de veces.'\n",
        "                  }\n",
        "\n",
        "for significado in palabras_python.values():\n",
        "    \n",
        "    print(f'\\nSignificado: {significado}')\n",
        "    guess = input(\"A que palabra corresponde la definición anterior? \")\n",
        "    \n",
        "    # The guess is correct if the guessed word's meaning matches the current meaning.\n",
        "    if palabras_python[guess] == significado:\n",
        "        print(\"Correcto!\")\n",
        "    else:\n",
        "        print(\"Lo siento, respuesta incorrecta\")\n"
      ]
    },
    {
      "cell_type": "markdown",
      "source": [
        "Para que tome en cuenta cuando se teclea mal una palabra usamos la estructura `try: -  except:`"
      ],
      "metadata": {
        "id": "jBIy60YzeZbE"
      }
    },
    {
      "cell_type": "code",
      "source": [
        "palabras_python = {'lista': 'Una colección de valores  no relacionados, pero en un orden.',\n",
        "                   'diccionario': 'Una colección de pares llave-valor.',\n",
        "                   'funcion': 'Un código con un nombre que define un conjunto de instrucciones.',\n",
        "                   'for loop': 'Una secuencia de código que se repite un número determinado de veces.'\n",
        "                  }\n",
        "\n",
        "for significado in palabras_python.values():\n",
        "    print(\"\\nSignificado: %s\" % significado)\n",
        "    guess = input(\"A que palabra corresponde la definición anterior? \")\n",
        "    \n",
        "    # The guess is correct if the guessed word's meaning matches the current meaning.\n",
        "    try:\n",
        "        if palabras_python[guess] == significado:\n",
        "          print(\"Correcto!\")\n",
        "        else:\n",
        "          print(\"Lo siento, respuesta incorrecta\")  \n",
        "    except KeyError:\n",
        "        print(\"Lo siento, respuesta incorrecta\")\n"
      ],
      "metadata": {
        "id": "5kxWv-Hvaxt5"
      },
      "execution_count": null,
      "outputs": []
    },
    {
      "cell_type": "markdown",
      "metadata": {
        "id": "ru5V6hMdStSW"
      },
      "source": [
        "[top](#top)"
      ]
    },
    {
      "cell_type": "markdown",
      "metadata": {
        "id": "K5KVFTYcStSW"
      },
      "source": [
        "<a name=\"looping_in_order\"></a>Iterando un diccionario en orden\n",
        "===\n",
        "Los diccionarios son muy utiles porque permiten que la información se relacione. Uno de los problemas con los diccionarios es que no almacenan información en un orden en particular. Cuando extras información de un diccionario, no sabes en que orden saldrá. Hay una menera rápidoa y fácil de hacerlo en un orden si lo deseas.\n",
        "\n",
        "Miremos que pasa con el orden is hacemos *dictionary.keys()*: "
      ]
    },
    {
      "cell_type": "code",
      "execution_count": 3,
      "metadata": {
        "id": "ZXkYDYBBStSW",
        "colab": {
          "base_uri": "https://localhost:8080/"
        },
        "outputId": "c58d6af4-afc6-48bf-d946-9205935a1a68"
      },
      "outputs": [
        {
          "output_type": "stream",
          "name": "stdout",
          "text": [
            "Estética\n",
            "Etica\n",
            "Metafísica\n",
            "Lógica\n",
            "Gnoseología\n",
            "Epistemología\n",
            "Política\n",
            "Lenguaje\n",
            "Naturaleza\n",
            "Ciencia\n",
            "Religión\n"
          ]
        }
      ],
      "source": [
        "filosofia = {'Estética': 'Es la reflexión crítica del arte y la belleza.', \\\n",
        "             'Etica': 'Estudia que constituye la buena y mala conducta, valores buenos y malos.', \\\n",
        "             'Metafísica': 'Estudia la naturaleza, estructura, componentes y principios fundamentales de la realidad.', \\\n",
        "             'Lógica': 'Estudia los principios de la demostración y la inferencia, falacias, paradojas y la noción de verdad.', \\\n",
        "             'Gnoseología': 'Estudia la fenomenología del conocimiento.', \\\n",
        "             'Epistemología': 'Estudia el conocimiento científico, su naturaleza, posibilidad, alcance y fundamentos.',\\\n",
        "             'Política': 'Estudia cómo debería ser la relación entre las personas y la sociedad.',\\\n",
        "             'Lenguaje': 'Estudia el lenguaje y su relación con el pensamiento y el mundo.',\\\n",
        "             'Naturaleza': 'Estudio filosófico de la naturaleza y el universo físico.',\\\n",
        "             'Ciencia': 'Investiga el conocimiento científico y la práctica científica.',\\\n",
        "             'Religión': 'Estudia a la religión, la espiritualidad, como una manifestación humana consciente sobre la existencia.'\n",
        "                  }\n",
        "\n",
        "\n",
        "for rama in filosofia.keys():\n",
        "    print(rama)"
      ]
    },
    {
      "cell_type": "markdown",
      "metadata": {
        "id": "jqC_390hStSW"
      },
      "source": [
        "Para imprimir el diccionario en orden alfabético hacemos:"
      ]
    },
    {
      "cell_type": "code",
      "execution_count": 1,
      "metadata": {
        "id": "NLVYbOp3StSX",
        "colab": {
          "base_uri": "https://localhost:8080/",
          "height": 183
        },
        "outputId": "03ab3262-c833-4fea-e63e-fc65cfd45cbc"
      },
      "outputs": [
        {
          "output_type": "error",
          "ename": "NameError",
          "evalue": "ignored",
          "traceback": [
            "\u001b[0;31m---------------------------------------------------------------------------\u001b[0m",
            "\u001b[0;31mNameError\u001b[0m                                 Traceback (most recent call last)",
            "\u001b[0;32m<ipython-input-1-6cff0a2cef75>\u001b[0m in \u001b[0;36m<module>\u001b[0;34m\u001b[0m\n\u001b[0;32m----> 1\u001b[0;31m \u001b[0;32mfor\u001b[0m \u001b[0mrama\u001b[0m \u001b[0;32min\u001b[0m \u001b[0msorted\u001b[0m\u001b[0;34m(\u001b[0m\u001b[0mfilosofia\u001b[0m\u001b[0;34m.\u001b[0m\u001b[0mkeys\u001b[0m\u001b[0;34m(\u001b[0m\u001b[0;34m)\u001b[0m\u001b[0;34m)\u001b[0m\u001b[0;34m:\u001b[0m\u001b[0;34m\u001b[0m\u001b[0;34m\u001b[0m\u001b[0m\n\u001b[0m\u001b[1;32m      2\u001b[0m     \u001b[0mprint\u001b[0m\u001b[0;34m(\u001b[0m\u001b[0mrama\u001b[0m\u001b[0;34m)\u001b[0m\u001b[0;34m\u001b[0m\u001b[0;34m\u001b[0m\u001b[0m\n",
            "\u001b[0;31mNameError\u001b[0m: name 'filosofia' is not defined"
          ]
        }
      ],
      "source": [
        "for rama in sorted(filosofia.keys()):\n",
        "    print(rama)\n"
      ]
    },
    {
      "cell_type": "markdown",
      "metadata": {
        "id": "kXXxFfm4StSX"
      },
      "source": [
        "This approach can be used to work with the keys and values in order. For example, the words and meanings can be printed in alphabetical order by word:"
      ]
    },
    {
      "cell_type": "code",
      "execution_count": null,
      "metadata": {
        "id": "wyL46gc4StSX"
      },
      "outputs": [],
      "source": [
        "for rama in sorted(filosofia.keys()):\n",
        "    print(f'{rama}: \\t{filosofia[rama]}')\n"
      ]
    },
    {
      "cell_type": "markdown",
      "metadata": {
        "id": "mgO6wDcAStSX"
      },
      "source": [
        "En el ejemplo pasado, las llaves se ordenaron, solo para el loop; Python no ha cambiado la manera en que los keywords estan almacenados, cuando se llame el diccionario, estará en cualesquier otro orden. "
      ]
    },
    {
      "cell_type": "markdown",
      "metadata": {
        "id": "G-cFDeK8StSX"
      },
      "source": [
        "[top](#top)"
      ]
    },
    {
      "cell_type": "markdown",
      "metadata": {
        "id": "zYa3K_rUStSX"
      },
      "source": [
        "<a name='exercises_looping'></a>Ejercicios\n",
        "---\n",
        "#### <a name='exercise_mountain_heights'></a>Altura de montañas 1\n",
        "- Wikipedia tiene una lista de [las montañas mas latas del mundo](http://en.wikipedia.org/wiki/List_of_mountains_by_elevation), con la elevaci´no de cada una. Elije las primeras cinco. \n",
        "    - Haz un diccionario con el nombre de las montañas como  llaves, y las elevaciones como los valores. \n",
        "    - Imprime los nombres de las montañas iterando las llaves del diccionario. \n",
        "    - Imprime solamente las elevaciones, iterando los valores del diccionario. \n",
        "    - Imprime una serie de enunciados diciendo que tan alta es cada montaña, ej: \"Everest tiene una elevación de 8848 metros\".\n",
        "    - Asegurate que haya una frase introductoria antes de cada loop que se pidió arriba. \n",
        "    - Asegurate que hay un espacio en blanco entre cada grupo de enunciados. \n",
        "\n",
        "#### Altura de montañas 2\n",
        "- Repite el ejercicio anterior pero con las llaves en orden alfabético."
      ]
    },
    {
      "cell_type": "code",
      "execution_count": null,
      "metadata": {
        "id": "CZS82gm8StSY"
      },
      "outputs": [],
      "source": [
        "# Ex 7.5 : Mountain Heights\n",
        "\n",
        "# put your code here"
      ]
    },
    {
      "cell_type": "code",
      "execution_count": null,
      "metadata": {
        "id": "3oWvbDCcStSY"
      },
      "outputs": [],
      "source": [
        "# Ex 7.6 : Mountain Heights 2\n",
        "\n",
        "# put your code here"
      ]
    },
    {
      "cell_type": "markdown",
      "metadata": {
        "id": "FLNzVRgYStSY"
      },
      "source": [
        "[top](#top)"
      ]
    },
    {
      "cell_type": "markdown",
      "metadata": {
        "id": "JdE_IQtAStSY"
      },
      "source": [
        "<a name='nesting'></a>Anidado (Nesting)\n",
        "===\n",
        "El Anidado es uno de los conceptos mas poderosos en programación. Anidar involucra colocar una lista o diccionario dentro de otroa lista o diccioario. Vamos a mirar varios ejemplos abajo. Con el anidado, los tipos de información que podemos modelar en nuestros programas se diversifica bastante. "
      ]
    },
    {
      "cell_type": "markdown",
      "metadata": {
        "id": "bXeEzJmfStSY"
      },
      "source": [
        "<a name='lists_in_dictionary'></a>Listas en un diccionario. \n",
        "---\n",
        "Un diccionario conecta dos piezas de información. Esas dos piezas de información pueden ser cualquier estructura de datos en Python. Sigamos utilizando cadenas de texto para nuetras llaves y ahora probemos una lista como el valor. \n",
        "\n",
        "El primer ejemplo involucra almancenar las calificaciones de personas, y sus valores estan alamancenados como listas. En este ejemplo accesaremos una persona a la vez. \n",
        "\n"
      ]
    },
    {
      "cell_type": "code",
      "execution_count": null,
      "metadata": {
        "id": "PjrGhCVkStSY"
      },
      "outputs": [],
      "source": [
        "# This program stores scores\n",
        "califs = {'Ron': [56, 71, 79, 73, 82],\n",
        "          'Hermione': [89, 94, 95, 99, 90],\n",
        "          'Harry': [55, 65, 72, 71, 85]\n",
        "         }\n",
        "\n",
        "# Display each person's scores\n",
        "print(\"\\nLas calificaciones de Ron son:\")\n",
        "print(califs['Ron'])\n",
        "\n",
        "print(\"\\nLas calificaciones de Hermione son:\")\n",
        "print(califs['Hermione'])\n",
        "\n",
        "print(\"\\nLas calificaciones de Harry son:\")\n",
        "print(califs['Harry'])"
      ]
    },
    {
      "cell_type": "markdown",
      "metadata": {
        "id": "TEPXY6U2StSZ"
      },
      "source": [
        "Usemos un código mas compacto:"
      ]
    },
    {
      "cell_type": "code",
      "execution_count": null,
      "metadata": {
        "id": "PQUMAB-3StSZ"
      },
      "outputs": [],
      "source": [
        "# This program stores scores\n",
        "califs = {'Ron': [56, 71, 79, 73, 82],\n",
        "          'Hermione': [89, 94, 95, 99, 90],\n",
        "          'Harry': [55, 65, 72, 71, 85]\n",
        "         }\n",
        "\n",
        "# Display each person's favorite numbers.\n",
        "for estudiante in califs:\n",
        "    print(f'\\nLas calificaciones de {estudiante} son: {califs[estudiante]}')\n",
        "    "
      ]
    },
    {
      "cell_type": "markdown",
      "metadata": {
        "id": "arSzKU_CStSZ"
      },
      "source": [
        "Esta estructura es ligeramente mas compleja que una lista, iremos agregandole complejidad poco a poco. El sentido del diccionario es simple, cada persona tiene una lista de calificacioens. "
      ]
    },
    {
      "cell_type": "markdown",
      "metadata": {
        "id": "K2THcTkCStSa"
      },
      "source": [
        "Podemos hacer dos iteraciones, una para los nombres de estudiantes, y otra para sus calificaciones. Ahora no estamos aplicando ninguna operación, pero dentro de cada loop podrías realizar cualquier operación deseada. \n"
      ]
    },
    {
      "cell_type": "code",
      "source": [
        "califs = {'Ron': [56, 71, 79, 73, 82],\n",
        "          'Hermione': [89, 94, 95, 99, 90],\n",
        "          'Harry': [55, 65, 72, 71, 85]\n",
        "         }\n",
        "\n",
        "materias = ['Pociones','Herbolaría','Adivinación','Defensa contra las Artes Obscuras', 'Astronomía']\n",
        "\n",
        "# Display each person's favorite numbers.\n",
        "for estudiante in califs:\n",
        "    print(f'\\nLas calificaciones de {estudiante} son:')\n",
        "    for  materia, cal in zip(materias, califs[estudiante]):\n",
        "      print(f'{materia}: \\t {cal}') \n"
      ],
      "metadata": {
        "id": "1RbMfFgqeuyc"
      },
      "execution_count": null,
      "outputs": []
    },
    {
      "cell_type": "markdown",
      "metadata": {
        "id": "sM9BOfZyStSb"
      },
      "source": [
        "[top](#top)"
      ]
    },
    {
      "cell_type": "markdown",
      "metadata": {
        "id": "A6cunx-9StSb"
      },
      "source": [
        "<a name='dictionaries_in_dictionary'></a>Diccionarios dentro de un diccionario\n",
        "---\n",
        "\n",
        "El concepto mas poderoso de anidado en python, es anidar un diccionario dentro de un diccionario. \n",
        "\n",
        "Para demostración, hagamos un diccionario de mascotas, \n",
        "con información sobre cada mascota. Las llaves para el diccionario consisitirán del nombre de la mascota. Los valores incluiran información sobre el tipo de animal, el nombre del humano, y si ha sido vacunado."
      ]
    },
    {
      "cell_type": "code",
      "execution_count": null,
      "metadata": {
        "id": "oNYGTHTcStSb",
        "colab": {
          "base_uri": "https://localhost:8080/"
        },
        "outputId": "b8a0a58d-8c1a-46a0-f7a5-403981ed6ce5"
      },
      "outputs": [
        {
          "output_type": "stream",
          "name": "stdout",
          "text": [
            "\n",
            "Esto es lo que se de Snoopy\n",
            "Especie: perro\n",
            "Humano: Charlie\n",
            "Vacunado: True\n",
            "\n",
            "Esto es lo que se de Burocracia\n",
            "Especie: tortuga\n",
            "Humano: Mafalda\n",
            "Vacunado: False\n",
            "\n",
            "Esto es lo que se de Jonesy\n",
            "Especie: gato\n",
            "Humano: Ellen\n",
            "Vacunado: True\n"
          ]
        }
      ],
      "source": [
        "# This program stores information about pets. For each pet,\n",
        "#   we store the kind of animal, the owner's name, and\n",
        "#   the breed.\n",
        "mascotas = {'Snoopy': {'especie': 'perro', 'humano': 'Charlie', 'vacunado': True},\n",
        "        'Burocracia': {'especie': 'tortuga', 'humano': 'Mafalda', 'vacunado': False},\n",
        "        'Jonesy': {'especie': 'gato', 'humano': 'Ellen', 'vacunado': True},\n",
        "    }\n",
        "\n",
        "# Let's show all the information for each pet.\n",
        "print('\\nEsto es lo que sabemos de Snoopy')\n",
        "print(f\"Especie: {mascotas['Snoopy']['especie']}\")\n",
        "print(f\"Humano: {mascotas['Snoopy']['humano']}\")\n",
        "print(f\"Vacunado: {mascotas['Snoopy']['vacunado']}\")\n",
        "\n",
        "print('\\nEsto es lo que sabemos de Burocracia')\n",
        "print(f\"Especie: {mascotas['Burocracia']['especie']}\")\n",
        "print(f\"Humano: {mascotas['Burocracia']['humano']}\")\n",
        "print(f\"Vacunado: {mascotas['Burocracia']['vacunado']}\")\n",
        "\n",
        "print('\\nEsto es lo que sabemos de Jonesy')\n",
        "print(f\"Especie: {mascotas['Jonesy']['especie']}\")\n",
        "print(f\"Humano: {mascotas['Jonesy']['humano']}\")\n",
        "print(f\"Vacunado: {mascotas['Jonesy']['vacunado']}\")\n",
        "\n",
        "#'https://i0.wp.com/bloody-disgusting.com/wp-content/uploads/2018/05/jonesy.jpg?w=1366&ssl=1'\n",
        "#'https://upload.wikimedia.org/wikipedia/en/5/53/Snoopy_Peanuts.png'\n",
        "#'https://ruizhealytimes.com/wp-content/uploads/2017/08/mafalda-y-su-tortuga-burocracia.jpg'"
      ]
    },
    {
      "cell_type": "markdown",
      "metadata": {
        "id": "wt1S-1-EStSc"
      },
      "source": [
        "Claramente este es un código repetitico, pero muestra exactamente como se accesa la información anidada en el diccionario. En el primer conjunto de enunciados con el `print`, usamos 'Snoopy' para accesar la 'especie' de animal, el 'humano' que lo cuida, y si esta o no 'vacunado'. \n",
        "\n",
        "Reescribamos este programa en un loop para ir por cada una de las llaves del diccionario:\n"
      ]
    },
    {
      "cell_type": "code",
      "execution_count": null,
      "metadata": {
        "id": "77aUUucCStSc"
      },
      "outputs": [],
      "source": [
        "# This program stores information about pets. For each pet,\n",
        "#   we store the kind of animal, the owner's name, and\n",
        "#   the breed.\n",
        "\n",
        "\n",
        "# Let's show all the information for each pet, \n",
        "# Un print para cada llave dentro del nombre del diccionario de cada mascota\n"
      ]
    },
    {
      "cell_type": "markdown",
      "metadata": {
        "id": "33md6ed9StSd"
      },
      "source": [
        "El código es mas corto y mas fácil de mantener. Pero puede mejorarse con un segudo loop, para iterar por todas las características de cada mascota."
      ]
    },
    {
      "cell_type": "code",
      "execution_count": null,
      "metadata": {
        "id": "RkNbjtIlStSd"
      },
      "outputs": [],
      "source": [
        "# This program stores information about pets. For each pet,\n",
        "#   we store the kind of animal, the owner's name, and\n",
        "#   the breed.\n",
        "\n",
        "\n",
        "# Let's show all the information for each pet, \n",
        "# Un for para iterar las llaves dentro del nombre del diccionario de cada mascota\n"
      ]
    },
    {
      "cell_type": "markdown",
      "metadata": {
        "id": "7C1ErJi1StSd"
      },
      "source": [
        "Este loop anidado puede verse un poco complicado, pero podemos entenderlo:\n",
        "\n",
        "- El primer loop nos dice todas las llaves del diccionario, que consiste en los nombres de las mascotas.\n",
        "- Cada uno de esos nombres abre el diccionario con la información de la mascota.\n",
        "- El loop interior itera sobre el diccionario individual de cada mascota, y saca todas las llaves de cada mascota.\n",
        "- Imprimos la llave, que nos dice que información vamos a ver, y el valor en esa llave.\n",
        "\n",
        "    \n"
      ]
    },
    {
      "cell_type": "markdown",
      "metadata": {
        "id": "J6vTkK_lStSe"
      },
      "source": [
        "<a name='important_note'></a>Nota importante sobre anidado\n",
        "---\n",
        "Mientras que un nivel de anidado es realmente íutil, anidar otro nivel se complica mas rápidamente.\n",
        "Hay otras estructuras en python como las **clases**\n",
        "Que son mas útil para modelar información, podemos usar Pytthon para almacenar información en una base de datos, que es la manera apropiada para almacenar información anidada.\n",
        "\n",
        "Frecuentemente cuando almancenas información en una base de datos, obtendrás un conjunto pequeño de esa información y la pondrás en otro diccionario, ouna estructura ligeramente anidada, y luego trabajar co ella. Pero raramente trabajaras en Python con estructuras con mas de un nivel de anidado. "
      ]
    },
    {
      "cell_type": "markdown",
      "metadata": {
        "id": "mSi5yIYMStSe"
      },
      "source": [
        "<a name='exercises_nesting'></a>Ejercicios\n",
        "---\n",
        "#### Sistema Solar\n",
        "En la página [planetas terrestres cercanos](https://en.wikipedia.org/wiki/List_of_nearest_terrestrial_exoplanet_candidates) \n",
        "hay una tabla con distancias a esos planetas, las distancias estan en años luz. Convierte esas distancias a metros y a parsecs (Los primeros 10 planetas). \n",
        "    - Crea un diccionario donde las llaves del diccionario son los nombres de los planetas. Los valores del diccionario son las distancias en años luz, metros y parsecs, así: {'Proxima Centauri_b': []} \n",
        "    - Imprime los nombres iterando las llaves del diccionario.\n",
        "    - Imprime las distancias en parsecs irerando el tercer elemento de la lista.\n",
        "    - Imprime las distancias en metros irerando el tercer elemento de la lista. \n",
        "    - Imprime una serie de enunciados que diga la distancia a cada planeta: \"Proxima Centauri_b esta a una distancia de X metros, o X parsecs\""
      ]
    },
    {
      "cell_type": "markdown",
      "metadata": {
        "id": "xPt0cM7OStSf"
      },
      "source": [
        "[top](#top)"
      ]
    },
    {
      "cell_type": "markdown",
      "metadata": {
        "id": "B0fWnyQuStSf"
      },
      "source": [
        "<a name='overall_challenges'></a>Overall Challenges\n",
        "===\n",
        "#### Word Wall\n",
        "- A word wall is a place on your wall where you keep track of the new words and meanings you are learning. Write a terminal app that lets you enter new words, and a meaning for each word.\n",
        "    - Your app should have a title bar that says the name of your program.\n",
        "    - Your program should give users the option to see all words and meanings that have been entered so far.\n",
        "    - Your program should give users the option to enter a new word and meaning.\n",
        "        - Your program must not allow duplicate entries.\n",
        "    - Your program should store existing words and meanings, even after the program closes.\n",
        "    - Your program should give users the option to modify an existing meaning.\n",
        "- Bonus Features\n",
        "    - Allow users to modify the spelling of words.\n",
        "    - Allow users to categorize words.\n",
        "    - Turn the program into a game that quizzes users on words and meanings.\n",
        "    - (later on) Turn your program into a website that only you can use.\n",
        "    - (later on) Turn your program into a website that anyone can register for, and use.\n",
        "    - Add a visualization feature that reports on some statistics about the words and meanings that have been entered.\n",
        "\n",
        "#### Periodic Table App\n",
        "- The [Periodic Table](http://www.ptable.com/) of the Elements was developed to organize information about the elements that make up the Universe. Write a terminal app that lets you enter information about each element in the periodic table.\n",
        "    - Make sure you include the following information:\n",
        "        - symbol, name, atomic number, row, and column\n",
        "    - Choose at least one other piece of information to include in your app.\n",
        "    - Provide a menu of options for users to:\n",
        "        - See all the information that is stored about any element, by entering that element's symbol.\n",
        "        - Choose a property, and see that property for each element in the table.\n",
        "- Bonus Features\n",
        "    - Provide an option to view the symbols arranged like the periodic table. ([hint](#hints_periodic_table))"
      ]
    },
    {
      "cell_type": "code",
      "execution_count": null,
      "metadata": {
        "id": "OiKOXZ99StSf"
      },
      "outputs": [],
      "source": [
        "# Challenge: Word Wall\n",
        "\n",
        "# put your code here"
      ]
    },
    {
      "cell_type": "code",
      "execution_count": null,
      "metadata": {
        "id": "aMIu_iRDStSg"
      },
      "outputs": [],
      "source": [
        "# Challenge: Periodic Table App\n",
        "\n",
        "# put your code here"
      ]
    },
    {
      "cell_type": "markdown",
      "metadata": {
        "id": "sI0kHZDcStSg"
      },
      "source": [
        "[top](#top)"
      ]
    },
    {
      "cell_type": "markdown",
      "metadata": {
        "id": "jTgDFsb3StSg"
      },
      "source": [
        "Hints\n",
        "===\n",
        "#### <a name='hints_periodic_table'></a>Periodic Table App\n",
        "- You can use a for loop to loop through each element. Pick out the elements' row numbers and column numbers.\n",
        "- Use two nested for loops to print either an element's symbol or a series of spaces, depending on how full that row is."
      ]
    },
    {
      "cell_type": "code",
      "source": [],
      "metadata": {
        "id": "eJLjQh7qB4aM"
      },
      "execution_count": null,
      "outputs": []
    }
  ],
  "metadata": {
    "kernelspec": {
      "display_name": "Python 3",
      "language": "python",
      "name": "python3"
    },
    "language_info": {
      "codemirror_mode": {
        "name": "ipython",
        "version": 3
      },
      "file_extension": ".py",
      "mimetype": "text/x-python",
      "name": "python",
      "nbconvert_exporter": "python",
      "pygments_lexer": "ipython3",
      "version": "3.5.1"
    },
    "colab": {
      "provenance": [],
      "collapsed_sections": [
        "J6vTkK_lStSe"
      ],
      "include_colab_link": true
    }
  },
  "nbformat": 4,
  "nbformat_minor": 0
}