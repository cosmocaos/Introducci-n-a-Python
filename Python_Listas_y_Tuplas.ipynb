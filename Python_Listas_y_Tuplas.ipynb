{
  "cells": [
    {
      "cell_type": "markdown",
      "metadata": {
        "id": "view-in-github",
        "colab_type": "text"
      },
      "source": [
        "<a href=\"https://colab.research.google.com/github/cosmocaos/Introduccion_a_Python/blob/main/Python_Listas_y_Tuplas.ipynb\" target=\"_parent\"><img src=\"https://colab.research.google.com/assets/colab-badge.svg\" alt=\"Open In Colab\"/></a>"
      ]
    },
    {
      "cell_type": "markdown",
      "metadata": {
        "id": "Nihy0myC_KOk"
      },
      "source": [
        "# Listas, typlas y conjuntos. "
      ]
    },
    {
      "cell_type": "markdown",
      "metadata": {
        "id": "gbYPn_QF_KQM"
      },
      "source": [
        " En esta libreta, aprenderás a almacenar más de un dato en una sola variable. \n",
        "\n",
        "Esto  es una de las ideas mas poderosas en programación y nos introducirá en varios otros conceptos fundamentales de la programación. \n",
        "\n",
        "Al comprender el material de esta libreta, aumentarán tus habilidades como programador. \n"
      ]
    },
    {
      "cell_type": "markdown",
      "metadata": {
        "id": "vBGL58nL_KQW"
      },
      "source": [
        "<a name=\"top\"></a> Contents\n",
        "===\n",
        "- [Listas](#lists)\n",
        "    - [Introducción a las Listas](#introducing)\n",
        "        - [Ejemplo](#example)\n",
        "        - [Nombrando y definiendo una lista](#naming)\n",
        "        - [Accesando un elemento de una lista](#accessing_one_item)\n",
        "        - [Ejercicios](#exercises_list_introduction)\n",
        "    - [Iteración de listas](#looping)\n",
        "        - [Accesando todos los elementos de una lista](#accessing_all_elements)\n",
        "        - [Enumerando una lista](#enumerating_list)\n",
        "        - [Ejercicios](#exercises_list_loop)\n",
        "    - [Operaciones comunes](#common_operations)\n",
        "        - [Modificando elementos en una lista](#modifying_elements)\n",
        "        - [Encontrando elementos en una lista](#finding_elements)\n",
        "        - [Probando si hay un elemento en una lista](#testing_elements)\n",
        "        - [Agregando elementos a una lista](#adding_items)\n",
        "        - [Crear una lista vacia](#empty_list)\n",
        "        - [Ordenando una lista](#sorting_list)\n",
        "        - [Encontrar longitud de una lista](#length)\n",
        "        - [Ejercicios](#exercises_common_operations)\n",
        "    - [Remover elementos de una lista](#removing_items)\n",
        "        - [Remover elementos por posición](#removing_by_position)\n",
        "        - [Remover elementos por valor](#removing_by_value)\n",
        "        - [Popping](#popping)\n",
        "        - [Ejercicios](#exercises_removing_items)\n",
        "    - [Uso de funciones](#functions)\n",
        "    - [Rebanando una lista](#slicing)\n",
        "        - [Copiando una lista](#copying)\n",
        "        - [Ejercicios](#exercises_slicing)\n",
        "    - [Listas númericas](#numerical_lists)\n",
        "        - [La función *range()*](#range_function)\n",
        "        - [Las funciones *min()*, *max()*, *sum()*](#min_max_sum)\n",
        "        - [Ejercicios](#exercises_numerical)\n",
        "    - [Comprensión de listas](#comprehensions)\n",
        "        - [Comprensiones númericas](#comprehensions_numerical)\n",
        "        - [Comprensiones no-númericas](#comprehensions_non_numerical)\n",
        "        - [Ejercicios](#exercises_comprehensions)\n",
        "    - [Listas númericas](#strings_as_lists)\n",
        "        - [Cadenas como listas de caracteres](#list_of_characters)\n",
        "        - [Rebanando cadenas](#slicing_strings)\n",
        "        - [Encontrando subcadenas](#finding_substrings)\n",
        "        - [Reemplazando subcadenas](#replacing_substrings)\n",
        "        - [Contando subcadenas](#counting_substrings)\n",
        "        - [Cortando cadenas](#splitting_strings)\n",
        "        - [Otros metódos para cadenas](#other_string_methods)\n",
        "        - [Ejercicios](#exercises_strings_as_lists)\n",
        "        - [Desafio](#challenges_strings_as_lists)\n",
        "    - [Tuplas](#tuples)\n",
        "        - [Definiendo tuplas y accesando elementos](#defining_tuples)\n",
        "        - [Usando tuplas para crear cadenas](#tuples_strings)\n",
        "        - [Ejercicios](#exercises_tuples)\n",
        "    - [Conjuntos](#sets)\n",
        "        - [Operaciones básicas](#set_operations)\n",
        "        - [Ejercicios](#exercise_set)\n",
        "    - [Desafio final](#challenges_overall)"
      ]
    },
    {
      "cell_type": "markdown",
      "metadata": {
        "id": "FkylCAgc_KRw"
      },
      "source": [
        "<a name='lists'></a>Listas\n",
        "==="
      ]
    },
    {
      "cell_type": "markdown",
      "metadata": {
        "id": "BEZynwtO_KRz"
      },
      "source": [
        "<a name='introducing'></a>Introducción a las Listas\n",
        "===\n",
        "<a name='example'></a>Ejemplo\n",
        "---\n",
        "Una lista es una colección de elementos almacenados en una variable. Los elementos deben estar relacionados de alguna manera, pero no hay restricciones en que puede ser almacenado en una lista. \n",
        "A continuación vemos un ejemplo de una lista y como podemos accesar cada elemento en la lista. "
      ]
    },
    {
      "cell_type": "code",
      "execution_count": 3,
      "metadata": {
        "id": "n9SQsLTG_KR1",
        "outputId": "2ff4a363-6330-4521-d365-af69c09d8bda",
        "colab": {
          "base_uri": "https://localhost:8080/"
        }
      },
      "outputs": [
        {
          "output_type": "stream",
          "name": "stdout",
          "text": [
            "Hola, Berenice!\n",
            "Hola, Aaron!\n",
            "Hola, Carlos!\n"
          ]
        }
      ],
      "source": [
        "estudiantes = ['berenice', 'aaron', 'carlos']\n",
        "\n",
        "for estudiante in estudiantes:\n",
        "    print(\"Hola, \" + estudiante.title() + \"!\")"
      ]
    },
    {
      "cell_type": "markdown",
      "metadata": {
        "id": "_S8V4cdc_KS8"
      },
      "source": [
        "<a name='naming'></a>Nombrando y definiendo una lista\n",
        "---\n",
        "Ya que las listas son colecciones de objetos, es una buena practica darles nombres en plural. Si cada elemento en la lista es un automóvil, llama a la lista 'automoviles'. Si cada elementos en la lista es un perro, llama a la lista 'perros'. La lista entera se llamará 'perros' y cada elemento se llamará 'perro'."
      ]
    },
    {
      "cell_type": "markdown",
      "metadata": {
        "id": "N1quGs46_KS_"
      },
      "source": [
        "\n",
        "En Python, los corchetes cuadrados designan una lista. Para definir una lista, le das un nombre, luego el signo igual, y luego los datos que quieres incluir en la lista dentro de los corchetes. "
      ]
    },
    {
      "cell_type": "code",
      "execution_count": 4,
      "metadata": {
        "id": "v_UoAcKH_KT5"
      },
      "outputs": [],
      "source": [
        "perros = ['border collie', \n",
        "        'beagle', \n",
        "        'chihuahua']"
      ]
    },
    {
      "cell_type": "markdown",
      "metadata": {
        "id": "1ceCTaSn_KU1"
      },
      "source": [
        "<a name='accessing_one_item'></a>Accesando un elemento de la list\n",
        "---\n",
        "Los elementos en la lista están identificados por su posición en la lista, comenzando en cero. Se debe tener cuidado en eso, para no cometer el error llamado \"off-by-one\"."
      ]
    },
    {
      "cell_type": "markdown",
      "metadata": {
        "id": "hVEExKf9_KU3"
      },
      "source": [
        "Para accear el primer elemento en una lista, dale el nombre de la lisa, seguido por un cero entre corchetes cuadrados. \n"
      ]
    },
    {
      "cell_type": "code",
      "execution_count": 5,
      "metadata": {
        "id": "GId-A7xf_KU4",
        "outputId": "722ae34a-12af-481e-df73-00f952974712",
        "colab": {
          "base_uri": "https://localhost:8080/"
        }
      },
      "outputs": [
        {
          "output_type": "stream",
          "name": "stdout",
          "text": [
            "Border Collie\n"
          ]
        }
      ],
      "source": [
        "perros = ['border collie', \n",
        "        'beagle', \n",
        "        'chihuahua']\n",
        "\n",
        "perro = perros[0]\n",
        "print(perro.title())"
      ]
    },
    {
      "cell_type": "markdown",
      "metadata": {
        "id": "7Dx17AOh_KW0"
      },
      "source": [
        "El número entre parentesís es llamado el indice del elemento. \n",
        "\n",
        "Ya que las listas inician en cero, el indice de un elemento es siempre uno menos que la posición que tiene en la lista.  \n",
        "\n",
        "Se dice que **Python** es un un lenguaje [*zero-indexed*](http://en.wikipedia.org/wiki/Zero-based_numbering) (Al igual que otros como `C`, ó `Java`)"
      ]
    },
    {
      "cell_type": "markdown",
      "metadata": {
        "id": "F_rujHj9_KW2"
      },
      "source": [
        "Así que para obtener el segundo elemento en la lista, necesitamos usar el indice 1, y así sucesivamente... "
      ]
    },
    {
      "cell_type": "code",
      "execution_count": 6,
      "metadata": {
        "id": "Oe6Os6ke_KW3",
        "outputId": "e5ad4bde-4e4b-4139-ff97-1a82bb879ea2",
        "colab": {
          "base_uri": "https://localhost:8080/"
        }
      },
      "outputs": [
        {
          "output_type": "stream",
          "name": "stdout",
          "text": [
            "Beagle\n"
          ]
        }
      ],
      "source": [
        "perro = perros[1]\n",
        "print(perro.title())"
      ]
    },
    {
      "cell_type": "markdown",
      "metadata": {
        "id": "XDNqY5RU_KW9"
      },
      "source": [
        "### Accesando el último elemento en una lista\n",
        "Para obtener el ultimo elemento de una lista, no importa el tamaño de la lista, usamos el indice -1. \n"
      ]
    },
    {
      "cell_type": "code",
      "execution_count": 7,
      "metadata": {
        "id": "xcYw_1LL_KW-",
        "outputId": "71eb9670-e6d9-43df-8553-9bdc62f5d5f5",
        "colab": {
          "base_uri": "https://localhost:8080/"
        }
      },
      "outputs": [
        {
          "output_type": "stream",
          "name": "stdout",
          "text": [
            "Chihuahua\n"
          ]
        }
      ],
      "source": [
        "perro = perros[-1]\n",
        "print(perro.title())"
      ]
    },
    {
      "cell_type": "markdown",
      "metadata": {
        "id": "CzL3a9re_KW_"
      },
      "source": [
        "Esta sintaxis funciona hacia atras. "
      ]
    },
    {
      "cell_type": "code",
      "execution_count": 8,
      "metadata": {
        "id": "1VUcSI4y_KXA",
        "outputId": "2a877b67-beb6-4697-e701-d37c7162802c",
        "colab": {
          "base_uri": "https://localhost:8080/"
        }
      },
      "outputs": [
        {
          "output_type": "stream",
          "name": "stdout",
          "text": [
            "Beagle\n"
          ]
        }
      ],
      "source": [
        "perro = perros[-2]\n",
        "print(perro.title())"
      ]
    },
    {
      "cell_type": "markdown",
      "metadata": {
        "id": "f704AhXb_KXB"
      },
      "source": [
        "You can't use a negative number larger than the length of the list, however."
      ]
    },
    {
      "cell_type": "code",
      "execution_count": null,
      "metadata": {
        "id": "eD95aCbu_KXC"
      },
      "outputs": [],
      "source": [
        "perro = perros[-4]\n",
        "print(perro.title())"
      ]
    },
    {
      "cell_type": "markdown",
      "metadata": {
        "id": "Y9sMCqfn_KXE"
      },
      "source": [
        "[top](#top)"
      ]
    },
    {
      "cell_type": "markdown",
      "metadata": {
        "id": "eZjL5jkY_KXE"
      },
      "source": [
        "<a name='exercises_list_introduction'></a>Ejercicios\n",
        "---\n",
        "#### Primera Lista\n",
        "- Almacena los valores  'python', 'c', y 'java' en una lista.\n",
        "Imprime cada uno de estos valores usando su posición en la lista. \n",
        "\n",
        "#### Primera Lista Bonita\n",
        "-  Almacena los valores  'python', 'c', y 'java' en una lista.\n",
        "Imprime un enunciado usando cada uno de estos valores usando su posición en la lista.\n",
        "- El enunciado puede ser algo simple como, 'Un lenguaje de programación chido es: *value*.'\n",
        "\n",
        "#### Tu primera Lista\n",
        "- Piensa en algo que puedas almacenar en una lista. Has una lista con 3 o 4 elementos, después imprime un mensaje que incluya al menos un elemento de la lista. El enunciado debe ser algo simple. \n"
      ]
    },
    {
      "cell_type": "code",
      "execution_count": null,
      "metadata": {
        "id": "SNRqGeN__KXG"
      },
      "outputs": [],
      "source": [
        "# Ex 3.1 : Primera Lista\n",
        "\n",
        "# pon tú código aquí"
      ]
    },
    {
      "cell_type": "code",
      "execution_count": null,
      "metadata": {
        "id": "ayYm2q-l_KYj"
      },
      "outputs": [],
      "source": [
        "# Ex 3.2 : Primera Lista Bonita\n",
        "\n",
        "# pon tú código aquí"
      ]
    },
    {
      "cell_type": "code",
      "execution_count": null,
      "metadata": {
        "id": "LzxBUyDP_KYn"
      },
      "outputs": [],
      "source": [
        "# Ex 3.3 : Tu primera Lista\n",
        "\n",
        "# pon tú código aquí"
      ]
    },
    {
      "cell_type": "markdown",
      "metadata": {
        "id": "ypDMzdXQ_KYp"
      },
      "source": [
        "[top](#top)"
      ]
    },
    {
      "cell_type": "code",
      "source": [],
      "metadata": {
        "id": "T1l7OOiqF4Sb"
      },
      "execution_count": null,
      "outputs": []
    },
    {
      "cell_type": "markdown",
      "metadata": {
        "id": "NEnvVjaq_KYq"
      },
      "source": [
        "<a name='looping'></a>Iteración de Listas\n",
        "==="
      ]
    },
    {
      "cell_type": "markdown",
      "metadata": {
        "id": "BfDfW25D_KYr"
      },
      "source": [
        "<a name='accessing_all_elements'></a>Accesando todos los elementos en una lista\n",
        "---\n",
        "Este es uno de los conceptos mas importantes relacionado a las listas. Puedes tener millones de elementos  en una lista, y en tres lineas de código puedes escribir un enunciado para cada uno de esos millones de elementos. Si quieres entender las listas, y ser programador competente, asegurate de entender esta sección. \n",
        "\n",
        "Usamos un loop para accesar todos los elementos en una lista. Un loop es un bloque de código que se repite hasta que se acaban los elementos, o hasta que cierta condición se alcanza. En este caso nuestro loop se ejecutara para cada elemento en nuestra lisa. Con una lista que tiene 3 elementos, nuestro loop se ejecutará 3 veces. "
      ]
    },
    {
      "cell_type": "code",
      "execution_count": 9,
      "metadata": {
        "id": "szSdrBV__KYu",
        "outputId": "78f82459-c44b-429c-fa96-df887b662638",
        "colab": {
          "base_uri": "https://localhost:8080/"
        }
      },
      "outputs": [
        {
          "output_type": "stream",
          "name": "stdout",
          "text": [
            "border collie\n",
            "beagle\n",
            "chihuahua\n"
          ]
        }
      ],
      "source": [
        "perros = ['border collie', 'beagle', 'chihuahua']\n",
        "\n",
        "for perro in perros:\n",
        "    print(perro)"
      ]
    },
    {
      "cell_type": "markdown",
      "metadata": {
        "id": "vRIk0Zny_KY5"
      },
      "source": [
        "Anteriormente ya hemos mostrado como crear una lista, así que veamos que hacen las ultimas dos lineas de arriba. Estas dos líneas forman un loop ó un 'ciclo for', el lenguaje nos ayudara a ver que esta pasando.  \n",
        "\n",
        "    for perro in perros:  (para perro en perros:)\n",
        "- El palabra \"for\" le dice a python que iniciará un loop. \n",
        "- La variable \"perro\", sin la \"s\", es una variable temporal. En esta variable Python colocará un elemento por vez de la lista, en cada interacción  \n",
        "- La primera vez que se ejecute el, loop, el valor de \"perro\" será 'border collie'.\n",
        "- La segunda vez que se ejecute el, loop, el valor de \"perro\" será 'beagle'.\n",
        "- La tercera vez que se ejecute el, loop, el valor de \"perro\" será 'chihuahua'.\n",
        "- Después de esto ya no hay mas elementos en la lista y el loop concluirá. "
      ]
    },
    {
      "cell_type": "markdown",
      "metadata": {
        "id": "59T5kTS7_KY7"
      },
      "source": [
        "### Haciendo mas con cada elemento\n",
        "Podemos hacer lo que queramos con el valor de \"perro\" dentro del loop. \n",
        "\n",
        "    print(dog)\n",
        "\n",
        "No estamos limitados a solo imprimir el contenido de \"perro\". Podemos hacer lo que queramos con este valor, y esta acción se hará para cada elemento en la lista."
      ]
    },
    {
      "cell_type": "markdown",
      "metadata": {
        "id": "nOiDQGT8_KY_"
      },
      "source": [
        "Diagmos algo para cada perro en la lista."
      ]
    },
    {
      "cell_type": "code",
      "execution_count": 11,
      "metadata": {
        "id": "fBZMBH1X_KZD",
        "outputId": "1f76b5ea-4493-4947-868a-a41db40e0242",
        "colab": {
          "base_uri": "https://localhost:8080/"
        }
      },
      "outputs": [
        {
          "output_type": "stream",
          "name": "stdout",
          "text": [
            "Me gustan los border collies.\n",
            "Me gustan los beagles.\n",
            "Me gustan los chihuahuas.\n"
          ]
        }
      ],
      "source": [
        "perros = ['border collie', 'beagle', 'chihuahua']\n",
        "\n",
        "for perro in perros:\n",
        "  print('Me gustan los ' + perro + 's.')"
      ]
    },
    {
      "cell_type": "markdown",
      "metadata": {
        "id": "yLcJ74ow_KZN"
      },
      "source": [
        "### Adentro y afuera del loop\n",
        "\n",
        "Python usa identación para decidir que esta adentro y afuera del loop. El código que esta dentro del loop se ejecutará para cada elemento en la lista. El código que no esta indentado, que está después del loop, se ejecutará solo una vez."
      ]
    },
    {
      "cell_type": "code",
      "execution_count": 13,
      "metadata": {
        "id": "Hhrd-Tey_KZO",
        "outputId": "d3dde2ce-3a4a-44ae-bdca-b5653a456dce",
        "colab": {
          "base_uri": "https://localhost:8080/"
        }
      },
      "outputs": [
        {
          "output_type": "stream",
          "name": "stdout",
          "text": [
            "Me gustan los border collies.\n",
            "No, me gustan muchooo los border collies!\n",
            "\n",
            "Me gustan los beagles.\n",
            "No, me gustan muchooo los beagles!\n",
            "\n",
            "Me gustan los chihuahuas.\n",
            "No, me gustan muchooo los chihuahuas!\n",
            "\n",
            "\n",
            "Es lo que siento de los perros\n"
          ]
        }
      ],
      "source": [
        "perros = ['border collie', 'beagle', 'chihuahua']\n",
        "\n",
        "for perro in perros:\n",
        "  print('Me gustan los ' + perro + 's.')\n",
        "  print('No, me gustan muchooo los ' + perro +'s!\\n')\n",
        "    \n",
        "print(\"\\nEs lo que siento de los perros\")"
      ]
    },
    {
      "cell_type": "markdown",
      "metadata": {
        "id": "VCYV_Cx1_Kb0"
      },
      "source": [
        "Nota como la ultima línea solo corre una vez, después de que se completo el loop. Nota que con una nueva línea (\"\\n\"), se puede leer más fácil lo impreso en pantalla."
      ]
    },
    {
      "cell_type": "markdown",
      "metadata": {
        "id": "hGYRSWf4_Kb1"
      },
      "source": [
        "[top](#top)"
      ]
    },
    {
      "cell_type": "markdown",
      "metadata": {
        "id": "rNtNimPq_Kb2"
      },
      "source": [
        "<a name='enumerating_list'></a>Enumerando una lista\n",
        "---\n",
        "Cuando estas iterando una lista, podrías desear conocer el indice del elemento actual. La manera mas simple es usar la función *enumerate()* que nos dice el indice de cada elemento durante la iteración de la lista."
      ]
    },
    {
      "cell_type": "code",
      "execution_count": 15,
      "metadata": {
        "id": "x4BQ3Cwf_Kb3",
        "outputId": "799d6e44-9a3b-4e6c-b5a8-eb9f7c85e9b7",
        "colab": {
          "base_uri": "https://localhost:8080/"
        }
      },
      "outputs": [
        {
          "output_type": "stream",
          "name": "stdout",
          "text": [
            "Los resultados del espectáculo de Perros es:\n",
            "\n",
            "Lugar: 0 Perro: Border Collie\n",
            "Lugar: 1 Perro: Beagle\n",
            "Lugar: 2 Perro: Chihuahua\n"
          ]
        }
      ],
      "source": [
        "perros = ['border collie', 'beagle', 'chihuahua']\n",
        "\n",
        "print(\"Los resultados del espectáculo de Perros es:\\n\")\n",
        "for indice, perro in enumerate(perros):\n",
        "    lugar = str(indice)\n",
        "    print(\"Lugar: \" + lugar + \" Perro: \" + perro.title())"
      ]
    },
    {
      "cell_type": "markdown",
      "metadata": {
        "id": "yX5VlBiP_KcA"
      },
      "source": [
        "Para enumerar una lista, necesitas agregar una variable para el *indice* para que guarde el indice de la iteración correspondiente.\n",
        "Así que en lugar de\n",
        "\n",
        "    for perro in perros:\n",
        "    \n",
        "You have\n",
        "\n",
        "    for indice, perro in enumerate(perros)\n",
        "    \n",
        "El valor en la variable *indice* siempre es un entero. Si quieres imprimirlo como una cadena, tendrás que convertirlo de entero a cadena:\n",
        "\n",
        "    str(indice)\n",
        "    "
      ]
    },
    {
      "cell_type": "markdown",
      "metadata": {
        "id": "1ARd239h_KcC"
      },
      "source": [
        "El indice siempre inicia en cero, asi quee en este ejemplo el valor de *lugar* debe ser el indice mas uno:"
      ]
    },
    {
      "cell_type": "code",
      "execution_count": 16,
      "metadata": {
        "id": "IEop9Pd-_KcD",
        "outputId": "0bcf80d1-7691-4b8f-d236-12967ed5d616",
        "colab": {
          "base_uri": "https://localhost:8080/"
        }
      },
      "outputs": [
        {
          "output_type": "stream",
          "name": "stdout",
          "text": [
            "Los resultados del espectáculo de Perros es:\n",
            "\n",
            "Lugar: 1 Perro: Border Collie\n",
            "Lugar: 2 Perro: Beagle\n",
            "Lugar: 3 Perro: Chihuahua\n"
          ]
        }
      ],
      "source": [
        "perros = ['border collie', 'beagle', 'chihuahua']\n",
        "\n",
        "print(\"Los resultados del espectáculo de Perros es:\\n\")\n",
        "for indice, perro in enumerate(perros):\n",
        "    lugar = str(indice+1)\n",
        "    print(\"Lugar: \" + lugar + \" Perro: \" + perro.title())"
      ]
    },
    {
      "cell_type": "code",
      "source": [
        "from IPython.display import Math, HTML"
      ],
      "metadata": {
        "id": "JH25d1pZEmvI"
      },
      "execution_count": 17,
      "outputs": []
    },
    {
      "cell_type": "markdown",
      "metadata": {
        "id": "416Kos3E_Kc9"
      },
      "source": [
        "## El loop FOR\n",
        "\n",
        "El loop `for` es el masa usado en los mecanismos de iteración en Python. \n",
        "\n",
        "* Casi cualquier estructura en Python puede ser iterada (*elemento por elemento*) por un loop `for`.\n",
        "    - Una lista, una tupla, un diccionario, (veremos mas adelante) \n",
        "  \n",
        "* In Python, also `while` loops are permitted, but `for` is the one you would see (and use) most of the time!"
      ]
    },
    {
      "cell_type": "markdown",
      "metadata": {
        "id": "-ObYX2_h_Kc-"
      },
      "source": [
        "### Keyword en loop FOR \n",
        "\n",
        "Python permite el uso de dos **keywords** para ser usados dentro de un loop `for`:\n",
        "**break** y **continue**.\n",
        "\n",
        "Los dos keywords tienen usos **diferentes**:"
      ]
    },
    {
      "cell_type": "markdown",
      "metadata": {
        "id": "TnBE-m-L_Kc-"
      },
      "source": [
        "* **Break** usado para *interrumpir y salir del lopp*\n",
        "* **Continue** usado para *omitir y pasar a la siguiente iteración!*"
      ]
    },
    {
      "cell_type": "markdown",
      "metadata": {
        "id": "VAkrMjyU_Kc_"
      },
      "source": [
        "**NOTA**: También funcionan con el loop `while`!"
      ]
    },
    {
      "cell_type": "markdown",
      "metadata": {
        "id": "LCnmLWQr_KdG"
      },
      "source": [
        "<a name='exercises_list_loop'></a>Ejercicios\n",
        "---\n",
        "#### Primera Lista - Loop\n",
        "- Repite *Primera Lista*, pero esta vez usa un loop para imprimir cada elemento de la lista. \n",
        "\n",
        "#### Primera Lista Bonita - Loop\n",
        "- Repite *Primera Lista Bonita*, pero esta vez usa un loop para imprimir cada elemento de la lista con un enunciado. \n",
        "\n",
        "#### Tu primera Lista - Loop\n",
        "- Repite *Tu primera Lista*, pero esta vez usa un loop para imprimir cada elemento de tu lista con un enunciado. "
      ]
    },
    {
      "cell_type": "code",
      "execution_count": null,
      "metadata": {
        "id": "DULWu722_KdI"
      },
      "outputs": [],
      "source": [
        "# Ex 3.4 : First List - Loop\n",
        "\n",
        "# put your code here"
      ]
    },
    {
      "cell_type": "code",
      "execution_count": null,
      "metadata": {
        "id": "KaUiVrPs_KdI"
      },
      "outputs": [],
      "source": [
        "# Ex 3.5 : First Neat List - Loop\n",
        "\n",
        "# put your code here"
      ]
    },
    {
      "cell_type": "code",
      "execution_count": null,
      "metadata": {
        "id": "ef9RQu9Z_KdJ"
      },
      "outputs": [],
      "source": [
        "# Ex 3.6 : Your First List - Loop\n",
        "\n",
        "# put your code here"
      ]
    },
    {
      "cell_type": "markdown",
      "metadata": {
        "id": "fHwVdl0m_KdN"
      },
      "source": [
        "[top](#top)"
      ]
    },
    {
      "cell_type": "markdown",
      "metadata": {
        "id": "ksj5PMzR_Kek"
      },
      "source": [
        "<a name='common_operations'></a>Operaciones Comunes\n",
        "==="
      ]
    },
    {
      "cell_type": "markdown",
      "metadata": {
        "id": "8m0s--t-_Kel"
      },
      "source": [
        "<a name='modifying_elements'></a>Modificando los elementos de una lista\n",
        "---\n",
        "Puedes cambiar el valor de cualquier elemento en una lista si sabes la posición de ese elemento."
      ]
    },
    {
      "cell_type": "code",
      "execution_count": 21,
      "metadata": {
        "id": "m8QOc2Et_Kem",
        "outputId": "3aa8d5fd-1c19-4e6d-f4fd-0ac571cb41d4",
        "colab": {
          "base_uri": "https://localhost:8080/"
        }
      },
      "outputs": [
        {
          "output_type": "stream",
          "name": "stdout",
          "text": [
            "['xoloitzcuintle', 'beagle', 'chihuahua']\n"
          ]
        }
      ],
      "source": [
        "perros = ['border collie', 'beagle', 'chihuahua']\n",
        "\n",
        "perros[0] = 'xoloitzcuintle'\n",
        "print(perros)"
      ]
    },
    {
      "cell_type": "markdown",
      "metadata": {
        "id": "PvWhTya5_Ken"
      },
      "source": [
        "<a name='finding_elements'></a>Encontrar un elemento en una lista\n",
        "---\n",
        "Si quieres encontrar el indice de un elemento en una lista, puedes ysar la función index()."
      ]
    },
    {
      "cell_type": "code",
      "execution_count": 22,
      "metadata": {
        "id": "TfUPQPSC_Ken",
        "outputId": "6036bf31-55b5-44b6-9f54-63df532d89ee",
        "colab": {
          "base_uri": "https://localhost:8080/"
        }
      },
      "outputs": [
        {
          "output_type": "stream",
          "name": "stdout",
          "text": [
            "2\n"
          ]
        }
      ],
      "source": [
        "perros = ['border collie', 'beagle', 'chihuahua']\n",
        "\n",
        "print(perros.index('chihuahua'))"
      ]
    },
    {
      "cell_type": "markdown",
      "metadata": {
        "id": "kdjovVkJ_Keo"
      },
      "source": [
        "Este método regresa un ValueError si el elemento solicitado no esta en la lista."
      ]
    },
    {
      "cell_type": "code",
      "execution_count": null,
      "metadata": {
        "id": "WnAr3v0l_Kep"
      },
      "outputs": [],
      "source": [
        "perros = ['border collie', 'beagle', 'chihuahua']\n",
        "\n",
        "print(perros.index('chilaquil'))"
      ]
    },
    {
      "cell_type": "markdown",
      "metadata": {
        "id": "xVQWKBir_Kep"
      },
      "source": [
        "<a name='testing_elements'></a>Probar si un elemento esta en la lista.\n",
        "---\n",
        "Se puede probar si un elemento esta en una lista usando el keyword \"in\". Esto será muy útil en enunciados if-else."
      ]
    },
    {
      "cell_type": "code",
      "execution_count": null,
      "metadata": {
        "id": "WJ76Wlby_Keq"
      },
      "outputs": [],
      "source": [
        "perros = ['border collie', 'beagle', 'chihuahua']\n",
        "\n",
        "print('chihuahua' in perros)\n",
        "print('chilaquil' in perros)"
      ]
    },
    {
      "cell_type": "markdown",
      "metadata": {
        "id": "pK69q6Q8_Ker"
      },
      "source": [
        "<a name='adding_items'></a>Agregando elementos a una lista.\n",
        "---\n",
        "### Adjuntar elementos al final de una lista\n",
        "Podemos agregar un elemento a una lista usando el método append(). Este método agrega un nuevo elemento al final de la lista."
      ]
    },
    {
      "cell_type": "code",
      "execution_count": 3,
      "metadata": {
        "id": "fvue2L6r_Ker",
        "outputId": "465c63ed-bf31-4330-8c07-b8086a0e750b",
        "colab": {
          "base_uri": "https://localhost:8080/"
        }
      },
      "outputs": [
        {
          "output_type": "stream",
          "name": "stdout",
          "text": [
            "Los perros Border Collie son cool\n",
            "Los perros Beagle son cool\n",
            "Los perros Chihuahua son cool\n",
            "Los perros Chilaquil son cool\n"
          ]
        }
      ],
      "source": [
        "perros = ['border collie', 'beagle', 'chihuahua']\n",
        "perros.append('chilaquil')\n",
        "\n",
        "for perro in perros:\n",
        "    print(f'Los perros {perro.title()} son cool')"
      ]
    },
    {
      "cell_type": "markdown",
      "metadata": {
        "id": "8TfZuJr4_Kes"
      },
      "source": [
        "### Instertar elementos a una lista\n",
        "También podemos insertar elementos en cualquier lugar que queramos en la lista, usando la función **insert()**. Especificamos la posición (indice) que queremos que tenga, y todo lo que esta desde ese punto, se mueve una posición a la derecha (hacia abajo). En otras palabras, el indice de todos los elementos después del nuevo se incrementan por uno."
      ]
    },
    {
      "cell_type": "code",
      "execution_count": null,
      "metadata": {
        "id": "jmAjpSuJ_Kes"
      },
      "outputs": [],
      "source": [
        "perros = ['border collie', 'beagle', 'chihuahua']\n",
        "perros.insert(1,'chilaquil')\n",
        "print(perros)"
      ]
    },
    {
      "cell_type": "markdown",
      "metadata": {
        "id": "Yn8KJwG9_KgM"
      },
      "source": [
        "<a name='empty_list'></a>Creando una lista vacía \n",
        "---\n",
        "\n",
        "Ahora que sabemos como agregar elementos a una lista después de que fue creada, podemos usar las listas más dinámicamente. No estamos obligados a definir una lista de una sola vez.\n",
        "\n",
        "Un enfoque común con las listas es definir una lista vacía, y luego dejar que el programa agregue elementos cuando sea necesario. Este enfoque, es útil por ejemplo, cuando queremos construir un sitio web interactivo. Tu lista de usuarios puede iniciar vacía, y conforme la gente se registre en tu sitio crecerá. Este es una enfoque simplificado a como realmente los sitios web funcionan.\n",
        "\n",
        "Aquí hay breve ejemplo de como empezar con una lista vacía, iniciar a llenarla, y trabajar con los elementos de la lista. La única cosa nueva aquí, es que definimos una lista vacía, simplemente con unos corchetes cuadrados vacíos.\n"
      ]
    },
    {
      "cell_type": "code",
      "execution_count": 7,
      "metadata": {
        "id": "K1MpcApI_KgN",
        "outputId": "6ac4d4e4-3044-412d-baeb-b2b913ac481f",
        "colab": {
          "base_uri": "https://localhost:8080/"
        }
      },
      "outputs": [
        {
          "output_type": "stream",
          "name": "stdout",
          "text": [
            "Welcome, Charmander!\n",
            "Welcome, Bulbasaur!\n",
            "Welcome, Pikachu!\n"
          ]
        }
      ],
      "source": [
        "# Create an empty list to hold our users.\n",
        "pokemons = []\n",
        "\n",
        "# Add some users.\n",
        "pokemons.append('charmander')\n",
        "pokemons.append('bulbasaur')\n",
        "pokemons.append('pikachu')\n",
        "\n",
        "# Greet all of our users.\n",
        "for pokemon in pokemons:\n",
        "    print(\"Welcome, \" + pokemon.title() + '!')"
      ]
    },
    {
      "cell_type": "markdown",
      "metadata": {
        "id": "T-wjgYDE_KgN"
      },
      "source": [
        "Si no alteramos el orden de la lista, podemos utilizarla para saber quien es el mas viejo o mas nuevo de los pokemones. "
      ]
    },
    {
      "cell_type": "code",
      "execution_count": null,
      "metadata": {
        "id": "8ILhd8gs_KgO"
      },
      "outputs": [],
      "source": [
        "# Create an empty list to hold our users.\n",
        "pokemons = []\n",
        "\n",
        "# Add some users.\n",
        "pokemons.append('charmander')\n",
        "pokemons.append('bulbasaur')\n",
        "pokemons.append('pikachu')\n",
        "\n",
        "# Greet all of our users.\n",
        "for pokemon in pokemons:\n",
        "    print(\"Welcome, \" + pokemon.title() + '!')\n",
        "\n",
        "# Recognize our first user, and welcome our newest user.\n",
        "print(\"\\nMi primer pokemon fue: \" + pokemons[0].title() + '!')\n",
        "print(\"Mi ultimo pomemon es: \" + pokemons[-1].title() + '!')"
      ]
    },
    {
      "cell_type": "markdown",
      "metadata": {
        "id": "OGonioMO_KgP"
      },
      "source": [
        "<a name='sorting_list'></a>Ordenando una lista\n",
        "---\n",
        "Ahora ordenemos una lista alfabéticamente, en cualquier orden."
      ]
    },
    {
      "cell_type": "code",
      "execution_count": null,
      "metadata": {
        "id": "p33gV3xa_KgQ"
      },
      "outputs": [],
      "source": [
        "\n",
        "pokemons = ['charmander', 'pikachu', 'bulbasaur']\n",
        "\n",
        "# Put students in alphabetical order.\n",
        "pokemons.sort()\n",
        "\n",
        "# Display the list in its current order.\n",
        "print(\"Pokemones en orden alfabético.\")\n",
        "for pokemon in pokemons:\n",
        "    print(pokemon.title())\n",
        "\n",
        "#Put students in reverse alphabetical order.\n",
        "pokemons.sort(reverse=True)\n",
        "\n",
        "# Display the list in its current order.\n",
        "print(\"\\nPokemons en orden alfabético inverso.\")\n",
        "for pokemon in pokemons:\n",
        "    print(pokemon.title())"
      ]
    },
    {
      "cell_type": "markdown",
      "metadata": {
        "id": "jQ4-hCuH_KgQ"
      },
      "source": [
        "### *sorted()* vs. *sort()*\n",
        "Cuando consideres ordenar una lista  con sort(), ten en cuenta que no puedes recuperar el orden original. Si deseas mostrar una lista ordenada, pero preservar el orden original, puedes usar la función *sorted()*. *sorted()* acepta el argumento *reverse=True*. \n"
      ]
    },
    {
      "cell_type": "code",
      "execution_count": null,
      "metadata": {
        "id": "gZFsXfxB_KgR"
      },
      "outputs": [],
      "source": [
        "pokemons = ['charmander', 'pikachu', 'bulbasaur']\n",
        "\n",
        "# Display students in alphabetical order, but keep the original order.\n",
        "print(\"Pokemones en orden alfabético.\")\n",
        "for pokemon in sorted(pokemons):\n",
        "    print(pokemon.title())\n",
        "\n",
        "# Display students in reverse alphabetical order, but keep the original order.\n",
        "print(\"\\nPokemons en orden alfabético inverso.\")\n",
        "for pokemon in sorted(pokemons, reverse=True):\n",
        "    print(pokemon.title())\n",
        "\n",
        "print(\"\\nEsta es la lista en orden original:\")\n",
        "# Show that the list is still in its original order.\n",
        "for pokemon in pokemons:\n",
        "    print(pokemon.title())"
      ]
    },
    {
      "cell_type": "markdown",
      "metadata": {
        "id": "ferWTq3G_KgS"
      },
      "source": [
        "### Inversión de una lista\n",
        "Hay otro ordenamiento mas que podemos  aplicar, es invertir el orden original de la lista. La  función *reverse()* nos  produce ese orden."
      ]
    },
    {
      "cell_type": "code",
      "execution_count": null,
      "metadata": {
        "id": "1GHlsVR2_KgT"
      },
      "outputs": [],
      "source": [
        "pokemons = ['charmander', 'pikachu', 'bulbasaur']\n",
        "pokemons.reverse()\n",
        "\n",
        "print(pokemons)"
      ]
    },
    {
      "cell_type": "markdown",
      "metadata": {
        "id": "aLh24WWe_KgT"
      },
      "source": [
        "La función *reverse()*  es permanente."
      ]
    },
    {
      "cell_type": "markdown",
      "metadata": {
        "id": "S0toPjhW_KgU"
      },
      "source": [
        "### Ordenando una lista númerica\n",
        "Todas las funciones de ordenar funcionan también para listaas númericas."
      ]
    },
    {
      "cell_type": "code",
      "execution_count": null,
      "metadata": {
        "id": "sdxQHVCV_KgU"
      },
      "outputs": [],
      "source": [
        "numeros = [1, 3, 4, 2]\n",
        "\n",
        "# sort() puts numbers in increasing order.\n",
        "numeros.sort()\n",
        "print(numeros)\n",
        "\n",
        "# sort(reverse=True) puts numbers in decreasing order.\n",
        "numeros.sort(reverse=True)\n",
        "print(numeros)\n"
      ]
    },
    {
      "cell_type": "code",
      "execution_count": null,
      "metadata": {
        "id": "LJ9EY-Fm_KgV"
      },
      "outputs": [],
      "source": [
        "numeros = [1, 3, 4, 2]\n",
        "\n",
        "# sorted() preserves the original order of the list:\n",
        "print(sorted(numeros))\n",
        "print(numeros)"
      ]
    },
    {
      "cell_type": "code",
      "execution_count": null,
      "metadata": {
        "id": "GbDe0rfo_KiP"
      },
      "outputs": [],
      "source": [
        "numeros = [1, 3, 4, 2]\n",
        "\n",
        "# The reverse() function also works for numerical lists.\n",
        "numeros.reverse()\n",
        "print(numeros)"
      ]
    },
    {
      "cell_type": "markdown",
      "metadata": {
        "id": "O210YCkD_KiQ"
      },
      "source": [
        "<a name='length'></a>Encontrar la longitud de una lista\n",
        "---\n",
        "Puedes encontrar la longitud de una lista usando la función *len()*.\n"
      ]
    },
    {
      "cell_type": "code",
      "execution_count": null,
      "metadata": {
        "id": "Rdi7ImFP_KiR"
      },
      "outputs": [],
      "source": [
        "pokemons = ['charmander', 'pikachu', 'bulbasaur']\n",
        "pokemon_cuenta = len(pokemons)\n",
        "\n",
        "print(pokemon_cuenta = len(pokemons))"
      ]
    },
    {
      "cell_type": "markdown",
      "metadata": {
        "id": "R8hoW8r3_KiS"
      },
      "source": [
        "Hay muchas situaciones donde podrías desea cuantos elementos hay en una lista. Si tienes una lista que almacena tus pokemones, puedes  encontrar la longitud de la lista en cualquier momento. "
      ]
    },
    {
      "cell_type": "code",
      "execution_count": null,
      "metadata": {
        "id": "C2Mlhd-L_KiS"
      },
      "outputs": [],
      "source": [
        "# Create an empty list to hold our users.\n",
        "pokemons = []\n",
        "\n",
        "# Add some users, and report on how many users we have.\n",
        "pokemons.append('charizard')\n",
        "pokemon_cuenta = len(pokemons)\n",
        "\n",
        "print(\"Tengo \" + str(pokemon_cuenta) + \" pokemones!\") \n",
        "\n",
        "pokemons.append('raichu')\n",
        "pokemons.append('venusaur')\n",
        "pokemon_cuenta = len(pokemons)\n",
        "\n",
        "print(\"Tengo \" + str(pokemon_cuenta) + \" pokemones!\") "
      ]
    },
    {
      "cell_type": "markdown",
      "metadata": {
        "id": "h4wy18TW_KiX"
      },
      "source": [
        "<a name='exercises_common_operations'></a>Exercises\n",
        "---\n",
        "#### Working List\n",
        "- Make a list that includes four careers, such as 'programmer' and 'truck driver'.\n",
        "- Use the *list.index()* function to find the index of one career in your list.\n",
        "- Use the *in* function to show that this career is in your list.\n",
        "- Use the *append()* function to add a new career to your list.\n",
        "- Use the *insert()* function to add a new career at the beginning of the list.\n",
        "- Use a loop to show all the careers in your list.\n",
        "\n",
        "#### Starting From Empty\n",
        "- Create the list you ended up with in *Working List*, but this time start your file with an empty list and fill it up using *append()* statements.\n",
        "- Print a statement that tells us what the first career you thought of was.\n",
        "- Print a statement that tells us what the last career you thought of was.\n",
        "\n",
        "#### Ordered Working List\n",
        "- Start with the list you created in *Working List*.\n",
        "- You are going to print out the list in a number of different orders.\n",
        "- Each time you print the list, use a for loop rather than printing the raw list.\n",
        "- Print a message each time telling us what order we should see the list in.\n",
        "    - Print the list in its original order.\n",
        "    - Print the list in alphabetical order.\n",
        "    - Print the list in its original order.\n",
        "    - Print the list in reverse alphabetical order.\n",
        "    - Print the list in its original order.\n",
        "    - Print the list in the reverse order from what it started.\n",
        "    - Print the list in its original order\n",
        "    - Permanently sort the list in alphabetical order, and then print it out.\n",
        "    - Permanently sort the list in reverse alphabetical order, and then print it out.\n",
        "\n",
        "#### Ordered Numbers\n",
        "- Make a list of 5 numbers, in a random order.\n",
        "- You are going to print out the list in a number of different orders.\n",
        "- Each time you print the list, use a for loop rather than printing the raw list.\n",
        "- Print a message each time telling us what order we should see the list in.\n",
        "    - Print the numbers in the original order.\n",
        "    - Print the numbers in increasing order.\n",
        "    - Print the numbers in the original order.\n",
        "    - Print the numbers in decreasing order.\n",
        "    - Print the numbers in their original order.\n",
        "    - Print the numbers in the reverse order from how they started.\n",
        "    - Print the numbers in the original order.\n",
        "    - Permanently sort the numbers in increasing order, and then print them out.\n",
        "    - Permanently sort the numbers in descreasing order, and then print them out.\n",
        "\n",
        "#### List Lengths\n",
        "- Copy two or three of the lists you made from the previous exercises, or make up two or three new lists.\n",
        "- Print out a series of statements that tell us how long each list is."
      ]
    },
    {
      "cell_type": "code",
      "execution_count": null,
      "metadata": {
        "id": "ehybiwJo_KiY"
      },
      "outputs": [],
      "source": [
        "# Ex 3.7 : Working List\n",
        "\n",
        "# put your code here"
      ]
    },
    {
      "cell_type": "code",
      "execution_count": null,
      "metadata": {
        "id": "Y9s53Fv7_Kia"
      },
      "outputs": [],
      "source": [
        "# Ex 3.8 : Starting From Empty\n",
        "\n",
        "# put your code here"
      ]
    },
    {
      "cell_type": "code",
      "execution_count": null,
      "metadata": {
        "id": "WwFjSMhC_Kib"
      },
      "outputs": [],
      "source": [
        "# Ex 3.9 : Ordered Working List\n",
        "\n",
        "# put your code here"
      ]
    },
    {
      "cell_type": "code",
      "execution_count": null,
      "metadata": {
        "id": "xABJt9JK_KkG"
      },
      "outputs": [],
      "source": [
        "# Ex 3.10 : Ordered Numbers\n",
        "\n",
        "# put your code here"
      ]
    },
    {
      "cell_type": "code",
      "execution_count": null,
      "metadata": {
        "id": "whkBH5BA_KkH"
      },
      "outputs": [],
      "source": [
        "# Ex 3.11 : List Lengths\n",
        "\n",
        "# put your code here"
      ]
    },
    {
      "cell_type": "markdown",
      "metadata": {
        "id": "6VkbtcKZ_KkI"
      },
      "source": [
        "[top](#top)"
      ]
    },
    {
      "cell_type": "markdown",
      "metadata": {
        "id": "df3heXLZ_KkJ"
      },
      "source": [
        "<a name='removing_items'></a>Removing Items from a List\n",
        "===\n",
        "Hopefully you can see by now that lists are a dynamic structure. We can define an empty list and then fill it up as information comes into our program. To become really dynamic, we need some ways to remove items from a list when we no longer need them. You can remove items from a list through their position, or through their value."
      ]
    },
    {
      "cell_type": "markdown",
      "metadata": {
        "id": "ng7A3XVQ_KkL"
      },
      "source": [
        "<a name='removing_by_position'></a>Removing items by position\n",
        "---\n",
        "If you know the position of an item in a list, you can remove that item using the *del* command. To use this approach, give the command *del* and the name of your list, with the index of the item you want to move in square brackets:"
      ]
    },
    {
      "cell_type": "code",
      "execution_count": null,
      "metadata": {
        "id": "20QcKKId_KkM",
        "outputId": "a1a59a7c-fa62-4add-92d3-ee1dd0803290"
      },
      "outputs": [
        {
          "name": "stdout",
          "output_type": "stream",
          "text": [
            "['australian cattle dog', 'labrador retriever']\n"
          ]
        }
      ],
      "source": [
        "dogs = ['border collie', 'australian cattle dog', 'labrador retriever']\n",
        "# Remove the first dog from the list.\n",
        "del dogs[0]\n",
        "\n",
        "print(dogs)"
      ]
    },
    {
      "cell_type": "markdown",
      "metadata": {
        "id": "aygD7YA9_KkQ"
      },
      "source": [
        "<a name='removing_by_value'></a>Removing items by value\n",
        "---\n",
        "You can also remove an item from a list if you know its value. To do this, we use the *remove()* function. Give the name of the list, followed by the word remove with the value of the item you want to remove in parentheses. Python looks through your list, finds the first item with this value, and removes it."
      ]
    },
    {
      "cell_type": "code",
      "execution_count": null,
      "metadata": {
        "id": "Qk1LPFzT_KkR",
        "outputId": "3a90b3f1-bee8-4788-f92c-4e4e847101b7"
      },
      "outputs": [
        {
          "name": "stdout",
          "output_type": "stream",
          "text": [
            "['border collie', 'labrador retriever']\n"
          ]
        }
      ],
      "source": [
        "dogs = ['border collie', 'australian cattle dog', 'labrador retriever']\n",
        "# Remove australian cattle dog from the list.\n",
        "dogs.remove('australian cattle dog')\n",
        "\n",
        "print(dogs)"
      ]
    },
    {
      "cell_type": "markdown",
      "metadata": {
        "id": "Hfu4TE3J_KkV"
      },
      "source": [
        "Be careful to note, however, that *only* the first item with this value is removed. If you have multiple items with the same value, you will have some items with this value left in your list."
      ]
    },
    {
      "cell_type": "code",
      "execution_count": null,
      "metadata": {
        "id": "tcBKXwAN_KkW",
        "outputId": "99e25a6e-4559-4751-bdee-14f233fee627"
      },
      "outputs": [
        {
          "name": "stdout",
          "output_type": "stream",
          "text": [
            "['b', 'c', 'a', 'b', 'c']\n"
          ]
        }
      ],
      "source": [
        "letters = ['a', 'b', 'c', 'a', 'b', 'c']\n",
        "# Remove the letter a from the list.\n",
        "letters.remove('a')\n",
        "\n",
        "print(letters)"
      ]
    },
    {
      "cell_type": "markdown",
      "metadata": {
        "id": "Cypz7cqV_KkX"
      },
      "source": [
        "<a name='popping'></a>Popping items from a list\n",
        "---\n",
        "There is a cool concept in programming called \"popping\" items from a collection. Every programming language has some sort of data structure similar to Python's lists. All of these structures can be used as queues, and there are various ways of processing the items in a queue.\n",
        "\n",
        "One simple approach is to start with an empty list, and then add items to that list. When you want to work with the items in the list, you always take the last item from the list, do something with it, and then remove that item. The *pop()* function makes this easy. It removes the last item from the list, and gives it to us so we can work with it. "
      ]
    },
    {
      "cell_type": "markdown",
      "metadata": {
        "id": "_beVFn16_Kl_"
      },
      "source": [
        "This is easier to show with an example"
      ]
    },
    {
      "cell_type": "code",
      "execution_count": null,
      "metadata": {
        "id": "2QTxkcuh_KmA",
        "outputId": "4c1a1776-9860-49d2-96f4-07b6f6a448c4"
      },
      "outputs": [
        {
          "name": "stdout",
          "output_type": "stream",
          "text": [
            "labrador retriever\n",
            "['border collie', 'australian cattle dog']\n"
          ]
        }
      ],
      "source": [
        "dogs = ['border collie', 'australian cattle dog', 'labrador retriever']\n",
        "last_dog = dogs.pop()\n",
        "\n",
        "print(last_dog)\n",
        "print(dogs)"
      ]
    },
    {
      "cell_type": "markdown",
      "metadata": {
        "id": "KepYXWn2_KmC"
      },
      "source": [
        "This is an example of a first-in, last-out approach. The first item in the list would be the last item processed if you kept using this approach. We will see a full implementation of this approach later on, when we learn about *while* loops.\n",
        "\n",
        "You can actually pop any item you want from a list, by giving the index of the item you want to pop. So we could do a first-in, first-out approach by popping the first iem in the list:"
      ]
    },
    {
      "cell_type": "code",
      "execution_count": null,
      "metadata": {
        "id": "MDpC6vlt_KmF",
        "outputId": "3a057c95-caf3-496a-cadd-f542e8cfe234"
      },
      "outputs": [
        {
          "name": "stdout",
          "output_type": "stream",
          "text": [
            "border collie\n",
            "['australian cattle dog', 'labrador retriever']\n"
          ]
        }
      ],
      "source": [
        "dogs = ['border collie', 'australian cattle dog', 'labrador retriever']\n",
        "first_dog = dogs.pop(0)\n",
        "\n",
        "print(first_dog)\n",
        "print(dogs)"
      ]
    },
    {
      "cell_type": "markdown",
      "metadata": {
        "id": "xViq_CiS_KmH"
      },
      "source": [
        "<a name='exercises_removing_items'></a>Exercises\n",
        "---\n",
        "#### Famous People\n",
        "- Make a list that includes the names of four famous people.\n",
        "- Remove each person from the list, one at a time, using each of the four methods we have just seen:\n",
        "    - Pop the last item from the list, and pop any item except the last item.\n",
        "    - Remove one item by its position, and one item by its value.\n",
        "- Print out a message that there are no famous people left in your list, and print your list to prove that it is empty."
      ]
    },
    {
      "cell_type": "code",
      "execution_count": null,
      "metadata": {
        "id": "HZkVvgYb_KmI",
        "outputId": "1c1309c6-27b7-4e12-fda2-5519fb4a37cc"
      },
      "outputs": [
        {
          "name": "stdout",
          "output_type": "stream",
          "text": [
            "['david bowie', 'robert plant', 'obama']\n",
            "['david bowie', 'robert plant']\n",
            "david bowie ['robert plant']\n",
            "there are no more famous people in the list\n",
            "[]\n"
          ]
        }
      ],
      "source": [
        "# Ex 3.12 : Famous People\n",
        "fpeople = ['david bowie', 'robert plant', 'obama', 'taylor swift']\n",
        "#Remove each person from the list, one at a time, using each of the four methods we have just seen\n",
        "fpeople.remove('taylor swift')\n",
        "print(fpeople)\n",
        "del fpeople[2]\n",
        "print(fpeople)\n",
        "bowie=fpeople.pop(0)\n",
        "print(bowie,fpeople)\n",
        "last=fpeople.pop()\n",
        "print('there are no more famous people in the list')\n",
        "print(fpeople)\n",
        "# put your code here"
      ]
    },
    {
      "cell_type": "code",
      "execution_count": null,
      "metadata": {
        "id": "HV6fjj-h_KmJ",
        "outputId": "8d1db8fb-1c10-4df0-cbd0-6947d3ea3154"
      },
      "outputs": [
        {
          "name": "stdout",
          "output_type": "stream",
          "text": [
            "['david bowie', 'robert plant', 'obama']\n",
            "['taylor swift']\n",
            "['david bowie', 'robert plant']\n"
          ]
        }
      ],
      "source": [
        "#Pop the last item from the list\n",
        "fpeople = ['david bowie', 'robert plant', 'obama', 'taylor swift']\n",
        "fpeople.pop()\n",
        "print(fpeople)\n",
        "# and pop any item except the last item.\n",
        "fpeople = ['david bowie', 'robert plant', 'obama', 'taylor swift']\n",
        "for _ in range(0,len(fpeople)-1):\n",
        "    fpeople.pop(0)\n",
        "print(fpeople)\n",
        "\n",
        "fpeople = ['david bowie', 'robert plant', 'obama', 'taylor swift']\n",
        "fpeople.remove('obama')\n",
        "del fpeople[2]\n",
        "print(fpeople)\n"
      ]
    },
    {
      "cell_type": "markdown",
      "metadata": {
        "id": "2ER4KdfJ_KmJ"
      },
      "source": [
        "[top](#top)"
      ]
    },
    {
      "cell_type": "markdown",
      "metadata": {
        "id": "5r5bjJ_c_KmK"
      },
      "source": [
        "<a name='functions'></a>Want to see what functions are?\n",
        "===\n",
        "At this point, you might have noticed we have a fair bit of repetetive code in some of our examples. This repetition will disappear once we learn how to use functions. If this repetition is bothering you already, you might want to go look at [Introducing Functions](http://nbviewer.ipython.org/urls/raw.github.com/ehmatthes/intro_programming/master/notebooks/introducing_functions.ipynb) before you do any more exercises in this section. "
      ]
    },
    {
      "cell_type": "markdown",
      "metadata": {
        "id": "J7Kjlm2r_KmK"
      },
      "source": [
        "<a name='slicing'></a>Slicing a List\n",
        "===\n",
        "Since a list is a collection of items, we should be able to get any subset of those items. For example, if we want to get just the first three items from the list, we should be able to do so easily. The same should be true for any three items in the middle of the list, or the last three items, or any x items from anywhere in the list. These subsets of a list are called *slices*."
      ]
    },
    {
      "cell_type": "markdown",
      "metadata": {
        "id": "eWEEblrF_KmL"
      },
      "source": [
        "To get a subset of a list, we give the position of the first item we want, and the position of the first item we do *not* want to include in the subset. So the slice *list[0:3]* will return a list containing items 0, 1, and 2, but not item 3. "
      ]
    },
    {
      "cell_type": "markdown",
      "metadata": {
        "id": "Fl1FuJZj_KmL"
      },
      "source": [
        "Here is how you get a batch containing the first three items."
      ]
    },
    {
      "cell_type": "code",
      "execution_count": null,
      "metadata": {
        "id": "-pbskVXC_KmM",
        "outputId": "97cb5568-e1ac-4482-817a-d06ea09fbbd0"
      },
      "outputs": [
        {
          "name": "stdout",
          "output_type": "stream",
          "text": [
            "Bernice\n",
            "Cody\n",
            "Aaron\n"
          ]
        }
      ],
      "source": [
        "usernames = ['bernice', 'cody', 'aaron', 'ever', 'dalia']\n",
        "\n",
        "# Grab the first three users in the list.\n",
        "first_batch = usernames[0:3]\n",
        "\n",
        "for user in first_batch:\n",
        "    print(user.title())"
      ]
    },
    {
      "cell_type": "markdown",
      "metadata": {
        "id": "Lqkj8WL-_KmN"
      },
      "source": [
        "If you want to grab everything up to a certain position in the list, you can also leave the first index blank:"
      ]
    },
    {
      "cell_type": "code",
      "execution_count": null,
      "metadata": {
        "id": "KaKU9Xo__KmO",
        "outputId": "b843b322-4035-4c79-d032-2d793c296c2b"
      },
      "outputs": [
        {
          "name": "stdout",
          "output_type": "stream",
          "text": [
            "Bernice\n",
            "Cody\n",
            "Aaron\n"
          ]
        }
      ],
      "source": [
        "usernames = ['bernice', 'cody', 'aaron', 'ever', 'dalia']\n",
        "\n",
        "# Grab the first three users in the list.\n",
        "first_batch = usernames[:3]\n",
        "\n",
        "for user in first_batch:\n",
        "    print(user.title())"
      ]
    },
    {
      "cell_type": "markdown",
      "metadata": {
        "id": "1bZRktDX_KmP"
      },
      "source": [
        "When we grab a slice from a list, the original list is not affected:"
      ]
    },
    {
      "cell_type": "code",
      "execution_count": null,
      "metadata": {
        "id": "gl79zn-S_KmP",
        "outputId": "775569e4-0b3d-42c2-c486-1e4dfe8c3388"
      },
      "outputs": [
        {
          "name": "stdout",
          "output_type": "stream",
          "text": [
            "Bernice\n",
            "Cody\n",
            "Aaron\n",
            "Ever\n",
            "Dalia\n"
          ]
        }
      ],
      "source": [
        "usernames = ['bernice', 'cody', 'aaron', 'ever', 'dalia']\n",
        "\n",
        "# Grab the first three users in the list.\n",
        "first_batch = usernames[0:3]\n",
        "\n",
        "# The original list is unaffected.\n",
        "for user in usernames:\n",
        "    print(user.title())"
      ]
    },
    {
      "cell_type": "markdown",
      "metadata": {
        "id": "wt2Lp-4S_KmQ"
      },
      "source": [
        "We can get any segment of a list we want, using the slice method:"
      ]
    },
    {
      "cell_type": "code",
      "execution_count": null,
      "metadata": {
        "id": "GREAkTHq_KmQ",
        "outputId": "55537cb2-c5e7-45ab-9a88-fdcae801b387"
      },
      "outputs": [
        {
          "name": "stdout",
          "output_type": "stream",
          "text": [
            "Cody\n",
            "Aaron\n",
            "Ever\n"
          ]
        }
      ],
      "source": [
        "usernames = ['bernice', 'cody', 'aaron', 'ever', 'dalia']\n",
        "\n",
        "# Grab a batch from the middle of the list.\n",
        "middle_batch = usernames[1:4]\n",
        "\n",
        "for user in middle_batch:\n",
        "    print(user.title())"
      ]
    },
    {
      "cell_type": "markdown",
      "metadata": {
        "id": "4XEXRDKc_KmR"
      },
      "source": [
        "To get all items from one position in the list to the end of the list, we can leave off the second index:"
      ]
    },
    {
      "cell_type": "code",
      "execution_count": null,
      "metadata": {
        "id": "_JtzIXtj_KoY",
        "outputId": "ebf08668-0000-4050-9b56-1af8eca1917d"
      },
      "outputs": [
        {
          "name": "stdout",
          "output_type": "stream",
          "text": [
            "Aaron\n",
            "Ever\n",
            "Dalia\n"
          ]
        }
      ],
      "source": [
        "usernames = ['bernice', 'cody', 'aaron', 'ever', 'dalia']\n",
        "\n",
        "# Grab all users from the third to the end.\n",
        "end_batch = usernames[2:]\n",
        "\n",
        "for user in end_batch:\n",
        "    print(user.title())"
      ]
    },
    {
      "cell_type": "markdown",
      "metadata": {
        "id": "5Y_LsVUA_Kob"
      },
      "source": [
        "### <a name='copying'></a>Copying a list\n",
        "You can use the slice notation to make a copy of a list, by leaving out both the starting and the ending index. This causes the slice to consist of everything from the first item to the last, which is the entire list."
      ]
    },
    {
      "cell_type": "code",
      "execution_count": null,
      "metadata": {
        "id": "icocNyg__Koc",
        "outputId": "0006bec3-ae82-4e51-f3f0-8958074517c5"
      },
      "outputs": [
        {
          "name": "stdout",
          "output_type": "stream",
          "text": [
            "The full copied list:\n",
            "\t ['bernice', 'cody', 'aaron', 'ever', 'dalia']\n",
            "\n",
            "Two users removed from copied list:\n",
            "\t ['aaron', 'ever', 'dalia']\n",
            "\n",
            "The original list:\n",
            "\t ['bernice', 'cody', 'aaron', 'ever', 'dalia']\n"
          ]
        }
      ],
      "source": [
        "usernames = ['bernice', 'cody', 'aaron', 'ever', 'dalia']\n",
        "\n",
        "# Make a copy of the list.\n",
        "copied_usernames = usernames[:]\n",
        "print(\"The full copied list:\\n\\t\", copied_usernames)\n",
        "\n",
        "# Remove the first two users from the copied list.\n",
        "del copied_usernames[0]\n",
        "del copied_usernames[0]\n",
        "print(\"\\nTwo users removed from copied list:\\n\\t\", copied_usernames)\n",
        "\n",
        "# The original list is unaffected.\n",
        "print(\"\\nThe original list:\\n\\t\", usernames)"
      ]
    },
    {
      "cell_type": "markdown",
      "metadata": {
        "id": "wdNlmQ4N_Kog"
      },
      "source": [
        "<a name='exercises_slicing'></a>Exercises\n",
        "---\n",
        "#### Alphabet Slices\n",
        "- Store the first ten letters of the alphabet in a list.\n",
        "- Use a slice to print out the first three letters of the alphabet.\n",
        "- Use a slice to print out any three letters from the middle of your list.\n",
        "- Use a slice to print out the letters from any point in the middle of your list, to the end.\n",
        "\n",
        "#### Protected List\n",
        "- Your goal in this exercise is to prove that copying a list protects the original list.\n",
        "- Make a list with three people's names in it.\n",
        "- Use a slice to make a copy of the entire list.\n",
        "- Add at least two new names to the new copy of the list.\n",
        "- Make a loop that prints out all of the names in the original list, along with a message that this is the original list.\n",
        "- Make a loop that prints out all of the names in the copied list, along with a message that this is the copied list."
      ]
    },
    {
      "cell_type": "code",
      "execution_count": null,
      "metadata": {
        "id": "kEfS4zoZ_Koh",
        "outputId": "00041562-df21-4bdc-aeeb-d7d6b329f90b"
      },
      "outputs": [
        {
          "name": "stdout",
          "output_type": "stream",
          "text": [
            "abcdefghijklmnopqrstuvwxyz\n",
            "abcdefghij\n"
          ]
        }
      ],
      "source": [
        "from string import ascii_lowercase\n",
        "print(ascii_lowercase)\n",
        "tenletters=ascii_lowercase[0:10]\n",
        "print(tenletters)"
      ]
    },
    {
      "cell_type": "code",
      "execution_count": null,
      "metadata": {
        "id": "z_yJdOKE_Koi",
        "outputId": "90aa4978-4a58-413d-98da-435b7e34662d"
      },
      "outputs": [
        {
          "name": "stdout",
          "output_type": "stream",
          "text": [
            "abc\n",
            "ghi\n",
            "ghij\n"
          ]
        }
      ],
      "source": [
        "# Ex 3.13 : Alphabet Slices\n",
        "#Store the first ten letters of the alphabet in a list.\n",
        "alphabet=tenletters[:]\n",
        "#Use a slice to print out the first three letters of the alphabet.\n",
        "print(alphabet[:3])\n",
        "#Use a slice to print out any three letters from the middle of your list.\n",
        "print(alphabet[6:9])\n",
        "#Use a slice to print out the letters from any point in the middle of your list, to the end.\n",
        "print(alphabet[6:])\n",
        "# put your code here"
      ]
    },
    {
      "cell_type": "code",
      "execution_count": null,
      "metadata": {
        "id": "y9OuC2Tr_Koi",
        "outputId": "f0638e0e-919c-4939-d22e-440eb82818d3"
      },
      "outputs": [
        {
          "name": "stdout",
          "output_type": "stream",
          "text": [
            "This is the original list:\n",
            "Alice\n",
            "Anna\n",
            "Ada\n",
            "This is the copy: \n",
            "Alice\n",
            "Anna\n",
            "Ada\n",
            "Agata\n",
            "Aurora\n",
            "['alice', 'anna', 'ada', 'agata', 'aurora']\n",
            "['alice', 'anna', 'ada']\n",
            "['Alice', 'Anna', 'Ada', 'Agata', 'Aurora']\n"
          ]
        }
      ],
      "source": [
        "# Ex 3.14 : Protected List\n",
        "#Your goal in this exercise is to prove that copying a list protects the original list.\n",
        "#Make a list with three people's names in it.\n",
        "names=['alice','anna','ada']\n",
        "#Use a slice to make a copy of the entire list.\n",
        "copied_names=names[:]\n",
        "#Add at least two new names to the new copy of the list.\n",
        "copied_names.append('agata')\n",
        "copied_names.append('aurora')\n",
        "#Make a loop that prints out all of the names in the original list, along with a message that this is the original list.\n",
        "print('This is the original list:')\n",
        "for name in names:\n",
        "    print(name.title())\n",
        "#Make a loop that prints out all of the names in the copied list, along with a message that this is the copied list.\n",
        "print('This is the copy: ')\n",
        "for cname in copied_names:\n",
        "    print(cname.title())\n",
        "print(copied_names)\n",
        "\n",
        "#title the names in the original list\n",
        "print (names)\n",
        "copied_names = [i.title() for i in copied_names]\n",
        "print(copied_names)"
      ]
    },
    {
      "cell_type": "markdown",
      "metadata": {
        "id": "r9mAb1Gj_Kop"
      },
      "source": [
        "[top](#top)"
      ]
    },
    {
      "cell_type": "markdown",
      "metadata": {
        "id": "nebygPXd_Koq"
      },
      "source": [
        "<a name='numerical_lists'></a>Numerical Lists\n",
        "===\n",
        "There is nothing special about lists of numbers, but there are some functions you can use to make working with numerical lists more efficient. Let's make a list of the first ten numbers, and start working with it to see how we can use numbers in a list."
      ]
    },
    {
      "cell_type": "code",
      "execution_count": null,
      "metadata": {
        "id": "mThgdktM_Kos",
        "outputId": "8eb3072d-e037-4b4a-8919-264e23b5ed79"
      },
      "outputs": [
        {
          "name": "stdout",
          "output_type": "stream",
          "text": [
            "1\n",
            "2\n",
            "3\n",
            "4\n",
            "5\n",
            "6\n",
            "7\n",
            "8\n",
            "9\n",
            "10\n"
          ]
        }
      ],
      "source": [
        "# Print out the first ten numbers.\n",
        "numbers = [1, 2, 3, 4, 5, 6, 7, 8, 9, 10]\n",
        "\n",
        "for number in numbers:\n",
        "    print(number)"
      ]
    },
    {
      "cell_type": "markdown",
      "metadata": {
        "id": "k6llfWGe_KqC"
      },
      "source": [
        "<a name='range_function'></a>The *range()* function\n",
        "---\n",
        "This works, but it is not very efficient if we want to work with a large set of numbers. The *range()* function helps us generate long lists of numbers. Here are two ways to do the same thing, using the *range* function."
      ]
    },
    {
      "cell_type": "code",
      "execution_count": null,
      "metadata": {
        "id": "9_5cw2ZR_KqD",
        "outputId": "cb2cc6eb-f77f-4cdc-e072-7d6688ce82d9"
      },
      "outputs": [
        {
          "name": "stdout",
          "output_type": "stream",
          "text": [
            "1\n",
            "2\n",
            "3\n",
            "4\n",
            "5\n",
            "6\n",
            "7\n",
            "8\n",
            "9\n",
            "10\n"
          ]
        }
      ],
      "source": [
        "# Print the first ten numbers.\n",
        "for number in range(1,11):\n",
        "    print(number)"
      ]
    },
    {
      "cell_type": "markdown",
      "metadata": {
        "id": "fCtZNHVW_KqE"
      },
      "source": [
        "The range function takes in a starting number, and an end number. You get all integers, up to but not including the end number. You can also add a *step* value, which tells the *range* function how big of a step to take between numbers:"
      ]
    },
    {
      "cell_type": "code",
      "execution_count": null,
      "metadata": {
        "id": "ITUMjThR_KqE",
        "outputId": "cda13ad9-efc4-40ef-87cd-a7558a7e9947"
      },
      "outputs": [
        {
          "name": "stdout",
          "output_type": "stream",
          "text": [
            "1\n",
            "3\n",
            "5\n",
            "7\n",
            "9\n",
            "11\n",
            "13\n",
            "15\n",
            "17\n",
            "19\n"
          ]
        }
      ],
      "source": [
        "# Print the first ten odd numbers.\n",
        "for number in range(1,21,2):\n",
        "    print(number)"
      ]
    },
    {
      "cell_type": "markdown",
      "metadata": {
        "id": "PxU1KySG_KqF"
      },
      "source": [
        "If we want to store these numbers in a list, we can use the *list()* function. This function takes in a range, and turns it into a list:"
      ]
    },
    {
      "cell_type": "code",
      "execution_count": null,
      "metadata": {
        "id": "UdZXCKDH_KqG",
        "outputId": "5bbf96d6-6c93-45b2-d9e8-b4a1ef22c559"
      },
      "outputs": [
        {
          "name": "stdout",
          "output_type": "stream",
          "text": [
            "[1, 2, 3, 4, 5, 6, 7, 8, 9, 10]\n"
          ]
        }
      ],
      "source": [
        "# Create a list of the first ten numbers.\n",
        "numbers = list(range(1,11))\n",
        "print(numbers)"
      ]
    },
    {
      "cell_type": "markdown",
      "metadata": {
        "id": "bWYLCPDy_KqH"
      },
      "source": [
        "This is incredibly powerful; we can now create a list of the first million numbers, just as easily as we made a list of the first ten numbers. It doesn't really make sense to print the million numbers here, but we can show that the list really does have one million items in it, and we can print the last ten items to show that the list is correct."
      ]
    },
    {
      "cell_type": "code",
      "execution_count": null,
      "metadata": {
        "id": "jRgyJegx_KqI",
        "outputId": "54bfcf97-19d5-4a0d-d593-fade3a3e4898"
      },
      "outputs": [
        {
          "name": "stdout",
          "output_type": "stream",
          "text": [
            "The list 'numbers' has 1000000 numbers in it.\n",
            "\n",
            "The last ten numbers in the list are:\n",
            "999991\n",
            "999992\n",
            "999993\n",
            "999994\n",
            "999995\n",
            "999996\n",
            "999997\n",
            "999998\n",
            "999999\n",
            "1000000\n"
          ]
        }
      ],
      "source": [
        "# Store the first million numbers in a list.\n",
        "numbers = list(range(1,1000001))\n",
        "\n",
        "# Show the length of the list:\n",
        "print(\"The list 'numbers' has \" + str(len(numbers)) + \" numbers in it.\")\n",
        "\n",
        "# Show the last ten numbers:\n",
        "print(\"\\nThe last ten numbers in the list are:\")\n",
        "for number in numbers[-10:]:\n",
        "    print(number)"
      ]
    },
    {
      "cell_type": "markdown",
      "metadata": {
        "id": "VZwwaS9z_KqI"
      },
      "source": [
        "There are two things here that might be a little unclear. The expression\n",
        "\n",
        "    str(len(numbers))\n",
        "\n",
        "takes the length of the *numbers* list, and turns it into a string that can be printed.\n",
        "\n",
        "The expression \n",
        "\n",
        "    numbers[-10:]\n",
        "\n",
        "gives us a *slice* of the list. The index `-1` is the last item in the list, and the index `-10` is the item ten places from the end of the list. So the slice `numbers[-10:]` gives us everything from that item to the end of the list."
      ]
    },
    {
      "cell_type": "markdown",
      "metadata": {
        "id": "VkI26XO8_KqN"
      },
      "source": [
        "<a name='min_max_sum'></a>The *min()*, *max()*, and *sum()* functions\n",
        "---\n",
        "There are three functions you can easily use with numerical lists. As you might expect, the *min()* function returns the smallest number in the list, the *max()* function returns the largest number in the list, and the *sum()* function returns the total of all numbers in the list."
      ]
    },
    {
      "cell_type": "code",
      "execution_count": null,
      "metadata": {
        "id": "2oKO5fdx_KqO",
        "outputId": "ab32abbe-e8d5-4765-c7b5-7f90a7351958"
      },
      "outputs": [
        {
          "name": "stdout",
          "output_type": "stream",
          "text": [
            "Our youngest reader is 11 years old.\n",
            "Our oldest reader is 38 years old.\n",
            "Together, we have 149 years worth of life experience.\n"
          ]
        }
      ],
      "source": [
        "ages = [23, 16, 14, 28, 19, 11, 38]\n",
        "\n",
        "youngest = min(ages)\n",
        "oldest = max(ages)\n",
        "total_years = sum(ages)\n",
        "\n",
        "print(\"Our youngest reader is \" + str(youngest) + \" years old.\")\n",
        "print(\"Our oldest reader is \" + str(oldest) + \" years old.\")\n",
        "print(\"Together, we have \" + str(total_years) + \n",
        "      \" years worth of life experience.\")"
      ]
    },
    {
      "cell_type": "markdown",
      "metadata": {
        "id": "MhAf8Anx_KqP"
      },
      "source": [
        "<a name='exercises_numerical'></a>Exercises\n",
        "---\n",
        "#### First Twenty\n",
        "- Use the *range()* function to store the first twenty numbers (1-20) in a list, and print them out.\n",
        "\n",
        "#### Larger Sets\n",
        "- Take the *first\\_twenty.py* program you just wrote. Change your end number to a much larger number. How long does it take your computer to print out the first million numbers? (Most people will never see a million numbers scroll before their eyes. You can now see this!)\n",
        "\n",
        "#### Five Wallets\n",
        "- Imagine five wallets with different amounts of cash in them. Store these five values in a list, and print out the following sentences:\n",
        "    - \"The fattest wallet has $ *value* in it.\"\n",
        "    - \"The skinniest wallet has $ *value* in it.\"\n",
        "    - \"All together, these wallets have $ *value* in them.\""
      ]
    },
    {
      "cell_type": "code",
      "execution_count": null,
      "metadata": {
        "id": "ybcUcxbd_KsL",
        "outputId": "2c88ab36-4819-4823-e9bb-b959a7a007db"
      },
      "outputs": [
        {
          "name": "stdout",
          "output_type": "stream",
          "text": [
            "1\n",
            "2\n",
            "3\n",
            "4\n",
            "5\n",
            "6\n",
            "7\n",
            "8\n",
            "9\n",
            "10\n",
            "11\n",
            "12\n",
            "13\n",
            "14\n",
            "15\n",
            "16\n",
            "17\n",
            "18\n",
            "19\n",
            "20\n"
          ]
        }
      ],
      "source": [
        "# Ex 3.15 : First Twenty\n",
        "twenties=list(range(1,21))\n",
        "for n in twenties:\n",
        "    print(n)\n",
        "# put your code here"
      ]
    },
    {
      "cell_type": "code",
      "execution_count": null,
      "metadata": {
        "id": "8GEx08A9_KsM",
        "outputId": "d7e84f83-d0af-44b4-9746-3496e79eaf36"
      },
      "outputs": [
        {
          "data": {
            "text/plain": [
              "1000000"
            ]
          },
          "execution_count": 51,
          "metadata": {},
          "output_type": "execute_result"
        }
      ],
      "source": [
        "# Ex 3.16 : Larger Sets\n",
        "millions=list(range(0,int(1e6)))\n",
        "len(millions)\n",
        "\n",
        "# put your code here"
      ]
    },
    {
      "cell_type": "code",
      "execution_count": null,
      "metadata": {
        "id": "kAQTiyWs_KsN",
        "outputId": "c924da78-c523-4c3a-eafd-54d1286eb2a7"
      },
      "outputs": [
        {
          "name": "stdout",
          "output_type": "stream",
          "text": [
            "[[76, 62, 53], [53, 69, 30, 5, 65, 9, 39, 75], [7, 37, 60, 64, 36, 68, 71, 88, 40], [96, 6, 15, 74, 3, 79, 54, 8, 35, 99], [1, 67, 57, 71]]\n",
            "[191, 345, 471, 469, 196]\n",
            "The fattest wallet has 471 in it\n",
            "All together, these wallets have 1672 value in them\n",
            "The thinnest wallet has 191 in it\n"
          ]
        }
      ],
      "source": [
        "# Ex 3.17 : Five Wallets\n",
        "#Imagine five wallets with different amounts of cash in them. Store these five values in a list, \n",
        "#and print out the following sentences:\n",
        "#\"The fattest wallet has ∗value∗init.\"−\"Theskinniestwallethas value in it.\"\n",
        "#\"All together, these wallets have $ value in them.\"\n",
        "\n",
        "from random import randint\n",
        "\n",
        "wallets = [ [randint(1,100) for _ in range(randint(2,10))] for _ in range(5) ]\n",
        "print(wallets)\n",
        "amounts = [ sum(wallet) for wallet in wallets ]\n",
        "print(amounts)\n",
        "print('The fattest wallet has {} in it'.format(max(amounts)))\n",
        "print('All together, these wallets have {} value in them'.format(sum(amounts)))\n",
        "print('The thinnest wallet has {} in it'.format(min(amounts)))"
      ]
    },
    {
      "cell_type": "markdown",
      "metadata": {
        "id": "fLEKYqx-_KsP"
      },
      "source": [
        "[top](#top)"
      ]
    },
    {
      "cell_type": "markdown",
      "metadata": {
        "id": "ZZDSdOJo_KsP"
      },
      "source": [
        "<a name='comprehensions'></a>List Comprehensions\n",
        "===\n",
        "I thought carefully before including this section. If you are brand new to programming, list comprehensions may look confusing at first. They are a shorthand way of creating and working with lists. It is good to be aware of list comprehensions, because you will see them in other people's code, and they are really useful when you understand how to use them. That said, if they don't make sense to you yet, don't worry about using them right away. When you have worked with enough lists, you will want to use comprehensions. For now, it is good enough to know they exist, and to recognize them when you see them. If you like them, go ahead and start trying to use them now."
      ]
    },
    {
      "cell_type": "markdown",
      "metadata": {
        "id": "ZJ81nxlG_KsQ"
      },
      "source": [
        "<a name='comprehensions_numerical'></a>Numerical Comprehensions\n",
        "---\n",
        "Let's consider how we might make a list of the first ten square numbers. We could do it like this:"
      ]
    },
    {
      "cell_type": "code",
      "execution_count": null,
      "metadata": {
        "id": "WsjiwIqB_KsQ",
        "outputId": "4e2ae225-ce48-4280-e031-19cc381f1452"
      },
      "outputs": [
        {
          "name": "stdout",
          "output_type": "stream",
          "text": [
            "1\n",
            "4\n",
            "9\n",
            "16\n",
            "25\n",
            "36\n",
            "49\n",
            "64\n",
            "81\n",
            "100\n"
          ]
        }
      ],
      "source": [
        "# Store the first ten square numbers in a list.\n",
        "# Make an empty list that will hold our square numbers.\n",
        "squares = []\n",
        "\n",
        "# Go through the first ten numbers, square them, and add them to our list.\n",
        "for number in range(1,11):\n",
        "    new_square = number**2\n",
        "    squares.append(new_square)\n",
        "    \n",
        "# Show that our list is correct.\n",
        "for square in squares:\n",
        "    print(square)"
      ]
    },
    {
      "cell_type": "markdown",
      "metadata": {
        "id": "rT8-6Ej6_KsR"
      },
      "source": [
        "This should make sense at this point. If it doesn't, go over the code with these thoughts in mind:\n",
        "- We make an empty list called *squares* that will hold the values we are interested in.\n",
        "- Using the *range()* function, we start a loop that will go through the numbers 1-10.\n",
        "- Each time we pass through the loop, we find the square of the current number by raising it to the second power.\n",
        "- We add this new value to our list *squares*.\n",
        "- We go through our newly-defined list and print out each square.\n",
        "\n",
        "Now let's make this code more efficient. We don't really need to store the new square in its own variable *new_square*; we can just add it directly to the list of squares. The line\n",
        "\n",
        "    new_square = number**2\n",
        "\n",
        "is taken out, and the next line takes care of the squaring:"
      ]
    },
    {
      "cell_type": "code",
      "execution_count": null,
      "metadata": {
        "id": "NDvApoQ8_KsS",
        "outputId": "e192f623-ac19-426c-82cc-ddcce5082934"
      },
      "outputs": [
        {
          "name": "stdout",
          "output_type": "stream",
          "text": [
            "1\n",
            "4\n",
            "9\n",
            "16\n",
            "25\n",
            "36\n",
            "49\n",
            "64\n",
            "81\n",
            "100\n"
          ]
        }
      ],
      "source": [
        "# Store the first ten square numbers in a list.\n",
        "# Make an empty list that will hold our square numbers.\n",
        "squares = []\n",
        "\n",
        "# Go through the first ten numbers, square them, and add them to our list.\n",
        "for number in range(1,11):\n",
        "    squares.append(number**2)\n",
        "    \n",
        "# Show that our list is correct.\n",
        "for square in squares:\n",
        "    print(square)"
      ]
    },
    {
      "cell_type": "markdown",
      "metadata": {
        "id": "KkxbHnSm_KsT"
      },
      "source": [
        "List comprehensions allow us to collapse the first three lines of code into one line. Here's what it looks like:"
      ]
    },
    {
      "cell_type": "code",
      "execution_count": null,
      "metadata": {
        "id": "WbcNsdyI_KsT",
        "outputId": "50a07d53-6d0d-4ef7-c618-01e13ed72152"
      },
      "outputs": [
        {
          "name": "stdout",
          "output_type": "stream",
          "text": [
            "1\n",
            "4\n",
            "9\n",
            "16\n",
            "25\n",
            "36\n",
            "49\n",
            "64\n",
            "81\n",
            "100\n"
          ]
        }
      ],
      "source": [
        "# Store the first ten square numbers in a list.\n",
        "squares = [number**2 for number in range(1,11)]\n",
        "\n",
        "# Show that our list is correct.\n",
        "for square in squares:\n",
        "    print(square)"
      ]
    },
    {
      "cell_type": "markdown",
      "metadata": {
        "id": "4UZidCNX_KsU"
      },
      "source": [
        "It should be pretty clear that this code is more efficient than our previous approach, but it may not be clear what is happening. Let's take a look at everything that is happening in that first line:\n",
        "\n",
        "We define a list called *squares*.\n",
        "\n",
        "Look at the second part of what's in square brackets:\n",
        "\n",
        "    for number in range(1,11)\n",
        "\n",
        "This sets up a loop that goes through the numbers 1-10, storing each value in the variable *number*. Now we can see what happens to each *number* in the loop:\n",
        "\n",
        "    number**2\n",
        "\n",
        "Each number is raised to the second power, and this is the value that is stored in the list we defined. We might read this line in the following way:\n",
        "\n",
        "squares = [raise *number* to the second power, for each *number* in the range 1-10]"
      ]
    },
    {
      "cell_type": "markdown",
      "metadata": {
        "id": "c-5DQAx9_Ksy"
      },
      "source": [
        "### Another example\n",
        "It is probably helpful to see a few more examples of how comprehensions can be used. Let's try to make the first ten even numbers, the longer way:"
      ]
    },
    {
      "cell_type": "code",
      "execution_count": null,
      "metadata": {
        "id": "L8uaDgTu_Ks9",
        "outputId": "807c7d0b-acbd-4287-aaf0-13dbbf1b4174"
      },
      "outputs": [
        {
          "name": "stdout",
          "output_type": "stream",
          "text": [
            "2\n",
            "4\n",
            "6\n",
            "8\n",
            "10\n",
            "12\n",
            "14\n",
            "16\n",
            "18\n",
            "20\n"
          ]
        }
      ],
      "source": [
        "# Make an empty list that will hold the even numbers.\n",
        "evens = []\n",
        "\n",
        "# Loop through the numbers 1-10, double each one, and add it to our list.\n",
        "for number in range(1,11):\n",
        "    evens.append(number*2)\n",
        "    \n",
        "# Show that our list is correct:\n",
        "for even in evens:\n",
        "    print(even)"
      ]
    },
    {
      "cell_type": "markdown",
      "metadata": {
        "id": "BZFdl2Xp_Ks-"
      },
      "source": [
        "Here's how we might think of doing the same thing, using a list comprehension:\n",
        "\n",
        "evens = [multiply each *number* by 2, for each *number* in the range 1-10]\n",
        "\n",
        "Here is the same line in code:"
      ]
    },
    {
      "cell_type": "code",
      "execution_count": null,
      "metadata": {
        "id": "v5ouM4IX_Ks_",
        "outputId": "d2e661c4-982b-4c51-dcad-ea5063e3634c"
      },
      "outputs": [
        {
          "name": "stdout",
          "output_type": "stream",
          "text": [
            "2\n",
            "4\n",
            "6\n",
            "8\n",
            "10\n",
            "12\n",
            "14\n",
            "16\n",
            "18\n",
            "20\n"
          ]
        }
      ],
      "source": [
        "# Make a list of the first ten even numbers.\n",
        "evens = [number*2 for number in range(1,11)]\n",
        "\n",
        "for even in evens:\n",
        "    print(even)"
      ]
    },
    {
      "cell_type": "markdown",
      "metadata": {
        "id": "-_7Fi00g_KtA"
      },
      "source": [
        "<a name='comprehensions_non_numerical'></a>Non-numerical comprehensions\n",
        "---\n",
        "We can use comprehensions with non-numerical lists as well. In this case, we will create an initial list, and then use a comprehension to make a second list from the first one. Here is a simple example, without using comprehensions:"
      ]
    },
    {
      "cell_type": "code",
      "execution_count": null,
      "metadata": {
        "id": "1rFGIMv4_KtB",
        "outputId": "a6ade15c-cf43-4c00-ae94-35786ced0bc9"
      },
      "outputs": [
        {
          "name": "stdout",
          "output_type": "stream",
          "text": [
            "Hello, Bernice the great!\n",
            "Hello, Aaron the great!\n",
            "Hello, Cody the great!\n"
          ]
        }
      ],
      "source": [
        "# Consider some students.\n",
        "students = ['bernice', 'aaron', 'cody']\n",
        "\n",
        "# Let's turn them into great students.\n",
        "great_students = []\n",
        "for student in students:\n",
        "    great_students.append(student.title() + \" the great!\")\n",
        "\n",
        "# Let's greet each great student.\n",
        "for great_student in great_students:\n",
        "    print(\"Hello, \" + great_student)"
      ]
    },
    {
      "cell_type": "markdown",
      "metadata": {
        "id": "jSUHgWHc_KtB"
      },
      "source": [
        "To use a comprehension in this code, we want to write something like this:\n",
        "\n",
        "great_students = [add 'the great' to each *student*, for each *student* in the list of *students*]\n",
        "\n",
        "Here's what it looks like:"
      ]
    },
    {
      "cell_type": "code",
      "execution_count": null,
      "metadata": {
        "id": "NzS9Z2eV_KtD",
        "outputId": "b367f5d5-597a-43a8-ebfb-529b86813c9e"
      },
      "outputs": [
        {
          "name": "stdout",
          "output_type": "stream",
          "text": [
            "Hello, Bernice the great!\n",
            "Hello, Aaron the great!\n",
            "Hello, Cody the great!\n"
          ]
        }
      ],
      "source": [
        "# Consider some students.\n",
        "students = ['bernice', 'aaron', 'cody']\n",
        "\n",
        "# Let's turn them into great students.\n",
        "great_students = [student.title() + \" the great!\" for student in students]\n",
        "\n",
        "# Let's greet each great student.\n",
        "for great_student in great_students:\n",
        "    print(\"Hello, \" + great_student)"
      ]
    },
    {
      "cell_type": "markdown",
      "metadata": {
        "id": "QyEct-zq_KtE"
      },
      "source": [
        "<a name='exercises_comprehensions'></a>Exercises\n",
        "---\n",
        "If these examples are making sense, go ahead and try to do the following exercises using comprehensions. If not, try the exercises without comprehensions. You may figure out how to use comprehensions after you have solved each exercise the longer way.\n",
        "\n",
        "#### Multiples of Ten\n",
        "- Make a list of the first ten multiples of ten (10, 20, 30... 90, 100). There are a number of ways to do this, but try to do it using a list comprehension. Print out your list.\n",
        "\n",
        "#### Cubes\n",
        "- We saw how to make a list of the first ten squares. Make a list of the first ten cubes (1, 8, 27... 1000) using a list comprehension, and print them out.\n",
        "\n",
        "#### Awesomeness\n",
        "- Store five names in a list. Make a second list that adds the phrase \"is awesome!\" to each name, using a list comprehension. Print out the awesome version of the names.\n",
        "\n",
        "#### Working Backwards\n",
        "- Write out the following code without using a list comprehension:\n",
        "\n",
        "    plus_thirteen = [number + 13 for number in range(1,11)]"
      ]
    },
    {
      "cell_type": "code",
      "execution_count": null,
      "metadata": {
        "id": "vQ051CGT_KtF"
      },
      "outputs": [],
      "source": [
        "# Ex 3.18 : Multiples of Ten\n",
        "\n",
        "# put your code here"
      ]
    },
    {
      "cell_type": "code",
      "execution_count": null,
      "metadata": {
        "id": "Yw990R39_KtI"
      },
      "outputs": [],
      "source": [
        "# Ex 3.19 : Cubes\n",
        "\n",
        "# put your code here"
      ]
    },
    {
      "cell_type": "code",
      "execution_count": null,
      "metadata": {
        "id": "K5laMwMq_Kv2"
      },
      "outputs": [],
      "source": [
        "# Ex 3.20 : Awesomeness\n",
        "\n",
        "# put your code here"
      ]
    },
    {
      "cell_type": "code",
      "execution_count": null,
      "metadata": {
        "id": "JHytWAe1_Kv3"
      },
      "outputs": [],
      "source": [
        "# Ex 3.21 : Working Backwards\n",
        "\n",
        "# put your code here"
      ]
    },
    {
      "cell_type": "markdown",
      "metadata": {
        "id": "Ftgxhd_y_Kv3"
      },
      "source": [
        "[top](#top)"
      ]
    },
    {
      "cell_type": "markdown",
      "metadata": {
        "id": "BF0Fs9PY_Kv4"
      },
      "source": [
        "<a name='strings_as_lists'></a>Strings as Lists\n",
        "===\n",
        "Now that you have some familiarity with lists, we can take a second look at strings. A string is really a list of characters, so many of the concepts from working with lists behave the same with strings."
      ]
    },
    {
      "cell_type": "markdown",
      "metadata": {
        "id": "HbaHo7E3_Kv4"
      },
      "source": [
        "<a name='list_of_characters'></a>Strings as a list of characters\n",
        "---\n",
        "We can loop through a string using a *for* loop, just like we loop through a list:"
      ]
    },
    {
      "cell_type": "code",
      "execution_count": null,
      "metadata": {
        "id": "LJxDRvIn_Kv4",
        "outputId": "8a1bc2e9-e70c-433c-b23d-f2590a072809"
      },
      "outputs": [
        {
          "name": "stdout",
          "output_type": "stream",
          "text": [
            "H\n",
            "e\n",
            "l\n",
            "l\n",
            "o\n",
            "!\n"
          ]
        }
      ],
      "source": [
        "message = \"Hello!\"\n",
        "\n",
        "for letter in message:\n",
        "    print(letter)"
      ]
    },
    {
      "cell_type": "markdown",
      "metadata": {
        "id": "RsPdzUYz_Kv5"
      },
      "source": [
        "We can create a list from a string. The list will have one element for each character in the string:"
      ]
    },
    {
      "cell_type": "code",
      "execution_count": null,
      "metadata": {
        "id": "QY1w9Q9O_Kv7",
        "outputId": "71f7b153-e14d-4a5f-e661-70d675fd8b08"
      },
      "outputs": [
        {
          "name": "stdout",
          "output_type": "stream",
          "text": [
            "['H', 'e', 'l', 'l', 'o', ' ', 'w', 'o', 'r', 'l', 'd', '!']\n"
          ]
        }
      ],
      "source": [
        "message = \"Hello world!\"\n",
        "\n",
        "message_list = list(message)\n",
        "print(message_list)"
      ]
    },
    {
      "cell_type": "markdown",
      "metadata": {
        "id": "w9Xbf1Rp_Kv_"
      },
      "source": [
        "<a name='slicing_strings'></a>Slicing strings\n",
        "---\n",
        "We can access any character in a string by its position, just as we access individual items in a list:"
      ]
    },
    {
      "cell_type": "code",
      "execution_count": null,
      "metadata": {
        "id": "1XFyDXLM_Kv_",
        "outputId": "b21683c7-4085-4d6e-f975-e4d48b468b45"
      },
      "outputs": [
        {
          "name": "stdout",
          "output_type": "stream",
          "text": [
            "('H', '!')\n"
          ]
        }
      ],
      "source": [
        "message = \"Hello World!\"\n",
        "first_char = message[0]\n",
        "last_char = message[-1]\n",
        "\n",
        "print(first_char, last_char)"
      ]
    },
    {
      "cell_type": "markdown",
      "metadata": {
        "id": "Uh03eg6u_KwA"
      },
      "source": [
        "We can extend this to take slices of a string:"
      ]
    },
    {
      "cell_type": "code",
      "execution_count": null,
      "metadata": {
        "id": "jsXQ9HrC_KwC",
        "outputId": "8c60b1df-6f9a-461a-9327-dc455892c01c"
      },
      "outputs": [
        {
          "name": "stdout",
          "output_type": "stream",
          "text": [
            "('Hel', 'ld!')\n"
          ]
        }
      ],
      "source": [
        "message = \"Hello World!\"\n",
        "first_three = message[:3]\n",
        "last_three = message[-3:]\n",
        "\n",
        "print(first_three, last_three)"
      ]
    },
    {
      "cell_type": "markdown",
      "metadata": {
        "id": "MuyzT7zv_KwE"
      },
      "source": [
        "<a name='finding_substrings'></a>Finding substrings\n",
        "---\n",
        "Now that you have seen what indexes mean for strings, we can search for *substrings*. A substring is a series of characters that appears in a string.\n",
        "\n",
        "You can use the *in* keyword to find out whether a particular substring appears in a string:"
      ]
    },
    {
      "cell_type": "code",
      "execution_count": null,
      "metadata": {
        "id": "zsSkd9FO_KwG",
        "outputId": "02c057f8-3629-429d-af63-a6760f3fbd64"
      },
      "outputs": [
        {
          "name": "stdout",
          "output_type": "stream",
          "text": [
            "True\n"
          ]
        }
      ],
      "source": [
        "message = \"I like cats and dogs.\"\n",
        "dog_present = 'dog' in message\n",
        "print(dog_present)"
      ]
    },
    {
      "cell_type": "markdown",
      "metadata": {
        "id": "lFwYXnsS_KwH"
      },
      "source": [
        "If you want to know where a substring appears in a string, you can use the *find()* method. The *find()* method tells you the index at which the substring begins."
      ]
    },
    {
      "cell_type": "code",
      "execution_count": null,
      "metadata": {
        "id": "W2aft6Pl_KwI",
        "outputId": "452e348f-67f3-43cb-b879-7560ef2b4c3e"
      },
      "outputs": [
        {
          "name": "stdout",
          "output_type": "stream",
          "text": [
            "16\n"
          ]
        }
      ],
      "source": [
        "message = \"I like cats and dogs.\"\n",
        "dog_index = message.find('dog')\n",
        "print(dog_index)"
      ]
    },
    {
      "cell_type": "markdown",
      "metadata": {
        "id": "fxkgdsR__KwI"
      },
      "source": [
        "Note, however, that this function only returns the index of the first appearance of the substring you are looking for. If the substring appears more than once, you will miss the other substrings."
      ]
    },
    {
      "cell_type": "code",
      "execution_count": null,
      "metadata": {
        "id": "OKZqb7v-_KwJ",
        "outputId": "ec65b3fd-de97-4e1d-cb64-1048280585bf"
      },
      "outputs": [
        {
          "name": "stdout",
          "output_type": "stream",
          "text": [
            "16\n"
          ]
        }
      ],
      "source": [
        "message = \"I like cats and dogs, but I'd much rather own a dog.\"\n",
        "dog_index = message.find('dog')\n",
        "print(dog_index)"
      ]
    },
    {
      "cell_type": "markdown",
      "metadata": {
        "id": "261lJmIG_KwK"
      },
      "source": [
        "If you want to find the last appearance of a substring, you can use the *rfind()* function:"
      ]
    },
    {
      "cell_type": "code",
      "execution_count": null,
      "metadata": {
        "id": "_yRhhKwE_KwL",
        "outputId": "3d54a785-6cca-460f-9d8e-6fff077b7379"
      },
      "outputs": [
        {
          "name": "stdout",
          "output_type": "stream",
          "text": [
            "48\n"
          ]
        }
      ],
      "source": [
        "message = \"I like cats and dogs, but I'd much rather own a dog.\"\n",
        "last_dog_index = message.rfind('dog')\n",
        "print(last_dog_index)"
      ]
    },
    {
      "cell_type": "markdown",
      "metadata": {
        "id": "zxDLw3b-_KwL"
      },
      "source": [
        "<a name='replacing_substrings'></a>Replacing substrings\n",
        "---\n",
        "You can use the *replace()* function to replace any substring with another substring. To use the *replace()* function, give the substring you want to replace, and then the substring you want to replace it with. You also need to store the new string, either in the same string variable or in a new variable."
      ]
    },
    {
      "cell_type": "code",
      "execution_count": null,
      "metadata": {
        "id": "KjWV8r1s_KwN",
        "outputId": "a9051cf4-fdc5-4a7e-ef5e-156ad986a81d"
      },
      "outputs": [
        {
          "name": "stdout",
          "output_type": "stream",
          "text": [
            "I like cats and snakes, but I'd much rather own a snake.\n"
          ]
        }
      ],
      "source": [
        "message = \"I like cats and dogs, but I'd much rather own a dog.\"\n",
        "message = message.replace('dog', 'snake')\n",
        "print(message)"
      ]
    },
    {
      "cell_type": "markdown",
      "metadata": {
        "id": "U8neCKeP_KwO"
      },
      "source": [
        "<a name='counting_substrings'></a>Counting substrings\n",
        "---\n",
        "If you want to know how many times a substring appears within a string, you can use the *count()* method."
      ]
    },
    {
      "cell_type": "code",
      "execution_count": null,
      "metadata": {
        "id": "DxMw8XiV_KwO",
        "outputId": "939c15ca-1292-4984-dad3-6a6ee7fbc647"
      },
      "outputs": [
        {
          "name": "stdout",
          "output_type": "stream",
          "text": [
            "2\n"
          ]
        }
      ],
      "source": [
        "message = \"I like cats and dogs, but I'd much rather own a dog.\"\n",
        "number_dogs = message.count('dog')\n",
        "print(number_dogs)"
      ]
    },
    {
      "cell_type": "markdown",
      "metadata": {
        "id": "na0NZox3_KwP"
      },
      "source": [
        "<a name='splitting_strings'></a>Splitting strings\n",
        "---\n",
        "Strings can be split into a set of substrings when they are separated by a repeated character. If a string consists of a simple sentence, the string can be split based on spaces. The *split()* function returns a list of substrings. The *split()* function takes one argument, the character that separates the parts of the string."
      ]
    },
    {
      "cell_type": "code",
      "execution_count": null,
      "metadata": {
        "id": "Fh6lodPi_KwP",
        "outputId": "50ff33b9-8ecf-4e4f-8df7-da6fe35f62c1"
      },
      "outputs": [
        {
          "name": "stdout",
          "output_type": "stream",
          "text": [
            "['I', 'like', 'cats', 'and', 'dogs,', 'but', \"I'd\", 'much', 'rather', 'own', 'a', 'dog.']\n"
          ]
        }
      ],
      "source": [
        "message = \"I like cats and dogs, but I'd much rather own a dog.\"\n",
        "words = message.split(' ')\n",
        "print(words)"
      ]
    },
    {
      "cell_type": "markdown",
      "metadata": {
        "id": "iu_cGg8R_KwQ"
      },
      "source": [
        "Notice that the punctuation is left in the substrings.\n",
        "\n",
        "It is more common to split strings that are really lists, separated by something like a comma. The *split()* function gives you an easy way to turn comma-separated strings, which you can't do much with in Python, into lists. Once you have your data in a list, you can work with it in much more powerful ways."
      ]
    },
    {
      "cell_type": "code",
      "execution_count": null,
      "metadata": {
        "id": "VWYYmLNQ_KwQ",
        "outputId": "95adaf1b-48a8-4b43-dff4-a0a11767e203"
      },
      "outputs": [
        {
          "name": "stdout",
          "output_type": "stream",
          "text": [
            "['dog', ' cat', ' tiger', ' mouse', ' liger', ' bear']\n"
          ]
        }
      ],
      "source": [
        "animals = \"dog, cat, tiger, mouse, liger, bear\"\n",
        "\n",
        "# Rewrite the string as a list, and store it in the same variable\n",
        "animals = animals.split(',')\n",
        "print(animals)"
      ]
    },
    {
      "cell_type": "markdown",
      "metadata": {
        "id": "om5xULoa_KwW"
      },
      "source": [
        "Notice that in this case, the spaces are also ignored. It is a good idea to test the output of the *split()* function and make sure it is doing what you want with the data you are interested in.\n",
        "\n",
        "One use of this is to work with spreadsheet data in your Python programs. Most spreadsheet applications allow you to dump your data into a comma-separated text file. You can read this file into your Python program, or even copy and paste from the text file into your program file, and then turn the data into a list. You can then process your spreadsheet data using a *for* loop."
      ]
    },
    {
      "cell_type": "markdown",
      "metadata": {
        "id": "99DQnOmX_KwX"
      },
      "source": [
        "<a name='other_string_methods'></a>Other string methods\n",
        "---\n",
        "There are a number of [other string methods](http://docs.python.org/3.3/library/stdtypes.html#string-methods) that we won't go into right here, but you might want to take a look at them. Most of these methods should make sense to you at this point. You might not have use for any of them right now, but it is good to know what you can do with strings. This way you will have a sense of how to solve certain problems, even if it means referring back to the list of methods to remind yourself how to write the correct syntax when you need it."
      ]
    },
    {
      "cell_type": "markdown",
      "metadata": {
        "id": "M2KMrsID_KwY"
      },
      "source": [
        "<a name='exercises_strings_as_lists'></a>Exercises\n",
        "---\n",
        "#### Listing a Sentence\n",
        "- Store a single sentence in a variable. Use a for loop to print each character from your sentence on a separate line.\n",
        "\n",
        "#### Sentence List\n",
        "- Store a single sentence in a variable. Create a list from your sentence. Print your raw list (don't use a loop, just print the list).\n",
        "\n",
        "#### Sentence Slices\n",
        "- Store a sentence in a variable. Using slices, print out the first five characters, any five consecutive characters from the middle of the sentence, and the last five characters of the sentence.\n",
        "\n",
        "#### Finding Python\n",
        "- Store a sentence in a variable, making sure you use the word *Python* at least twice in the sentence.\n",
        "- Use the *in* keyword to prove that the word *Python* is actually in the sentence.\n",
        "- Use the *find()* function to show where the word *Python* first appears in the sentence.\n",
        "- Use the *rfind()* function to show the last place *Python* appears in the sentence.\n",
        "- Use the *count()* function to show how many times the word *Python* appears in your sentence.\n",
        "- Use the *split()* function to break your sentence into a list of words. Print the raw list, and use a loop to print each word on its own line.\n",
        "- Use the *replace()* function to change *Python* to *Ruby* in your sentence."
      ]
    },
    {
      "cell_type": "code",
      "execution_count": null,
      "metadata": {
        "id": "szvVepHh_KwY"
      },
      "outputs": [],
      "source": [
        "# Ex 3.22 : Listing a Sentence\n",
        "\n",
        "# put your code here"
      ]
    },
    {
      "cell_type": "code",
      "execution_count": null,
      "metadata": {
        "id": "0lF9e7WI_KwZ"
      },
      "outputs": [],
      "source": [
        "# Ex 3.23 : Sentence List\n",
        "\n",
        "# put your code here"
      ]
    },
    {
      "cell_type": "code",
      "execution_count": null,
      "metadata": {
        "id": "5cvHFL9w_KwZ"
      },
      "outputs": [],
      "source": [
        "# Ex 3.24 : Sentence Slices\n",
        "\n",
        "# put your code here"
      ]
    },
    {
      "cell_type": "code",
      "execution_count": null,
      "metadata": {
        "id": "vsOCw5iD_Kwa"
      },
      "outputs": [],
      "source": [
        "# Ex 3.25 : Finding Python\n",
        "\n",
        "# put your code here"
      ]
    },
    {
      "cell_type": "markdown",
      "metadata": {
        "id": "8k-bupew_Kwb"
      },
      "source": [
        "<a name='challenges_strings_as_lists'></a>Challenges\n",
        "---\n",
        "#### Counting DNA Nucleotides\n",
        "- [Project Rosalind](http://rosalind.info/problems/locations/) is a [problem set](http://rosalind.info/problems/list-view/) based on biotechnology concepts. It is meant to show how programming skills can help solve problems in genetics and biology.\n",
        "- If you have understood this section on strings, you have enough information to solve the first problem in Project Rosalind, [Counting DNA Nucleotides](http://rosalind.info/problems/dna/). Give the sample problem a try.\n",
        "- If you get the sample problem correct, log in and try the full version of the problem!\n",
        "\n",
        "#### Transcribing DNA into RNA\n",
        "- You also have enough information to try the second problem, [Transcribing DNA into RNA](http://rosalind.info/problems/rna/). Solve the sample problem.\n",
        "- If you solved the sample problem, log in and try the full version!\n",
        "\n",
        "#### Complementing a Strand of DNA\n",
        "- You guessed it, you can now try the third problem as well: [Complementing a Strand of DNA](http://rosalind.info/problems/revc/). Try the sample problem, and then try the full version if you are successful."
      ]
    },
    {
      "cell_type": "code",
      "execution_count": null,
      "metadata": {
        "id": "xlHAoz30_Kwe"
      },
      "outputs": [],
      "source": [
        "# Challenge: Counting DNA Nucleotides\n",
        "\n",
        "# Put your code here"
      ]
    },
    {
      "cell_type": "code",
      "execution_count": null,
      "metadata": {
        "id": "FnlIkBSe_Kwf"
      },
      "outputs": [],
      "source": [
        "# Challenge: Transcribing DNA into RNA\n",
        "\n",
        "# Put your code here"
      ]
    },
    {
      "cell_type": "code",
      "execution_count": null,
      "metadata": {
        "id": "ailQWBp__Kwg"
      },
      "outputs": [],
      "source": [
        "# Challenge: Complementing a Strand of DNA\n",
        "\n",
        "# Put your code here"
      ]
    },
    {
      "cell_type": "markdown",
      "metadata": {
        "id": "k6p1gm_E_Kwg"
      },
      "source": [
        "[top](#top)"
      ]
    },
    {
      "cell_type": "markdown",
      "metadata": {
        "id": "nmq7pmNU_Kwh"
      },
      "source": [
        "<a name='tuples'></a>Tuples\n",
        "===\n",
        "Tuples are basically lists that can never be changed. Lists are quite dynamic; they can grow as you append and insert items, and they can shrink as you remove items. You can modify any element you want to in a list. Sometimes we like this behavior, but other times we may want to ensure that no user or no part of a program can change a list. That's what tuples are for.\n",
        "\n",
        "Technically, lists are *mutable* objects and tuples are *immutable* objects. Mutable objects can change (think of *mutations*), and immutable objects can not change."
      ]
    },
    {
      "cell_type": "markdown",
      "metadata": {
        "id": "cEnvQBRy_Kwh"
      },
      "source": [
        "<a name='defining_tuples'></a>Defining tuples, and accessing elements\n",
        "---\n",
        "\n",
        "You define a tuple just like you define a list, except you use parentheses instead of square brackets. Once you have a tuple, you can access individual elements just like you can with a list, and you can loop through the tuple with a *for* loop:"
      ]
    },
    {
      "cell_type": "code",
      "execution_count": null,
      "metadata": {
        "id": "0Il2ES4-_Kwi",
        "outputId": "70c52098-daad-4d37-9711-c6d94d92b477"
      },
      "outputs": [
        {
          "name": "stdout",
          "output_type": "stream",
          "text": [
            "The first color is: red\n",
            "\n",
            "The available colors are:\n",
            "- red\n",
            "- green\n",
            "- blue\n"
          ]
        }
      ],
      "source": [
        "colors = ('red', 'green', 'blue')\n",
        "print(\"The first color is: \" + colors[0])\n",
        "\n",
        "print(\"\\nThe available colors are:\")\n",
        "for color in colors:\n",
        "    print(\"- \" + color)"
      ]
    },
    {
      "cell_type": "markdown",
      "metadata": {
        "id": "RnnLinC4_Kw3"
      },
      "source": [
        "If you try to add something to a tuple, you will get an error:"
      ]
    },
    {
      "cell_type": "code",
      "execution_count": null,
      "metadata": {
        "id": "p9PLolbP_Kw4",
        "outputId": "98a32d42-81b8-484a-f4c3-a72d95ecdf63"
      },
      "outputs": [
        {
          "ename": "AttributeError",
          "evalue": "'tuple' object has no attribute 'append'",
          "output_type": "error",
          "traceback": [
            "\u001b[0;31m---------------------------------------------------------------------------\u001b[0m\n\u001b[0;31mAttributeError\u001b[0m                            Traceback (most recent call last)",
            "\u001b[0;32m<ipython-input-37-ed1dbff53ab2>\u001b[0m in \u001b[0;36m<module>\u001b[0;34m()\u001b[0m\n\u001b[1;32m      1\u001b[0m \u001b[0mcolors\u001b[0m \u001b[0;34m=\u001b[0m \u001b[0;34m(\u001b[0m\u001b[0;34m'red'\u001b[0m\u001b[0;34m,\u001b[0m \u001b[0;34m'green'\u001b[0m\u001b[0;34m,\u001b[0m \u001b[0;34m'blue'\u001b[0m\u001b[0;34m)\u001b[0m\u001b[0;34m\u001b[0m\u001b[0m\n\u001b[0;32m----> 2\u001b[0;31m \u001b[0mcolors\u001b[0m\u001b[0;34m.\u001b[0m\u001b[0mappend\u001b[0m\u001b[0;34m(\u001b[0m\u001b[0;34m'purple'\u001b[0m\u001b[0;34m)\u001b[0m\u001b[0;34m\u001b[0m\u001b[0m\n\u001b[0m",
            "\u001b[0;31mAttributeError\u001b[0m: 'tuple' object has no attribute 'append'"
          ]
        }
      ],
      "source": [
        "colors = ('red', 'green', 'blue')\n",
        "colors.append('purple')"
      ]
    },
    {
      "cell_type": "markdown",
      "metadata": {
        "id": "V8v55jtP_Kw4"
      },
      "source": [
        "The same kind of thing happens when you try to remove something from a tuple, or modify one of its elements. Once you define a tuple, you can be confident that its values will not change."
      ]
    },
    {
      "cell_type": "markdown",
      "metadata": {
        "id": "6AMpU0BW_Kw5"
      },
      "source": [
        "<a name='tuples_strings'></a>Using tuples to make strings\n",
        "---\n",
        "We have seen that it is pretty useful to be able to mix raw English strings with values that are stored in variables, as in the following:"
      ]
    },
    {
      "cell_type": "code",
      "execution_count": null,
      "metadata": {
        "id": "0VYrB8t8_Kw5",
        "outputId": "8f075fe8-d01c-405b-8d5c-1d607b90b510"
      },
      "outputs": [
        {
          "name": "stdout",
          "output_type": "stream",
          "text": [
            "I have a dog.\n"
          ]
        }
      ],
      "source": [
        "animal = 'dog'\n",
        "print(\"I have a \" + animal + \".\")"
      ]
    },
    {
      "cell_type": "markdown",
      "metadata": {
        "id": "jGocEgtP_Kw6"
      },
      "source": [
        "This was especially useful when we had a series of similar statements to make:"
      ]
    },
    {
      "cell_type": "code",
      "execution_count": null,
      "metadata": {
        "id": "XhXT48Nj_Kw6",
        "outputId": "b4a146f4-962d-4334-bb9d-89d46ff87598"
      },
      "outputs": [
        {
          "name": "stdout",
          "output_type": "stream",
          "text": [
            "I have a dog.\n",
            "I have a cat.\n",
            "I have a bear.\n"
          ]
        }
      ],
      "source": [
        "animals = ['dog', 'cat', 'bear']\n",
        "for animal in animals:\n",
        "    print(\"I have a \" + animal + \".\")"
      ]
    },
    {
      "cell_type": "markdown",
      "metadata": {
        "id": "AySobgEe_Kw7"
      },
      "source": [
        "I like this approach of using the plus sign to build strings because it is fairly intuitive. We can see that we are adding several smaller strings together to make one longer string. This is intuitive, but it is a lot of typing. There is a shorter way to do this, using *placeholders*.\n",
        "\n",
        "Python ignores most of the characters we put inside of strings. There are a few characters that Python pays attention to, as we saw with strings such as \"\\t\" and \"\\n\". Python also pays attention to \"%s\" and \"%d\". These are placeholders. When Python sees the \"%s\" placeholder, it looks ahead and pulls in the first argument after the % sign:"
      ]
    },
    {
      "cell_type": "code",
      "execution_count": null,
      "metadata": {
        "id": "j_dfccAs_Kw8",
        "outputId": "c15697f5-6c22-4aae-85ae-3162be848edf"
      },
      "outputs": [
        {
          "name": "stdout",
          "output_type": "stream",
          "text": [
            "I have a dog.\n"
          ]
        }
      ],
      "source": [
        "animal = 'dog'\n",
        "print(\"I have a %s.\" % animal)"
      ]
    },
    {
      "cell_type": "markdown",
      "metadata": {
        "id": "TOR1Cy_t_Kw8"
      },
      "source": [
        "This is a much cleaner way of generating strings that include values. We compose our sentence all in one string, and then tell Python what values to pull into the string, in the appropriate places.\n",
        "\n",
        "This is called *string formatting*, and it looks the same when you use a list:"
      ]
    },
    {
      "cell_type": "code",
      "execution_count": null,
      "metadata": {
        "id": "lnkPuQ3r_KxA",
        "outputId": "4627a542-0c9f-4941-e9bf-108cad6e8b6d"
      },
      "outputs": [
        {
          "name": "stdout",
          "output_type": "stream",
          "text": [
            "I have a dog.\n",
            "I have a cat.\n",
            "I have a bear.\n"
          ]
        }
      ],
      "source": [
        "animals = ['dog', 'cat', 'bear']\n",
        "for animal in animals:\n",
        "    print(\"I have a %s.\" % animal)"
      ]
    },
    {
      "cell_type": "markdown",
      "metadata": {
        "id": "T0Fc-P19_KxB"
      },
      "source": [
        "If you have more than one value to put into the string you are composing, you have to pack the values into a tuple:"
      ]
    },
    {
      "cell_type": "code",
      "execution_count": null,
      "metadata": {
        "id": "nVL5DI6H_KxB",
        "outputId": "bb9fdb1b-f021-4de5-b78e-699f03ebc810"
      },
      "outputs": [
        {
          "name": "stdout",
          "output_type": "stream",
          "text": [
            "I have a dog, a cat, and a bear.\n"
          ]
        }
      ],
      "source": [
        "animals = ['dog', 'cat', 'bear']\n",
        "print(\"I have a %s, a %s, and a %s.\" % (animals[0], animals[1], animals[2]))"
      ]
    },
    {
      "cell_type": "markdown",
      "metadata": {
        "id": "5CAE3LZR_KxC"
      },
      "source": [
        "### String formatting with numbers\n",
        "\n",
        "If you recall, printing a number with a string can cause an error:"
      ]
    },
    {
      "cell_type": "code",
      "execution_count": null,
      "metadata": {
        "id": "UuccpSdA_KxD",
        "outputId": "a4be2d35-a7fd-4f37-cc71-9ef0293f30f6"
      },
      "outputs": [
        {
          "ename": "TypeError",
          "evalue": "cannot concatenate 'str' and 'int' objects",
          "output_type": "error",
          "traceback": [
            "\u001b[0;31m---------------------------------------------------------------------------\u001b[0m\n\u001b[0;31mTypeError\u001b[0m                                 Traceback (most recent call last)",
            "\u001b[0;32m<ipython-input-47-1ed2c5bb2bba>\u001b[0m in \u001b[0;36m<module>\u001b[0;34m()\u001b[0m\n\u001b[1;32m      1\u001b[0m \u001b[0mnumber\u001b[0m \u001b[0;34m=\u001b[0m \u001b[0;36m23\u001b[0m\u001b[0;34m\u001b[0m\u001b[0m\n\u001b[0;32m----> 2\u001b[0;31m \u001b[0;32mprint\u001b[0m\u001b[0;34m(\u001b[0m\u001b[0;34m\"My favorite number is \"\u001b[0m \u001b[0;34m+\u001b[0m \u001b[0mnumber\u001b[0m \u001b[0;34m+\u001b[0m \u001b[0;34m\".\"\u001b[0m\u001b[0;34m)\u001b[0m\u001b[0;34m\u001b[0m\u001b[0m\n\u001b[0m",
            "\u001b[0;31mTypeError\u001b[0m: cannot concatenate 'str' and 'int' objects"
          ]
        }
      ],
      "source": [
        "number = 23\n",
        "print(\"My favorite number is \" + number + \".\")"
      ]
    },
    {
      "cell_type": "markdown",
      "metadata": {
        "id": "dqlA5QGH_KxD"
      },
      "source": [
        "Python knows that you could be talking about the value 23, or the characters '23'. So it throws an error, forcing us to clarify that we want Python to treat the number as a string. We do this by *casting* the number into a string using the *str()* function:"
      ]
    },
    {
      "cell_type": "code",
      "execution_count": null,
      "metadata": {
        "id": "mVXZCcXx_K2t",
        "outputId": "ac9ed1fa-1394-4ecf-8b49-121f0fae3c8c"
      },
      "outputs": [
        {
          "name": "stdout",
          "output_type": "stream",
          "text": [
            "My favorite number is 23.\n"
          ]
        }
      ],
      "source": [
        "number = 23\n",
        "print(\"My favorite number is \" + str(number) + \".\")"
      ]
    },
    {
      "cell_type": "markdown",
      "metadata": {
        "id": "Yu4zQkm6_K2u"
      },
      "source": [
        "The format string \"%d\" takes care of this for us. Watch how clean this code is:"
      ]
    },
    {
      "cell_type": "code",
      "execution_count": null,
      "metadata": {
        "id": "WZnTq_d6_K2u",
        "outputId": "f1289ccd-54ec-4c4a-f9a1-dcfc2fa17f15"
      },
      "outputs": [
        {
          "name": "stdout",
          "output_type": "stream",
          "text": [
            "My favorite number is 23.\n"
          ]
        }
      ],
      "source": [
        "number = 23\n",
        "print(\"My favorite number is %d.\" % number)"
      ]
    },
    {
      "cell_type": "markdown",
      "metadata": {
        "id": "ttj-Rrev_K2v"
      },
      "source": [
        "If you want to use a series of numbers, you pack them into a tuple just like we saw with strings:"
      ]
    },
    {
      "cell_type": "code",
      "execution_count": null,
      "metadata": {
        "id": "iIrKaw8P_K2v",
        "outputId": "c560f959-e797-4e27-c382-fe6ad0d11211"
      },
      "outputs": [
        {
          "name": "stdout",
          "output_type": "stream",
          "text": [
            "My favorite numbers are 7, 23, and 42.\n"
          ]
        }
      ],
      "source": [
        "numbers = [7, 23, 42]\n",
        "print(\"My favorite numbers are %d, %d, and %d.\" % (numbers[0], numbers[1], numbers[2]))"
      ]
    },
    {
      "cell_type": "markdown",
      "metadata": {
        "id": "0WhwCGXT_K2w"
      },
      "source": [
        "Just for clarification, look at how much longer the code is if you use concatenation instead of string formatting:"
      ]
    },
    {
      "cell_type": "code",
      "execution_count": null,
      "metadata": {
        "id": "IpoPZgyF_K24",
        "outputId": "f63e841d-b1d2-4b11-ff02-f2ea2962d76c"
      },
      "outputs": [
        {
          "name": "stdout",
          "output_type": "stream",
          "text": [
            "My favorite numbers are 7, 23, and 42.\n"
          ]
        }
      ],
      "source": [
        "numbers = [7, 23, 42]\n",
        "print(\"My favorite numbers are \" + str(numbers[0]) + \", \" + str(numbers[1]) + \", and \" + str(numbers[2]) + \".\")"
      ]
    },
    {
      "cell_type": "markdown",
      "metadata": {
        "id": "SzoYvrmj_K26"
      },
      "source": [
        "You can mix string and numerical placeholders in any order you want."
      ]
    },
    {
      "cell_type": "code",
      "execution_count": null,
      "metadata": {
        "id": "JL6MeGM4_K27",
        "outputId": "1d0ac260-9b1c-4010-a07c-2d71b3d1f599"
      },
      "outputs": [
        {
          "name": "stdout",
          "output_type": "stream",
          "text": [
            "Eric's favorite number is 23, and Ever's favorite number is 2.\n"
          ]
        }
      ],
      "source": [
        "names = ['eric', 'ever']\n",
        "numbers = [23, 2]\n",
        "print(\"%s's favorite number is %d, and %s's favorite number is %d.\" % (names[0].title(), numbers[0], names[1].title(), numbers[1]))"
      ]
    },
    {
      "cell_type": "markdown",
      "metadata": {
        "id": "2unAZJQT_K27"
      },
      "source": [
        "There are more sophisticated ways to do string formatting in Python 3, but we will save that for later because it's a bit less intuitive than this approach. For now, you can use whichever approach consistently gets you the output that you want to see."
      ]
    },
    {
      "cell_type": "markdown",
      "metadata": {
        "id": "eU0Fy0W0_K28"
      },
      "source": [
        "<a name='tuples_exercises'></a>Exercises\n",
        "---\n",
        "\n",
        "#### Gymnast Scores\n",
        "- A gymnast can earn a score between 1 and 10 from each judge; nothing lower, nothing higher. All scores are integer values; there are no decimal scores from a single judge.\n",
        "- Store the possible scores a gymnast can earn from one judge in a tuple.\n",
        "- Print out the sentence, \"The lowest possible score is \\_\\_\\_, and the highest possible score is \\_\\_\\_.\" Use the values from your tuple.\n",
        "- Print out a series of sentences, \"A judge can give a gymnast ___ points.\"\n",
        "    - Don't worry if your first sentence reads \"A judge can give a gymnast 1 points.\"\n",
        "    - However, you get 1000 bonus internet points if you can use a for loop, and have correct grammar. [hint](#hints_gymnast_scores)\n",
        "\n",
        "#### Revision with Tuples\n",
        "- Choose a program you have already written that uses string concatenation.\n",
        "- Save the program with the same filename, but add *\\_tuple.py* to the end. For example, *gymnast\\_scores.py* becomes *gymnast\\_scores_tuple.py*.\n",
        "- Rewrite your string sections using *%s* and *%d* instead of concatenation.\n",
        "- Repeat this with two other programs you have already written."
      ]
    },
    {
      "cell_type": "code",
      "execution_count": null,
      "metadata": {
        "id": "destcWCs_K29"
      },
      "outputs": [],
      "source": [
        "# Ex 3.26 : Gymnast Scores\n",
        "\n",
        "# put your code here"
      ]
    },
    {
      "cell_type": "code",
      "execution_count": null,
      "metadata": {
        "id": "5xNk6jCb_K2_"
      },
      "outputs": [],
      "source": [
        "# Ex 3.27 : Revision with Tuples\n",
        "\n",
        "# put your code here"
      ]
    },
    {
      "cell_type": "markdown",
      "metadata": {
        "id": "7cfSCJ5N_K3O"
      },
      "source": [
        "[top](#top)"
      ]
    },
    {
      "cell_type": "markdown",
      "metadata": {
        "id": "Ghg1Tjbo_K3O"
      },
      "source": [
        "<a name='sets'></a>Sets\n",
        "===\n",
        "\n",
        "A set object is an unordered collection of distinct hashable objects. Common uses include membership testing, removing duplicates from a sequence, and computing mathematical operations such as intersection, union, difference, and symmetric difference."
      ]
    },
    {
      "cell_type": "code",
      "execution_count": null,
      "metadata": {
        "id": "SBmLgM0R_K3P",
        "outputId": "384ff8ec-9424-43b2-af27-31283da23066"
      },
      "outputs": [
        {
          "data": {
            "text/plain": [
              "{'circle', 'square', 'triangle'}"
            ]
          },
          "execution_count": 1,
          "metadata": {},
          "output_type": "execute_result"
        }
      ],
      "source": [
        "shapes = ['circle','square','triangle','circle']\n",
        "set_of_shapes = set(shapes)\n",
        "set_of_shapes"
      ]
    },
    {
      "cell_type": "code",
      "execution_count": null,
      "metadata": {
        "id": "AUCpBSO6_K3Q",
        "outputId": "5d23473f-4d9a-4417-be25-09981ebb02d6"
      },
      "outputs": [
        {
          "name": "stdout",
          "output_type": "stream",
          "text": [
            "circle\n",
            "square\n",
            "polygon\n",
            "triangle\n"
          ]
        }
      ],
      "source": [
        "shapes = {'circle','square','triangle','circle'}\n",
        "for shape in set_of_shapes:\n",
        "    print(shape)"
      ]
    },
    {
      "cell_type": "code",
      "execution_count": null,
      "metadata": {
        "id": "CfGAbWXi_K3Q",
        "outputId": "f1faad26-6fa0-42f7-b241-4b170c1faa78"
      },
      "outputs": [
        {
          "name": "stdout",
          "output_type": "stream",
          "text": [
            "{'circle', 'square', 'polygon', 'triangle'}\n"
          ]
        }
      ],
      "source": [
        "set_of_shapes.add('polygon') \n",
        "print(set_of_shapes)"
      ]
    },
    {
      "cell_type": "markdown",
      "metadata": {
        "id": "ZBztmvuq_K3S"
      },
      "source": [
        "## Exists (Check)"
      ]
    },
    {
      "cell_type": "code",
      "execution_count": null,
      "metadata": {
        "id": "RT6Ki1JY_K3V",
        "outputId": "ec2a4540-9d9e-43f2-f686-6118fc3021b2"
      },
      "outputs": [
        {
          "name": "stdout",
          "output_type": "stream",
          "text": [
            "Circle is in the set:  True\n",
            "Rhombus is in the set: False\n"
          ]
        }
      ],
      "source": [
        "# Test if circle is IN the set (i.e. exist)\n",
        "print('Circle is in the set: ', ('circle' in set_of_shapes))\n",
        "print('Rhombus is in the set:', ('rhombus' in set_of_shapes))"
      ]
    },
    {
      "cell_type": "markdown",
      "metadata": {
        "id": "fxDsiLEv_K3W"
      },
      "source": [
        "## Operations"
      ]
    },
    {
      "cell_type": "code",
      "execution_count": null,
      "metadata": {
        "id": "9f0SVgML_K3X",
        "outputId": "a82ec530-2f85-4540-e786-06e69de34e9f"
      },
      "outputs": [
        {
          "data": {
            "text/plain": [
              "{'circle', 'triangle'}"
            ]
          },
          "execution_count": 3,
          "metadata": {},
          "output_type": "execute_result"
        }
      ],
      "source": [
        "favourites_shapes = set(['circle','triangle','hexagon'])\n",
        "\n",
        "# Intersection\n",
        "set_of_shapes.intersection(favourites_shapes)"
      ]
    },
    {
      "cell_type": "code",
      "execution_count": null,
      "metadata": {
        "id": "ibr2jswP_K3X",
        "outputId": "23fb79f8-d9ea-4067-f9ca-959b2825997b"
      },
      "outputs": [
        {
          "data": {
            "text/plain": [
              "{'circle', 'hexagon', 'square', 'triangle'}"
            ]
          },
          "execution_count": 4,
          "metadata": {},
          "output_type": "execute_result"
        }
      ],
      "source": [
        "# Union\n",
        "set_of_shapes.union(favourites_shapes)"
      ]
    },
    {
      "cell_type": "code",
      "execution_count": null,
      "metadata": {
        "id": "-UzsGylC_K3Y",
        "outputId": "fc33027a-211d-4a2b-9854-b4fabd82356f"
      },
      "outputs": [
        {
          "data": {
            "text/plain": [
              "{'square'}"
            ]
          },
          "execution_count": 5,
          "metadata": {},
          "output_type": "execute_result"
        }
      ],
      "source": [
        "# Difference\n",
        "set_of_shapes.difference(favourites_shapes)"
      ]
    },
    {
      "cell_type": "markdown",
      "metadata": {
        "id": "Jbl7dDS7_K3a"
      },
      "source": [
        "<a name='challenges_overall'></a>Overall Challenges\n",
        "===\n",
        "#### Programming Words\n",
        "- Make a list of the most important words you have learned in programming so far. You should have terms such as list,\n",
        "- Make a corresponding list of definitions. Fill your list with 'definition'.\n",
        "- Use a for loop to print out each word and its corresponding definition.\n",
        "- Maintain this program until you get to the section on Python's Dictionaries."
      ]
    },
    {
      "cell_type": "code",
      "execution_count": null,
      "metadata": {
        "id": "Dnh7aBqP_K3c"
      },
      "outputs": [],
      "source": [
        "# Overall Challenges: Programming Words\n",
        "\n",
        "# Put your code here"
      ]
    },
    {
      "cell_type": "markdown",
      "metadata": {
        "id": "tw5mR5h__K5-"
      },
      "source": [
        "[top](#top)"
      ]
    },
    {
      "cell_type": "markdown",
      "metadata": {
        "id": "kGRwPU84_K5_"
      },
      "source": [
        "Hints\n",
        "===\n",
        "These are placed at the bottom, so you can have a chance to solve exercises without seeing any hints.\n",
        "\n",
        "<a name='hints_gymnast_scores'></a>\n",
        "\n",
        "#### Gymnast Scores\n",
        "- Hint: Use a slice."
      ]
    }
  ],
  "metadata": {
    "kernelspec": {
      "display_name": "Python 3",
      "language": "python",
      "name": "python3"
    },
    "language_info": {
      "codemirror_mode": {
        "name": "ipython",
        "version": 3
      },
      "file_extension": ".py",
      "mimetype": "text/x-python",
      "name": "python",
      "nbconvert_exporter": "python",
      "pygments_lexer": "ipython3",
      "version": "3.5.1"
    },
    "colab": {
      "provenance": [],
      "collapsed_sections": [
        "Nihy0myC_KOk",
        "vBGL58nL_KQW",
        "FkylCAgc_KRw",
        "_S8V4cdc_KS8",
        "BfDfW25D_KYr",
        "59T5kTS7_KY7",
        "yLcJ74ow_KZN",
        "rNtNimPq_Kb2",
        "LCnmLWQr_KdG",
        "h4wy18TW_KiX",
        "df3heXLZ_KkJ",
        "ng7A3XVQ_KkL",
        "aygD7YA9_KkQ",
        "Cypz7cqV_KkX",
        "xViq_CiS_KmH",
        "5r5bjJ_c_KmK",
        "J7Kjlm2r_KmK",
        "5Y_LsVUA_Kob",
        "wdNlmQ4N_Kog",
        "nebygPXd_Koq",
        "k6llfWGe_KqC",
        "VkI26XO8_KqN",
        "MhAf8Anx_KqP",
        "ZZDSdOJo_KsP",
        "ZJ81nxlG_KsQ",
        "c-5DQAx9_Ksy",
        "-_7Fi00g_KtA",
        "QyEct-zq_KtE",
        "BF0Fs9PY_Kv4",
        "HbaHo7E3_Kv4",
        "w9Xbf1Rp_Kv_",
        "MuyzT7zv_KwE",
        "zxDLw3b-_KwL",
        "U8neCKeP_KwO",
        "na0NZox3_KwP",
        "99DQnOmX_KwX",
        "M2KMrsID_KwY",
        "8k-bupew_Kwb",
        "nmq7pmNU_Kwh",
        "cEnvQBRy_Kwh",
        "6AMpU0BW_Kw5",
        "5CAE3LZR_KxC",
        "eU0Fy0W0_K28",
        "Ghg1Tjbo_K3O",
        "ZBztmvuq_K3S",
        "fxDsiLEv_K3W",
        "Jbl7dDS7_K3a",
        "kGRwPU84_K5_"
      ],
      "include_colab_link": true
    }
  },
  "nbformat": 4,
  "nbformat_minor": 0
}