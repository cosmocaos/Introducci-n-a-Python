{
  "cells": [
    {
      "cell_type": "markdown",
      "metadata": {
        "id": "view-in-github",
        "colab_type": "text"
      },
      "source": [
        "<a href=\"https://colab.research.google.com/github/cosmocaos/Introduccion_a_Python/blob/main/Python_Listas_y_Tuplas.ipynb\" target=\"_parent\"><img src=\"https://colab.research.google.com/assets/colab-badge.svg\" alt=\"Open In Colab\"/></a>"
      ]
    },
    {
      "cell_type": "markdown",
      "metadata": {
        "id": "Nihy0myC_KOk"
      },
      "source": [
        "# Listas, tuplas y conjuntos. "
      ]
    },
    {
      "cell_type": "markdown",
      "metadata": {
        "id": "gbYPn_QF_KQM"
      },
      "source": [
        " En esta libreta, aprenderás a almacenar más de un dato en una sola variable. \n",
        "\n",
        "Esto  es una de las ideas mas poderosas en programación y nos introducirá en varios otros conceptos fundamentales de la programación. \n",
        "\n",
        "Al comprender el material de esta libreta, aumentarán tus habilidades como programador. \n"
      ]
    },
    {
      "cell_type": "markdown",
      "metadata": {
        "id": "vBGL58nL_KQW"
      },
      "source": [
        "<a name=\"top\"></a> Contents\n",
        "===\n",
        "- [Listas](#lists)\n",
        "    - [Introducción a las Listas](#introducing)\n",
        "        - [Ejemplo](#example)\n",
        "        - [Nombrando y definiendo una lista](#naming)\n",
        "        - [Accesando un elemento de una lista](#accessing_one_item)\n",
        "        - [Ejercicios](#exercises_list_introduction)\n",
        "    - [Iteración de listas](#looping)\n",
        "        - [Accesando todos los elementos de una lista](#accessing_all_elements)\n",
        "        - [Enumerando una lista](#enumerating_list)\n",
        "        - [Ejercicios](#exercises_list_loop)\n",
        "    - [Operaciones comunes](#common_operations)\n",
        "        - [Modificando elementos en una lista](#modifying_elements)\n",
        "        - [Encontrando elementos en una lista](#finding_elements)\n",
        "        - [Probando si hay un elemento en una lista](#testing_elements)\n",
        "        - [Agregando elementos a una lista](#adding_items)\n",
        "        - [Crear una lista vacia](#empty_list)\n",
        "        - [Ordenando una lista](#sorting_list)\n",
        "        - [Encontrar longitud de una lista](#length)\n",
        "        - [Ejercicios](#exercises_common_operations)\n",
        "    - [Remover elementos de una lista](#removing_items)\n",
        "        - [Remover elementos por posición](#removing_by_position)\n",
        "        - [Remover elementos por valor](#removing_by_value)\n",
        "        - [Popping](#popping)\n",
        "        - [Ejercicios](#exercises_removing_items)\n",
        "    - [Uso de funciones](#functions)\n",
        "    - [Rebanando una lista](#slicing)\n",
        "        - [Copiando una lista](#copying)\n",
        "        - [Ejercicios](#exercises_slicing)\n",
        "    - [Listas númericas](#numerical_lists)\n",
        "        - [La función *range()*](#range_function)\n",
        "        - [Las funciones *min()*, *max()*, *sum()*](#min_max_sum)\n",
        "        - [Ejercicios](#exercises_numerical)\n",
        "    - [Comprensión de listas](#comprehensions)\n",
        "        - [Comprensiones númericas](#comprehensions_numerical)\n",
        "        - [Comprensiones no-númericas](#comprehensions_non_numerical)\n",
        "        - [Ejercicios](#exercises_comprehensions)\n",
        "    - [Listas númericas](#strings_as_lists)\n",
        "        - [Cadenas como listas de caracteres](#list_of_characters)\n",
        "        - [Rebanando cadenas](#slicing_strings)\n",
        "        - [Encontrando subcadenas](#finding_substrings)\n",
        "        - [Reemplazando subcadenas](#replacing_substrings)\n",
        "        - [Contando subcadenas](#counting_substrings)\n",
        "        - [Cortando cadenas](#splitting_strings)\n",
        "        - [Otros metódos para cadenas](#other_string_methods)\n",
        "        - [Ejercicios](#exercises_strings_as_lists)\n",
        "        - [Desafio](#challenges_strings_as_lists)\n",
        "    - [Tuplas](#tuples)\n",
        "        - [Definiendo tuplas y accesando elementos](#defining_tuples)\n",
        "        - [Usando tuplas para crear cadenas](#tuples_strings)\n",
        "        - [Ejercicios](#exercises_tuples)\n",
        "    - [Conjuntos](#sets)\n",
        "        - [Operaciones básicas](#set_operations)\n",
        "        - [Ejercicios](#exercise_set)\n",
        "    - [Desafio final](#challenges_overall)"
      ]
    },
    {
      "cell_type": "markdown",
      "metadata": {
        "id": "FkylCAgc_KRw"
      },
      "source": [
        "<a name='lists'></a>Listas\n",
        "==="
      ]
    },
    {
      "cell_type": "markdown",
      "metadata": {
        "id": "BEZynwtO_KRz"
      },
      "source": [
        "<a name='introducing'></a>Introducción a las Listas\n",
        "===\n",
        "<a name='example'></a>Ejemplo\n",
        "---\n",
        "Una lista es una colección de elementos almacenados en una variable. Los elementos deben estar relacionados de alguna manera, pero no hay restricciones en que puede ser almacenado en una lista. \n",
        "A continuación vemos un ejemplo de una lista y como podemos accesar cada elemento en la lista. "
      ]
    },
    {
      "cell_type": "code",
      "execution_count": null,
      "metadata": {
        "id": "n9SQsLTG_KR1",
        "outputId": "2ff4a363-6330-4521-d365-af69c09d8bda",
        "colab": {
          "base_uri": "https://localhost:8080/"
        }
      },
      "outputs": [
        {
          "output_type": "stream",
          "name": "stdout",
          "text": [
            "Hola, Berenice!\n",
            "Hola, Aaron!\n",
            "Hola, Carlos!\n"
          ]
        }
      ],
      "source": [
        "estudiantes = ['berenice', 'aaron', 'carlos']\n",
        "\n",
        "for estudiante in estudiantes:\n",
        "    print(\"Hola, \" + estudiante.title() + \"!\")"
      ]
    },
    {
      "cell_type": "markdown",
      "metadata": {
        "id": "_S8V4cdc_KS8"
      },
      "source": [
        "<a name='naming'></a>Nombrando y definiendo una lista\n",
        "---\n",
        "Ya que las listas son colecciones de objetos, es una buena practica darles nombres en plural. Si cada elemento en la lista es un automóvil, llama a la lista 'automoviles'. Si cada elementos en la lista es un perro, llama a la lista 'perros'. La lista entera se llamará 'perros' y cada elemento se llamará 'perro'."
      ]
    },
    {
      "cell_type": "markdown",
      "metadata": {
        "id": "N1quGs46_KS_"
      },
      "source": [
        "\n",
        "En Python, los corchetes cuadrados designan una lista. Para definir una lista, le das un nombre, luego el signo igual, y luego los datos que quieres incluir en la lista dentro de los corchetes. "
      ]
    },
    {
      "cell_type": "code",
      "execution_count": null,
      "metadata": {
        "id": "v_UoAcKH_KT5",
        "colab": {
          "base_uri": "https://localhost:8080/"
        },
        "outputId": "b10d39ee-7f5d-4492-b556-6c588560be79"
      },
      "outputs": [
        {
          "output_type": "execute_result",
          "data": {
            "text/plain": [
              "['border collie', 2, 'chihuahua']"
            ]
          },
          "metadata": {},
          "execution_count": 3
        }
      ],
      "source": [
        "perros = ['border collie', \n",
        "        'beagle', \n",
        "        'chihuahua']\n"
      ]
    },
    {
      "cell_type": "markdown",
      "metadata": {
        "id": "1ceCTaSn_KU1"
      },
      "source": [
        "<a name='accessing_one_item'></a>Accesando un elemento de la list\n",
        "---\n",
        "Los elementos en la lista están identificados por su posición en la lista, comenzando en cero. Se debe tener cuidado en eso, para no cometer el error llamado \"off-by-one\"."
      ]
    },
    {
      "cell_type": "markdown",
      "metadata": {
        "id": "hVEExKf9_KU3"
      },
      "source": [
        "Para accear el primer elemento en una lista, dale el nombre de la lisa, seguido por un cero entre corchetes cuadrados. \n"
      ]
    },
    {
      "cell_type": "code",
      "execution_count": 1,
      "metadata": {
        "id": "GId-A7xf_KU4",
        "outputId": "862fbb88-2869-4794-cbd7-e3d6d385f146",
        "colab": {
          "base_uri": "https://localhost:8080/",
          "height": 222
        }
      },
      "outputs": [
        {
          "output_type": "error",
          "ename": "IndexError",
          "evalue": "ignored",
          "traceback": [
            "\u001b[0;31m---------------------------------------------------------------------------\u001b[0m",
            "\u001b[0;31mIndexError\u001b[0m                                Traceback (most recent call last)",
            "\u001b[0;32m<ipython-input-1-2c631759c0a4>\u001b[0m in \u001b[0;36m<module>\u001b[0;34m\u001b[0m\n\u001b[1;32m      3\u001b[0m         'chihuahua']\n\u001b[1;32m      4\u001b[0m \u001b[0;34m\u001b[0m\u001b[0m\n\u001b[0;32m----> 5\u001b[0;31m \u001b[0mperro\u001b[0m \u001b[0;34m=\u001b[0m \u001b[0mperros\u001b[0m\u001b[0;34m[\u001b[0m\u001b[0;36m4\u001b[0m\u001b[0;34m]\u001b[0m\u001b[0;34m\u001b[0m\u001b[0;34m\u001b[0m\u001b[0m\n\u001b[0m\u001b[1;32m      6\u001b[0m \u001b[0mprint\u001b[0m\u001b[0;34m(\u001b[0m\u001b[0mperro\u001b[0m\u001b[0;34m.\u001b[0m\u001b[0mtitle\u001b[0m\u001b[0;34m(\u001b[0m\u001b[0;34m)\u001b[0m\u001b[0;34m)\u001b[0m\u001b[0;34m\u001b[0m\u001b[0;34m\u001b[0m\u001b[0m\n",
            "\u001b[0;31mIndexError\u001b[0m: list index out of range"
          ]
        }
      ],
      "source": [
        "perros = ['border collie', \n",
        "        'beagle', \n",
        "        'chihuahua']\n",
        "\n",
        "perro = perros[4]\n",
        "print(perro.title())"
      ]
    },
    {
      "cell_type": "markdown",
      "metadata": {
        "id": "7Dx17AOh_KW0"
      },
      "source": [
        "El número entre parentesís es llamado el indice del elemento. \n",
        "\n",
        "Ya que las listas inician en cero, el indice de un elemento es siempre uno menos que la posición que tiene en la lista.  \n",
        "\n",
        "Se dice que **Python** es un un lenguaje [*zero-indexed*](http://en.wikipedia.org/wiki/Zero-based_numbering) (Al igual que otros como `C`, ó `Java`)"
      ]
    },
    {
      "cell_type": "markdown",
      "metadata": {
        "id": "F_rujHj9_KW2"
      },
      "source": [
        "Así que para obtener el segundo elemento en la lista, necesitamos usar el indice 1, y así sucesivamente... "
      ]
    },
    {
      "cell_type": "code",
      "execution_count": null,
      "metadata": {
        "id": "Oe6Os6ke_KW3",
        "outputId": "e5ad4bde-4e4b-4139-ff97-1a82bb879ea2",
        "colab": {
          "base_uri": "https://localhost:8080/"
        }
      },
      "outputs": [
        {
          "output_type": "stream",
          "name": "stdout",
          "text": [
            "Beagle\n"
          ]
        }
      ],
      "source": [
        "perro = perros[1]\n",
        "print(perro.title())"
      ]
    },
    {
      "cell_type": "markdown",
      "metadata": {
        "id": "XDNqY5RU_KW9"
      },
      "source": [
        "### Accesando el último elemento en una lista\n",
        "Para obtener el ultimo elemento de una lista, no importa el tamaño de la lista, usamos el indice -1. \n"
      ]
    },
    {
      "cell_type": "code",
      "execution_count": null,
      "metadata": {
        "id": "xcYw_1LL_KW-",
        "outputId": "18e21511-4d26-4c55-b018-3f18485afbc8",
        "colab": {
          "base_uri": "https://localhost:8080/"
        }
      },
      "outputs": [
        {
          "output_type": "stream",
          "name": "stdout",
          "text": [
            "Chihuahua\n"
          ]
        }
      ],
      "source": [
        "perro = perros[-1]\n",
        "print(perro.title())"
      ]
    },
    {
      "cell_type": "markdown",
      "metadata": {
        "id": "CzL3a9re_KW_"
      },
      "source": [
        "Esta sintaxis funciona hacia atras. "
      ]
    },
    {
      "cell_type": "code",
      "execution_count": null,
      "metadata": {
        "id": "1VUcSI4y_KXA",
        "outputId": "ed4d6338-65e8-4b58-fbfb-8b3458548c4c",
        "colab": {
          "base_uri": "https://localhost:8080/",
          "height": 187
        }
      },
      "outputs": [
        {
          "output_type": "error",
          "ename": "IndexError",
          "evalue": "ignored",
          "traceback": [
            "\u001b[0;31m---------------------------------------------------------------------------\u001b[0m",
            "\u001b[0;31mIndexError\u001b[0m                                Traceback (most recent call last)",
            "\u001b[0;32m<ipython-input-10-f254ade69bcb>\u001b[0m in \u001b[0;36m<module>\u001b[0;34m\u001b[0m\n\u001b[0;32m----> 1\u001b[0;31m \u001b[0mperro\u001b[0m \u001b[0;34m=\u001b[0m \u001b[0mperros\u001b[0m\u001b[0;34m[\u001b[0m\u001b[0;34m-\u001b[0m\u001b[0;36m4\u001b[0m\u001b[0;34m]\u001b[0m\u001b[0;34m\u001b[0m\u001b[0;34m\u001b[0m\u001b[0m\n\u001b[0m\u001b[1;32m      2\u001b[0m \u001b[0mprint\u001b[0m\u001b[0;34m(\u001b[0m\u001b[0mperro\u001b[0m\u001b[0;34m.\u001b[0m\u001b[0mtitle\u001b[0m\u001b[0;34m(\u001b[0m\u001b[0;34m)\u001b[0m\u001b[0;34m)\u001b[0m\u001b[0;34m\u001b[0m\u001b[0;34m\u001b[0m\u001b[0m\n",
            "\u001b[0;31mIndexError\u001b[0m: list index out of range"
          ]
        }
      ],
      "source": [
        "perro = perros[-4]\n",
        "print(perro.title())"
      ]
    },
    {
      "cell_type": "markdown",
      "metadata": {
        "id": "f704AhXb_KXB"
      },
      "source": [
        "You can't use a negative number larger than the length of the list, however."
      ]
    },
    {
      "cell_type": "code",
      "execution_count": null,
      "metadata": {
        "id": "eD95aCbu_KXC",
        "outputId": "6e037796-3cbf-4908-d7ab-996d9d19be21",
        "colab": {
          "base_uri": "https://localhost:8080/",
          "height": 187
        }
      },
      "outputs": [
        {
          "output_type": "error",
          "ename": "IndexError",
          "evalue": "ignored",
          "traceback": [
            "\u001b[0;31m---------------------------------------------------------------------------\u001b[0m",
            "\u001b[0;31mIndexError\u001b[0m                                Traceback (most recent call last)",
            "\u001b[0;32m<ipython-input-7-9d9d8c182475>\u001b[0m in \u001b[0;36m<module>\u001b[0;34m\u001b[0m\n\u001b[0;32m----> 1\u001b[0;31m \u001b[0mperro\u001b[0m \u001b[0;34m=\u001b[0m \u001b[0mperros\u001b[0m\u001b[0;34m[\u001b[0m\u001b[0;36m3\u001b[0m\u001b[0;34m]\u001b[0m\u001b[0;34m\u001b[0m\u001b[0;34m\u001b[0m\u001b[0m\n\u001b[0m\u001b[1;32m      2\u001b[0m \u001b[0mprint\u001b[0m\u001b[0;34m(\u001b[0m\u001b[0mperro\u001b[0m\u001b[0;34m.\u001b[0m\u001b[0mtitle\u001b[0m\u001b[0;34m(\u001b[0m\u001b[0;34m)\u001b[0m\u001b[0;34m)\u001b[0m\u001b[0;34m\u001b[0m\u001b[0;34m\u001b[0m\u001b[0m\n",
            "\u001b[0;31mIndexError\u001b[0m: list index out of range"
          ]
        }
      ],
      "source": [
        "perro = perros[3]\n",
        "print(perro.title())"
      ]
    },
    {
      "cell_type": "markdown",
      "metadata": {
        "id": "Y9sMCqfn_KXE"
      },
      "source": [
        "[top](#top)"
      ]
    },
    {
      "cell_type": "markdown",
      "metadata": {
        "id": "eZjL5jkY_KXE"
      },
      "source": [
        "<a name='exercises_list_introduction'></a>Ejercicios\n",
        "---\n",
        "#### Primera Lista\n",
        "- Almacena los valores  'python', 'c', y 'java' en una lista.\n",
        "Imprime cada uno de estos valores usando su posición en la lista. \n",
        "\n",
        "#### Primera Lista Bonita\n",
        "-  Almacena los valores  'python', 'c', y 'java' en una lista.\n",
        "Imprime un enunciado usando cada uno de estos valores usando su posición en la lista.\n",
        "- El enunciado puede ser algo simple como, 'Un lenguaje de programación chido es: *value*.'\n",
        "\n",
        "#### Tu primera Lista\n",
        "- Piensa en algo que puedas almacenar en una lista. Has una lista con 3 o 4 elementos, después imprime un mensaje que incluya al menos un elemento de la lista. El enunciado debe ser algo simple. \n"
      ]
    },
    {
      "cell_type": "code",
      "source": [],
      "metadata": {
        "id": "G4Pcsd-Wp5_U"
      },
      "execution_count": null,
      "outputs": []
    },
    {
      "cell_type": "code",
      "source": [],
      "metadata": {
        "id": "QlQwIcTap60j"
      },
      "execution_count": null,
      "outputs": []
    },
    {
      "cell_type": "code",
      "source": [],
      "metadata": {
        "id": "OWQVGPZSp65V"
      },
      "execution_count": null,
      "outputs": []
    },
    {
      "cell_type": "code",
      "source": [],
      "metadata": {
        "id": "j0vBY6h7p69B"
      },
      "execution_count": null,
      "outputs": []
    },
    {
      "cell_type": "code",
      "source": [],
      "metadata": {
        "id": "nmD_qBp3p7AX"
      },
      "execution_count": null,
      "outputs": []
    },
    {
      "cell_type": "code",
      "source": [],
      "metadata": {
        "id": "k2rxEke3p7Dq"
      },
      "execution_count": null,
      "outputs": []
    },
    {
      "cell_type": "code",
      "execution_count": null,
      "metadata": {
        "id": "SNRqGeN__KXG",
        "colab": {
          "base_uri": "https://localhost:8080/"
        },
        "outputId": "c9ac92bb-7718-40b2-9769-3a82e3f1f727"
      },
      "outputs": [
        {
          "output_type": "stream",
          "name": "stdout",
          "text": [
            "python C java\n",
            "C\n",
            "java\n"
          ]
        }
      ],
      "source": [
        "# Ex 3.1 : Primera Lista\n",
        "lenguas = ['python', 'C', 'java']\n",
        "print(lenguas[0],lenguas[1],lenguas[2])\n",
        "print(lenguas[1])\n",
        "print(lenguas[2])\n",
        "\n",
        "# pon tú código aquí"
      ]
    },
    {
      "cell_type": "code",
      "execution_count": null,
      "metadata": {
        "id": "ayYm2q-l_KYj",
        "colab": {
          "base_uri": "https://localhost:8080/"
        },
        "outputId": "6f7cbcbf-e95f-47a2-99b4-f4f62c1bbdfd"
      },
      "outputs": [
        {
          "output_type": "stream",
          "name": "stdout",
          "text": [
            "Un lenguaje chido es python\n",
            "Un lenguaje chido es python\n",
            "Un lenguaje poderoso es C\n",
            "Minecraft esta escrito en java\n"
          ]
        }
      ],
      "source": [
        "# Ex 3.2 : Primera Lista Bonita\n",
        "lenguas = ['python', 'C', 'java']\n",
        "print('Un lenguaje chido es', lenguas[0])\n",
        "print(f'Un lenguaje chido es {lenguas[0]}')\n",
        "print('Un lenguaje poderoso es',lenguas[1])\n",
        "print('Minecraft esta escrito en',lenguas[2])\n",
        "\n",
        "\n",
        "# pon tú código aquí"
      ]
    },
    {
      "cell_type": "code",
      "execution_count": null,
      "metadata": {
        "id": "LzxBUyDP_KYn",
        "colab": {
          "base_uri": "https://localhost:8080/"
        },
        "outputId": "1b9ba175-87bb-415a-fa64-c44c8a98ee91"
      },
      "outputs": [
        {
          "output_type": "stream",
          "name": "stdout",
          "text": [
            "El planeta mas cercano al Sol es Mercurio\n",
            "Aunque Mercurio esta mas cerca del Sol, Venus es el mas caliente\n",
            "Nuestro planeta se llama Tierra\n",
            "Elon Musk quiere colonizar Marte\n"
          ]
        }
      ],
      "source": [
        "# Ex 3.3 : Tu primera Lista\n",
        "\n",
        "planetas = ['Mercurio', 'Venus', 'Tierra', 'Marte']\n",
        "print('El planeta mas cercano al Sol es',planetas[0])\n",
        "print(f'Aunque {planetas[0]} esta mas cerca del Sol, {planetas[1]} es el mas caliente')\n",
        "print(f'Nuestro planeta se llama {planetas[2]}')\n",
        "print(f'Elon Musk quiere colonizar {planetas[3]}')\n",
        "\n",
        "\n",
        "# pon tú código aquí"
      ]
    },
    {
      "cell_type": "markdown",
      "metadata": {
        "id": "ypDMzdXQ_KYp"
      },
      "source": [
        "[top](#top)"
      ]
    },
    {
      "cell_type": "code",
      "source": [],
      "metadata": {
        "id": "T1l7OOiqF4Sb"
      },
      "execution_count": null,
      "outputs": []
    },
    {
      "cell_type": "markdown",
      "metadata": {
        "id": "NEnvVjaq_KYq"
      },
      "source": [
        "<a name='looping'></a>Iteración de Listas\n",
        "==="
      ]
    },
    {
      "cell_type": "markdown",
      "metadata": {
        "id": "BfDfW25D_KYr"
      },
      "source": [
        "<a name='accessing_all_elements'></a>Accesando todos los elementos en una lista\n",
        "---\n",
        "Este es uno de los conceptos mas importantes relacionado a las listas. Puedes tener millones de elementos  en una lista, y en tres lineas de código puedes escribir un enunciado para cada uno de esos millones de elementos. Si quieres entender las listas, y ser programador competente, asegurate de entender esta sección. \n",
        "\n",
        "Usamos un loop para accesar todos los elementos en una lista. Un loop es un bloque de código que se repite hasta que se acaban los elementos, o hasta que cierta condición se alcanza. En este caso nuestro loop se ejecutara para cada elemento en nuestra lisa. Con una lista que tiene 3 elementos, nuestro loop se ejecutará 3 veces. "
      ]
    },
    {
      "cell_type": "code",
      "execution_count": null,
      "metadata": {
        "id": "szSdrBV__KYu",
        "outputId": "b379ba27-cc47-45cd-f35f-0d57d49e3918",
        "colab": {
          "base_uri": "https://localhost:8080/"
        }
      },
      "outputs": [
        {
          "output_type": "stream",
          "name": "stdout",
          "text": [
            "border collie\n",
            "beagle\n",
            "chihuahua\n"
          ]
        }
      ],
      "source": [
        "perros = ['border collie', 'beagle', 'chihuahua']\n",
        "\n",
        "for perro in perros:\n",
        "  print(perro)"
      ]
    },
    {
      "cell_type": "markdown",
      "metadata": {
        "id": "vRIk0Zny_KY5"
      },
      "source": [
        "Anteriormente ya hemos mostrado como crear una lista, así que veamos que hacen las ultimas dos lineas de arriba. Estas dos líneas forman un loop ó un 'ciclo for', el lenguaje nos ayudara a ver que esta pasando.  \n",
        "\n",
        "    for perro in perros:  (para perro en perros:)\n",
        "- El palabra \"for\" le dice a python que iniciará un loop. \n",
        "- La variable \"perro\", sin la \"s\", es una variable temporal. En esta variable Python colocará un elemento por vez de la lista, en cada interacción  \n",
        "- La primera vez que se ejecute el, loop, el valor de \"perro\" será 'border collie'.\n",
        "- La segunda vez que se ejecute el, loop, el valor de \"perro\" será 'beagle'.\n",
        "- La tercera vez que se ejecute el, loop, el valor de \"perro\" será 'chihuahua'.\n",
        "- Después de esto ya no hay mas elementos en la lista y el loop concluirá. "
      ]
    },
    {
      "cell_type": "markdown",
      "metadata": {
        "id": "59T5kTS7_KY7"
      },
      "source": [
        "### Haciendo mas con cada elemento\n",
        "Podemos hacer lo que queramos con el valor de \"perro\" dentro del loop. \n",
        "\n",
        "    print(dog)\n",
        "\n",
        "No estamos limitados a solo imprimir el contenido de \"perro\". Podemos hacer lo que queramos con este valor, y esta acción se hará para cada elemento en la lista."
      ]
    },
    {
      "cell_type": "markdown",
      "metadata": {
        "id": "nOiDQGT8_KY_"
      },
      "source": [
        "Diagmos algo para cada perro en la lista."
      ]
    },
    {
      "cell_type": "code",
      "execution_count": null,
      "metadata": {
        "id": "fBZMBH1X_KZD",
        "outputId": "bd27de8c-2747-4f5a-ede6-480e44b0c6a1",
        "colab": {
          "base_uri": "https://localhost:8080/"
        }
      },
      "outputs": [
        {
          "output_type": "stream",
          "name": "stdout",
          "text": [
            "Me gustan los border collies.\n",
            "Me gustan los beagles.\n",
            "Me gustan los chihuahuas.\n"
          ]
        }
      ],
      "source": [
        "perros = ['border collie', 'beagle', 'chihuahua']\n",
        "\n",
        "for perro in perros:\n",
        "  #print('Me gustan los ' + perro + 's.')\n",
        "  #print('Me gustan los ' , perro,'s.') \n",
        "  print(f'Me gustan los {perro}s.')  "
      ]
    },
    {
      "cell_type": "markdown",
      "metadata": {
        "id": "yLcJ74ow_KZN"
      },
      "source": [
        "### Adentro y afuera del loop\n",
        "\n",
        "Python usa identación para decidir que esta adentro y afuera del loop. El código que esta dentro del loop se ejecutará para cada elemento en la lista. El código que no esta indentado, que está después del loop, se ejecutará solo una vez."
      ]
    },
    {
      "cell_type": "code",
      "execution_count": null,
      "metadata": {
        "id": "Hhrd-Tey_KZO",
        "outputId": "65a23db3-bd4f-4ce5-d57a-4b6ebf9c5eaf",
        "colab": {
          "base_uri": "https://localhost:8080/"
        }
      },
      "outputs": [
        {
          "output_type": "stream",
          "name": "stdout",
          "text": [
            "Me gustan los border collies.\n",
            "No, me gustan muchooo los border collies!\n",
            "\n",
            "Me gustan los beagles.\n",
            "No, me gustan muchooo los beagles!\n",
            "\n",
            "Me gustan los chihuahuas.\n",
            "No, me gustan muchooo los chihuahuas!\n",
            "\n",
            "Es lo que siento de los perros\n"
          ]
        }
      ],
      "source": [
        "perros = ['border collie', 'beagle', 'chihuahua']\n",
        "\n",
        "for perro in perros:\n",
        "  print('Me gustan los ' + perro + 's.')\n",
        "  print('No, me gustan muchooo los ' + perro +'s!\\n')\n",
        "\n",
        "print(\"Es lo que siento de los perros\")"
      ]
    },
    {
      "cell_type": "markdown",
      "metadata": {
        "id": "VCYV_Cx1_Kb0"
      },
      "source": [
        "Nota como la ultima línea solo corre una vez, después de que se completo el loop. Nota que con una nueva línea (\"\\n\"), se puede leer más fácil lo impreso en pantalla."
      ]
    },
    {
      "cell_type": "markdown",
      "metadata": {
        "id": "hGYRSWf4_Kb1"
      },
      "source": [
        "[top](#top)"
      ]
    },
    {
      "cell_type": "markdown",
      "metadata": {
        "id": "rNtNimPq_Kb2"
      },
      "source": [
        "<a name='enumerating_list'></a>Enumerando una lista\n",
        "---\n",
        "Cuando estas iterando una lista, podrías desear conocer el indice del elemento actual. La manera mas simple es usar la función *enumerate()* que nos dice el indice de cada elemento durante la iteración de la lista."
      ]
    },
    {
      "cell_type": "code",
      "execution_count": null,
      "metadata": {
        "id": "x4BQ3Cwf_Kb3",
        "outputId": "bf3bd8cb-f0a8-4b92-a651-f5cf3000432e",
        "colab": {
          "base_uri": "https://localhost:8080/"
        }
      },
      "outputs": [
        {
          "output_type": "stream",
          "name": "stdout",
          "text": [
            "Los resultados del espectáculo de Perros es:\n",
            "\n",
            "Lugar: 1 Perro: Border Collie\n",
            "Lugar: 2 Perro: Beagle\n",
            "Lugar: 3 Perro: Chihuahua\n"
          ]
        }
      ],
      "source": [
        "perros = ['border collie', 'beagle', 'chihuahua']\n",
        "\n",
        "print(\"Los resultados del espectáculo de Perros es:\\n\")\n",
        "for indice, perro in enumerate(perros):\n",
        "    #print(\"Lugar: \" + indice + \" Perro: \" + perro.title())\n",
        "    print(f'Lugar: {indice+1} Perro: {perro.title()}')"
      ]
    },
    {
      "cell_type": "markdown",
      "metadata": {
        "id": "yX5VlBiP_KcA"
      },
      "source": [
        "Para enumerar una lista, necesitas agregar una variable para el *indice* para que guarde el indice de la iteración correspondiente.\n",
        "Así que en lugar de\n",
        "\n",
        "    for perro in perros:\n",
        "    \n",
        "You have\n",
        "\n",
        "    for indice, perro in enumerate(perros)\n",
        "    \n",
        "El valor en la variable *indice* siempre es un entero. Si quieres imprimirlo como una cadena, tendrás que convertirlo de entero a cadena:\n",
        "\n",
        "    str(indice)\n",
        "    "
      ]
    },
    {
      "cell_type": "markdown",
      "metadata": {
        "id": "1ARd239h_KcC"
      },
      "source": [
        "El indice siempre inicia en cero, asi quee en este ejemplo el valor de *lugar* debe ser el indice mas uno:"
      ]
    },
    {
      "cell_type": "code",
      "execution_count": null,
      "metadata": {
        "id": "IEop9Pd-_KcD",
        "outputId": "0bcf80d1-7691-4b8f-d236-12967ed5d616",
        "colab": {
          "base_uri": "https://localhost:8080/"
        }
      },
      "outputs": [
        {
          "output_type": "stream",
          "name": "stdout",
          "text": [
            "Los resultados del espectáculo de Perros es:\n",
            "\n",
            "Lugar: 1 Perro: Border Collie\n",
            "Lugar: 2 Perro: Beagle\n",
            "Lugar: 3 Perro: Chihuahua\n"
          ]
        }
      ],
      "source": [
        "perros = ['border collie', 'beagle', 'chihuahua']\n",
        "\n",
        "print(\"Los resultados del espectáculo de Perros es:\\n\")\n",
        "for indice, perro in enumerate(perros):\n",
        "    lugar = str(indice+1)\n",
        "    print(\"Lugar: \" + lugar + \" Perro: \" + perro.title())"
      ]
    },
    {
      "cell_type": "code",
      "source": [
        "from IPython.display import Math, HTML"
      ],
      "metadata": {
        "id": "JH25d1pZEmvI"
      },
      "execution_count": null,
      "outputs": []
    },
    {
      "cell_type": "markdown",
      "metadata": {
        "id": "416Kos3E_Kc9"
      },
      "source": [
        "## El loop FOR\n",
        "\n",
        "El loop `for` es el mas usado en los mecanismos de iteración en Python. \n",
        "\n",
        "* Casi cualquier estructura en Python puede ser iterada (*elemento por elemento*) por un loop `for`.\n",
        "    - Una lista, una tupla, un diccionario, (veremos mas adelante) \n",
        "  \n",
        "* In Python, also `while` loops are permitted, but `for` is the one you would see (and use) most of the time!"
      ]
    },
    {
      "cell_type": "markdown",
      "metadata": {
        "id": "-ObYX2_h_Kc-"
      },
      "source": [
        "### Keyword en loop FOR \n",
        "\n",
        "Python permite el uso de dos **keywords** para ser usados dentro de un loop `for`:\n",
        "**break** y **continue**.\n",
        "\n",
        "Los dos keywords tienen usos **diferentes**:"
      ]
    },
    {
      "cell_type": "markdown",
      "metadata": {
        "id": "TnBE-m-L_Kc-"
      },
      "source": [
        "* **Break** usado para *interrumpir y salir del lopp*\n",
        "* **Continue** usado para *omitir y pasar a la siguiente iteración!*"
      ]
    },
    {
      "cell_type": "code",
      "source": [
        "perros = ['border collie', 'beagle', 'chihuahua', 'pastor aleman']\n",
        "for perro in perros:\n",
        "  if perro == 'chihuahua':\n",
        "    print('este perro no me gusta, y me lo voy a saltar')\n",
        "    continue\n",
        "  print(perro)"
      ],
      "metadata": {
        "colab": {
          "base_uri": "https://localhost:8080/"
        },
        "id": "EjvhfW6uN2zF",
        "outputId": "ff67575a-2abd-41f1-a644-5e85f58973ff"
      },
      "execution_count": null,
      "outputs": [
        {
          "output_type": "stream",
          "name": "stdout",
          "text": [
            "border collie\n",
            "beagle\n",
            "este perro no me gusta, y me lo voy a saltar\n",
            "pastor aleman\n"
          ]
        }
      ]
    },
    {
      "cell_type": "markdown",
      "metadata": {
        "id": "VAkrMjyU_Kc_"
      },
      "source": [
        "**NOTA**: También funcionan con el loop `while`!"
      ]
    },
    {
      "cell_type": "markdown",
      "metadata": {
        "id": "LCnmLWQr_KdG"
      },
      "source": [
        "<a name='exercises_list_loop'></a>Ejercicios\n",
        "---\n",
        "#### Primera Lista - Loop\n",
        "- Repite *Primera Lista*, pero esta vez usa un loop para imprimir cada elemento de la lista. \n",
        "\n",
        "#### Primera Lista Bonita - Loop\n",
        "- Repite *Primera Lista Bonita*, pero esta vez usa un loop para imprimir cada elemento de la lista con un enunciado. \n",
        "\n",
        "#### Tu primera Lista - Loop\n",
        "- Repite *Tu primera Lista*, pero esta vez usa un loop para imprimir cada elemento de tu lista con un enunciado. "
      ]
    },
    {
      "cell_type": "code",
      "execution_count": null,
      "metadata": {
        "id": "DULWu722_KdI",
        "colab": {
          "base_uri": "https://localhost:8080/"
        },
        "outputId": "d23fb014-81e7-49ae-ec58-4ee5f7212679"
      },
      "outputs": [
        {
          "output_type": "stream",
          "name": "stdout",
          "text": [
            "border collie\n",
            "beagle\n",
            "chihuahua\n",
            "xoloescuincle\n",
            "poddle\n",
            "pomerano\n",
            "rotweiler\n",
            "pastor aleman\n",
            "pitbull\n"
          ]
        }
      ],
      "source": [
        "# Ex 3.4 : First List - Loop\n",
        "perros = ['border collie', 'beagle', 'chihuahua', 'xoloescuincle', \\\n",
        "          'poddle', 'pomerano', 'rotweiler', 'pastor aleman', 'pitbull' ]\n",
        "for perro in perros:\n",
        "  print(perro)\n",
        "\n",
        "\n",
        "# put your code here"
      ]
    },
    {
      "cell_type": "code",
      "execution_count": null,
      "metadata": {
        "id": "KaUiVrPs_KdI",
        "colab": {
          "base_uri": "https://localhost:8080/"
        },
        "outputId": "7f99b17d-4055-418d-e410-cc709a7611d9"
      },
      "outputs": [
        {
          "output_type": "stream",
          "name": "stdout",
          "text": [
            "Una raza de perro es: border collie\n",
            "Una raza de perro es: beagle\n",
            "Una raza de perro es: chihuahua\n",
            "Una raza de perro es: xoloescuincle\n",
            "Una raza de perro es: poddle\n",
            "Una raza de perro es: pomerano\n",
            "Una raza de perro es: rotweiler\n",
            "Una raza de perro es: pastor aleman\n",
            "Una raza de perro es: pitbull\n"
          ]
        }
      ],
      "source": [
        "# Ex 3.5 : First Neat List - Loop\n",
        "\n",
        "perros = ['border collie', 'beagle', 'chihuahua', 'xoloescuincle', \\\n",
        "          'poddle', 'pomerano', 'rotweiler', 'pastor aleman', 'pitbull' ]\n",
        "for perro in perros:\n",
        "  print(f'Una raza de perro es: {perro}')\n",
        "\n",
        "\n",
        "# put your code here"
      ]
    },
    {
      "cell_type": "code",
      "execution_count": null,
      "metadata": {
        "id": "ef9RQu9Z_KdJ",
        "colab": {
          "base_uri": "https://localhost:8080/"
        },
        "outputId": "3eac8c0f-f3b1-4f1c-efba-060323d01a97"
      },
      "outputs": [
        {
          "output_type": "stream",
          "name": "stdout",
          "text": [
            "México es un pais del continente Americano\n",
            "Honduras es un pais del continente Americano\n",
            "Belice es un pais del continente Americano\n",
            "Panáma es un pais del continente Americano\n",
            "Bolivia es un pais del continente Americano\n",
            "Venezuela es un pais del continente Americano\n",
            "Colombia es un pais del continente Americano\n",
            "Ecuador es un pais del continente Americano\n",
            "Brasil es un pais del continente Americano\n",
            "Argentina es un pais del continente Americano\n",
            "Chile es un pais del continente Americano\n"
          ]
        }
      ],
      "source": [
        "# Ex 3.6 : Your First List - Loop\n",
        "\n",
        "paises = ['México', 'Honduras', 'Belice', 'Panáma', 'Bolivia', 'Venezuela', \\\n",
        "          'Colombia', 'Ecuador', 'Brasil', 'Argentina', 'Chile' ]\n",
        "for pais in paises:\n",
        "  print(f'{pais} es un pais del continente Americano')          \n",
        "\n",
        "# put your code here"
      ]
    },
    {
      "cell_type": "markdown",
      "metadata": {
        "id": "fHwVdl0m_KdN"
      },
      "source": [
        "[top](#top)"
      ]
    },
    {
      "cell_type": "markdown",
      "metadata": {
        "id": "ksj5PMzR_Kek"
      },
      "source": [
        "<a name='common_operations'></a>Operaciones Comunes\n",
        "==="
      ]
    },
    {
      "cell_type": "markdown",
      "metadata": {
        "id": "8m0s--t-_Kel"
      },
      "source": [
        "<a name='modifying_elements'></a>Modificando los elementos de una lista\n",
        "---\n",
        "Puedes cambiar el valor de cualquier elemento en una lista si sabes la posición de ese elemento."
      ]
    },
    {
      "cell_type": "code",
      "execution_count": null,
      "metadata": {
        "id": "m8QOc2Et_Kem",
        "outputId": "34f1d5b0-79b3-4572-8a22-9ef129779ac2",
        "colab": {
          "base_uri": "https://localhost:8080/"
        }
      },
      "outputs": [
        {
          "output_type": "stream",
          "name": "stdout",
          "text": [
            "['xoloitzcuintle', 'xolo', 'chihuahua']\n"
          ]
        }
      ],
      "source": [
        "perros = ['border collie', 'beagle', 'chihuahua']\n",
        "\n",
        "perros[0] = 'xoloitzcuintle'\n",
        "\n",
        "print(perros)"
      ]
    },
    {
      "cell_type": "markdown",
      "metadata": {
        "id": "PvWhTya5_Ken"
      },
      "source": [
        "<a name='finding_elements'></a>Encontrar un elemento en una lista\n",
        "---\n",
        "Si quieres encontrar el indice de un elemento en una lista, puedes ysar la función index()."
      ]
    },
    {
      "cell_type": "code",
      "execution_count": null,
      "metadata": {
        "id": "TfUPQPSC_Ken",
        "outputId": "6036bf31-55b5-44b6-9f54-63df532d89ee",
        "colab": {
          "base_uri": "https://localhost:8080/"
        }
      },
      "outputs": [
        {
          "output_type": "stream",
          "name": "stdout",
          "text": [
            "2\n"
          ]
        }
      ],
      "source": [
        "perros = ['border collie', 'beagle', 'chihuahua']\n",
        "\n",
        "print(perros.index('chihuahua'))"
      ]
    },
    {
      "cell_type": "markdown",
      "metadata": {
        "id": "kdjovVkJ_Keo"
      },
      "source": [
        "Este método regresa un ValueError si el elemento solicitado no esta en la lista."
      ]
    },
    {
      "cell_type": "code",
      "execution_count": null,
      "metadata": {
        "id": "WnAr3v0l_Kep",
        "outputId": "172d0b20-66f0-4e21-fb68-f4f7558c2f98",
        "colab": {
          "base_uri": "https://localhost:8080/",
          "height": 204
        }
      },
      "outputs": [
        {
          "output_type": "error",
          "ename": "ValueError",
          "evalue": "ignored",
          "traceback": [
            "\u001b[0;31m---------------------------------------------------------------------------\u001b[0m",
            "\u001b[0;31mValueError\u001b[0m                                Traceback (most recent call last)",
            "\u001b[0;32m<ipython-input-41-66552ffb0fe3>\u001b[0m in \u001b[0;36m<module>\u001b[0;34m\u001b[0m\n\u001b[1;32m      1\u001b[0m \u001b[0mperros\u001b[0m \u001b[0;34m=\u001b[0m \u001b[0;34m[\u001b[0m\u001b[0;34m'border collie'\u001b[0m\u001b[0;34m,\u001b[0m \u001b[0;34m'beagle'\u001b[0m\u001b[0;34m,\u001b[0m \u001b[0;34m'chihuahua'\u001b[0m\u001b[0;34m]\u001b[0m\u001b[0;34m\u001b[0m\u001b[0;34m\u001b[0m\u001b[0m\n\u001b[1;32m      2\u001b[0m \u001b[0;34m\u001b[0m\u001b[0m\n\u001b[0;32m----> 3\u001b[0;31m \u001b[0mprint\u001b[0m\u001b[0;34m(\u001b[0m\u001b[0mperros\u001b[0m\u001b[0;34m.\u001b[0m\u001b[0mindex\u001b[0m\u001b[0;34m(\u001b[0m\u001b[0;34m'chihuahu'\u001b[0m\u001b[0;34m)\u001b[0m\u001b[0;34m)\u001b[0m\u001b[0;34m\u001b[0m\u001b[0;34m\u001b[0m\u001b[0m\n\u001b[0m",
            "\u001b[0;31mValueError\u001b[0m: 'chihuahu' is not in list"
          ]
        }
      ],
      "source": [
        "perros = ['border collie', 'beagle', 'chihuahua']\n",
        "\n",
        "print(perros.index('chihuahu'))"
      ]
    },
    {
      "cell_type": "markdown",
      "metadata": {
        "id": "xVQWKBir_Kep"
      },
      "source": [
        "<a name='testing_elements'></a>Probar si un elemento esta en la lista.\n",
        "---\n",
        "Se puede probar si un elemento esta en una lista usando el keyword \"in\". Esto será muy útil en enunciados if-else."
      ]
    },
    {
      "cell_type": "code",
      "execution_count": null,
      "metadata": {
        "id": "WJ76Wlby_Keq",
        "outputId": "c44495ce-2117-420c-eeb5-692c70e9f2d3",
        "colab": {
          "base_uri": "https://localhost:8080/"
        }
      },
      "outputs": [
        {
          "output_type": "stream",
          "name": "stdout",
          "text": [
            "True\n",
            "False\n"
          ]
        }
      ],
      "source": [
        "perros = ['border collie', 'beagle', 'chihuahua', 'chilaquil']\n",
        "\n",
        "print('chihuahua' in perros)\n",
        "print('husky' in perros)"
      ]
    },
    {
      "cell_type": "markdown",
      "metadata": {
        "id": "pK69q6Q8_Ker"
      },
      "source": [
        "<a name='adding_items'></a>Agregando elementos a una lista.\n",
        "---\n",
        "### Adjuntar elementos al final de una lista\n",
        "Podemos agregar un elemento a una lista usando el método append(). Este método agrega un nuevo elemento al final de la lista."
      ]
    },
    {
      "cell_type": "code",
      "execution_count": null,
      "metadata": {
        "id": "fvue2L6r_Ker",
        "outputId": "2cbf55ca-e3f9-4948-d8ea-8af594301f4b",
        "colab": {
          "base_uri": "https://localhost:8080/"
        }
      },
      "outputs": [
        {
          "output_type": "stream",
          "name": "stdout",
          "text": [
            "Los perros Border Collie son cool\n",
            "Los perros Beagle son cool\n",
            "Los perros Chihuahua son cool\n",
            "Los perros Chilaquil son cool\n",
            "Los perros Pastor Aleman son cool\n"
          ]
        }
      ],
      "source": [
        "perros = ['border collie', 'beagle', 'chihuahua']\n",
        "perros.append('chilaquil')\n",
        "perros.append('pastor aleman')\n",
        "\n",
        "for perro in perros:\n",
        "    print(f'Los perros {perro.title()} son cool')"
      ]
    },
    {
      "cell_type": "markdown",
      "metadata": {
        "id": "8TfZuJr4_Kes"
      },
      "source": [
        "### Instertar elementos a una lista\n",
        "También podemos insertar elementos en cualquier lugar que queramos en la lista, usando la función **insert()**. Especificamos la posición (indice) que queremos que tenga, y todo lo que esta desde ese punto, se mueve una posición a la derecha (hacia abajo). En otras palabras, el indice de todos los elementos después del nuevo se incrementan por uno."
      ]
    },
    {
      "cell_type": "code",
      "execution_count": null,
      "metadata": {
        "id": "jmAjpSuJ_Kes",
        "outputId": "b064d89d-e3ef-41aa-bdc0-73b3b360892e",
        "colab": {
          "base_uri": "https://localhost:8080/"
        }
      },
      "outputs": [
        {
          "output_type": "stream",
          "name": "stdout",
          "text": [
            "['border collie', 'beagle', 'chihuahua', 'chilaquil', 'pastor aleman']\n"
          ]
        }
      ],
      "source": [
        "perros = ['border collie', 'beagle', 'chihuahua']\n",
        "perros.insert(5,'chilaquil')\n",
        "perros.append('pastor aleman')\n",
        "print(perros)"
      ]
    },
    {
      "cell_type": "markdown",
      "metadata": {
        "id": "Yn8KJwG9_KgM"
      },
      "source": [
        "<a name='empty_list'></a>Creando una lista vacía \n",
        "---\n",
        "\n",
        "Ahora que sabemos como agregar elementos a una lista después de que fue creada, podemos usar las listas más dinámicamente. No estamos obligados a definir una lista de una sola vez.\n",
        "\n",
        "Un enfoque común con las listas es definir una lista vacía, y luego dejar que el programa agregue elementos cuando sea necesario. Este enfoque, es útil por ejemplo, cuando queremos construir un sitio web interactivo. Tu lista de usuarios puede iniciar vacía, y conforme la gente se registre en tu sitio crecerá. Este es una enfoque simplificado a como realmente los sitios web funcionan.\n",
        "\n",
        "Aquí hay breve ejemplo de como empezar con una lista vacía, iniciar a llenarla, y trabajar con los elementos de la lista. La única cosa nueva aquí, es que definimos una lista vacía, simplemente con unos corchetes cuadrados vacíos.\n"
      ]
    },
    {
      "cell_type": "code",
      "execution_count": null,
      "metadata": {
        "id": "K1MpcApI_KgN",
        "outputId": "411e906a-c81a-4f58-f5cf-cfefccf675c9",
        "colab": {
          "base_uri": "https://localhost:8080/"
        }
      },
      "outputs": [
        {
          "output_type": "stream",
          "name": "stdout",
          "text": [
            "Welcome, Charmander!\n",
            "Welcome, Squirtle!\n",
            "Welcome, Pikachu!\n",
            "Welcome, Ditto!\n"
          ]
        }
      ],
      "source": [
        "# Create an empty list to hold our users.\n",
        "pokemons = []\n",
        "\n",
        "# Add some users.\n",
        "pokemons.append('charmander')\n",
        "pokemons.append('squirtle')\n",
        "pokemons.append('pikachu')\n",
        "pokemons.append('ditto')\n",
        "\n",
        "# Greet all of our users.\n",
        "for pokemon in pokemons:\n",
        "    print(\"Welcome, \" + pokemon.title() + '!')"
      ]
    },
    {
      "cell_type": "markdown",
      "metadata": {
        "id": "T-wjgYDE_KgN"
      },
      "source": [
        "Si no alteramos el orden de la lista, podemos utilizarla para saber quien es el mas viejo o mas nuevo de los pokemones. "
      ]
    },
    {
      "cell_type": "code",
      "execution_count": null,
      "metadata": {
        "id": "8ILhd8gs_KgO",
        "outputId": "2e5201a8-be40-4fe7-a758-af1b7688fc73",
        "colab": {
          "base_uri": "https://localhost:8080/"
        }
      },
      "outputs": [
        {
          "output_type": "stream",
          "name": "stdout",
          "text": [
            "Welcome, Charmander!\n",
            "Welcome, Bulbasaur!\n",
            "Welcome, Pikachu!\n",
            "Welcome, Ditto!\n",
            "\n",
            "Mi primer pokemon fue: Charmander!\n",
            "Mi ultimo pomemon es: Ditto!\n"
          ]
        }
      ],
      "source": [
        "# Create an empty list to hold our users.\n",
        "pokemons = []\n",
        "\n",
        "# Add some users.\n",
        "pokemons.append('charmander')\n",
        "pokemons.append('bulbasaur')\n",
        "pokemons.append('pikachu')\n",
        "pokemons.append('ditto')\n",
        "\n",
        "# Greet all of our users.\n",
        "for pokemon in pokemons:\n",
        "    print(\"Welcome, \" + pokemon.title() + '!')\n",
        "\n",
        "# Recognize our first user, and welcome our newest user.\n",
        "print(\"\\nMi primer pokemon fue: \" + pokemons[0].title() + '!')\n",
        "print(\"Mi ultimo pomemon es: \" + pokemons[-1].title() + '!')"
      ]
    },
    {
      "cell_type": "markdown",
      "metadata": {
        "id": "OGonioMO_KgP"
      },
      "source": [
        "<a name='sorting_list'></a>Ordenando una lista\n",
        "---\n",
        "Ahora ordenemos una lista alfabéticamente, en cualquier orden."
      ]
    },
    {
      "cell_type": "code",
      "execution_count": null,
      "metadata": {
        "id": "p33gV3xa_KgQ",
        "outputId": "0e752151-7bc9-4008-f492-c5cbd5d39219",
        "colab": {
          "base_uri": "https://localhost:8080/"
        }
      },
      "outputs": [
        {
          "output_type": "stream",
          "name": "stdout",
          "text": [
            "Pokemones en orden alfabético.\n",
            "Bulbasaur\n",
            "Charmander\n",
            "Pikachu\n",
            "\n",
            "Pokemons en orden alfabético inverso.\n",
            "Pikachu\n",
            "Charmander\n",
            "Bulbasaur\n"
          ]
        }
      ],
      "source": [
        "\n",
        "pokemons = ['charmander', 'pikachu', 'bulbasaur']\n",
        "\n",
        "# Put students in alphabetical order.\n",
        "pokemons.sort()\n",
        "\n",
        "# Display the list in its current order.\n",
        "print(\"Pokemones en orden alfabético.\")\n",
        "for pokemon in pokemons:\n",
        "    print(pokemon.title())\n",
        "\n",
        "#Put students in reverse alphabetical order.\n",
        "pokemons.sort(reverse=True)\n",
        "\n",
        "# Display the list in its current order.\n",
        "print(\"\\nPokemons en orden alfabético inverso.\")\n",
        "for pokemon in pokemons:\n",
        "    print(pokemon.title())"
      ]
    },
    {
      "cell_type": "markdown",
      "metadata": {
        "id": "jQ4-hCuH_KgQ"
      },
      "source": [
        "### *sorted()* vs. *sort()*\n",
        "Cuando consideres ordenar una lista  con sort(), ten en cuenta que no puedes recuperar el orden original. Si deseas mostrar una lista ordenada, pero preservar el orden original, puedes usar la función *sorted()*. *sorted()* acepta el argumento *reverse=True*. \n"
      ]
    },
    {
      "cell_type": "code",
      "execution_count": null,
      "metadata": {
        "id": "gZFsXfxB_KgR",
        "outputId": "cae2c66e-789d-430f-81ba-46c9c9e6d244",
        "colab": {
          "base_uri": "https://localhost:8080/"
        }
      },
      "outputs": [
        {
          "output_type": "stream",
          "name": "stdout",
          "text": [
            "Pokemones en orden alfabético.\n",
            "Bulbasaur\n",
            "Charmander\n",
            "Pikachu\n",
            "\n",
            "Pokemons en orden alfabético inverso.\n",
            "Pikachu\n",
            "Charmander\n",
            "Bulbasaur\n",
            "\n",
            "Esta es la lista en orden original:\n",
            "Charmander\n",
            "Pikachu\n",
            "Bulbasaur\n"
          ]
        }
      ],
      "source": [
        "pokemons = ['charmander', 'pikachu', 'bulbasaur']\n",
        "\n",
        "# Display students in alphabetical order, but keep the original order.\n",
        "print(\"Pokemones en orden alfabético.\")\n",
        "for pokemon in sorted(pokemons):\n",
        "    print(pokemon.title())\n",
        "\n",
        "# Display students in reverse alphabetical order, but keep the original order.\n",
        "print(\"\\nPokemons en orden alfabético inverso.\")\n",
        "for pokemon in sorted(pokemons, reverse=True):\n",
        "    print(pokemon.title())\n",
        "\n",
        "print(\"\\nEsta es la lista en orden original:\")\n",
        "# Show that the list is still in its original order.\n",
        "for pokemon in pokemons:\n",
        "    print(pokemon.title())"
      ]
    },
    {
      "cell_type": "code",
      "source": [
        "pokemons"
      ],
      "metadata": {
        "colab": {
          "base_uri": "https://localhost:8080/"
        },
        "id": "TYnX8r8YZfPG",
        "outputId": "644acf15-f3bc-4dd0-f617-054bc318faa6"
      },
      "execution_count": null,
      "outputs": [
        {
          "output_type": "execute_result",
          "data": {
            "text/plain": [
              "['bulbasaur', 'charmander', 'pikachu']"
            ]
          },
          "metadata": {},
          "execution_count": 28
        }
      ]
    },
    {
      "cell_type": "markdown",
      "metadata": {
        "id": "ferWTq3G_KgS"
      },
      "source": [
        "### Inversión de una lista\n",
        "Hay otro ordenamiento mas que podemos  aplicar, es invertir el orden original de la lista. La  función *reverse()* nos  produce ese orden."
      ]
    },
    {
      "cell_type": "code",
      "execution_count": 43,
      "metadata": {
        "id": "1GHlsVR2_KgT",
        "outputId": "5c51500f-b430-4dd5-cd1f-407a81096db4",
        "colab": {
          "base_uri": "https://localhost:8080/"
        }
      },
      "outputs": [
        {
          "output_type": "stream",
          "name": "stdout",
          "text": [
            "['ditto', 'bulbasaur', 'pikachu', 'charmander']\n"
          ]
        }
      ],
      "source": [
        "pokemons = ['charmander', 'pikachu', 'bulbasaur', 'ditto']\n",
        "pokemons.reverse()\n",
        "\n",
        "print(pokemons)"
      ]
    },
    {
      "cell_type": "markdown",
      "metadata": {
        "id": "aLh24WWe_KgT"
      },
      "source": [
        "La función *reverse()*  es permanente."
      ]
    },
    {
      "cell_type": "markdown",
      "metadata": {
        "id": "S0toPjhW_KgU"
      },
      "source": [
        "### Ordenando una lista númerica\n",
        "Todas las funciones de ordenar funcionan también para listaas númericas."
      ]
    },
    {
      "cell_type": "code",
      "execution_count": null,
      "metadata": {
        "id": "sdxQHVCV_KgU",
        "outputId": "304472b2-0216-4a33-e478-7fb235975480",
        "colab": {
          "base_uri": "https://localhost:8080/"
        }
      },
      "outputs": [
        {
          "output_type": "stream",
          "name": "stdout",
          "text": [
            "[1, 2, 3, 4]\n",
            "[4, 3, 2, 1]\n"
          ]
        }
      ],
      "source": [
        "numeros = [1, 3, 4, 2]\n",
        "\n",
        "# sort() puts numbers in increasing order.\n",
        "numeros.sort()\n",
        "print(numeros)\n",
        "\n",
        "# sort(reverse=True) puts numbers in decreasing order.\n",
        "numeros.sort(reverse=True)\n",
        "print(numeros)\n"
      ]
    },
    {
      "cell_type": "code",
      "execution_count": null,
      "metadata": {
        "id": "LJ9EY-Fm_KgV",
        "outputId": "bd7b6d30-86e0-450d-95e2-ae5a40510c2e",
        "colab": {
          "base_uri": "https://localhost:8080/"
        }
      },
      "outputs": [
        {
          "output_type": "stream",
          "name": "stdout",
          "text": [
            "[1, 2, 3, 4]\n",
            "[1, 3, 4, 2]\n"
          ]
        }
      ],
      "source": [
        "numeros = [1, 3, 4, 2]\n",
        "\n",
        "# sorted() preserves the original order of the list:\n",
        "print(sorted(numeros))\n",
        "print(numeros)"
      ]
    },
    {
      "cell_type": "code",
      "execution_count": null,
      "metadata": {
        "id": "GbDe0rfo_KiP"
      },
      "outputs": [],
      "source": [
        "numeros = [1, 3, 4, 2]\n",
        "\n",
        "# The reverse() function also works for numerical lists.\n",
        "numeros.reverse()\n",
        "print(numeros)"
      ]
    },
    {
      "cell_type": "markdown",
      "metadata": {
        "id": "O210YCkD_KiQ"
      },
      "source": [
        "<a name='length'></a>Encontrar la longitud de una lista\n",
        "---\n",
        "Puedes encontrar la longitud de una lista usando la función *len()*.\n"
      ]
    },
    {
      "cell_type": "code",
      "execution_count": null,
      "metadata": {
        "id": "Rdi7ImFP_KiR",
        "outputId": "f52fd909-3000-4214-a752-40f52612cbc0",
        "colab": {
          "base_uri": "https://localhost:8080/"
        }
      },
      "outputs": [
        {
          "output_type": "stream",
          "name": "stdout",
          "text": [
            "4\n"
          ]
        }
      ],
      "source": [
        "pokemons = ['charmander', 'pikachu', 'bulbasaur','Ditto']\n",
        "pokemon_cuenta = len(pokemons)\n",
        "\n",
        "print(pokemon_cuenta)"
      ]
    },
    {
      "cell_type": "markdown",
      "metadata": {
        "id": "R8hoW8r3_KiS"
      },
      "source": [
        "Hay muchas situaciones donde podrías desea cuantos elementos hay en una lista. Si tienes una lista que almacena tus pokemones, puedes  encontrar la longitud de la lista en cualquier momento. "
      ]
    },
    {
      "cell_type": "code",
      "execution_count": null,
      "metadata": {
        "id": "C2Mlhd-L_KiS",
        "outputId": "a5f387a1-9223-4a1a-b7e8-8c461c6f9670",
        "colab": {
          "base_uri": "https://localhost:8080/"
        }
      },
      "outputs": [
        {
          "output_type": "stream",
          "name": "stdout",
          "text": [
            "Tengo 1 pokemones!\n",
            "Tengo 3 pokemones!\n"
          ]
        }
      ],
      "source": [
        "# Create an empty list to hold our users.\n",
        "pokemons = []\n",
        "\n",
        "# Add some users, and report on how many users we have.\n",
        "pokemons.append('charizard')\n",
        "pokemon_cuenta = len(pokemons)\n",
        "\n",
        "print(\"Tengo \" + str(pokemon_cuenta) + \" pokemones!\") \n",
        "\n",
        "pokemons.append('raichu')\n",
        "pokemons.append('venusaur')\n",
        "pokemon_cuenta = len(pokemons)\n",
        "\n",
        "print(\"Tengo \" + str(pokemon_cuenta) + \" pokemones!\") "
      ]
    },
    {
      "cell_type": "markdown",
      "metadata": {
        "id": "h4wy18TW_KiX"
      },
      "source": [
        "<a name='exercises_common_operations'></a>Ejercicios\n",
        "---\n",
        "#### Lista de trabajo\n",
        "- Hacer una lista que incluya 4 carreras, como 'administrador', 'filósofo', etc. \n",
        "- Usar la función *.index()* para encontrar el indice de una carrera en tu lista. \n",
        "- Usar la función *in* para mostrar que esta carrera esta en tu lista.\n",
        "- Usar la función *append()* para agregar una nueva carrera a tu lista.\n",
        "- Usar la función *insert()* para agregar una nueva carrera al inicio de tu lista.\n",
        "- Usa un loop para mostrar todas las carreras de tu lista.\n",
        "\n",
        "#### Iniciando de una lista vacia\n",
        "- Crea la lista de trabajo anterior, pero esta vez, inicia con una lista vacia, y llenala usando la función *append()*. \n",
        "- Imprime un enunciado, diciendo que carrera te hubiera gustado hacer, usando la lista.\n",
        "- Imprime un enunciado, diciendo que carrera te menos te hubiera gustado hacer, usando la lista.\n",
        "\n",
        "#### Ordenando la lista de Trabajo\n",
        "- Comienza con la lista creada en *Lista de trabajo*.\n",
        "- Vas a imprimir la lista en diferentes ordenamientos. \n",
        "- Para cada ocasión, usa un loop para imprimir. \n",
        "- Imprime un mensaje indicando cual es el orden que vamos a ver. \n",
        "    - Imprime la lista en orden original.\n",
        "    - Imprime la lista en orden alfabético.\n",
        "    - Imprime la lista en orden original.\n",
        "    - Imprime la lista en orden alfabético inverso.\n",
        "    - Imprime la lista en orden original.\n",
        "    - Imprime la lista en orden inverso al original.\n",
        "    - Imprime la lista en orden original.\n",
        "    - Ordena permanentemente la lista en orden alfabético, luego imprimela.\n",
        "    - Ordena permanentemente la lista en orden alfabético inverso, luego imprimela.\n",
        "\n",
        "#### Números ordenados\n",
        "- Haz una lista de 5 números, en orden aleatorio.\n",
        "- Vas a imprimir la los números en diferentes ordenamientos. \n",
        "- Para cada ocasión, usa un loop para imprimir. \n",
        "- Imprime un mensaje indicando cual es el orden que vamos a ver. \n",
        "    - Imprime la lista en orden original.\n",
        "    - Imprime la lista en orden creciente.\n",
        "    - Imprime la lista en orden original.\n",
        "    - Imprime la lista en orden decreciente.\n",
        "    - Imprime la lista en orden original.\n",
        "    - Imprime los números en orden inverso deel original. \n",
        "    - Imprime la lista en orden original.\n",
        "    - Ordena permanentemente la lista e imprime en orden creciente.\n",
        "    - Ordena permanentemente la lista e imprime en orden decreciente.\n",
        "\n",
        "#### Longitud de lista\n",
        "- Copia 3 listas de las que has hecho anteriormente.\n",
        "- Para cada una imprime un enunciado que diga cuantos elementos tiene cada lista."
      ]
    },
    {
      "cell_type": "code",
      "execution_count": 15,
      "metadata": {
        "id": "ehybiwJo_KiY",
        "colab": {
          "base_uri": "https://localhost:8080/"
        },
        "outputId": "f2307249-9c65-4c08-f7c8-299b5ae7fb55"
      },
      "outputs": [
        {
          "output_type": "stream",
          "name": "stdout",
          "text": [
            "Mi carrera es 0\n",
            "Mi carrera es administrador\n",
            "['administrador', 'arquitecto', 'chef', 'electricista', 'ingeniero civil']\n",
            "['biologo', 'administrador', 'arquitecto', 'chef', 'electricista', 'ingeniero civil']\n",
            "biologo\n",
            "administrador\n",
            "arquitecto\n",
            "chef\n",
            "electricista\n",
            "ingeniero civil\n"
          ]
        }
      ],
      "source": [
        "# Ex 3.7 : Working List\n",
        "\n",
        "carreras = ['administrador', 'arquitecto', 'chef', 'electricista']\n",
        "micarrera = carreras.index('administrador') \n",
        "print(f'Mi carrera es {micarrera}')\n",
        "print(f'Mi carrera es {carreras[micarrera]}')\n",
        "'chef' in carreras\n",
        "carreras.append('ingeniero civil')\n",
        "print(carreras)\n",
        "carreras.insert(0,'biologo') \n",
        "print(carreras)\n",
        "\n",
        "for carrera in carreras:\n",
        "  print(carrera)\n",
        "\n",
        "\n",
        "# put your code here"
      ]
    },
    {
      "cell_type": "code",
      "execution_count": 19,
      "metadata": {
        "id": "Y9s53Fv7_Kia",
        "colab": {
          "base_uri": "https://localhost:8080/"
        },
        "outputId": "60bbd385-e525-4174-fb20-7b3d82db7320"
      },
      "outputs": [
        {
          "output_type": "stream",
          "name": "stdout",
          "text": [
            "Me hubiera gustado ser director de cine\n",
            "Me hubiera gustado ser director de cine\n",
            "Me hubiera gustado ser director de cine\n"
          ]
        }
      ],
      "source": [
        "# Ex 3.8 : Starting From Empty\n",
        "carreras = []\n",
        "carreras.append('biolog@')\n",
        "carreras.append('administrador')\n",
        "carreras.append('electricista')\n",
        "carreras.append('chef')\n",
        "carreras.append('director de cine')\n",
        "\n",
        "print(f'Me hubiera gustado ser {carreras[-1]}')\n",
        "print(f'Me hubiera gustado ser {carreras[4]}')\n",
        "mehubiera = carreras.index('director de cine')\n",
        "print(f'Me hubiera gustado ser {carreras[mehubiera]}')\n",
        "\n",
        "\n",
        "\n",
        "\n",
        "\n",
        "\n",
        "# put your code here"
      ]
    },
    {
      "cell_type": "code",
      "execution_count": 51,
      "metadata": {
        "id": "WwFjSMhC_Kib",
        "colab": {
          "base_uri": "https://localhost:8080/"
        },
        "outputId": "6c2c6463-97a2-4dc4-9d01-02eaa3d71dad"
      },
      "outputs": [
        {
          "output_type": "stream",
          "name": "stdout",
          "text": [
            "\n",
            "Lista en orden original:\n",
            "arquitecto administrador electricista chef \n",
            "Lista en orden alfabético:\n",
            "administrador arquitecto chef electricista \n",
            "Lista en orden original:\n",
            "arquitecto administrador electricista chef \n",
            "Lista en orden alfabético inverso:\n",
            "electricista chef arquitecto administrador \n",
            "Lista en orden original:\n",
            "arquitecto administrador electricista chef \n",
            "Lista en orden inverso:\n",
            "chef electricista administrador arquitecto \n",
            "Lista en orden original:\n",
            "arquitecto administrador electricista chef \n",
            "Lista en orden permanente alfabético:\n",
            "administrador arquitecto chef electricista \n",
            "Lista en orden permanente alfabético inverso:\n",
            "electricista chef arquitecto administrador "
          ]
        }
      ],
      "source": [
        "# # Ex 3.9 : Ordered Working List\n",
        "#     - Imprime la lista en orden original.\n",
        "#     - Imprime la lista en orden alfabético.\n",
        "#     - Imprime la lista en orden original.\n",
        "#     - Imprime la lista en orden alfabético inverso.\n",
        "#     - Imprime la lista en orden original.\n",
        "#     - Imprime la lista en orden inverso al original.\n",
        "#     - Imprime la lista en orden original.\n",
        "#     - Ordena permanentemente la lista en orden alfabético, luego imprimela.\n",
        "#     - Ordena permanentemente la lista en orden alfabético inverso, luego imprimela.\n",
        "\n",
        "carreras = ['arquitecto','administrador', 'electricista', 'chef']\n",
        "\n",
        "print('\\nLista en orden original:')\n",
        "for carrera in carreras:\n",
        "  print(carrera, end =' ')\n",
        "\n",
        "print('\\nLista en orden alfabético:')\n",
        "for carrera in sorted(carreras):\n",
        "  print(carrera, end =' ')  \n",
        "\n",
        "print('\\nLista en orden original:')\n",
        "for carrera in carreras:\n",
        "  print(carrera, end =' ')\n",
        "\n",
        "print('\\nLista en orden alfabético inverso:')\n",
        "for carrera in sorted(carreras,reverse=True):\n",
        "  print(carrera, end =' ')  \n",
        "\n",
        "print('\\nLista en orden original:')\n",
        "for carrera in carreras:\n",
        "  print(carrera, end =' ') \n",
        "  \n",
        "print('\\nLista en orden inverso:')\n",
        "carreras.reverse()\n",
        "for carrera in carreras:\n",
        "  print(carrera, end =' ')     \n",
        "\n",
        "carreras.reverse()\n",
        "print('\\nLista en orden original:')\n",
        "for carrera in carreras:\n",
        "  print(carrera, end =' ')  \n",
        "\n",
        "print('\\nLista en orden permanente alfabético:')\n",
        "carreras.sort()\n",
        "for carrera in carreras:\n",
        "  print(carrera, end =' ')  \n",
        "\n",
        "print('\\nLista en orden permanente alfabético inverso:')\n",
        "carreras.sort(reverse=True)\n",
        "for carrera in carreras:\n",
        "  print(carrera, end =' ')    \n",
        "\n",
        "\n",
        "\n",
        "\n",
        "# put your code here"
      ]
    },
    {
      "cell_type": "code",
      "execution_count": null,
      "metadata": {
        "id": "xABJt9JK_KkG"
      },
      "outputs": [],
      "source": [
        "# Ex 3.10 : Ordered Numbers\n",
        "\n",
        "# put your code here"
      ]
    },
    {
      "cell_type": "code",
      "execution_count": null,
      "metadata": {
        "id": "whkBH5BA_KkH"
      },
      "outputs": [],
      "source": [
        "# Ex 3.11 : List Lengths\n",
        "\n",
        "# put your code here"
      ]
    },
    {
      "cell_type": "markdown",
      "metadata": {
        "id": "6VkbtcKZ_KkI"
      },
      "source": [
        "[top](#top)"
      ]
    },
    {
      "cell_type": "markdown",
      "metadata": {
        "id": "df3heXLZ_KkJ"
      },
      "source": [
        "<a name='removing_items'></a>Removiendo elementos de una lista\n",
        "===\n",
        "Para este momento, te habrás dado cuenta que las listas son una estructrura dinámica, que puede cambiar. Podemos deifinir una lista vacia y despues llenarla conforme vaya creandose información en nuestro código. Para ser realmente dinámica, necesiamos maneras de remover elementos de una lista, cuando ya no los necesitamos. Puedes remover elementos de una lista indicando su posición o por su valor. "
      ]
    },
    {
      "cell_type": "markdown",
      "metadata": {
        "id": "ng7A3XVQ_KkL"
      },
      "source": [
        "<a name='removing_by_position'></a>Removiendo elementos por posición\n",
        "---\n",
        "Si conoces la posición de un elemento en una lista, puedes removerlos usando el comando *del*. "
      ]
    },
    {
      "cell_type": "code",
      "execution_count": 53,
      "metadata": {
        "id": "20QcKKId_KkM",
        "outputId": "3a7affe7-b783-4be1-8f57-5b753415478e",
        "colab": {
          "base_uri": "https://localhost:8080/"
        }
      },
      "outputs": [
        {
          "output_type": "stream",
          "name": "stdout",
          "text": [
            "['Coldplay', 'Queen', 'Alan Parson Project', 'Led Zepellin']\n",
            "['Queen', 'Alan Parson Project', 'Led Zepellin']\n"
          ]
        }
      ],
      "source": [
        "bandas = ['Coldplay', 'Queen', 'Alan Parson Project', 'Led Zepellin']\n",
        "# Remove the first dog from the list.\n",
        "print(bandas)\n",
        "\n",
        "del bandas[0]\n",
        "\n",
        "print(bandas)"
      ]
    },
    {
      "cell_type": "markdown",
      "metadata": {
        "id": "aygD7YA9_KkQ"
      },
      "source": [
        "<a name='removing_by_value'></a>Removiendo elementos por valor\n",
        "---\n",
        "También puedes remover un elemento de una lista si conoces su valor. Para hacer esto usamos la función *remove()*. Proporcionas el nombre de la lista, seguida de la palabra remove con el valor del elemento que quieres remover entre parentesís. Python busca en tu lista, encuentra el primer elemento con ese valor y lo remueve."
      ]
    },
    {
      "cell_type": "code",
      "execution_count": 55,
      "metadata": {
        "id": "Qk1LPFzT_KkR",
        "outputId": "6587e3bd-1663-4303-9c3e-86e028501f7b",
        "colab": {
          "base_uri": "https://localhost:8080/"
        }
      },
      "outputs": [
        {
          "output_type": "stream",
          "name": "stdout",
          "text": [
            "['Coldplay', 'Queen', 'Alan Parson Project', 'Led Zepellin']\n",
            "['Coldplay', 'Alan Parson Project', 'Led Zepellin']\n"
          ]
        }
      ],
      "source": [
        "bandas = ['Coldplay', 'Queen', 'Alan Parson Project', 'Led Zepellin']\n",
        "# Remove the first dog from the list.\n",
        "print(bandas)\n",
        "bandas.remove('Queen')\n",
        "print(bandas)"
      ]
    },
    {
      "cell_type": "markdown",
      "metadata": {
        "id": "Hfu4TE3J_KkV"
      },
      "source": [
        "Hay que tener cuidado, ya que solamente el primer elemento que coincida con ese valor será removido. Si existen mas de dos elementos con el mismo valor, solo será removido el primero de ellos. "
      ]
    },
    {
      "cell_type": "code",
      "execution_count": 59,
      "metadata": {
        "id": "tcBKXwAN_KkW",
        "outputId": "e9def1c7-d220-451b-9777-f331108d960a",
        "colab": {
          "base_uri": "https://localhost:8080/"
        }
      },
      "outputs": [
        {
          "output_type": "stream",
          "name": "stdout",
          "text": [
            "['a', 'b', 'c', 'a', 'b', 'c']\n",
            "['a', 'c', 'a', 'b', 'c']\n"
          ]
        }
      ],
      "source": [
        "letras = ['a', 'b', 'c', 'a', 'b', 'c']\n",
        "# Remove the letter a from the list.\n",
        "print(letras)\n",
        "\n",
        "letras.remove('b')\n",
        "\n",
        "print(letras)"
      ]
    },
    {
      "cell_type": "markdown",
      "metadata": {
        "id": "Cypz7cqV_KkX"
      },
      "source": [
        "<a name='popping'></a>Popping \n",
        "---\n",
        "Hay un concepto divertido en programación llamado *popping* de elementos. Cada lenguaje de programación tiene una estructura simular a las listas de Python. Todas esas estructuras pueden ser usadas como *colas*, y hay varias formas de procesar información de elementos en una cola. \n",
        "\n",
        "Un enfoque simple es empezar con una lista vacia, después agregar elementos a la lista. Cuando quieres traabaajar con los elementos de la lista, siempre tomas el ultimo elementod de la lsita, haces algo con el, y luego lo remueves. La función *pop()*, realiza esto fácilmente. Lo remueve de la lista, y nos lo proporciona para trabajar con el."
      ]
    },
    {
      "cell_type": "code",
      "execution_count": 62,
      "metadata": {
        "id": "2QTxkcuh_KmA",
        "outputId": "f1c4dd37-78f4-4add-cd98-b68c3c637b3a",
        "colab": {
          "base_uri": "https://localhost:8080/"
        }
      },
      "outputs": [
        {
          "output_type": "stream",
          "name": "stdout",
          "text": [
            "['Coldplay', 'Queen', 'Alan Parson Project', 'Led Zepellin']\n",
            "Led Zepellin\n",
            "['Coldplay', 'Queen', 'Alan Parson Project']\n"
          ]
        }
      ],
      "source": [
        "bandas = ['Coldplay', 'Queen', 'Alan Parson Project', 'Led Zepellin']\n",
        "# Remove the first dog from the list.\n",
        "print(bandas)\n",
        "ultima_banda = bandas.pop()\n",
        "print(ultima_banda)\n",
        "print(bandas)"
      ]
    },
    {
      "cell_type": "markdown",
      "metadata": {
        "id": "KepYXWn2_KmC"
      },
      "source": [
        "Este es un ejemplo del enfoque, primero en entrar,  ultimo en salir. El primer elemento en la lista, es el ultimo en ser procesado.  \n",
        "\n",
        "Tenemos también la opción de hacerle pop a cualquier elemento de una lista. Así que podemos usarl el enfoque primero en entrar, primero en salir, haciendole pop al primer elemento de una lista."
      ]
    },
    {
      "cell_type": "code",
      "execution_count": null,
      "metadata": {
        "id": "MDpC6vlt_KmF"
      },
      "outputs": [],
      "source": [
        "bandas = ['Coldplay', 'Queen', 'Alan Parson Project', 'Led Zepellin']\n",
        "# Remove the first dog from the list.\n",
        "primer_banda = bandas.pop(0)\n",
        "\n",
        "print(primer_banda)\n",
        "print(bandas)"
      ]
    },
    {
      "cell_type": "markdown",
      "metadata": {
        "id": "xViq_CiS_KmH"
      },
      "source": [
        "<a name='exercises_removing_items'></a>Ejercicios\n",
        "---\n",
        "#### Gente Famosa\n",
        "- Haz una lista de nombre que incluya 4 personas famosas. \n",
        "- Remueve cada persona de la lista, una a la vez, usando cada uno de los 4 métodos que hemos visto: \n",
        "    - Hacer pop al ultimo elemento de una lista, hacer pop a cualquier elemento de una lista exceptuando el ultimo. \n",
        "    - Remover un elemento por su posición, y remover un elemento por su valor. \n",
        "- Imprimir un mensaje que diga que no quedan famosos en tu lista, imprime tu lista para demostrar que esta vacía."
      ]
    },
    {
      "cell_type": "code",
      "execution_count": null,
      "metadata": {
        "id": "HZkVvgYb_KmI"
      },
      "outputs": [],
      "source": [
        "# Ex 3.12 : Famous People\n",
        "\n",
        "# put your code here"
      ]
    },
    {
      "cell_type": "markdown",
      "metadata": {
        "id": "2ER4KdfJ_KmJ"
      },
      "source": [
        "[top](#top)"
      ]
    },
    {
      "cell_type": "markdown",
      "metadata": {
        "id": "5r5bjJ_c_KmK"
      },
      "source": [
        "<a name='functions'></a>Crear tus propias funciones?\n",
        "===\n",
        "\n",
        "En este punto, habrás notado, que a menudo reusamos secciones de código (ojo no confundir con operaciones de iteración). Mas adelante aprenderemos a crear nuestras propias funciones, si quieres adelantarte puedes darle una mirada a esta sección:   \n",
        "\n",
        "[Introducción a las Funciones](https://github.com/cosmocaos/Introduccion_a_Python/blob/main/Intro_a_las_funciones.ipynb)(Pendiente de traducir) "
      ]
    },
    {
      "cell_type": "markdown",
      "metadata": {
        "id": "J7Kjlm2r_KmK"
      },
      "source": [
        "<a name='slicing'></a>Rebanando una Lista\n",
        "===\n",
        "Ya que una lista es una colección de objetos, podemos ser capaces de obtener un subconjunto de esos objetos. Por ejemplo, si solo queremos obtener los primeros 3 elementos de una lista, deberiamos poder lograrlo fácilmente. Lo mismo que 3 elementos en el centro de una lista, o los ultimos 3 elementos, o un número x de elementos de cualquier parte de la lista. Estos subconjuntos de la lista, son llamadas *rebanadas*, en ingles *slices* y *slicing*."
      ]
    },
    {
      "cell_type": "markdown",
      "metadata": {
        "id": "eWEEblrF_KmL"
      },
      "source": [
        "Para tener un subconjunto de una lista, le damos la posición del primer elemento que deseamos, y la posición del primer elemento que ***no*** queremos que sea incluido en el subconjunto. Así que la rebanada *list[0:3]* en dará una lista que contiene los elementos 0,1 y 2, pero no elemento con inidice 3. "
      ]
    },
    {
      "cell_type": "code",
      "execution_count": 66,
      "metadata": {
        "id": "-pbskVXC_KmM",
        "outputId": "6afb7e79-c69b-4948-9904-50056888bd7c",
        "colab": {
          "base_uri": "https://localhost:8080/"
        }
      },
      "outputs": [
        {
          "output_type": "stream",
          "name": "stdout",
          "text": [
            "Banjo Kazooie\n",
            "Star Fox 64\n",
            "Zelda OofT\n"
          ]
        }
      ],
      "source": [
        "juegosN64 = ['Banjo Kazooie', 'Star Fox 64', 'Zelda OofT', 'Banjo Tooie', 'Zelda Majoras Mask', 'Donkey Kong 64']\n",
        "\n",
        "# Grab the first three users in the list.\n",
        "primer_batch = juegosN64[0:3]\n",
        "\n",
        "for juego in primer_batch:\n",
        "    print(juego)"
      ]
    },
    {
      "cell_type": "markdown",
      "metadata": {
        "id": "Lqkj8WL-_KmN"
      },
      "source": [
        "Si desesas tomar todo hasta cierta posicion en la lista, puedes dejar en blanco el primer indice en blanco. "
      ]
    },
    {
      "cell_type": "code",
      "execution_count": 67,
      "metadata": {
        "id": "KaKU9Xo__KmO",
        "outputId": "70b27a39-ceee-48cd-db7f-10e2d9d7ae2b",
        "colab": {
          "base_uri": "https://localhost:8080/"
        }
      },
      "outputs": [
        {
          "output_type": "stream",
          "name": "stdout",
          "text": [
            "Banjo Kazooie\n",
            "Star Fox 64\n",
            "Zelda Ooft\n"
          ]
        }
      ],
      "source": [
        "juegosN64 = ['Banjo Kazooie', 'Star Fox 64', 'Zelda OofT', 'Banjo Tooie', 'Zelda Majoras Mask', 'Donkey Kong 64']\n",
        "\n",
        "# Grab the first three users in the list.\n",
        "primer_batch = juegosN64[:3]\n",
        "\n",
        "for juego in primer_batch:\n",
        "    print(juego.title())"
      ]
    },
    {
      "cell_type": "markdown",
      "metadata": {
        "id": "1bZRktDX_KmP"
      },
      "source": [
        "Hacer *slicing* a una lista no afecta a la lista original."
      ]
    },
    {
      "cell_type": "code",
      "execution_count": 69,
      "metadata": {
        "id": "gl79zn-S_KmP",
        "outputId": "1294aed6-807c-4749-871b-d634fb474466",
        "colab": {
          "base_uri": "https://localhost:8080/"
        }
      },
      "outputs": [
        {
          "output_type": "stream",
          "name": "stdout",
          "text": [
            "Banjo Kazooie\n",
            "Star Fox 64\n",
            "Zelda OofT\n",
            "Banjo Kazooie\n",
            "Star Fox 64\n",
            "Zelda OofT\n",
            "Banjo Tooie\n",
            "Zelda Majoras Mask\n",
            "Donkey Kong 64\n"
          ]
        }
      ],
      "source": [
        "juegosN64 = ['Banjo Kazooie', 'Star Fox 64', 'Zelda OofT', 'Banjo Tooie', 'Zelda Majoras Mask', 'Donkey Kong 64']\n",
        "\n",
        "# Grab the first three users in the list.\n",
        "primer_batch = juegosN64[0:3]\n",
        "\n",
        "for juego in primer_batch:\n",
        "    print(juego)\n",
        "\n",
        "for juego in juegosN64:\n",
        "    print(juego)"
      ]
    },
    {
      "cell_type": "markdown",
      "metadata": {
        "id": "wt2Lp-4S_KmQ"
      },
      "source": [
        "Podemos obtener cualquier segemento de la lista que deseemos usando el método de slicing. "
      ]
    },
    {
      "cell_type": "code",
      "execution_count": 70,
      "metadata": {
        "id": "GREAkTHq_KmQ",
        "outputId": "bf7829d4-1351-4b89-98bf-7b2b0a833f91",
        "colab": {
          "base_uri": "https://localhost:8080/"
        }
      },
      "outputs": [
        {
          "output_type": "stream",
          "name": "stdout",
          "text": [
            "Star Fox 64\n",
            "Zelda Ooft\n"
          ]
        }
      ],
      "source": [
        "juegosN64 = ['Banjo Kazooie', 'Star Fox 64', 'Zelda OofT', 'Banjo Tooie', \\\n",
        "             'Zelda Majoras Mask', 'Donkey Kong 64']\n",
        "\n",
        "# Grab the first three users in the list.\n",
        "primer_batch = juegosN64[1:3]\n",
        "\n",
        "for juego in primer_batch:\n",
        "    print(juego.title())"
      ]
    },
    {
      "cell_type": "markdown",
      "metadata": {
        "id": "4XEXRDKc_KmR"
      },
      "source": [
        "Para obtener todos los elementos a partir de cierta posición, dejamos en blanco el segundo indice."
      ]
    },
    {
      "cell_type": "code",
      "execution_count": 71,
      "metadata": {
        "id": "_JtzIXtj_KoY",
        "outputId": "aff04905-5461-426a-bd67-3c0f1cd9b29c",
        "colab": {
          "base_uri": "https://localhost:8080/"
        }
      },
      "outputs": [
        {
          "output_type": "stream",
          "name": "stdout",
          "text": [
            "Banjo Tooie\n",
            "Zelda Majoras Mask\n",
            "Donkey Kong 64\n"
          ]
        }
      ],
      "source": [
        "juegosN64 = ['Banjo Kazooie', 'Star Fox 64', 'Zelda OofT', \\\n",
        "             'Banjo Tooie', 'Zelda Majoras Mask', 'Donkey Kong 64']\n",
        "\n",
        "# Grab the first three users in the list.\n",
        "ultimo_batch = juegosN64[3:]\n",
        "\n",
        "for juego in ultimo_batch:\n",
        "    print(juego.title())"
      ]
    },
    {
      "cell_type": "markdown",
      "metadata": {
        "id": "5Y_LsVUA_Kob"
      },
      "source": [
        "### <a name='copying'></a>Copiando una lista\n",
        "Se puede usar la notacion de *slicing* para hacer una copia de una lista, dejando en blanco el indice de inicio y el indice de final."
      ]
    },
    {
      "cell_type": "code",
      "execution_count": 73,
      "metadata": {
        "id": "icocNyg__Koc",
        "outputId": "5a3b447e-b25e-4576-ac33-e2a2a3f9464f",
        "colab": {
          "base_uri": "https://localhost:8080/"
        }
      },
      "outputs": [
        {
          "output_type": "stream",
          "name": "stdout",
          "text": [
            "Lista completa de juegos copiados:\n",
            "\t ['Banjo Kazooie', 'Star Fox 64', 'Zelda OofT', 'Banjo Tooie', 'Zelda Majoras Mask', 'Donkey Kong 64']\n",
            "\n",
            "Two users removed from copied list:\n",
            "\t ['Zelda OofT', 'Banjo Tooie', 'Zelda Majoras Mask', 'Donkey Kong 64']\n",
            "\n",
            "The original list:\n",
            "\t ['Zelda OofT', 'Banjo Tooie', 'Zelda Majoras Mask', 'Donkey Kong 64']\n"
          ]
        }
      ],
      "source": [
        "juegosN64 = ['Banjo Kazooie', 'Star Fox 64', 'Zelda OofT', \\\n",
        "             'Banjo Tooie', 'Zelda Majoras Mask', 'Donkey Kong 64']\n",
        "\n",
        "# Make a copy of the list.\n",
        "juegosN6_copiados = juegosN64[:]   \n",
        "print(\"Lista completa de juegos copiados:\\n\\t\", juegosN6_copiados)\n",
        "\n",
        "# Remove the first two users from the copied list.\n",
        "del juegosN6_copiados[0]\n",
        "del juegosN6_copiados[0]\n",
        "print(\"\\nTwo users removed from copied list:\\n\\t\", juegosN6_copiados)\n",
        "\n",
        "# The original list is unaffected.\n",
        "print(\"\\nThe original list:\\n\\t\", juegosN64)\n"
      ]
    },
    {
      "cell_type": "markdown",
      "source": [
        "Que pasa si hacemos `juegosN6_copiados = juegosN64` ?"
      ],
      "metadata": {
        "id": "gHJORX2jW6a8"
      }
    },
    {
      "cell_type": "code",
      "source": [
        "\n"
      ],
      "metadata": {
        "id": "KTCRg6RFW0oC"
      },
      "execution_count": null,
      "outputs": []
    },
    {
      "cell_type": "markdown",
      "metadata": {
        "id": "wdNlmQ4N_Kog"
      },
      "source": [
        "<a name='exercises_slicing'></a>Ejercicios\n",
        "---\n",
        "#### Rebanadas alfabéticas\n",
        "- Almacena las primeras 10 letras del alfabéto en una lista.\n",
        "- Usa un slice para imprimir las primeras 3 letras del alfabeto. \n",
        "- Usa un slice para imprimir cualesquier 3 letras de en medio de la lista. \n",
        "- Usa un slice para imprimir desde el centro hasta el final de la lista. \n",
        "\n",
        "#### Lista protegida\n",
        "- Tu meta en este ejercicio es demostrar que copiar una lista, protege la lista original.  \n",
        "- Haz una lista con el nombre de 3 marcas de automovil. \n",
        "- Usa un slice para hacer una copia de la lista entera.\n",
        "- Agrga al menos dos nuevos elementos a la copia de la lista. \n",
        "- Haz un loop que imprima todos los nombres de la lista original, y un mensaje que diga que esa es la lista original.\n",
        "- Haz un loop que imprima todos los nombres de la lista copiada, y un mensaje que diga que esa es la lista copiada."
      ]
    },
    {
      "cell_type": "code",
      "execution_count": null,
      "metadata": {
        "id": "z_yJdOKE_Koi"
      },
      "outputs": [],
      "source": [
        "# Ex 3.13 : Alphabet Slices\n",
        "#Store the first ten letters of the alphabet in a list.\n",
        "\n",
        "#Use a slice to print out the first three letters of the alphabet.\n",
        "\n",
        "#Use a slice to print out any three letters from the middle of your list.\n",
        "\n",
        "#Use a slice to print out the letters from any point in the middle of your list, to the end.\n",
        "\n",
        "# put your code here"
      ]
    },
    {
      "cell_type": "code",
      "execution_count": null,
      "metadata": {
        "id": "y9OuC2Tr_Koi"
      },
      "outputs": [],
      "source": [
        "# Ex 3.14 : Protected List\n",
        "#Your goal in this exercise is to prove that copying a list protects the original list.\n",
        "#Make a list with three people's names in it.\n",
        "\n",
        "#Use a slice to make a copy of the entire list.\n",
        "\n",
        "#Add at least two new names to the new copy of the list.\n",
        "\n",
        "#Make a loop that prints out all of the names in the original list, along with a message that this is the original list.\n",
        "\n",
        "#Make a loop that prints out all of the names in the copied list, along with a message that this is the copied list.\n",
        "\n",
        "#title the names in the original list\n"
      ]
    },
    {
      "cell_type": "markdown",
      "metadata": {
        "id": "r9mAb1Gj_Kop"
      },
      "source": [
        "[top](#top)"
      ]
    },
    {
      "cell_type": "markdown",
      "metadata": {
        "id": "nebygPXd_Koq"
      },
      "source": [
        "<a name='numerical_lists'></a>Listas númericas\n",
        "===\n",
        "No hay nada especial en listas de números, pero hay algunas funciones que puedes hacer mas eficiente el trabajo con números. \n",
        "Hagamos una lista con los primeros 10 números enteros, y veamos que podemos hacer con ellos."
      ]
    },
    {
      "cell_type": "code",
      "execution_count": null,
      "metadata": {
        "id": "mThgdktM_Kos"
      },
      "outputs": [],
      "source": [
        "# Print out the first ten numbers.\n",
        "numbers = [1, 2, 3, 4, 5, 6, 7, 8, 9, 10]\n",
        "\n",
        "for number in numbers:\n",
        "    print(number)"
      ]
    },
    {
      "cell_type": "markdown",
      "metadata": {
        "id": "k6llfWGe_KqC"
      },
      "source": [
        "<a name='range_function'></a>La función *range()*\n",
        "---\n",
        "Arriba creamos una lista con números, pero si queremos una lista muy grande de números, no los escribimos manualmente, la generamos.\n",
        "La función *range()* nos ayuda a generar listas largas de números.Veamos como:"
      ]
    },
    {
      "cell_type": "code",
      "execution_count": 74,
      "metadata": {
        "id": "9_5cw2ZR_KqD",
        "outputId": "feaf2d33-55f8-4f0f-ec9e-45948c5ca59b",
        "colab": {
          "base_uri": "https://localhost:8080/"
        }
      },
      "outputs": [
        {
          "output_type": "stream",
          "name": "stdout",
          "text": [
            "1\n",
            "2\n",
            "3\n",
            "4\n",
            "5\n",
            "6\n",
            "7\n",
            "8\n",
            "9\n",
            "10\n"
          ]
        }
      ],
      "source": [
        "# Print the first ten numbers.\n",
        "for number in range(1,11):\n",
        "    print(number)"
      ]
    },
    {
      "cell_type": "markdown",
      "metadata": {
        "id": "fCtZNHVW_KqE"
      },
      "source": [
        "La función range requiera que le digamos en que número inicia y en cual termina. Se obtienen todos los enteros, menos el númeo final. Se puede agregar un valor de *paso*, que le dice a la función de *cuanto en cuanto* avanzar. "
      ]
    },
    {
      "cell_type": "code",
      "execution_count": 76,
      "metadata": {
        "id": "ITUMjThR_KqE",
        "outputId": "b68e71e0-f995-45f1-8d0d-e1bc964cdab6",
        "colab": {
          "base_uri": "https://localhost:8080/"
        }
      },
      "outputs": [
        {
          "output_type": "stream",
          "name": "stdout",
          "text": [
            "0\n",
            "2\n",
            "4\n",
            "6\n",
            "8\n",
            "10\n",
            "12\n",
            "14\n",
            "16\n",
            "18\n",
            "20\n"
          ]
        }
      ],
      "source": [
        "# Print the first ten odd numbers.\n",
        "for number in range(0,21,2):\n",
        "    print(number)"
      ]
    },
    {
      "cell_type": "markdown",
      "metadata": {
        "id": "PxU1KySG_KqF"
      },
      "source": [
        "If we want to store these numbers in a list, we can use the *list()* function. This function takes in a range, and turns it into a list:"
      ]
    },
    {
      "cell_type": "code",
      "execution_count": 77,
      "metadata": {
        "id": "UdZXCKDH_KqG",
        "outputId": "a3daf180-03d8-49bf-cee4-d428d16a0ca5",
        "colab": {
          "base_uri": "https://localhost:8080/"
        }
      },
      "outputs": [
        {
          "output_type": "stream",
          "name": "stdout",
          "text": [
            "[1, 2, 3, 4, 5, 6, 7, 8, 9, 10]\n"
          ]
        }
      ],
      "source": [
        "# Create a list of the first ten numbers.\n",
        "numbers = list(range(1,11))\n",
        "print(numbers)"
      ]
    },
    {
      "cell_type": "markdown",
      "metadata": {
        "id": "bWYLCPDy_KqH"
      },
      "source": [
        "Esto es increiblemente poderoso; podemos crear listas con los primero millones de números, igual que con los primeros 10. No tiene sentido imprimir millones de números aqui, pero podemos demostrar que realmente la lista tiene on millón de elementos. Podemos imprimir los ultimos 10 elementos para demostrarlo."
      ]
    },
    {
      "cell_type": "code",
      "execution_count": 81,
      "metadata": {
        "id": "jRgyJegx_KqI",
        "outputId": "6df85850-5e52-4bef-9012-801b21d967b1",
        "colab": {
          "base_uri": "https://localhost:8080/"
        }
      },
      "outputs": [
        {
          "output_type": "stream",
          "name": "stdout",
          "text": [
            "La lista números tiene 1000000 números en ella\n",
            "\n",
            "Los ultimos 10 números en la lista son:\n",
            "999991\n",
            "999992\n",
            "999993\n",
            "999994\n",
            "999995\n",
            "999996\n",
            "999997\n",
            "999998\n",
            "999999\n",
            "1000000\n"
          ]
        }
      ],
      "source": [
        "# Store the first million numbers in a list.\n",
        "numbers = list(range(1,1000001))\n",
        "\n",
        "# Show the length of the list:\n",
        "print(f'La lista números tiene {len(numbers)} números en ella')\n",
        "\n",
        "# Show the last ten numbers:\n",
        "print(\"\\nLos ultimos 10 números en la lista son:\")\n",
        "for number in numbers[-10:]:\n",
        "    print(number)"
      ]
    },
    {
      "cell_type": "markdown",
      "metadata": {
        "id": "VZwwaS9z_KqI"
      },
      "source": [
        "La expresión\n",
        "\n",
        "    numbers[-10:]\n",
        "\n",
        "nos da un slice de la lista. El indice `-1` es el ultimo elemento en la lista, y el indice `-10` es el elemento 10 lugares desde el final de la lista hacia atras. Así que la slice `numbers[-10:]` tiene desde ese elemento hasta el final de la lista. "
      ]
    },
    {
      "cell_type": "markdown",
      "metadata": {
        "id": "VkI26XO8_KqN"
      },
      "source": [
        "<a name='min_max_sum'></a> Las funciones *min()*, *max()*, y *sum()* \n",
        "---\n",
        "Hay tres funciones que puedes usar fácilmente con listas númericas.\n",
        "Como imgainas, *min()* nos da el número mas pequeño en la lista, *max()* nos da el número mayor,  y *sum()* la suma total de todos los elementos en la lista."
      ]
    },
    {
      "cell_type": "code",
      "execution_count": null,
      "metadata": {
        "id": "2oKO5fdx_KqO"
      },
      "outputs": [],
      "source": [
        "edades = [23, 16, 14, 28, 19, 11, 38]\n",
        "\n",
        "masJoven = min(edades)\n",
        "masViejo = max(edades)\n",
        "total_edades = sum(edades)\n",
        "\n",
        "print(f'Nuestro lector mas joven tiene {masJoven} años')\n",
        "print(f'Nuestro lector mas viejo tiene {masViejo} años')\n",
        "print(f'Juntos tienen un total de {total_edades} años de experiencia de vida')"
      ]
    },
    {
      "cell_type": "markdown",
      "metadata": {
        "id": "MhAf8Anx_KqP"
      },
      "source": [
        "<a name='exercises_numerical'></a>Ejercicios\n",
        "---\n",
        "#### Primeros 20\n",
        "- Usa la función *range()* para almacenar los primeros 20 números en una lista, e imprimelos. \n",
        "\n",
        "#### Conjuntos grandes\n",
        "- Usa el código anterior, pero para un número mucho mas grande, cuidado, no vayas a trabar la compu. \n",
        "\n",
        "#### Cinco billeteras. \n",
        "- Imagina 5 carteras con diferentes billetes en cada una. Almacena esos números en una lista, luego imprime los siguientes enunciados. \n",
        "    - \"La cartera mas gorda tiene $ *candidad* pesos.\"\n",
        "    - \"La cartera mas flaca tiene $ *candidad* pesos.\"\n",
        "    - \"Todas las carterass combinadas tienen $ *value* pesos.\""
      ]
    },
    {
      "cell_type": "code",
      "execution_count": null,
      "metadata": {
        "id": "ybcUcxbd_KsL"
      },
      "outputs": [],
      "source": [
        "# Ex 3.15 : First Twenty\n",
        "\n",
        "# put your code here"
      ]
    },
    {
      "cell_type": "code",
      "execution_count": null,
      "metadata": {
        "id": "8GEx08A9_KsM"
      },
      "outputs": [],
      "source": [
        "# Ex 3.16 : Larger Sets\n",
        "\n",
        "# put your code here"
      ]
    },
    {
      "cell_type": "code",
      "execution_count": 14,
      "metadata": {
        "id": "kAQTiyWs_KsN",
        "outputId": "1b1a2e59-8c3b-42cd-8aa1-68ae20b848c2",
        "colab": {
          "base_uri": "https://localhost:8080/"
        }
      },
      "outputs": [
        {
          "output_type": "stream",
          "name": "stdout",
          "text": [
            "9\n"
          ]
        }
      ],
      "source": [
        "# Ex 3.17 : Five Wallets\n",
        "#Imagine five wallets with different amounts of cash in them. Store these five values in a list, \n",
        "#and print out the following sentences:\n",
        "#\"The fattest wallet has ∗value∗init.\"−\"Theskinniestwallethas value in it.\"\n",
        "#\"All together, these wallets have $ value in them.\"\n",
        "\n",
        "from random import randint\n",
        "print(randint(5,10))\n"
      ]
    },
    {
      "cell_type": "markdown",
      "metadata": {
        "id": "fLEKYqx-_KsP"
      },
      "source": [
        "[top](#top)"
      ]
    },
    {
      "cell_type": "markdown",
      "metadata": {
        "id": "ZZDSdOJo_KsP"
      },
      "source": [
        "<a name='comprehensions'></a>List Comprehensions\n",
        "===\n",
        "I thought carefully before including this section. If you are brand new to programming, list comprehensions may look confusing at first. They are a shorthand way of creating and working with lists. It is good to be aware of list comprehensions, because you will see them in other people's code, and they are really useful when you understand how to use them. That said, if they don't make sense to you yet, don't worry about using them right away. When you have worked with enough lists, you will want to use comprehensions. For now, it is good enough to know they exist, and to recognize them when you see them. If you like them, go ahead and start trying to use them now."
      ]
    },
    {
      "cell_type": "markdown",
      "metadata": {
        "id": "ZJ81nxlG_KsQ"
      },
      "source": [
        "<a name='comprehensions_numerical'></a>Numerical Comprehensions\n",
        "---\n",
        "Let's consider how we might make a list of the first ten square numbers. We could do it like this:"
      ]
    },
    {
      "cell_type": "code",
      "execution_count": null,
      "metadata": {
        "id": "WsjiwIqB_KsQ",
        "outputId": "4e2ae225-ce48-4280-e031-19cc381f1452"
      },
      "outputs": [
        {
          "name": "stdout",
          "output_type": "stream",
          "text": [
            "1\n",
            "4\n",
            "9\n",
            "16\n",
            "25\n",
            "36\n",
            "49\n",
            "64\n",
            "81\n",
            "100\n"
          ]
        }
      ],
      "source": [
        "# Store the first ten square numbers in a list.\n",
        "# Make an empty list that will hold our square numbers.\n",
        "squares = []\n",
        "\n",
        "# Go through the first ten numbers, square them, and add them to our list.\n",
        "for number in range(1,11):\n",
        "    new_square = number**2\n",
        "    squares.append(new_square)\n",
        "    \n",
        "# Show that our list is correct.\n",
        "for square in squares:\n",
        "    print(square)"
      ]
    },
    {
      "cell_type": "markdown",
      "metadata": {
        "id": "rT8-6Ej6_KsR"
      },
      "source": [
        "This should make sense at this point. If it doesn't, go over the code with these thoughts in mind:\n",
        "- We make an empty list called *squares* that will hold the values we are interested in.\n",
        "- Using the *range()* function, we start a loop that will go through the numbers 1-10.\n",
        "- Each time we pass through the loop, we find the square of the current number by raising it to the second power.\n",
        "- We add this new value to our list *squares*.\n",
        "- We go through our newly-defined list and print out each square.\n",
        "\n",
        "Now let's make this code more efficient. We don't really need to store the new square in its own variable *new_square*; we can just add it directly to the list of squares. The line\n",
        "\n",
        "    new_square = number**2\n",
        "\n",
        "is taken out, and the next line takes care of the squaring:"
      ]
    },
    {
      "cell_type": "code",
      "execution_count": null,
      "metadata": {
        "id": "NDvApoQ8_KsS",
        "outputId": "e192f623-ac19-426c-82cc-ddcce5082934"
      },
      "outputs": [
        {
          "name": "stdout",
          "output_type": "stream",
          "text": [
            "1\n",
            "4\n",
            "9\n",
            "16\n",
            "25\n",
            "36\n",
            "49\n",
            "64\n",
            "81\n",
            "100\n"
          ]
        }
      ],
      "source": [
        "# Store the first ten square numbers in a list.\n",
        "# Make an empty list that will hold our square numbers.\n",
        "squares = []\n",
        "\n",
        "# Go through the first ten numbers, square them, and add them to our list.\n",
        "for number in range(1,11):\n",
        "    squares.append(number**2)\n",
        "    \n",
        "# Show that our list is correct.\n",
        "for square in squares:\n",
        "    print(square)"
      ]
    },
    {
      "cell_type": "markdown",
      "metadata": {
        "id": "KkxbHnSm_KsT"
      },
      "source": [
        "List comprehensions allow us to collapse the first three lines of code into one line. Here's what it looks like:"
      ]
    },
    {
      "cell_type": "code",
      "execution_count": null,
      "metadata": {
        "id": "WbcNsdyI_KsT",
        "outputId": "50a07d53-6d0d-4ef7-c618-01e13ed72152"
      },
      "outputs": [
        {
          "name": "stdout",
          "output_type": "stream",
          "text": [
            "1\n",
            "4\n",
            "9\n",
            "16\n",
            "25\n",
            "36\n",
            "49\n",
            "64\n",
            "81\n",
            "100\n"
          ]
        }
      ],
      "source": [
        "# Store the first ten square numbers in a list.\n",
        "squares = [number**2 for number in range(1,11)]\n",
        "\n",
        "# Show that our list is correct.\n",
        "for square in squares:\n",
        "    print(square)"
      ]
    },
    {
      "cell_type": "markdown",
      "metadata": {
        "id": "4UZidCNX_KsU"
      },
      "source": [
        "It should be pretty clear that this code is more efficient than our previous approach, but it may not be clear what is happening. Let's take a look at everything that is happening in that first line:\n",
        "\n",
        "We define a list called *squares*.\n",
        "\n",
        "Look at the second part of what's in square brackets:\n",
        "\n",
        "    for number in range(1,11)\n",
        "\n",
        "This sets up a loop that goes through the numbers 1-10, storing each value in the variable *number*. Now we can see what happens to each *number* in the loop:\n",
        "\n",
        "    number**2\n",
        "\n",
        "Each number is raised to the second power, and this is the value that is stored in the list we defined. We might read this line in the following way:\n",
        "\n",
        "squares = [raise *number* to the second power, for each *number* in the range 1-10]"
      ]
    },
    {
      "cell_type": "markdown",
      "metadata": {
        "id": "c-5DQAx9_Ksy"
      },
      "source": [
        "### Another example\n",
        "It is probably helpful to see a few more examples of how comprehensions can be used. Let's try to make the first ten even numbers, the longer way:"
      ]
    },
    {
      "cell_type": "code",
      "execution_count": null,
      "metadata": {
        "id": "L8uaDgTu_Ks9",
        "outputId": "807c7d0b-acbd-4287-aaf0-13dbbf1b4174"
      },
      "outputs": [
        {
          "name": "stdout",
          "output_type": "stream",
          "text": [
            "2\n",
            "4\n",
            "6\n",
            "8\n",
            "10\n",
            "12\n",
            "14\n",
            "16\n",
            "18\n",
            "20\n"
          ]
        }
      ],
      "source": [
        "# Make an empty list that will hold the even numbers.\n",
        "evens = []\n",
        "\n",
        "# Loop through the numbers 1-10, double each one, and add it to our list.\n",
        "for number in range(1,11):\n",
        "    evens.append(number*2)\n",
        "    \n",
        "# Show that our list is correct:\n",
        "for even in evens:\n",
        "    print(even)"
      ]
    },
    {
      "cell_type": "markdown",
      "metadata": {
        "id": "BZFdl2Xp_Ks-"
      },
      "source": [
        "Here's how we might think of doing the same thing, using a list comprehension:\n",
        "\n",
        "evens = [multiply each *number* by 2, for each *number* in the range 1-10]\n",
        "\n",
        "Here is the same line in code:"
      ]
    },
    {
      "cell_type": "code",
      "execution_count": null,
      "metadata": {
        "id": "v5ouM4IX_Ks_",
        "outputId": "d2e661c4-982b-4c51-dcad-ea5063e3634c"
      },
      "outputs": [
        {
          "name": "stdout",
          "output_type": "stream",
          "text": [
            "2\n",
            "4\n",
            "6\n",
            "8\n",
            "10\n",
            "12\n",
            "14\n",
            "16\n",
            "18\n",
            "20\n"
          ]
        }
      ],
      "source": [
        "# Make a list of the first ten even numbers.\n",
        "evens = [number*2 for number in range(1,11)]\n",
        "\n",
        "for even in evens:\n",
        "    print(even)"
      ]
    },
    {
      "cell_type": "markdown",
      "metadata": {
        "id": "-_7Fi00g_KtA"
      },
      "source": [
        "<a name='comprehensions_non_numerical'></a>Non-numerical comprehensions\n",
        "---\n",
        "We can use comprehensions with non-numerical lists as well. In this case, we will create an initial list, and then use a comprehension to make a second list from the first one. Here is a simple example, without using comprehensions:"
      ]
    },
    {
      "cell_type": "code",
      "execution_count": null,
      "metadata": {
        "id": "1rFGIMv4_KtB",
        "outputId": "a6ade15c-cf43-4c00-ae94-35786ced0bc9"
      },
      "outputs": [
        {
          "name": "stdout",
          "output_type": "stream",
          "text": [
            "Hello, Bernice the great!\n",
            "Hello, Aaron the great!\n",
            "Hello, Cody the great!\n"
          ]
        }
      ],
      "source": [
        "# Consider some students.\n",
        "students = ['bernice', 'aaron', 'cody']\n",
        "\n",
        "# Let's turn them into great students.\n",
        "great_students = []\n",
        "for student in students:\n",
        "    great_students.append(student.title() + \" the great!\")\n",
        "\n",
        "# Let's greet each great student.\n",
        "for great_student in great_students:\n",
        "    print(\"Hello, \" + great_student)"
      ]
    },
    {
      "cell_type": "markdown",
      "metadata": {
        "id": "jSUHgWHc_KtB"
      },
      "source": [
        "To use a comprehension in this code, we want to write something like this:\n",
        "\n",
        "great_students = [add 'the great' to each *student*, for each *student* in the list of *students*]\n",
        "\n",
        "Here's what it looks like:"
      ]
    },
    {
      "cell_type": "code",
      "execution_count": null,
      "metadata": {
        "id": "NzS9Z2eV_KtD",
        "outputId": "b367f5d5-597a-43a8-ebfb-529b86813c9e"
      },
      "outputs": [
        {
          "name": "stdout",
          "output_type": "stream",
          "text": [
            "Hello, Bernice the great!\n",
            "Hello, Aaron the great!\n",
            "Hello, Cody the great!\n"
          ]
        }
      ],
      "source": [
        "# Consider some students.\n",
        "students = ['bernice', 'aaron', 'cody']\n",
        "\n",
        "# Let's turn them into great students.\n",
        "great_students = [student.title() + \" the great!\" for student in students]\n",
        "\n",
        "# Let's greet each great student.\n",
        "for great_student in great_students:\n",
        "    print(\"Hello, \" + great_student)"
      ]
    },
    {
      "cell_type": "markdown",
      "metadata": {
        "id": "QyEct-zq_KtE"
      },
      "source": [
        "<a name='exercises_comprehensions'></a>Exercises\n",
        "---\n",
        "If these examples are making sense, go ahead and try to do the following exercises using comprehensions. If not, try the exercises without comprehensions. You may figure out how to use comprehensions after you have solved each exercise the longer way.\n",
        "\n",
        "#### Multiples of Ten\n",
        "- Make a list of the first ten multiples of ten (10, 20, 30... 90, 100). There are a number of ways to do this, but try to do it using a list comprehension. Print out your list.\n",
        "\n",
        "#### Cubes\n",
        "- We saw how to make a list of the first ten squares. Make a list of the first ten cubes (1, 8, 27... 1000) using a list comprehension, and print them out.\n",
        "\n",
        "#### Awesomeness\n",
        "- Store five names in a list. Make a second list that adds the phrase \"is awesome!\" to each name, using a list comprehension. Print out the awesome version of the names.\n",
        "\n",
        "#### Working Backwards\n",
        "- Write out the following code without using a list comprehension:\n",
        "\n",
        "    plus_thirteen = [number + 13 for number in range(1,11)]"
      ]
    },
    {
      "cell_type": "code",
      "execution_count": null,
      "metadata": {
        "id": "vQ051CGT_KtF"
      },
      "outputs": [],
      "source": [
        "# Ex 3.18 : Multiples of Ten\n",
        "\n",
        "# put your code here"
      ]
    },
    {
      "cell_type": "code",
      "execution_count": null,
      "metadata": {
        "id": "Yw990R39_KtI"
      },
      "outputs": [],
      "source": [
        "# Ex 3.19 : Cubes\n",
        "\n",
        "# put your code here"
      ]
    },
    {
      "cell_type": "code",
      "execution_count": null,
      "metadata": {
        "id": "K5laMwMq_Kv2"
      },
      "outputs": [],
      "source": [
        "# Ex 3.20 : Awesomeness\n",
        "\n",
        "# put your code here"
      ]
    },
    {
      "cell_type": "code",
      "execution_count": null,
      "metadata": {
        "id": "JHytWAe1_Kv3"
      },
      "outputs": [],
      "source": [
        "# Ex 3.21 : Working Backwards\n",
        "\n",
        "# put your code here"
      ]
    },
    {
      "cell_type": "markdown",
      "metadata": {
        "id": "Ftgxhd_y_Kv3"
      },
      "source": [
        "[top](#top)"
      ]
    },
    {
      "cell_type": "markdown",
      "metadata": {
        "id": "BF0Fs9PY_Kv4"
      },
      "source": [
        "<a name='strings_as_lists'></a>Strings as Lists\n",
        "===\n",
        "Now that you have some familiarity with lists, we can take a second look at strings. A string is really a list of characters, so many of the concepts from working with lists behave the same with strings."
      ]
    },
    {
      "cell_type": "markdown",
      "metadata": {
        "id": "HbaHo7E3_Kv4"
      },
      "source": [
        "<a name='list_of_characters'></a>Strings as a list of characters\n",
        "---\n",
        "We can loop through a string using a *for* loop, just like we loop through a list:"
      ]
    },
    {
      "cell_type": "code",
      "execution_count": null,
      "metadata": {
        "id": "LJxDRvIn_Kv4",
        "outputId": "8a1bc2e9-e70c-433c-b23d-f2590a072809"
      },
      "outputs": [
        {
          "name": "stdout",
          "output_type": "stream",
          "text": [
            "H\n",
            "e\n",
            "l\n",
            "l\n",
            "o\n",
            "!\n"
          ]
        }
      ],
      "source": [
        "message = \"Hello!\"\n",
        "\n",
        "for letter in message:\n",
        "    print(letter)"
      ]
    },
    {
      "cell_type": "markdown",
      "metadata": {
        "id": "RsPdzUYz_Kv5"
      },
      "source": [
        "We can create a list from a string. The list will have one element for each character in the string:"
      ]
    },
    {
      "cell_type": "code",
      "execution_count": null,
      "metadata": {
        "id": "QY1w9Q9O_Kv7",
        "outputId": "71f7b153-e14d-4a5f-e661-70d675fd8b08"
      },
      "outputs": [
        {
          "name": "stdout",
          "output_type": "stream",
          "text": [
            "['H', 'e', 'l', 'l', 'o', ' ', 'w', 'o', 'r', 'l', 'd', '!']\n"
          ]
        }
      ],
      "source": [
        "message = \"Hello world!\"\n",
        "\n",
        "message_list = list(message)\n",
        "print(message_list)"
      ]
    },
    {
      "cell_type": "markdown",
      "metadata": {
        "id": "w9Xbf1Rp_Kv_"
      },
      "source": [
        "<a name='slicing_strings'></a>Slicing strings\n",
        "---\n",
        "We can access any character in a string by its position, just as we access individual items in a list:"
      ]
    },
    {
      "cell_type": "code",
      "execution_count": null,
      "metadata": {
        "id": "1XFyDXLM_Kv_",
        "outputId": "b21683c7-4085-4d6e-f975-e4d48b468b45"
      },
      "outputs": [
        {
          "name": "stdout",
          "output_type": "stream",
          "text": [
            "('H', '!')\n"
          ]
        }
      ],
      "source": [
        "message = \"Hello World!\"\n",
        "first_char = message[0]\n",
        "last_char = message[-1]\n",
        "\n",
        "print(first_char, last_char)"
      ]
    },
    {
      "cell_type": "markdown",
      "metadata": {
        "id": "Uh03eg6u_KwA"
      },
      "source": [
        "We can extend this to take slices of a string:"
      ]
    },
    {
      "cell_type": "code",
      "execution_count": null,
      "metadata": {
        "id": "jsXQ9HrC_KwC",
        "outputId": "8c60b1df-6f9a-461a-9327-dc455892c01c"
      },
      "outputs": [
        {
          "name": "stdout",
          "output_type": "stream",
          "text": [
            "('Hel', 'ld!')\n"
          ]
        }
      ],
      "source": [
        "message = \"Hello World!\"\n",
        "first_three = message[:3]\n",
        "last_three = message[-3:]\n",
        "\n",
        "print(first_three, last_three)"
      ]
    },
    {
      "cell_type": "markdown",
      "metadata": {
        "id": "MuyzT7zv_KwE"
      },
      "source": [
        "<a name='finding_substrings'></a>Finding substrings\n",
        "---\n",
        "Now that you have seen what indexes mean for strings, we can search for *substrings*. A substring is a series of characters that appears in a string.\n",
        "\n",
        "You can use the *in* keyword to find out whether a particular substring appears in a string:"
      ]
    },
    {
      "cell_type": "code",
      "execution_count": null,
      "metadata": {
        "id": "zsSkd9FO_KwG",
        "outputId": "02c057f8-3629-429d-af63-a6760f3fbd64"
      },
      "outputs": [
        {
          "name": "stdout",
          "output_type": "stream",
          "text": [
            "True\n"
          ]
        }
      ],
      "source": [
        "message = \"I like cats and dogs.\"\n",
        "dog_present = 'dog' in message\n",
        "print(dog_present)"
      ]
    },
    {
      "cell_type": "markdown",
      "metadata": {
        "id": "lFwYXnsS_KwH"
      },
      "source": [
        "If you want to know where a substring appears in a string, you can use the *find()* method. The *find()* method tells you the index at which the substring begins."
      ]
    },
    {
      "cell_type": "code",
      "execution_count": null,
      "metadata": {
        "id": "W2aft6Pl_KwI",
        "outputId": "452e348f-67f3-43cb-b879-7560ef2b4c3e"
      },
      "outputs": [
        {
          "name": "stdout",
          "output_type": "stream",
          "text": [
            "16\n"
          ]
        }
      ],
      "source": [
        "message = \"I like cats and dogs.\"\n",
        "dog_index = message.find('dog')\n",
        "print(dog_index)"
      ]
    },
    {
      "cell_type": "markdown",
      "metadata": {
        "id": "fxkgdsR__KwI"
      },
      "source": [
        "Note, however, that this function only returns the index of the first appearance of the substring you are looking for. If the substring appears more than once, you will miss the other substrings."
      ]
    },
    {
      "cell_type": "code",
      "execution_count": null,
      "metadata": {
        "id": "OKZqb7v-_KwJ",
        "outputId": "ec65b3fd-de97-4e1d-cb64-1048280585bf"
      },
      "outputs": [
        {
          "name": "stdout",
          "output_type": "stream",
          "text": [
            "16\n"
          ]
        }
      ],
      "source": [
        "message = \"I like cats and dogs, but I'd much rather own a dog.\"\n",
        "dog_index = message.find('dog')\n",
        "print(dog_index)"
      ]
    },
    {
      "cell_type": "markdown",
      "metadata": {
        "id": "261lJmIG_KwK"
      },
      "source": [
        "If you want to find the last appearance of a substring, you can use the *rfind()* function:"
      ]
    },
    {
      "cell_type": "code",
      "execution_count": null,
      "metadata": {
        "id": "_yRhhKwE_KwL",
        "outputId": "3d54a785-6cca-460f-9d8e-6fff077b7379"
      },
      "outputs": [
        {
          "name": "stdout",
          "output_type": "stream",
          "text": [
            "48\n"
          ]
        }
      ],
      "source": [
        "message = \"I like cats and dogs, but I'd much rather own a dog.\"\n",
        "last_dog_index = message.rfind('dog')\n",
        "print(last_dog_index)"
      ]
    },
    {
      "cell_type": "markdown",
      "metadata": {
        "id": "zxDLw3b-_KwL"
      },
      "source": [
        "<a name='replacing_substrings'></a>Replacing substrings\n",
        "---\n",
        "You can use the *replace()* function to replace any substring with another substring. To use the *replace()* function, give the substring you want to replace, and then the substring you want to replace it with. You also need to store the new string, either in the same string variable or in a new variable."
      ]
    },
    {
      "cell_type": "code",
      "execution_count": null,
      "metadata": {
        "id": "KjWV8r1s_KwN",
        "outputId": "a9051cf4-fdc5-4a7e-ef5e-156ad986a81d"
      },
      "outputs": [
        {
          "name": "stdout",
          "output_type": "stream",
          "text": [
            "I like cats and snakes, but I'd much rather own a snake.\n"
          ]
        }
      ],
      "source": [
        "message = \"I like cats and dogs, but I'd much rather own a dog.\"\n",
        "message = message.replace('dog', 'snake')\n",
        "print(message)"
      ]
    },
    {
      "cell_type": "markdown",
      "metadata": {
        "id": "U8neCKeP_KwO"
      },
      "source": [
        "<a name='counting_substrings'></a>Counting substrings\n",
        "---\n",
        "If you want to know how many times a substring appears within a string, you can use the *count()* method."
      ]
    },
    {
      "cell_type": "code",
      "execution_count": null,
      "metadata": {
        "id": "DxMw8XiV_KwO",
        "outputId": "939c15ca-1292-4984-dad3-6a6ee7fbc647"
      },
      "outputs": [
        {
          "name": "stdout",
          "output_type": "stream",
          "text": [
            "2\n"
          ]
        }
      ],
      "source": [
        "message = \"I like cats and dogs, but I'd much rather own a dog.\"\n",
        "number_dogs = message.count('dog')\n",
        "print(number_dogs)"
      ]
    },
    {
      "cell_type": "markdown",
      "metadata": {
        "id": "na0NZox3_KwP"
      },
      "source": [
        "<a name='splitting_strings'></a>Splitting strings\n",
        "---\n",
        "Strings can be split into a set of substrings when they are separated by a repeated character. If a string consists of a simple sentence, the string can be split based on spaces. The *split()* function returns a list of substrings. The *split()* function takes one argument, the character that separates the parts of the string."
      ]
    },
    {
      "cell_type": "code",
      "execution_count": null,
      "metadata": {
        "id": "Fh6lodPi_KwP",
        "outputId": "50ff33b9-8ecf-4e4f-8df7-da6fe35f62c1"
      },
      "outputs": [
        {
          "name": "stdout",
          "output_type": "stream",
          "text": [
            "['I', 'like', 'cats', 'and', 'dogs,', 'but', \"I'd\", 'much', 'rather', 'own', 'a', 'dog.']\n"
          ]
        }
      ],
      "source": [
        "message = \"I like cats and dogs, but I'd much rather own a dog.\"\n",
        "words = message.split(' ')\n",
        "print(words)"
      ]
    },
    {
      "cell_type": "markdown",
      "metadata": {
        "id": "iu_cGg8R_KwQ"
      },
      "source": [
        "Notice that the punctuation is left in the substrings.\n",
        "\n",
        "It is more common to split strings that are really lists, separated by something like a comma. The *split()* function gives you an easy way to turn comma-separated strings, which you can't do much with in Python, into lists. Once you have your data in a list, you can work with it in much more powerful ways."
      ]
    },
    {
      "cell_type": "code",
      "execution_count": null,
      "metadata": {
        "id": "VWYYmLNQ_KwQ",
        "outputId": "95adaf1b-48a8-4b43-dff4-a0a11767e203"
      },
      "outputs": [
        {
          "name": "stdout",
          "output_type": "stream",
          "text": [
            "['dog', ' cat', ' tiger', ' mouse', ' liger', ' bear']\n"
          ]
        }
      ],
      "source": [
        "animals = \"dog, cat, tiger, mouse, liger, bear\"\n",
        "\n",
        "# Rewrite the string as a list, and store it in the same variable\n",
        "animals = animals.split(',')\n",
        "print(animals)"
      ]
    },
    {
      "cell_type": "markdown",
      "metadata": {
        "id": "om5xULoa_KwW"
      },
      "source": [
        "Notice that in this case, the spaces are also ignored. It is a good idea to test the output of the *split()* function and make sure it is doing what you want with the data you are interested in.\n",
        "\n",
        "One use of this is to work with spreadsheet data in your Python programs. Most spreadsheet applications allow you to dump your data into a comma-separated text file. You can read this file into your Python program, or even copy and paste from the text file into your program file, and then turn the data into a list. You can then process your spreadsheet data using a *for* loop."
      ]
    },
    {
      "cell_type": "markdown",
      "metadata": {
        "id": "99DQnOmX_KwX"
      },
      "source": [
        "<a name='other_string_methods'></a>Other string methods\n",
        "---\n",
        "There are a number of [other string methods](http://docs.python.org/3.3/library/stdtypes.html#string-methods) that we won't go into right here, but you might want to take a look at them. Most of these methods should make sense to you at this point. You might not have use for any of them right now, but it is good to know what you can do with strings. This way you will have a sense of how to solve certain problems, even if it means referring back to the list of methods to remind yourself how to write the correct syntax when you need it."
      ]
    },
    {
      "cell_type": "markdown",
      "metadata": {
        "id": "M2KMrsID_KwY"
      },
      "source": [
        "<a name='exercises_strings_as_lists'></a>Exercises\n",
        "---\n",
        "#### Listing a Sentence\n",
        "- Store a single sentence in a variable. Use a for loop to print each character from your sentence on a separate line.\n",
        "\n",
        "#### Sentence List\n",
        "- Store a single sentence in a variable. Create a list from your sentence. Print your raw list (don't use a loop, just print the list).\n",
        "\n",
        "#### Sentence Slices\n",
        "- Store a sentence in a variable. Using slices, print out the first five characters, any five consecutive characters from the middle of the sentence, and the last five characters of the sentence.\n",
        "\n",
        "#### Finding Python\n",
        "- Store a sentence in a variable, making sure you use the word *Python* at least twice in the sentence.\n",
        "- Use the *in* keyword to prove that the word *Python* is actually in the sentence.\n",
        "- Use the *find()* function to show where the word *Python* first appears in the sentence.\n",
        "- Use the *rfind()* function to show the last place *Python* appears in the sentence.\n",
        "- Use the *count()* function to show how many times the word *Python* appears in your sentence.\n",
        "- Use the *split()* function to break your sentence into a list of words. Print the raw list, and use a loop to print each word on its own line.\n",
        "- Use the *replace()* function to change *Python* to *Ruby* in your sentence."
      ]
    },
    {
      "cell_type": "code",
      "execution_count": null,
      "metadata": {
        "id": "szvVepHh_KwY"
      },
      "outputs": [],
      "source": [
        "# Ex 3.22 : Listing a Sentence\n",
        "\n",
        "# put your code here"
      ]
    },
    {
      "cell_type": "code",
      "execution_count": null,
      "metadata": {
        "id": "0lF9e7WI_KwZ"
      },
      "outputs": [],
      "source": [
        "# Ex 3.23 : Sentence List\n",
        "\n",
        "# put your code here"
      ]
    },
    {
      "cell_type": "code",
      "execution_count": null,
      "metadata": {
        "id": "5cvHFL9w_KwZ"
      },
      "outputs": [],
      "source": [
        "# Ex 3.24 : Sentence Slices\n",
        "\n",
        "# put your code here"
      ]
    },
    {
      "cell_type": "code",
      "execution_count": null,
      "metadata": {
        "id": "vsOCw5iD_Kwa"
      },
      "outputs": [],
      "source": [
        "# Ex 3.25 : Finding Python\n",
        "\n",
        "# put your code here"
      ]
    },
    {
      "cell_type": "markdown",
      "metadata": {
        "id": "8k-bupew_Kwb"
      },
      "source": [
        "<a name='challenges_strings_as_lists'></a>Challenges\n",
        "---\n",
        "#### Counting DNA Nucleotides\n",
        "- [Project Rosalind](http://rosalind.info/problems/locations/) is a [problem set](http://rosalind.info/problems/list-view/) based on biotechnology concepts. It is meant to show how programming skills can help solve problems in genetics and biology.\n",
        "- If you have understood this section on strings, you have enough information to solve the first problem in Project Rosalind, [Counting DNA Nucleotides](http://rosalind.info/problems/dna/). Give the sample problem a try.\n",
        "- If you get the sample problem correct, log in and try the full version of the problem!\n",
        "\n",
        "#### Transcribing DNA into RNA\n",
        "- You also have enough information to try the second problem, [Transcribing DNA into RNA](http://rosalind.info/problems/rna/). Solve the sample problem.\n",
        "- If you solved the sample problem, log in and try the full version!\n",
        "\n",
        "#### Complementing a Strand of DNA\n",
        "- You guessed it, you can now try the third problem as well: [Complementing a Strand of DNA](http://rosalind.info/problems/revc/). Try the sample problem, and then try the full version if you are successful."
      ]
    },
    {
      "cell_type": "code",
      "execution_count": null,
      "metadata": {
        "id": "xlHAoz30_Kwe"
      },
      "outputs": [],
      "source": [
        "# Challenge: Counting DNA Nucleotides\n",
        "\n",
        "# Put your code here"
      ]
    },
    {
      "cell_type": "code",
      "execution_count": null,
      "metadata": {
        "id": "FnlIkBSe_Kwf"
      },
      "outputs": [],
      "source": [
        "# Challenge: Transcribing DNA into RNA\n",
        "\n",
        "# Put your code here"
      ]
    },
    {
      "cell_type": "code",
      "execution_count": null,
      "metadata": {
        "id": "ailQWBp__Kwg"
      },
      "outputs": [],
      "source": [
        "# Challenge: Complementing a Strand of DNA\n",
        "\n",
        "# Put your code here"
      ]
    },
    {
      "cell_type": "markdown",
      "metadata": {
        "id": "k6p1gm_E_Kwg"
      },
      "source": [
        "[top](#top)"
      ]
    },
    {
      "cell_type": "markdown",
      "metadata": {
        "id": "nmq7pmNU_Kwh"
      },
      "source": [
        "<a name='tuples'></a>Tuples\n",
        "===\n",
        "Tuples are basically lists that can never be changed. Lists are quite dynamic; they can grow as you append and insert items, and they can shrink as you remove items. You can modify any element you want to in a list. Sometimes we like this behavior, but other times we may want to ensure that no user or no part of a program can change a list. That's what tuples are for.\n",
        "\n",
        "Technically, lists are *mutable* objects and tuples are *immutable* objects. Mutable objects can change (think of *mutations*), and immutable objects can not change."
      ]
    },
    {
      "cell_type": "markdown",
      "metadata": {
        "id": "cEnvQBRy_Kwh"
      },
      "source": [
        "<a name='defining_tuples'></a>Defining tuples, and accessing elements\n",
        "---\n",
        "\n",
        "You define a tuple just like you define a list, except you use parentheses instead of square brackets. Once you have a tuple, you can access individual elements just like you can with a list, and you can loop through the tuple with a *for* loop:"
      ]
    },
    {
      "cell_type": "code",
      "execution_count": null,
      "metadata": {
        "id": "0Il2ES4-_Kwi",
        "outputId": "70c52098-daad-4d37-9711-c6d94d92b477"
      },
      "outputs": [
        {
          "name": "stdout",
          "output_type": "stream",
          "text": [
            "The first color is: red\n",
            "\n",
            "The available colors are:\n",
            "- red\n",
            "- green\n",
            "- blue\n"
          ]
        }
      ],
      "source": [
        "colors = ('red', 'green', 'blue')\n",
        "print(\"The first color is: \" + colors[0])\n",
        "\n",
        "print(\"\\nThe available colors are:\")\n",
        "for color in colors:\n",
        "    print(\"- \" + color)"
      ]
    },
    {
      "cell_type": "markdown",
      "metadata": {
        "id": "RnnLinC4_Kw3"
      },
      "source": [
        "If you try to add something to a tuple, you will get an error:"
      ]
    },
    {
      "cell_type": "code",
      "execution_count": null,
      "metadata": {
        "id": "p9PLolbP_Kw4",
        "outputId": "98a32d42-81b8-484a-f4c3-a72d95ecdf63"
      },
      "outputs": [
        {
          "ename": "AttributeError",
          "evalue": "'tuple' object has no attribute 'append'",
          "output_type": "error",
          "traceback": [
            "\u001b[0;31m---------------------------------------------------------------------------\u001b[0m\n\u001b[0;31mAttributeError\u001b[0m                            Traceback (most recent call last)",
            "\u001b[0;32m<ipython-input-37-ed1dbff53ab2>\u001b[0m in \u001b[0;36m<module>\u001b[0;34m()\u001b[0m\n\u001b[1;32m      1\u001b[0m \u001b[0mcolors\u001b[0m \u001b[0;34m=\u001b[0m \u001b[0;34m(\u001b[0m\u001b[0;34m'red'\u001b[0m\u001b[0;34m,\u001b[0m \u001b[0;34m'green'\u001b[0m\u001b[0;34m,\u001b[0m \u001b[0;34m'blue'\u001b[0m\u001b[0;34m)\u001b[0m\u001b[0;34m\u001b[0m\u001b[0m\n\u001b[0;32m----> 2\u001b[0;31m \u001b[0mcolors\u001b[0m\u001b[0;34m.\u001b[0m\u001b[0mappend\u001b[0m\u001b[0;34m(\u001b[0m\u001b[0;34m'purple'\u001b[0m\u001b[0;34m)\u001b[0m\u001b[0;34m\u001b[0m\u001b[0m\n\u001b[0m",
            "\u001b[0;31mAttributeError\u001b[0m: 'tuple' object has no attribute 'append'"
          ]
        }
      ],
      "source": [
        "colors = ('red', 'green', 'blue')\n",
        "colors.append('purple')"
      ]
    },
    {
      "cell_type": "markdown",
      "metadata": {
        "id": "V8v55jtP_Kw4"
      },
      "source": [
        "The same kind of thing happens when you try to remove something from a tuple, or modify one of its elements. Once you define a tuple, you can be confident that its values will not change."
      ]
    },
    {
      "cell_type": "markdown",
      "metadata": {
        "id": "6AMpU0BW_Kw5"
      },
      "source": [
        "<a name='tuples_strings'></a>Using tuples to make strings\n",
        "---\n",
        "We have seen that it is pretty useful to be able to mix raw English strings with values that are stored in variables, as in the following:"
      ]
    },
    {
      "cell_type": "code",
      "execution_count": null,
      "metadata": {
        "id": "0VYrB8t8_Kw5",
        "outputId": "8f075fe8-d01c-405b-8d5c-1d607b90b510"
      },
      "outputs": [
        {
          "name": "stdout",
          "output_type": "stream",
          "text": [
            "I have a dog.\n"
          ]
        }
      ],
      "source": [
        "animal = 'dog'\n",
        "print(\"I have a \" + animal + \".\")"
      ]
    },
    {
      "cell_type": "markdown",
      "metadata": {
        "id": "jGocEgtP_Kw6"
      },
      "source": [
        "This was especially useful when we had a series of similar statements to make:"
      ]
    },
    {
      "cell_type": "code",
      "execution_count": null,
      "metadata": {
        "id": "XhXT48Nj_Kw6",
        "outputId": "b4a146f4-962d-4334-bb9d-89d46ff87598"
      },
      "outputs": [
        {
          "name": "stdout",
          "output_type": "stream",
          "text": [
            "I have a dog.\n",
            "I have a cat.\n",
            "I have a bear.\n"
          ]
        }
      ],
      "source": [
        "animals = ['dog', 'cat', 'bear']\n",
        "for animal in animals:\n",
        "    print(\"I have a \" + animal + \".\")"
      ]
    },
    {
      "cell_type": "markdown",
      "metadata": {
        "id": "AySobgEe_Kw7"
      },
      "source": [
        "I like this approach of using the plus sign to build strings because it is fairly intuitive. We can see that we are adding several smaller strings together to make one longer string. This is intuitive, but it is a lot of typing. There is a shorter way to do this, using *placeholders*.\n",
        "\n",
        "Python ignores most of the characters we put inside of strings. There are a few characters that Python pays attention to, as we saw with strings such as \"\\t\" and \"\\n\". Python also pays attention to \"%s\" and \"%d\". These are placeholders. When Python sees the \"%s\" placeholder, it looks ahead and pulls in the first argument after the % sign:"
      ]
    },
    {
      "cell_type": "code",
      "execution_count": null,
      "metadata": {
        "id": "j_dfccAs_Kw8",
        "outputId": "c15697f5-6c22-4aae-85ae-3162be848edf"
      },
      "outputs": [
        {
          "name": "stdout",
          "output_type": "stream",
          "text": [
            "I have a dog.\n"
          ]
        }
      ],
      "source": [
        "animal = 'dog'\n",
        "print(\"I have a %s.\" % animal)"
      ]
    },
    {
      "cell_type": "markdown",
      "metadata": {
        "id": "TOR1Cy_t_Kw8"
      },
      "source": [
        "This is a much cleaner way of generating strings that include values. We compose our sentence all in one string, and then tell Python what values to pull into the string, in the appropriate places.\n",
        "\n",
        "This is called *string formatting*, and it looks the same when you use a list:"
      ]
    },
    {
      "cell_type": "code",
      "execution_count": null,
      "metadata": {
        "id": "lnkPuQ3r_KxA",
        "outputId": "4627a542-0c9f-4941-e9bf-108cad6e8b6d"
      },
      "outputs": [
        {
          "name": "stdout",
          "output_type": "stream",
          "text": [
            "I have a dog.\n",
            "I have a cat.\n",
            "I have a bear.\n"
          ]
        }
      ],
      "source": [
        "animals = ['dog', 'cat', 'bear']\n",
        "for animal in animals:\n",
        "    print(\"I have a %s.\" % animal)"
      ]
    },
    {
      "cell_type": "markdown",
      "metadata": {
        "id": "T0Fc-P19_KxB"
      },
      "source": [
        "If you have more than one value to put into the string you are composing, you have to pack the values into a tuple:"
      ]
    },
    {
      "cell_type": "code",
      "execution_count": null,
      "metadata": {
        "id": "nVL5DI6H_KxB",
        "outputId": "bb9fdb1b-f021-4de5-b78e-699f03ebc810"
      },
      "outputs": [
        {
          "name": "stdout",
          "output_type": "stream",
          "text": [
            "I have a dog, a cat, and a bear.\n"
          ]
        }
      ],
      "source": [
        "animals = ['dog', 'cat', 'bear']\n",
        "print(\"I have a %s, a %s, and a %s.\" % (animals[0], animals[1], animals[2]))"
      ]
    },
    {
      "cell_type": "markdown",
      "metadata": {
        "id": "5CAE3LZR_KxC"
      },
      "source": [
        "### String formatting with numbers\n",
        "\n",
        "If you recall, printing a number with a string can cause an error:"
      ]
    },
    {
      "cell_type": "code",
      "execution_count": null,
      "metadata": {
        "id": "UuccpSdA_KxD",
        "outputId": "a4be2d35-a7fd-4f37-cc71-9ef0293f30f6"
      },
      "outputs": [
        {
          "ename": "TypeError",
          "evalue": "cannot concatenate 'str' and 'int' objects",
          "output_type": "error",
          "traceback": [
            "\u001b[0;31m---------------------------------------------------------------------------\u001b[0m\n\u001b[0;31mTypeError\u001b[0m                                 Traceback (most recent call last)",
            "\u001b[0;32m<ipython-input-47-1ed2c5bb2bba>\u001b[0m in \u001b[0;36m<module>\u001b[0;34m()\u001b[0m\n\u001b[1;32m      1\u001b[0m \u001b[0mnumber\u001b[0m \u001b[0;34m=\u001b[0m \u001b[0;36m23\u001b[0m\u001b[0;34m\u001b[0m\u001b[0m\n\u001b[0;32m----> 2\u001b[0;31m \u001b[0;32mprint\u001b[0m\u001b[0;34m(\u001b[0m\u001b[0;34m\"My favorite number is \"\u001b[0m \u001b[0;34m+\u001b[0m \u001b[0mnumber\u001b[0m \u001b[0;34m+\u001b[0m \u001b[0;34m\".\"\u001b[0m\u001b[0;34m)\u001b[0m\u001b[0;34m\u001b[0m\u001b[0m\n\u001b[0m",
            "\u001b[0;31mTypeError\u001b[0m: cannot concatenate 'str' and 'int' objects"
          ]
        }
      ],
      "source": [
        "number = 23\n",
        "print(\"My favorite number is \" + number + \".\")"
      ]
    },
    {
      "cell_type": "markdown",
      "metadata": {
        "id": "dqlA5QGH_KxD"
      },
      "source": [
        "Python knows that you could be talking about the value 23, or the characters '23'. So it throws an error, forcing us to clarify that we want Python to treat the number as a string. We do this by *casting* the number into a string using the *str()* function:"
      ]
    },
    {
      "cell_type": "code",
      "execution_count": null,
      "metadata": {
        "id": "mVXZCcXx_K2t",
        "outputId": "ac9ed1fa-1394-4ecf-8b49-121f0fae3c8c"
      },
      "outputs": [
        {
          "name": "stdout",
          "output_type": "stream",
          "text": [
            "My favorite number is 23.\n"
          ]
        }
      ],
      "source": [
        "number = 23\n",
        "print(\"My favorite number is \" + str(number) + \".\")"
      ]
    },
    {
      "cell_type": "markdown",
      "metadata": {
        "id": "Yu4zQkm6_K2u"
      },
      "source": [
        "The format string \"%d\" takes care of this for us. Watch how clean this code is:"
      ]
    },
    {
      "cell_type": "code",
      "execution_count": null,
      "metadata": {
        "id": "WZnTq_d6_K2u",
        "outputId": "f1289ccd-54ec-4c4a-f9a1-dcfc2fa17f15"
      },
      "outputs": [
        {
          "name": "stdout",
          "output_type": "stream",
          "text": [
            "My favorite number is 23.\n"
          ]
        }
      ],
      "source": [
        "number = 23\n",
        "print(\"My favorite number is %d.\" % number)"
      ]
    },
    {
      "cell_type": "markdown",
      "metadata": {
        "id": "ttj-Rrev_K2v"
      },
      "source": [
        "If you want to use a series of numbers, you pack them into a tuple just like we saw with strings:"
      ]
    },
    {
      "cell_type": "code",
      "execution_count": null,
      "metadata": {
        "id": "iIrKaw8P_K2v",
        "outputId": "c560f959-e797-4e27-c382-fe6ad0d11211"
      },
      "outputs": [
        {
          "name": "stdout",
          "output_type": "stream",
          "text": [
            "My favorite numbers are 7, 23, and 42.\n"
          ]
        }
      ],
      "source": [
        "numbers = [7, 23, 42]\n",
        "print(\"My favorite numbers are %d, %d, and %d.\" % (numbers[0], numbers[1], numbers[2]))"
      ]
    },
    {
      "cell_type": "markdown",
      "metadata": {
        "id": "0WhwCGXT_K2w"
      },
      "source": [
        "Just for clarification, look at how much longer the code is if you use concatenation instead of string formatting:"
      ]
    },
    {
      "cell_type": "code",
      "execution_count": null,
      "metadata": {
        "id": "IpoPZgyF_K24",
        "outputId": "f63e841d-b1d2-4b11-ff02-f2ea2962d76c"
      },
      "outputs": [
        {
          "name": "stdout",
          "output_type": "stream",
          "text": [
            "My favorite numbers are 7, 23, and 42.\n"
          ]
        }
      ],
      "source": [
        "numbers = [7, 23, 42]\n",
        "print(\"My favorite numbers are \" + str(numbers[0]) + \", \" + str(numbers[1]) + \", and \" + str(numbers[2]) + \".\")"
      ]
    },
    {
      "cell_type": "markdown",
      "metadata": {
        "id": "SzoYvrmj_K26"
      },
      "source": [
        "You can mix string and numerical placeholders in any order you want."
      ]
    },
    {
      "cell_type": "code",
      "execution_count": null,
      "metadata": {
        "id": "JL6MeGM4_K27",
        "outputId": "1d0ac260-9b1c-4010-a07c-2d71b3d1f599"
      },
      "outputs": [
        {
          "name": "stdout",
          "output_type": "stream",
          "text": [
            "Eric's favorite number is 23, and Ever's favorite number is 2.\n"
          ]
        }
      ],
      "source": [
        "names = ['eric', 'ever']\n",
        "numbers = [23, 2]\n",
        "print(\"%s's favorite number is %d, and %s's favorite number is %d.\" % (names[0].title(), numbers[0], names[1].title(), numbers[1]))"
      ]
    },
    {
      "cell_type": "markdown",
      "metadata": {
        "id": "2unAZJQT_K27"
      },
      "source": [
        "There are more sophisticated ways to do string formatting in Python 3, but we will save that for later because it's a bit less intuitive than this approach. For now, you can use whichever approach consistently gets you the output that you want to see."
      ]
    },
    {
      "cell_type": "markdown",
      "metadata": {
        "id": "eU0Fy0W0_K28"
      },
      "source": [
        "<a name='tuples_exercises'></a>Exercises\n",
        "---\n",
        "\n",
        "#### Gymnast Scores\n",
        "- A gymnast can earn a score between 1 and 10 from each judge; nothing lower, nothing higher. All scores are integer values; there are no decimal scores from a single judge.\n",
        "- Store the possible scores a gymnast can earn from one judge in a tuple.\n",
        "- Print out the sentence, \"The lowest possible score is \\_\\_\\_, and the highest possible score is \\_\\_\\_.\" Use the values from your tuple.\n",
        "- Print out a series of sentences, \"A judge can give a gymnast ___ points.\"\n",
        "    - Don't worry if your first sentence reads \"A judge can give a gymnast 1 points.\"\n",
        "    - However, you get 1000 bonus internet points if you can use a for loop, and have correct grammar. [hint](#hints_gymnast_scores)\n",
        "\n",
        "#### Revision with Tuples\n",
        "- Choose a program you have already written that uses string concatenation.\n",
        "- Save the program with the same filename, but add *\\_tuple.py* to the end. For example, *gymnast\\_scores.py* becomes *gymnast\\_scores_tuple.py*.\n",
        "- Rewrite your string sections using *%s* and *%d* instead of concatenation.\n",
        "- Repeat this with two other programs you have already written."
      ]
    },
    {
      "cell_type": "code",
      "execution_count": null,
      "metadata": {
        "id": "destcWCs_K29"
      },
      "outputs": [],
      "source": [
        "# Ex 3.26 : Gymnast Scores\n",
        "\n",
        "# put your code here"
      ]
    },
    {
      "cell_type": "code",
      "execution_count": null,
      "metadata": {
        "id": "5xNk6jCb_K2_"
      },
      "outputs": [],
      "source": [
        "# Ex 3.27 : Revision with Tuples\n",
        "\n",
        "# put your code here"
      ]
    },
    {
      "cell_type": "markdown",
      "metadata": {
        "id": "7cfSCJ5N_K3O"
      },
      "source": [
        "[top](#top)"
      ]
    },
    {
      "cell_type": "markdown",
      "metadata": {
        "id": "Ghg1Tjbo_K3O"
      },
      "source": [
        "<a name='sets'></a>Sets\n",
        "===\n",
        "\n",
        "A set object is an unordered collection of distinct hashable objects. Common uses include membership testing, removing duplicates from a sequence, and computing mathematical operations such as intersection, union, difference, and symmetric difference."
      ]
    },
    {
      "cell_type": "code",
      "execution_count": null,
      "metadata": {
        "id": "SBmLgM0R_K3P",
        "outputId": "384ff8ec-9424-43b2-af27-31283da23066"
      },
      "outputs": [
        {
          "data": {
            "text/plain": [
              "{'circle', 'square', 'triangle'}"
            ]
          },
          "execution_count": 1,
          "metadata": {},
          "output_type": "execute_result"
        }
      ],
      "source": [
        "shapes = ['circle','square','triangle','circle']\n",
        "set_of_shapes = set(shapes)\n",
        "set_of_shapes"
      ]
    },
    {
      "cell_type": "code",
      "execution_count": null,
      "metadata": {
        "id": "AUCpBSO6_K3Q",
        "outputId": "5d23473f-4d9a-4417-be25-09981ebb02d6"
      },
      "outputs": [
        {
          "name": "stdout",
          "output_type": "stream",
          "text": [
            "circle\n",
            "square\n",
            "polygon\n",
            "triangle\n"
          ]
        }
      ],
      "source": [
        "shapes = {'circle','square','triangle','circle'}\n",
        "for shape in set_of_shapes:\n",
        "    print(shape)"
      ]
    },
    {
      "cell_type": "code",
      "execution_count": null,
      "metadata": {
        "id": "CfGAbWXi_K3Q",
        "outputId": "f1faad26-6fa0-42f7-b241-4b170c1faa78"
      },
      "outputs": [
        {
          "name": "stdout",
          "output_type": "stream",
          "text": [
            "{'circle', 'square', 'polygon', 'triangle'}\n"
          ]
        }
      ],
      "source": [
        "set_of_shapes.add('polygon') \n",
        "print(set_of_shapes)"
      ]
    },
    {
      "cell_type": "markdown",
      "metadata": {
        "id": "ZBztmvuq_K3S"
      },
      "source": [
        "## Exists (Check)"
      ]
    },
    {
      "cell_type": "code",
      "execution_count": null,
      "metadata": {
        "id": "RT6Ki1JY_K3V",
        "outputId": "ec2a4540-9d9e-43f2-f686-6118fc3021b2"
      },
      "outputs": [
        {
          "name": "stdout",
          "output_type": "stream",
          "text": [
            "Circle is in the set:  True\n",
            "Rhombus is in the set: False\n"
          ]
        }
      ],
      "source": [
        "# Test if circle is IN the set (i.e. exist)\n",
        "print('Circle is in the set: ', ('circle' in set_of_shapes))\n",
        "print('Rhombus is in the set:', ('rhombus' in set_of_shapes))"
      ]
    },
    {
      "cell_type": "markdown",
      "metadata": {
        "id": "fxDsiLEv_K3W"
      },
      "source": [
        "## Operations"
      ]
    },
    {
      "cell_type": "code",
      "execution_count": null,
      "metadata": {
        "id": "9f0SVgML_K3X",
        "outputId": "a82ec530-2f85-4540-e786-06e69de34e9f"
      },
      "outputs": [
        {
          "data": {
            "text/plain": [
              "{'circle', 'triangle'}"
            ]
          },
          "execution_count": 3,
          "metadata": {},
          "output_type": "execute_result"
        }
      ],
      "source": [
        "favourites_shapes = set(['circle','triangle','hexagon'])\n",
        "\n",
        "# Intersection\n",
        "set_of_shapes.intersection(favourites_shapes)"
      ]
    },
    {
      "cell_type": "code",
      "execution_count": null,
      "metadata": {
        "id": "ibr2jswP_K3X",
        "outputId": "23fb79f8-d9ea-4067-f9ca-959b2825997b"
      },
      "outputs": [
        {
          "data": {
            "text/plain": [
              "{'circle', 'hexagon', 'square', 'triangle'}"
            ]
          },
          "execution_count": 4,
          "metadata": {},
          "output_type": "execute_result"
        }
      ],
      "source": [
        "# Union\n",
        "set_of_shapes.union(favourites_shapes)"
      ]
    },
    {
      "cell_type": "code",
      "execution_count": null,
      "metadata": {
        "id": "-UzsGylC_K3Y",
        "outputId": "fc33027a-211d-4a2b-9854-b4fabd82356f"
      },
      "outputs": [
        {
          "data": {
            "text/plain": [
              "{'square'}"
            ]
          },
          "execution_count": 5,
          "metadata": {},
          "output_type": "execute_result"
        }
      ],
      "source": [
        "# Difference\n",
        "set_of_shapes.difference(favourites_shapes)"
      ]
    },
    {
      "cell_type": "markdown",
      "metadata": {
        "id": "Jbl7dDS7_K3a"
      },
      "source": [
        "<a name='challenges_overall'></a>Overall Challenges\n",
        "===\n",
        "#### Programming Words\n",
        "- Make a list of the most important words you have learned in programming so far. You should have terms such as list,\n",
        "- Make a corresponding list of definitions. Fill your list with 'definition'.\n",
        "- Use a for loop to print out each word and its corresponding definition.\n",
        "- Maintain this program until you get to the section on Python's Dictionaries."
      ]
    },
    {
      "cell_type": "code",
      "execution_count": null,
      "metadata": {
        "id": "Dnh7aBqP_K3c"
      },
      "outputs": [],
      "source": [
        "# Overall Challenges: Programming Words\n",
        "\n",
        "# Put your code here"
      ]
    },
    {
      "cell_type": "markdown",
      "metadata": {
        "id": "tw5mR5h__K5-"
      },
      "source": [
        "[top](#top)"
      ]
    },
    {
      "cell_type": "markdown",
      "metadata": {
        "id": "kGRwPU84_K5_"
      },
      "source": [
        "Hints\n",
        "===\n",
        "These are placed at the bottom, so you can have a chance to solve exercises without seeing any hints.\n",
        "\n",
        "<a name='hints_gymnast_scores'></a>\n",
        "\n",
        "#### Gymnast Scores\n",
        "- Hint: Use a slice."
      ]
    }
  ],
  "metadata": {
    "kernelspec": {
      "display_name": "Python 3",
      "language": "python",
      "name": "python3"
    },
    "language_info": {
      "codemirror_mode": {
        "name": "ipython",
        "version": 3
      },
      "file_extension": ".py",
      "mimetype": "text/x-python",
      "name": "python",
      "nbconvert_exporter": "python",
      "pygments_lexer": "ipython3",
      "version": "3.5.1"
    },
    "colab": {
      "provenance": [],
      "collapsed_sections": [],
      "include_colab_link": true
    }
  },
  "nbformat": 4,
  "nbformat_minor": 0
}