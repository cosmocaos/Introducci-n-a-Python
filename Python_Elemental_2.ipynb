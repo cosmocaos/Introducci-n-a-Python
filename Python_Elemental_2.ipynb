{
  "nbformat": 4,
  "nbformat_minor": 0,
  "metadata": {
    "colab": {
      "provenance": [],
      "include_colab_link": true
    },
    "kernelspec": {
      "name": "python3",
      "display_name": "Python 3"
    },
    "language_info": {
      "name": "python"
    }
  },
  "cells": [
    {
      "cell_type": "markdown",
      "metadata": {
        "id": "view-in-github",
        "colab_type": "text"
      },
      "source": [
        "<a href=\"https://colab.research.google.com/github/cosmocaos/Introduccion_a_Python/blob/main/Python_Elemental_2.ipynb\" target=\"_parent\"><img src=\"https://colab.research.google.com/assets/colab-badge.svg\" alt=\"Open In Colab\"/></a>"
      ]
    },
    {
      "cell_type": "markdown",
      "metadata": {
        "id": "DpbNVm_EcEmq"
      },
      "source": [
        "##<font color=SteelBlue>Python Elemental 2: Operaciones Aritméticas </font>\n",
        "1 - En este segundo *notebook* aprenderemos a realizar operaciones matemáticas con Python.<br>\n",
        "La mayoría de los algoritmos requieren cálculos. Para realizar cálculos se requieren los *operadores matemáticos*: <br>\n",
        "\n",
        "\n",
        "* `+` Adición:          Suma dos números\n",
        "* `-` Substracción:     Resta un número a otro número\n",
        "* `*` Multiplicación:   Multiplica un número a otro número\n",
        "* `/` División:         Divide un número por otro, y el resultado es un número con decimales \n",
        "* `//` División entera:        Divide un número por otro, y el resultado es un número entero \n",
        "* `%` Residuo:         Divide un número por otro, y el resultado es el residuo\n",
        "* `**` Exponente:       Eleva un número a una potencia dada\n",
        "\n",
        "\n",
        "\n",
        "\n"
      ]
    },
    {
      "cell_type": "code",
      "metadata": {
        "id": "-7HceHPSaEsx",
        "colab": {
          "base_uri": "https://localhost:8080/"
        },
        "outputId": "20e3b5de-4d56-42b3-8304-1111106903c0"
      },
      "source": [
        "varA = 3\n",
        "varB = 2\n",
        "# Adición\n",
        "resultado = varA + varB \n",
        "print(\"Adición:\", varA, \"+\", varB, \"=\", resultado  )\n",
        "# Substracción\n",
        "resultado = varA - varB \n",
        "print(\"Substracción:\", varA, \"-\", varB, \"=\", resultado  )\n",
        "\n",
        "# Multiplicación\n",
        "\n",
        "# División\n",
        "\n",
        "# ..."
      ],
      "execution_count": null,
      "outputs": [
        {
          "output_type": "stream",
          "name": "stdout",
          "text": [
            "Adición: 3 + 2 = 5\n",
            "Substracción: 3 - 2 = 1\n"
          ]
        }
      ]
    },
    {
      "cell_type": "markdown",
      "source": [
        "2 - Si requerimos mas funciones matemáticas necesitamos importar alguna <font color=Fucsia> *librería* </font> de matemáticas. Una librería es un conjunto de <font color=Fucsia> *funciones* </font> que fueron escritas en Python por otra persona o grupo de personas, y que lo comparte al mundo.  <br>\n",
        "Por ejemplo si deseamos calcular la raiz cuadrada de un número, requerimos importar la librería <font color=Green> math </font>.\n"
      ],
      "metadata": {
        "id": "Bj0l-LrXFPyN"
      }
    },
    {
      "cell_type": "code",
      "source": [
        "import math       # Importamos la librería math\n",
        "varC = math.sqrt(100)    # De la libería math usamos la función sqrt() \n",
        "print(varC)"
      ],
      "metadata": {
        "id": "DkWXYFxiG0ff"
      },
      "execution_count": null,
      "outputs": []
    },
    {
      "cell_type": "markdown",
      "source": [
        "3 - Sí queremos ver las funciones en una librería (también se les llama modulos) usamos el comando `help()`. "
      ],
      "metadata": {
        "id": "uEMcEnC0HMsk"
      }
    },
    {
      "cell_type": "code",
      "source": [
        "help(math)"
      ],
      "metadata": {
        "id": "JS-zLEhvHWV5"
      },
      "execution_count": null,
      "outputs": []
    },
    {
      "cell_type": "markdown",
      "source": [
        "4 - Orden de precedencia. Esto es importante cuando tenemos varios operadores matemáticos en una sola línea de código, son reglas en python, que debemos de conocer para saber que operador matemático se ejecutará primero. <br>\n",
        "Por ejemplo:     \n",
        " $\\;\\;\\;\\;\\;\\;$ resultado = 12.0 + 6.0 / 3.0  <br>\n",
        " Que respuesta nos dará, 14 o 6 ?"
      ],
      "metadata": {
        "id": "vvoibgzFGUL6"
      }
    },
    {
      "cell_type": "code",
      "source": [
        "resultado = 12.0 + 6.0 / 3.0\n",
        "print(resultado)"
      ],
      "metadata": {
        "id": "TbCDt1yCG9Lb",
        "colab": {
          "base_uri": "https://localhost:8080/"
        },
        "outputId": "20234e28-6eb5-49ab-da47-4fc4296b5ab6"
      },
      "execution_count": null,
      "outputs": [
        {
          "output_type": "stream",
          "name": "stdout",
          "text": [
            "14.0\n"
          ]
        }
      ]
    },
    {
      "cell_type": "markdown",
      "source": [
        "5 - Las reglas de precendencia en python, son las mismas que en matemáticas. El orden de precedencia es:\n",
        "\n",
        "1.   Parentésis: () \n",
        "2.   Exponeciación: **\n",
        "3.   Multiplicación, división, y residuo: * / // % \n",
        "4.   Adición y substracción: + −\n",
        "\n"
      ],
      "metadata": {
        "id": "OigBecyOIR3m"
      }
    },
    {
      "cell_type": "code",
      "source": [
        "varA = 5 + 2 * 4 \n",
        "varB = 10 / 2 - 3 \n",
        "varC = 8 + 12 * 2 - 4\n",
        "varD = 6 - 3 * 2 + 7 - 1\n",
        "print(\"A =\",varA)\n",
        "print(\"B =\",varB)\n",
        "print(\"C =\",varC)\n",
        "print(\"D =\",varD)"
      ],
      "metadata": {
        "id": "Uj1oeqsaIc8f",
        "colab": {
          "base_uri": "https://localhost:8080/"
        },
        "outputId": "3b93a560-3fa9-48d7-e97f-00c2a690f4d5"
      },
      "execution_count": null,
      "outputs": [
        {
          "output_type": "stream",
          "name": "stdout",
          "text": [
            "A = 13\n",
            "B = 2.0\n",
            "C = 28\n",
            "D = 6\n"
          ]
        }
      ]
    },
    {
      "cell_type": "code",
      "source": [
        "varA = 2\n",
        "varB = '4'\n",
        "varC = 1\n",
        "print(varA*varB*varC)"
      ],
      "metadata": {
        "colab": {
          "base_uri": "https://localhost:8080/"
        },
        "id": "yJdF7ah31sa9",
        "outputId": "9fb9da1d-928d-4ef0-a3a6-3e09b4682458"
      },
      "execution_count": null,
      "outputs": [
        {
          "output_type": "stream",
          "name": "stdout",
          "text": [
            "44\n"
          ]
        }
      ]
    },
    {
      "cell_type": "code",
      "source": [
        "varB = 'Jose'\n",
        "varC = 'Manuel'\n",
        "print(varB+' '+varC)"
      ],
      "metadata": {
        "colab": {
          "base_uri": "https://localhost:8080/"
        },
        "id": "gCwNSX-TbuIU",
        "outputId": "6ad0f4d2-1e92-4ed1-fe58-0738527e1a0f"
      },
      "execution_count": null,
      "outputs": [
        {
          "output_type": "stream",
          "name": "stdout",
          "text": [
            "Jose Manuel\n"
          ]
        }
      ]
    },
    {
      "cell_type": "markdown",
      "source": [
        "6 - Por que es importante conocer el orden de precedencia? <br>\n",
        "Pues supongamos que queremos calcular el promedio de unos valores. Diagamos la temperatura de cada día en una semana. \n"
      ],
      "metadata": {
        "id": "kaEszcVkKmjG"
      }
    },
    {
      "cell_type": "code",
      "source": [
        "temp_promedio =  35 + 34 + 36 + 30 + 31 + 35 + 38 / 7 \n",
        "print(temp_promedio)"
      ],
      "metadata": {
        "id": "ANC21nMRKnnB",
        "colab": {
          "base_uri": "https://localhost:8080/"
        },
        "outputId": "d0c2df82-c02f-4e26-ebd6-8d340a783d84"
      },
      "execution_count": null,
      "outputs": [
        {
          "output_type": "stream",
          "name": "stdout",
          "text": [
            "206.42857142857142\n"
          ]
        }
      ]
    },
    {
      "cell_type": "code",
      "source": [
        "#\n",
        "#\n",
        "#\n",
        "#\n",
        "#\n",
        "#\n",
        "#\n",
        "#\n",
        "#\n",
        "#\n"
      ],
      "metadata": {
        "id": "kVVOVuZILWPM"
      },
      "execution_count": null,
      "outputs": []
    },
    {
      "cell_type": "markdown",
      "source": [
        "7 - Lo adecuado es, agrupar los números con un parentesis. "
      ],
      "metadata": {
        "id": "8lAmkD9qMi0A"
      }
    },
    {
      "cell_type": "code",
      "source": [
        "temp_promedio = ( 35 + 34 + 36 + 30 + 31 + 35 + 38 ) / 7 \n",
        "print(temp_promedio)"
      ],
      "metadata": {
        "id": "1-a0UYWxcNrI",
        "colab": {
          "base_uri": "https://localhost:8080/"
        },
        "outputId": "e8acf40a-5dda-4725-efda-4aaf4bb98bec"
      },
      "execution_count": null,
      "outputs": [
        {
          "output_type": "stream",
          "name": "stdout",
          "text": [
            "34.142857142857146\n"
          ]
        }
      ]
    },
    {
      "cell_type": "markdown",
      "source": [
        "<font color=Purple> Ejercicio: </font> \n",
        "Hacer un pequeño código que pregunte cuanto cuesta un producto, luego pregunta el porcentaje de descuento, y te dice el precio después del descuento. <br> \n",
        "Ejemplo: Una lavadora que cuesta $8900 pesos, y hay un descuento del 35%. Cuanto costará la lavadora "
      ],
      "metadata": {
        "id": "j8MnWWoxBiJQ"
      }
    },
    {
      "cell_type": "code",
      "source": [
        "precio_lav = int( input('Cuanto cuesta la lavadora?') )\n",
        "descuento = int( input('De cuanto es el porcentaje de descuento?') )\n",
        "precio_condes = precio_lav*(1-(descuento/100))\n",
        "print('El precio final es',precio_condes)"
      ],
      "metadata": {
        "id": "p7qdnn9nEbEx",
        "colab": {
          "base_uri": "https://localhost:8080/"
        },
        "outputId": "63d6661e-ec55-4a31-d04d-4f5c2e6af9e2"
      },
      "execution_count": null,
      "outputs": [
        {
          "output_type": "stream",
          "name": "stdout",
          "text": [
            "Cuanto cuesta la lavadora?8900\n",
            "De cuanto es el porcentaje de descuento?35\n",
            "El precio final es 5785.0\n"
          ]
        }
      ]
    },
    {
      "cell_type": "markdown",
      "source": [
        "8 - También podríamos escribir el código del promedio, usando una <font color=Fucsia> *estructura de datos* </font> de Python: <font color=Green> listas </font>. Y algunas funcion del modulo <font color=Green> math </font>. "
      ],
      "metadata": {
        "id": "k9d0kpBqHaXu"
      }
    },
    {
      "cell_type": "code",
      "source": [
        "lista_temp = [35 , 34 , 36 , 30 , 31 , 35 , 38]\n",
        "import statistics\n",
        "statistics.mean(lista_temp)\n"
      ],
      "metadata": {
        "id": "l6mQwwdvcm4x",
        "colab": {
          "base_uri": "https://localhost:8080/"
        },
        "outputId": "7bbce7b7-17c3-44e7-ad88-182778d6eeb0"
      },
      "execution_count": null,
      "outputs": [
        {
          "output_type": "execute_result",
          "data": {
            "text/plain": [
              "34.142857142857146"
            ]
          },
          "metadata": {},
          "execution_count": 30
        }
      ]
    },
    {
      "cell_type": "code",
      "source": [
        "lista_temp = [35 , 34 , 36 , 30 , 31 , 35 , 38]\n",
        "import statistics as st   # Importar estadistica como st\n",
        "varM = st.mean(lista_temp)\n",
        "print(varM)"
      ],
      "metadata": {
        "colab": {
          "base_uri": "https://localhost:8080/"
        },
        "id": "Kb9agGZYheIh",
        "outputId": "ad3df397-5ccd-46e5-caef-2c2f988843bd"
      },
      "execution_count": null,
      "outputs": [
        {
          "output_type": "stream",
          "name": "stdout",
          "text": [
            "34.142857142857146\n"
          ]
        }
      ]
    },
    {
      "cell_type": "code",
      "source": [
        "lista_temp = [35 , 34 , 36 , 30 , 31 , 35 , 38]\n",
        "from statistics import *\n",
        "mean(lista_temp)\n",
        "stdev(lista_temp)"
      ],
      "metadata": {
        "colab": {
          "base_uri": "https://localhost:8080/"
        },
        "id": "738_z94LiE7H",
        "outputId": "46f54cfa-c881-4b6d-f5d4-0a674041f30d"
      },
      "execution_count": null,
      "outputs": [
        {
          "output_type": "execute_result",
          "data": {
            "text/plain": [
              "2.7945525240230875"
            ]
          },
          "metadata": {},
          "execution_count": 35
        }
      ]
    },
    {
      "cell_type": "code",
      "source": [
        "nombres = ['pepe', 'juanita', 'lucho', 'mary']\n",
        "apellidos = ['menganito', 'menganita', 'cosme', 'fulanito']\n",
        "nombre_completo = []\n",
        "for i in range(len(nombres)):\n",
        "  nombre_completo.append(nombres[i]+apellidos[i])\n",
        "nombre_completo\n"
      ],
      "metadata": {
        "colab": {
          "base_uri": "https://localhost:8080/"
        },
        "id": "Lpw-w7TOkvQp",
        "outputId": "5ae51b8d-f9dd-4023-febf-b1deaf8a34f6"
      },
      "execution_count": null,
      "outputs": [
        {
          "output_type": "execute_result",
          "data": {
            "text/plain": [
              "['pepemenganito', 'juanitamenganita', 'luchocosme', 'maryfulanito']"
            ]
          },
          "metadata": {},
          "execution_count": 46
        }
      ]
    },
    {
      "cell_type": "markdown",
      "source": [
        "9 - Vammos ahora a revisar opciones del comando `print()`.  "
      ],
      "metadata": {
        "id": "HalBo4cxHm1g"
      }
    },
    {
      "cell_type": "code",
      "source": [
        "print('Uno')\n",
        "print('Dos')\n",
        "print('Tres')\n",
        "print('Uno Dos Tres')"
      ],
      "metadata": {
        "colab": {
          "base_uri": "https://localhost:8080/"
        },
        "id": "el4lTGBLLKzx",
        "outputId": "839b1c2f-36a1-4f25-b0eb-e61c23fd540b"
      },
      "execution_count": null,
      "outputs": [
        {
          "output_type": "stream",
          "name": "stdout",
          "text": [
            "Uno\n",
            "Dos\n",
            "Tres\n",
            "Uno Dos Tres\n"
          ]
        }
      ]
    },
    {
      "cell_type": "code",
      "source": [
        "print('Uno', end=' ')  #keywords\n",
        "print('Dos', end=' ')\n",
        "print('Tres')"
      ],
      "metadata": {
        "id": "65CdHxhXIJhO",
        "colab": {
          "base_uri": "https://localhost:8080/"
        },
        "outputId": "16e728e8-06ed-4554-ba61-2a77afa6a025"
      },
      "execution_count": null,
      "outputs": [
        {
          "output_type": "stream",
          "name": "stdout",
          "text": [
            "Uno Dos Tres\n"
          ]
        }
      ]
    },
    {
      "cell_type": "code",
      "source": [
        "print('Uno', end='')\n",
        "print('Dos', end='')\n",
        "print('Tres')"
      ],
      "metadata": {
        "id": "tS-gvrxQIc2x",
        "colab": {
          "base_uri": "https://localhost:8080/"
        },
        "outputId": "2bc1ec17-667e-42eb-97e1-dce17eebb031"
      },
      "execution_count": null,
      "outputs": [
        {
          "output_type": "stream",
          "name": "stdout",
          "text": [
            "UnoDosTres\n"
          ]
        }
      ]
    },
    {
      "cell_type": "code",
      "source": [
        "print('One', 'Two', 'Three', sep='')"
      ],
      "metadata": {
        "colab": {
          "base_uri": "https://localhost:8080/"
        },
        "id": "hJ7mQdLKIxFI",
        "outputId": "abf6c4ff-6342-473f-bb6a-e4d19d32828c"
      },
      "execution_count": null,
      "outputs": [
        {
          "output_type": "stream",
          "name": "stdout",
          "text": [
            "OneTwoThree\n"
          ]
        }
      ]
    },
    {
      "cell_type": "code",
      "source": [
        "print('One', 'Two', 'Three', sep=' ')"
      ],
      "metadata": {
        "colab": {
          "base_uri": "https://localhost:8080/"
        },
        "id": "FnpFC5xuI0J5",
        "outputId": "97aa7b04-74ff-401d-96b7-b4a5e5a01b8f"
      },
      "execution_count": null,
      "outputs": [
        {
          "output_type": "stream",
          "name": "stdout",
          "text": [
            "One Two Three\n"
          ]
        }
      ]
    },
    {
      "cell_type": "code",
      "source": [
        "print('One', 'Two', 'Three', sep='___')"
      ],
      "metadata": {
        "colab": {
          "base_uri": "https://localhost:8080/"
        },
        "id": "jLHMHXz0I2Cx",
        "outputId": "9ea0cf1e-8d62-4ba8-f3dc-672b7d5eb9cb"
      },
      "execution_count": null,
      "outputs": [
        {
          "output_type": "stream",
          "name": "stdout",
          "text": [
            "One___Two___Three\n"
          ]
        }
      ]
    },
    {
      "cell_type": "code",
      "source": [
        "print('g','l',sep='oooooo')"
      ],
      "metadata": {
        "colab": {
          "base_uri": "https://localhost:8080/"
        },
        "id": "uNedJnvRnBGf",
        "outputId": "9a7948fb-44f5-48a8-f70c-e5f7c056a78c"
      },
      "execution_count": null,
      "outputs": [
        {
          "output_type": "stream",
          "name": "stdout",
          "text": [
            "gooooool\n"
          ]
        }
      ]
    },
    {
      "cell_type": "code",
      "source": [
        "print('g'+'o'*10+'l')"
      ],
      "metadata": {
        "colab": {
          "base_uri": "https://localhost:8080/"
        },
        "id": "h1V_kP2OnLm2",
        "outputId": "939cd459-853a-4439-a42c-6be2fe9c2080"
      },
      "execution_count": null,
      "outputs": [
        {
          "output_type": "stream",
          "name": "stdout",
          "text": [
            "gooooooooool\n"
          ]
        }
      ]
    },
    {
      "cell_type": "code",
      "source": [
        "print('Lunes\\t\\tMartes\\t\\tMiercoles')\n",
        "print('Uno\\t\\tDos\\t\\tTres')"
      ],
      "metadata": {
        "colab": {
          "base_uri": "https://localhost:8080/"
        },
        "id": "qefX82sMJbeQ",
        "outputId": "05396fa7-0956-422a-a094-bb432bebd8d4"
      },
      "execution_count": null,
      "outputs": [
        {
          "output_type": "stream",
          "name": "stdout",
          "text": [
            "Lunes\t\tMartes\t\tMiercoles\n",
            "Uno\t\tDos\t\tTres\n"
          ]
        }
      ]
    },
    {
      "cell_type": "markdown",
      "source": [
        "10 - Para comunicar resultados con el usuario, existen otras formas para imprimir variables dentro de mensajes de texo.  "
      ],
      "metadata": {
        "id": "q9BAs8XEKVWi"
      }
    },
    {
      "cell_type": "code",
      "source": [
        "#Este metódo es el menos recomendado\n",
        "temp = 38\n",
        "print('La temperatura es de', temp,'˚C' )"
      ],
      "metadata": {
        "id": "OUKDmF77KnlK",
        "colab": {
          "base_uri": "https://localhost:8080/"
        },
        "outputId": "f548be45-9139-467a-8045-d832ea899e98"
      },
      "execution_count": null,
      "outputs": [
        {
          "output_type": "stream",
          "name": "stdout",
          "text": [
            "La temperatura es de 38 ˚C\n"
          ]
        }
      ]
    },
    {
      "cell_type": "code",
      "source": [
        "#En este metódo hay que poner un signo de % donde queramos imprimir la variable\n",
        "temp = 38\n",
        "print('La temperatura es de %i˚C' %temp)"
      ],
      "metadata": {
        "id": "6g8Bhtd4KAKN",
        "colab": {
          "base_uri": "https://localhost:8080/"
        },
        "outputId": "937eb031-fe9a-46c2-f206-522696503ff4"
      },
      "execution_count": null,
      "outputs": [
        {
          "output_type": "stream",
          "name": "stdout",
          "text": [
            "La temperatura es de 38˚C\n"
          ]
        }
      ]
    },
    {
      "cell_type": "code",
      "source": [
        "#En este metódo hay que poner llaves, y adentro del nombre de la variable, es el más recomendable\n",
        "temp = 38\n",
        "print(f'La temperatura {precio_lav} es de {temp}˚C')"
      ],
      "metadata": {
        "id": "Rl5ZNF4FKzlw",
        "colab": {
          "base_uri": "https://localhost:8080/"
        },
        "outputId": "767f7800-1ae2-45f9-934d-50c842a24ffd"
      },
      "execution_count": null,
      "outputs": [
        {
          "output_type": "stream",
          "name": "stdout",
          "text": [
            "La temperatura 8900 es de 38˚C\n"
          ]
        }
      ]
    },
    {
      "cell_type": "code",
      "source": [
        "print(f'La lavadora que cuesta {precio_lav}, con un descuento de {descuento}, costaria {precio_condes}')"
      ],
      "metadata": {
        "colab": {
          "base_uri": "https://localhost:8080/"
        },
        "id": "LLCg3vO7o2QV",
        "outputId": "7c3e8818-92e9-41b3-a74e-f7abf45e0f61"
      },
      "execution_count": null,
      "outputs": [
        {
          "output_type": "stream",
          "name": "stdout",
          "text": [
            "La lavadora que cuesta 8900, con un descuento de 35, costaria 5785.0\n"
          ]
        }
      ]
    },
    {
      "cell_type": "markdown",
      "source": [
        "11 - Echemos una mirada a la función `for`."
      ],
      "metadata": {
        "id": "a95r9F6kmEzr"
      }
    },
    {
      "cell_type": "code",
      "source": [
        "lista = [0,1,2,3,4]\n",
        "for i in lista:\n",
        "  print(lista[i]) "
      ],
      "metadata": {
        "colab": {
          "base_uri": "https://localhost:8080/"
        },
        "id": "suafMxRG6L9j",
        "outputId": "9f06c688-810c-4f92-f1df-5a266dfb0116"
      },
      "execution_count": null,
      "outputs": [
        {
          "output_type": "stream",
          "name": "stdout",
          "text": [
            "0\n",
            "1\n",
            "2\n",
            "3\n",
            "4\n"
          ]
        }
      ]
    },
    {
      "cell_type": "code",
      "source": [
        "nombres = ['pepe', 'juanita', 'lucho', 'mary']\n",
        "for i in range(len(nombres)):\n",
        "  print(i+1,'.-',nombres[i]) "
      ],
      "metadata": {
        "colab": {
          "base_uri": "https://localhost:8080/"
        },
        "id": "DHTSH0MW7Uel",
        "outputId": "66fcd9b5-97cd-4381-da7e-22cd37bc87a2"
      },
      "execution_count": null,
      "outputs": [
        {
          "output_type": "stream",
          "name": "stdout",
          "text": [
            "1 .- pepe\n",
            "2 .- juanita\n",
            "3 .- lucho\n",
            "4 .- mary\n"
          ]
        }
      ]
    },
    {
      "cell_type": "code",
      "source": [
        "for i in range(10):\n",
        "  print(i)"
      ],
      "metadata": {
        "colab": {
          "base_uri": "https://localhost:8080/"
        },
        "id": "PY3T4lmn6mr1",
        "outputId": "34208c32-1d73-4e95-a704-8dcc9912b242"
      },
      "execution_count": null,
      "outputs": [
        {
          "output_type": "stream",
          "name": "stdout",
          "text": [
            "0\n",
            "1\n",
            "2\n",
            "3\n",
            "4\n",
            "5\n",
            "6\n",
            "7\n",
            "8\n",
            "9\n",
            "10\n"
          ]
        }
      ]
    },
    {
      "cell_type": "markdown",
      "source": [],
      "metadata": {
        "id": "8wsGkz0EIFLS"
      }
    }
  ]
}